{
 "cells": [
  {
   "cell_type": "markdown",
   "metadata": {},
   "source": [
    "# Function Docstrings\n",
    "examples are currently adapted from Effective python - item 49"
   ]
  },
  {
   "cell_type": "markdown",
   "metadata": {},
   "source": [
    "### Accessing a docstring"
   ]
  },
  {
   "cell_type": "code",
   "execution_count": 5,
   "metadata": {},
   "outputs": [
    {
     "name": "stdout",
     "output_type": "stream",
     "text": [
      "\"print(value, ..., sep=' ', end='\\\\n', file=sys.stdout, flush=False)\\n\\nPrints the values to a stream, or to sys.stdout by default.\\nOptional keyword arguments:\\nfile:  a file-like object (stream); defaults to the current sys.stdout.\\nsep:   string inserted between values, default a space.\\nend:   string appended after the last value, default a newline.\\nflush: whether to forcibly flush the stream.\"\n"
     ]
    }
   ],
   "source": [
    "print(repr(print.__doc__))"
   ]
  },
  {
   "cell_type": "markdown",
   "metadata": {},
   "source": [
    "### Writing a docstring"
   ]
  },
  {
   "cell_type": "code",
   "execution_count": 10,
   "metadata": {
    "collapsed": true
   },
   "outputs": [],
   "source": [
    "def palindrome(word):\n",
    "    \"\"\"Return True if the given word is a palindrome\"\"\"\n",
    "    return word == word[::-1]"
   ]
  },
  {
   "cell_type": "code",
   "execution_count": 11,
   "metadata": {},
   "outputs": [
    {
     "name": "stdout",
     "output_type": "stream",
     "text": [
      "'Return True if the given word is a palindrome'\n"
     ]
    }
   ],
   "source": [
    "print(repr(palindrome.__doc__))"
   ]
  },
  {
   "cell_type": "markdown",
   "metadata": {},
   "source": [
    "### Example\n",
    "*Notes are taken from Effective python - item 49*\n",
    "notes:\n",
    "> - first line is the single-sentence description of the function/method\n",
    "> - paragraphs that follow should descrbe any specific behaviors\n",
    "> - note: each argument, returned value, and raised exception should be included in the docstring\n",
    "> - if the function has arguments with default values, the default values hsould be mentioned\n",
    "> - if the function accepts a variable number of arguments,`*args` and `**kwargs` should be used in the documented list of arguments to describe their purpose."
   ]
  },
  {
   "cell_type": "code",
   "execution_count": 13,
   "metadata": {
    "collapsed": true
   },
   "outputs": [],
   "source": [
    "def find_anagrams(word, dictionary):\n",
    "    \"\"\"Find all anagrams for a word.\n",
    "    \n",
    "    This function only runs as fast as the test for membership\n",
    "    in the 'dictionary' container. It will be slow if the dictionary\n",
    "    and fast if it's a set.\n",
    "    \n",
    "    Args:\n",
    "        word: String of the target word.\n",
    "        dictionary: Container with all strings that are known to\n",
    "            to be actual words.\n",
    "            \n",
    "    Returns:\n",
    "        List of anagrams that were found. Empty if none were found.\n",
    "    \"\"\"\n",
    "    pass"
   ]
  },
  {
   "cell_type": "code",
   "execution_count": 14,
   "metadata": {},
   "outputs": [
    {
     "name": "stdout",
     "output_type": "stream",
     "text": [
      "\"Find all anagrams for a word.\\n    \\n    This function only runs as fast as the test for membership\\n    in the 'dictionary' container. It will be slow if the dictionary\\n    and fast if it's a set.\\n    \\n    Args:\\n        word: String of the target word.\\n        dictionary: Container with all strings that are known to\\n            to be actual words.\\n            \\n    Returns:\\n        List of anagrams that were found. Empty if none were found.\\n    \"\n"
     ]
    }
   ],
   "source": [
    "print(repr(find_anagrams.__doc__))"
   ]
  },
  {
   "cell_type": "markdown",
   "metadata": {},
   "source": [
    "## Tools\n",
    "\n",
    "> - [sphinx](http://www.sphinx-doc.org/en/stable/) can be used to create documentation\n",
    "> - [doctest](https://docs.python.org/2/library/doctest.html) used to ensure docstrings are up to date"
   ]
  },
  {
   "cell_type": "code",
   "execution_count": null,
   "metadata": {
    "collapsed": true
   },
   "outputs": [],
   "source": []
  }
 ],
 "metadata": {
  "kernelspec": {
   "display_name": "cpu_tf",
   "language": "python",
   "name": "cpu_tf"
  },
  "language_info": {
   "codemirror_mode": {
    "name": "ipython",
    "version": 3
   },
   "file_extension": ".py",
   "mimetype": "text/x-python",
   "name": "python",
   "nbconvert_exporter": "python",
   "pygments_lexer": "ipython3",
   "version": "3.5.4"
  }
 },
 "nbformat": 4,
 "nbformat_minor": 2
}
