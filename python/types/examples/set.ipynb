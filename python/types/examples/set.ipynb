{
 "cells": [
  {
   "cell_type": "markdown",
   "metadata": {},
   "source": [
    "# Set Types\n",
    "\n",
    "Unordered collection with no duplicated elements.\n",
    "\n",
    "- `set` - [docs](https://docs.python.org/3/library/stdtypes.html#set) mutable\n",
    "- `frozenset` - [docs](https://docs.python.org/3/library/stdtypes.html#frozenset) immutable and hashable (can be used as a dict key or an element of another set)"
   ]
  },
  {
   "cell_type": "markdown",
   "metadata": {},
   "source": [
    "## Initialize"
   ]
  },
  {
   "cell_type": "code",
   "execution_count": 1,
   "metadata": {},
   "outputs": [
    {
     "name": "stdout",
     "output_type": "stream",
     "text": [
      "{'f', 'e', 'd', 'a', 'c', 'b'}\n",
      "{0, 1, 2, 3, 4, 5}\n"
     ]
    }
   ],
   "source": [
    "# Initialize with many at once\n",
    "set1 = set(['a','b','c','d','e','f'])\n",
    "print(set1)\n",
    "\n",
    "# Initialize empty\n",
    "set2 = set()\n",
    "\n",
    "# add elements\n",
    "for i in range(6):\n",
    "    set2.add(i)\n",
    "print(set2)"
   ]
  },
  {
   "cell_type": "markdown",
   "metadata": {},
   "source": [
    "## Common Operations\n",
    "\n",
    "### Set information\n",
    "- Number of elements in the set\n",
    " - `len(set1)`\n",
    "- Membership\n",
    " - `x in set1`\n",
    " \n",
    "### Binary Operations\n",
    "- Union (will return set with elements that are in either set1 OR set2)\n",
    " - `set1 | set2`\n",
    "- Intersection (will return set with elements that are in either set1 AND set2)\n",
    " - `set1 & set2`\n",
    "- Difference (will return set with elements that are in set1 and not in set2)\n",
    " - `set1 - set2`\n",
    " \n",
    "**note:** Binary operations that mix set and frozenset instances will return the type of the first operand. *For example: frozenset([1,2,3]) | set([2,3,4]) will return an instance of frozenset*."
   ]
  },
  {
   "cell_type": "code",
   "execution_count": 2,
   "metadata": {},
   "outputs": [],
   "source": [
    "setA = set(['a','b','c','d','e','f'])\n",
    "setB = set(['c','d','e','f','g','h', 1]) "
   ]
  },
  {
   "cell_type": "code",
   "execution_count": 3,
   "metadata": {},
   "outputs": [
    {
     "name": "stdout",
     "output_type": "stream",
     "text": [
      "setA = {'f', 'e', 'd', 'a', 'c', 'b'}\n",
      "setB = {1, 'g', 'f', 'e', 'd', 'c', 'h'}\n"
     ]
    }
   ],
   "source": [
    "print(f\"setA = {setA}\")\n",
    "print(f\"setB = {setB}\")"
   ]
  },
  {
   "cell_type": "code",
   "execution_count": 4,
   "metadata": {},
   "outputs": [
    {
     "name": "stdout",
     "output_type": "stream",
     "text": [
      "Len setA = 6\n",
      "Len setB = 7\n"
     ]
    }
   ],
   "source": [
    "print(f\"Len setA = {len(setA)}\")\n",
    "print(f\"Len setB = {len(setB)}\")"
   ]
  },
  {
   "cell_type": "code",
   "execution_count": 5,
   "metadata": {},
   "outputs": [
    {
     "name": "stdout",
     "output_type": "stream",
     "text": [
      "True\n",
      "False\n"
     ]
    }
   ],
   "source": [
    "print('a' in setA)\n",
    "print('z' in setA)"
   ]
  },
  {
   "cell_type": "code",
   "execution_count": 6,
   "metadata": {},
   "outputs": [
    {
     "name": "stdout",
     "output_type": "stream",
     "text": [
      "union_set (setA | setB) = {1, 'g', 'f', 'e', 'd', 'a', 'c', 'h', 'b'}\n"
     ]
    }
   ],
   "source": [
    "union_set = setA | setB\n",
    "print(f\"union_set (setA | setB) = {union_set}\")"
   ]
  },
  {
   "cell_type": "code",
   "execution_count": 7,
   "metadata": {},
   "outputs": [
    {
     "name": "stdout",
     "output_type": "stream",
     "text": [
      "intersection_set (setA & setB) = {'d', 'c', 'f', 'e'}\n"
     ]
    }
   ],
   "source": [
    "intersection_set = setA & setB\n",
    "print(f\"intersection_set (setA & setB) = {intersection_set}\")"
   ]
  },
  {
   "cell_type": "code",
   "execution_count": 8,
   "metadata": {},
   "outputs": [
    {
     "name": "stdout",
     "output_type": "stream",
     "text": [
      "diff_set_A_B (setA - setB) = {'a', 'b'}\n"
     ]
    }
   ],
   "source": [
    "diff_set_A_B = setA - setB\n",
    "print(f\"diff_set_A_B (setA - setB) = {diff_set_A_B}\")"
   ]
  },
  {
   "cell_type": "code",
   "execution_count": 9,
   "metadata": {},
   "outputs": [
    {
     "name": "stdout",
     "output_type": "stream",
     "text": [
      "diff_set_B_A (setB - setA) = {1, 'h', 'g'}\n"
     ]
    }
   ],
   "source": [
    "diff_set_B_A = setB - setA\n",
    "print(f\"diff_set_B_A (setB - setA) = {diff_set_B_A}\")"
   ]
  },
  {
   "cell_type": "markdown",
   "metadata": {},
   "source": [
    "## Common Set Operations\n",
    "**NOTE: these operations do not apply to frozenset**\n",
    "\n",
    "- Add element to the set\n",
    " - `add()`\n",
    "- Remove element from the set\n",
    " - `remove()`\n",
    "- Remove element from the set (if present)\n",
    " - `discard()`\n",
    "- Remove all elements from the set\n",
    " - `clear()`"
   ]
  },
  {
   "cell_type": "code",
   "execution_count": 10,
   "metadata": {},
   "outputs": [
    {
     "name": "stdout",
     "output_type": "stream",
     "text": [
      "setA = {'f', 'e', 'd', 'a', 'c', 'b'}\n"
     ]
    }
   ],
   "source": [
    "setA = set(['a','b','c','d','e','f'])\n",
    "print(f\"setA = {setA}\")"
   ]
  },
  {
   "cell_type": "code",
   "execution_count": 11,
   "metadata": {},
   "outputs": [
    {
     "name": "stdout",
     "output_type": "stream",
     "text": [
      "setA = {'g', 'f', 'e', 'd', 'a', 'c', 'b'}\n"
     ]
    }
   ],
   "source": [
    "setA.add('g')\n",
    "print(f\"setA = {setA}\")"
   ]
  },
  {
   "cell_type": "code",
   "execution_count": 12,
   "metadata": {},
   "outputs": [
    {
     "ename": "KeyError",
     "evalue": "'z'",
     "output_type": "error",
     "traceback": [
      "\u001b[0;31m---------------------------------------------------------------------------\u001b[0m",
      "\u001b[0;31mKeyError\u001b[0m                                  Traceback (most recent call last)",
      "\u001b[0;32m<ipython-input-12-d54b1147d78b>\u001b[0m in \u001b[0;36m<module>\u001b[0;34m()\u001b[0m\n\u001b[0;32m----> 1\u001b[0;31m \u001b[0msetA\u001b[0m\u001b[0;34m.\u001b[0m\u001b[0mremove\u001b[0m\u001b[0;34m(\u001b[0m\u001b[0;34m'z'\u001b[0m\u001b[0;34m)\u001b[0m\u001b[0;34m\u001b[0m\u001b[0m\n\u001b[0m\u001b[1;32m      2\u001b[0m \u001b[0mprint\u001b[0m\u001b[0;34m(\u001b[0m\u001b[0;34mf\"setA = {setA}\"\u001b[0m\u001b[0;34m)\u001b[0m\u001b[0;34m\u001b[0m\u001b[0m\n",
      "\u001b[0;31mKeyError\u001b[0m: 'z'"
     ]
    }
   ],
   "source": [
    "setA.remove('z')\n",
    "print(f\"setA = {setA}\")"
   ]
  },
  {
   "cell_type": "code",
   "execution_count": 13,
   "metadata": {},
   "outputs": [
    {
     "name": "stdout",
     "output_type": "stream",
     "text": [
      "setA = {'g', 'f', 'e', 'd', 'a', 'c', 'b'}\n"
     ]
    }
   ],
   "source": [
    "setA.discard('z')\n",
    "print(f\"setA = {setA}\")"
   ]
  },
  {
   "cell_type": "code",
   "execution_count": 14,
   "metadata": {},
   "outputs": [
    {
     "name": "stdout",
     "output_type": "stream",
     "text": [
      "setA = {'f', 'e', 'd', 'a', 'c', 'b'}\n"
     ]
    }
   ],
   "source": [
    "setA.remove('g')\n",
    "print(f\"setA = {setA}\")"
   ]
  },
  {
   "cell_type": "code",
   "execution_count": 15,
   "metadata": {},
   "outputs": [
    {
     "name": "stdout",
     "output_type": "stream",
     "text": [
      "setA = set()\n"
     ]
    }
   ],
   "source": [
    "setA.clear()\n",
    "print(f\"setA = {setA}\")"
   ]
  },
  {
   "cell_type": "markdown",
   "metadata": {},
   "source": [
    "## frozenset\n",
    "\n",
    "Similar to set, except will be immutable"
   ]
  },
  {
   "cell_type": "code",
   "execution_count": 16,
   "metadata": {},
   "outputs": [
    {
     "name": "stdout",
     "output_type": "stream",
     "text": [
      "fsetA = frozenset({'a', 'b', 'c'})\n"
     ]
    }
   ],
   "source": [
    "fsetA = frozenset(['a','b','c'])\n",
    "print(f\"fsetA = {fsetA}\")"
   ]
  },
  {
   "cell_type": "code",
   "execution_count": null,
   "metadata": {},
   "outputs": [],
   "source": []
  }
 ],
 "metadata": {
  "kernelspec": {
   "display_name": "dl_edge",
   "language": "python",
   "name": "dl_edge"
  },
  "language_info": {
   "codemirror_mode": {
    "name": "ipython",
    "version": 3
   },
   "file_extension": ".py",
   "mimetype": "text/x-python",
   "name": "python",
   "nbconvert_exporter": "python",
   "pygments_lexer": "ipython3",
   "version": "3.6.5"
  }
 },
 "nbformat": 4,
 "nbformat_minor": 2
}
