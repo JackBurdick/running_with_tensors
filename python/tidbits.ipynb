{
 "cells": [
  {
   "cell_type": "markdown",
   "metadata": {},
   "source": [
    "## Resources\n",
    "- [Udemy](https://www.udemy.com/writing-high-performance-python/learn/v4/overview)"
   ]
  },
  {
   "cell_type": "markdown",
   "metadata": {},
   "source": [
    "### Enumerate"
   ]
  },
  {
   "cell_type": "code",
   "execution_count": 6,
   "metadata": {},
   "outputs": [
    {
     "name": "stdout",
     "output_type": "stream",
     "text": [
      "letter[0]=a\n",
      "letter[1]=b\n",
      "letter[2]=c\n",
      "letter[3]=d\n"
     ]
    }
   ],
   "source": [
    "# {{{py_enumerate_01\n",
    "for i, letter in enumerate([\"a\", \"b\", \"c\", \"d\"]):\n",
    "    print(\"letter[{}]={}\".format(i, letter))\n",
    "# END}}}"
   ]
  },
  {
   "cell_type": "code",
   "execution_count": 7,
   "metadata": {},
   "outputs": [
    {
     "name": "stdout",
     "output_type": "stream",
     "text": [
      "letter #1=a\n",
      "letter #2=b\n",
      "letter #3=c\n",
      "letter #4=d\n"
     ]
    }
   ],
   "source": [
    "# can start enumerate at a given index\n",
    "# {{{py_enumerate_02\n",
    "for i, letter in enumerate([\"a\", \"b\", \"c\", \"d\"], 1):\n",
    "    print(\"letter#{}={}\".format(i, letter))\n",
    "# END}}}"
   ]
  },
  {
   "cell_type": "markdown",
   "metadata": {},
   "source": [
    "### Zip"
   ]
  },
  {
   "cell_type": "code",
   "execution_count": 2,
   "metadata": {},
   "outputs": [
    {
     "name": "stdout",
     "output_type": "stream",
     "text": [
      "('Siren', 3)\n",
      "('Diesel', 2)\n"
     ]
    }
   ],
   "source": [
    "# where [i] maps to one another\n",
    "# {{{py_zip\n",
    "pets = [\"Siren\", \"Diesel\"]\n",
    "age = [3, 2]\n",
    "for pet_info in zip(pets, age):\n",
    "    print(pet_info)\n",
    "# END}}}\n",
    "\n",
    "# NOTE: in python 2, zip is not a generator: \n",
    "# - use `from itertools import izip`\n",
    "# WARNING: if the lengths are different lengths, \n",
    "# it will run until either of the iterators are exhausted\n"
   ]
  },
  {
   "cell_type": "code",
   "execution_count": 3,
   "metadata": {},
   "outputs": [
    {
     "name": "stdout",
     "output_type": "stream",
     "text": [
      "---- Using zip\n",
      "('Siren', 3)\n",
      "('Diesel', 2)\n",
      "------ using zip_longest\n",
      "('Siren', 3)\n",
      "('Diesel', 2)\n",
      "('Bella', None)\n"
     ]
    }
   ],
   "source": [
    "from itertools import zip_longest\n",
    "\n",
    "# let's pretend I know the next pet will be named bella\n",
    "# BUT, she isnt' born yet.\n",
    "# {{{py_zip_longest\n",
    "pets = [\"Siren\", \"Diesel\", \"Bella\"]\n",
    "age = [3, 2]\n",
    "print(\"---- Using zip\")\n",
    "for pet_info in zip(pets, age):\n",
    "    print(pet_info)\n",
    "\n",
    "print(\"------ using zip_longest\")\n",
    "for pet_info in zip_longest(pets, age):\n",
    "    print(pet_info)\n",
    "# END}}}"
   ]
  },
  {
   "cell_type": "markdown",
   "metadata": {},
   "source": [
    "### For - else"
   ]
  },
  {
   "cell_type": "code",
   "execution_count": 4,
   "metadata": {},
   "outputs": [
    {
     "name": "stdout",
     "output_type": "stream",
     "text": [
      "This else block runs\n",
      "loop: 0\n",
      "loop: 1\n",
      "else\n",
      "\n",
      "This else block does not\n",
      "loop 0\n",
      "loop 1\n",
      "\n",
      "The else block does run here `for i in []:`\n",
      "else\n"
     ]
    }
   ],
   "source": [
    "print(\"This else block runs\")\n",
    "for i in range(2):\n",
    "    print(\"loop: {}\".format(i))\n",
    "else:\n",
    "    print(\"else\")\n",
    "    \n",
    "\n",
    "print(\"\\nThis else block does not\")\n",
    "for i in range(2):\n",
    "    print(\"loop {}\".format(i))\n",
    "    if i == 1:\n",
    "        break\n",
    "else:\n",
    "    print(\"else\")\n",
    "    \n",
    "    \n",
    "\n",
    "print(\"\\nThe else block does run here `for i in []:`\")\n",
    "for i in []:\n",
    "    print(\"Never Runs\".format(i))\n",
    "else:\n",
    "    print(\"else\")\n",
    "    \n",
    "## \"else blocks are useful after the loop runs\""
   ]
  },
  {
   "cell_type": "code",
   "execution_count": 5,
   "metadata": {},
   "outputs": [
    {
     "name": "stdout",
     "output_type": "stream",
     "text": [
      "testing: 2\n",
      "testing: 3\n",
      "testing: 4\n",
      "coprime\n",
      "coprime(4, 9) = True\n",
      "coprime(4, 8) = False\n"
     ]
    }
   ],
   "source": [
    "## useful example adapted from linked udemy course\n",
    "a = 4\n",
    "b = 9\n",
    "\n",
    "for i in range(2, min(a, b)+ 1):\n",
    "    print(\"testing: {}\".format(i))\n",
    "    if a % i == 0 and b % i == 0:\n",
    "        print(\"not coprime\")\n",
    "        break\n",
    "else:\n",
    "    print(\"coprime\")\n",
    "    \n",
    "    \n",
    "# more useful example - the for else is confusing...\n",
    "def coprime(a, b):\n",
    "    for i in range(2, min(a, b)+1):\n",
    "        if a % i == 0 and b % i == 0:\n",
    "            return False\n",
    "    return True\n",
    "\n",
    "print(\"coprime(4, 9) = {}\".format(coprime(4, 9)))\n",
    "print(\"coprime(4, 8) = {}\".format(coprime(4, 8)))"
   ]
  },
  {
   "cell_type": "markdown",
   "metadata": {},
   "source": [
    "### Try blocks"
   ]
  },
  {
   "cell_type": "code",
   "execution_count": 6,
   "metadata": {},
   "outputs": [
    {
     "ename": "IndentationError",
     "evalue": "expected an indented block (<ipython-input-6-32648dbe54e0>, line 3)",
     "output_type": "error",
     "traceback": [
      "\u001b[0;36m  File \u001b[0;32m\"<ipython-input-6-32648dbe54e0>\"\u001b[0;36m, line \u001b[0;32m3\u001b[0m\n\u001b[0;31m    except MyException as e:\u001b[0m\n\u001b[0m         ^\u001b[0m\n\u001b[0;31mIndentationError\u001b[0m\u001b[0;31m:\u001b[0m expected an indented block\n"
     ]
    }
   ],
   "source": [
    "# {{{py_tryblock\n",
    "try:\n",
    "    # do something\n",
    "except MyException as e:\n",
    "    # handle exception\n",
    "else:\n",
    "    # runs when there are no exceptions\n",
    "finally:\n",
    "    # always runs after try:\n",
    "# END}}}"
   ]
  },
  {
   "cell_type": "markdown",
   "metadata": {},
   "source": [
    "### Context Manager"
   ]
  },
  {
   "cell_type": "markdown",
   "metadata": {},
   "source": [
    "#### Swallow exception"
   ]
  },
  {
   "cell_type": "code",
   "execution_count": 7,
   "metadata": {},
   "outputs": [
    {
     "name": "stderr",
     "output_type": "stream",
     "text": [
      "ERROR:root:Swallowing Exception\n",
      "Traceback (most recent call last):\n",
      "  File \"<ipython-input-7-335e7e0a3eb3>\", line 9, in swallow_exception\n",
      "    yield\n",
      "  File \"<ipython-input-7-335e7e0a3eb3>\", line 15, in <module>\n",
      "    value /= 0\n",
      "ZeroDivisionError: division by zero\n"
     ]
    }
   ],
   "source": [
    "from contextlib import contextmanager\n",
    "import logging\n",
    "\n",
    "# will log the exception, but will continue on as if nothing happened\n",
    "\n",
    "@contextmanager\n",
    "def swallow_exception(cls):\n",
    "    try:\n",
    "        yield\n",
    "    except cls:\n",
    "        logging.exception('Swallowing Exception')\n",
    "        \n",
    "value = 20\n",
    "with swallow_exception(ZeroDivisionError):\n",
    "    value /= 0"
   ]
  },
  {
   "cell_type": "markdown",
   "metadata": {},
   "source": [
    "### Generators"
   ]
  },
  {
   "cell_type": "code",
   "execution_count": 8,
   "metadata": {},
   "outputs": [
    {
     "name": "stdout",
     "output_type": "stream",
     "text": [
      " ------- list comp\n",
      "[1, 4, 9, 16, 25, 36, 49, 64, 81, 100]\n",
      "[4, 16, 36, 64, 100]\n",
      " ------- generator\n",
      "[1, 4, 9, 16, 25, 36, 49, 64, 81, 100]\n",
      "[4, 16, 36, 64, 100]\n",
      "[4, 16, 36, 64, 100]\n"
     ]
    }
   ],
   "source": [
    "# dictionaries, lists, and sets have their own comprehensions\n",
    "nums = [1,2,3,4,5,6,7,8,9,10]\n",
    "\n",
    "print(\" ------- list comp\")\n",
    "squares = [x**2 for x in nums]\n",
    "print(squares)\n",
    "\n",
    "squares_filt = [x**2 for x in nums if x % 2 == 0]\n",
    "print(squares_filt)\n",
    "\n",
    "print(\" ------- generator\")\n",
    "squares_g= map(lambda x: x**2, nums)\n",
    "print(list(squares_g))\n",
    "\n",
    "squares_filt_g = map(lambda x: x**2, filter(lambda x: x % 2 == 0, nums))\n",
    "print(list(squares_filt_g))\n",
    "\n",
    "# slightly more readable, yet not really \"better\" - longer\n",
    "map_func = lambda x: x**2\n",
    "filter_func = lambda x: x % 2 == 0\n",
    "alt_sq_filt_g = map(map_func, filter(filter_func, nums))\n",
    "print(list(alt_sq_filt_g))"
   ]
  },
  {
   "cell_type": "code",
   "execution_count": 9,
   "metadata": {},
   "outputs": [
    {
     "name": "stdout",
     "output_type": "stream",
     "text": [
      "[[1, 4, 9], [16, 25, 36], [49, 64, 81]]\n"
     ]
    }
   ],
   "source": [
    "# nested list comprehension\n",
    "matrix = [[1,2,3], [4,5,6], [7,8,9]]\n",
    "squared = [[x**2 for x in row] for row in matrix]\n",
    "print(squared)"
   ]
  },
  {
   "cell_type": "markdown",
   "metadata": {},
   "source": [
    "### Extend vs append"
   ]
  },
  {
   "cell_type": "code",
   "execution_count": 9,
   "metadata": {},
   "outputs": [
    {
     "name": "stdout",
     "output_type": "stream",
     "text": [
      "Append: [1, 2, 3, [4, 5]]\n",
      "Extend: [1, 2, 3, 4, 5]\n"
     ]
    }
   ],
   "source": [
    "# adapted from https://stackoverflow.com/questions/252703/append-vs-extend\n",
    "\n",
    "# {{{py_app_v_ext\n",
    "x = [1, 2, 3]\n",
    "x.append([4, 5])\n",
    "print(\"Append: {}\".format(x))\n",
    "\n",
    "x = [1, 2, 3]\n",
    "x.extend([4, 5])\n",
    "print(\"Extend: {}\".format(x))\n",
    "# END}}}"
   ]
  },
  {
   "cell_type": "markdown",
   "metadata": {},
   "source": [
    "Using nested list comprehensions is possible but gets a little messy -- the rule of thumb is to not use more than 2 expressions in list comprehensions"
   ]
  },
  {
   "cell_type": "code",
   "execution_count": 11,
   "metadata": {},
   "outputs": [
    {
     "name": "stdout",
     "output_type": "stream",
     "text": [
      "[[6], [9]]\n"
     ]
    }
   ],
   "source": [
    "# example from linked udemy\n",
    "\n",
    "# {{{py_nested_listcomp\n",
    "matrix = [[1,2,3], [4,5,6], [7,8,9]]\n",
    "# value is multiple of 3 and array sum >= 10\n",
    "filtered = [[x for x in row if x % 3 == 0]\n",
    "            for row in matrix if sum(row) >= 10]\n",
    "print(filtered)\n",
    "# END}}}"
   ]
  },
  {
   "cell_type": "markdown",
   "metadata": {
    "collapsed": true
   },
   "source": [
    "### Generator expressions"
   ]
  },
  {
   "cell_type": "code",
   "execution_count": 12,
   "metadata": {},
   "outputs": [
    {
     "name": "stdout",
     "output_type": "stream",
     "text": [
      "[1, 8, 27, 64, 125, 216, 343, 512, 729, 1000]\n",
      "1\n",
      "8\n",
      "27\n",
      "64\n",
      "125\n",
      "216\n",
      "343\n",
      "512\n",
      "729\n",
      "1000\n"
     ]
    },
    {
     "ename": "StopIteration",
     "evalue": "",
     "output_type": "error",
     "traceback": [
      "\u001b[0;31m---------------------------------------------------------------------------\u001b[0m",
      "\u001b[0;31mStopIteration\u001b[0m                             Traceback (most recent call last)",
      "\u001b[0;32m<ipython-input-12-c5a1fade36e7>\u001b[0m in \u001b[0;36m<module>\u001b[0;34m()\u001b[0m\n\u001b[1;32m     23\u001b[0m \u001b[0mprint\u001b[0m\u001b[0;34m(\u001b[0m\u001b[0mnext\u001b[0m\u001b[0;34m(\u001b[0m\u001b[0mval\u001b[0m\u001b[0;34m)\u001b[0m\u001b[0;34m)\u001b[0m\u001b[0;34m\u001b[0m\u001b[0m\n\u001b[1;32m     24\u001b[0m \u001b[0mprint\u001b[0m\u001b[0;34m(\u001b[0m\u001b[0mnext\u001b[0m\u001b[0;34m(\u001b[0m\u001b[0mval\u001b[0m\u001b[0;34m)\u001b[0m\u001b[0;34m)\u001b[0m\u001b[0;34m\u001b[0m\u001b[0m\n\u001b[0;32m---> 25\u001b[0;31m \u001b[0mprint\u001b[0m\u001b[0;34m(\u001b[0m\u001b[0mnext\u001b[0m\u001b[0;34m(\u001b[0m\u001b[0mval\u001b[0m\u001b[0;34m)\u001b[0m\u001b[0;34m)\u001b[0m\u001b[0;34m\u001b[0m\u001b[0m\n\u001b[0m",
      "\u001b[0;31mStopIteration\u001b[0m: "
     ]
    }
   ],
   "source": [
    "some_huge_list = [1,2,3,4,5,6,7,8,9,10]\n",
    "\n",
    "def some_expensive_task(x):\n",
    "    return x**3\n",
    "\n",
    "# rather than\n",
    "val = [some_expensive_task(x) for x in some_huge_list]\n",
    "print(val)\n",
    "       \n",
    "# use;\n",
    "# This will return a generator that will yield one value at a time\n",
    "val = (some_expensive_task(x) for x in some_huge_list)\n",
    "\n",
    "# you can iterate through the results with next()\n",
    "print(next(val))\n",
    "print(next(val))\n",
    "print(next(val))\n",
    "print(next(val))\n",
    "print(next(val))\n",
    "print(next(val))\n",
    "print(next(val))\n",
    "print(next(val))\n",
    "print(next(val))\n",
    "print(next(val))\n",
    "print(next(val))"
   ]
  },
  {
   "cell_type": "code",
   "execution_count": 13,
   "metadata": {},
   "outputs": [
    {
     "name": "stdout",
     "output_type": "stream",
     "text": [
      "(1, 1.0)\n",
      "(8, 2.0)\n",
      "(27, 3.0)\n",
      "(64, 3.9999999999999996)\n",
      "(125, 4.999999999999999)\n",
      "(216, 5.999999999999999)\n"
     ]
    }
   ],
   "source": [
    "some_huge_list = [1,2,3,4,5,6,7,8,9,10]\n",
    "\n",
    "def some_expensive_task(x):\n",
    "    return x**3\n",
    "\n",
    "# lazy, happens 'just in time'\n",
    "it = (some_expensive_task(x) for x in some_huge_list)\n",
    "retVal = ((x, x**(1/3)) for x in it)\n",
    "print(next(retVal))\n",
    "print(next(retVal))\n",
    "print(next(retVal))\n",
    "print(next(retVal))\n",
    "print(next(retVal))\n",
    "print(next(retVal))"
   ]
  },
  {
   "cell_type": "markdown",
   "metadata": {},
   "source": [
    "### Returning a generator"
   ]
  },
  {
   "cell_type": "code",
   "execution_count": 14,
   "metadata": {
    "collapsed": true
   },
   "outputs": [],
   "source": [
    "def index_of_words(text):\n",
    "    result = []\n",
    "    if text:\n",
    "        result.append(0)\n",
    "    for index, char in enumerate(text):\n",
    "        if char == ' ':\n",
    "            result.append(index + 1)\n",
    "    return result\n",
    "\n",
    "# problems\n",
    "# 1. could use lots of memory\n",
    "#    - creating list of results\n",
    "#    - reading all `text` (input must be in memory)\n",
    "\n",
    "# will now return a generator\n",
    "def index_of_words(text):\n",
    "    if text:\n",
    "        yield 0\n",
    "    for index, char in enumerate(text):\n",
    "        if letter == ' ':\n",
    "            yield index + 1\n",
    "            \n",
    "            \n",
    "# operate on stream of input\n",
    "# will only consume as much memory is required for a single line\n",
    "def index_of_words(handle):\n",
    "    offset = 0\n",
    "    for line in handle:\n",
    "        if line:\n",
    "            yield offset\n",
    "        for letter in line:\n",
    "            offset += 1\n",
    "            if letter == ' ':\n",
    "                yield offset"
   ]
  },
  {
   "cell_type": "markdown",
   "metadata": {},
   "source": [
    "## Nonlocal"
   ]
  },
  {
   "cell_type": "code",
   "execution_count": 15,
   "metadata": {},
   "outputs": [
    {
     "name": "stdout",
     "output_type": "stream",
     "text": [
      "False\n",
      "['d', 'e', 'a', 'b', 'c', 'f']\n",
      "--------------using nonlocal\n",
      "True\n",
      "['d', 'e', 'a', 'b', 'c', 'f']\n"
     ]
    }
   ],
   "source": [
    "letters = ['c','b','a','e','f','d']\n",
    "target = {'e','d'}\n",
    "\n",
    "def sort_priority(letters, target):\n",
    "    found = False\n",
    "    def helper(x):\n",
    "        if x in target:\n",
    "            found = True\n",
    "            return (0, x)\n",
    "        return (1, x)\n",
    "    letters.sort(key=helper)\n",
    "    return found\n",
    "\n",
    "print(sort_priority(letters, target))\n",
    "print(letters)\n",
    "\n",
    "\n",
    "# nonlocal will not go to global scope\n",
    "def sort_priority(letters, target):\n",
    "    found = False\n",
    "    def helper(x):\n",
    "        nonlocal found\n",
    "        if x in target:\n",
    "            found = True\n",
    "            return (0, x)\n",
    "        return (1, x)\n",
    "    letters.sort(key=helper)\n",
    "    return found\n",
    "\n",
    "print(\"--------------using nonlocal\")\n",
    "print(sort_priority(letters, target))\n",
    "print(letters)"
   ]
  },
  {
   "cell_type": "markdown",
   "metadata": {
    "collapsed": true
   },
   "source": [
    "### Optional parameters"
   ]
  },
  {
   "cell_type": "code",
   "execution_count": 3,
   "metadata": {},
   "outputs": [
    {
     "name": "stdout",
     "output_type": "stream",
     "text": [
      "current number\n",
      "current numbers are: 1, 2\n"
     ]
    }
   ],
   "source": [
    "# {{{py_opt_params\n",
    "def log(message, *values):\n",
    "    if not values:\n",
    "        print(message)\n",
    "    else:\n",
    "        val_str = \", \".join(str(x) for x in values)\n",
    "        print(\"{}: {}\".format(message, val_str))\n",
    "\n",
    "log(\"current number\")\n",
    "log(\"current numbers are\", 1, 2)\n",
    "# END}}}"
   ]
  },
  {
   "cell_type": "markdown",
   "metadata": {
    "collapsed": true
   },
   "source": [
    "### Keyword only args"
   ]
  },
  {
   "cell_type": "markdown",
   "metadata": {},
   "source": [
    "all args after the `*` must be specified"
   ]
  },
  {
   "cell_type": "code",
   "execution_count": 6,
   "metadata": {},
   "outputs": [
    {
     "name": "stdout",
     "output_type": "stream",
     "text": [
      "3.0\n"
     ]
    }
   ],
   "source": [
    "# {{{py_func_kwonly\n",
    "def func_with_kwargs(num, a, b,\n",
    "                    *,\n",
    "                    div_a=False,\n",
    "                    div_b=False):\n",
    "    if div_a:\n",
    "        num /= a\n",
    "    if div_b:\n",
    "        num /= b\n",
    "    return num\n",
    "\n",
    "# print(func_with_kwargs(12, 2, 2, True, True)) # won't work\n",
    "print(func_with_kwargs(12, 2, 2, div_a=True, div_b=True))\n",
    "# END}}}"
   ]
  },
  {
   "cell_type": "code",
   "execution_count": null,
   "metadata": {
    "collapsed": true
   },
   "outputs": [],
   "source": []
  },
  {
   "cell_type": "code",
   "execution_count": null,
   "metadata": {
    "collapsed": true
   },
   "outputs": [],
   "source": []
  }
 ],
 "metadata": {
  "kernelspec": {
   "display_name": "Python 3",
   "language": "python",
   "name": "python3"
  },
  "language_info": {
   "codemirror_mode": {
    "name": "ipython",
    "version": 3
   },
   "file_extension": ".py",
   "mimetype": "text/x-python",
   "name": "python",
   "nbconvert_exporter": "python",
   "pygments_lexer": "ipython3",
   "version": "3.6.1"
  }
 },
 "nbformat": 4,
 "nbformat_minor": 2
}
