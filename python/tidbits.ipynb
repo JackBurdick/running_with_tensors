{
 "cells": [
  {
   "cell_type": "markdown",
   "metadata": {},
   "source": [
    "## Resources\n",
    "- [Udemy](https://www.udemy.com/writing-high-performance-python/learn/v4/overview)"
   ]
  },
  {
   "cell_type": "markdown",
   "metadata": {},
   "source": [
    "### Enumerate"
   ]
  },
  {
   "cell_type": "code",
   "execution_count": 1,
   "metadata": {},
   "outputs": [
    {
     "name": "stdout",
     "output_type": "stream",
     "text": [
      "state[0] = a\n",
      "state[1] = b\n",
      "state[2] = c\n",
      "state[3] = d\n",
      "state[4] = e\n",
      "================\n",
      "state #1 = a\n",
      "state #2 = b\n",
      "state #3 = c\n",
      "state #4 = d\n",
      "state #5 = e\n"
     ]
    }
   ],
   "source": [
    "states = [\"a\", \"b\", \"c\", \"d\", \"e\"]\n",
    "\n",
    "for i, state in enumerate(states):\n",
    "    print(\"state[{}] = {}\".format(i, state))\n",
    "\n",
    "print(\"================\")\n",
    "# can start enumerate at a given index\n",
    "for i, state in enumerate(states, 1):\n",
    "    print(\"state #{} = {}\".format(i, state))"
   ]
  },
  {
   "cell_type": "markdown",
   "metadata": {},
   "source": [
    "### Zip"
   ]
  },
  {
   "cell_type": "code",
   "execution_count": 2,
   "metadata": {},
   "outputs": [
    {
     "name": "stdout",
     "output_type": "stream",
     "text": [
      "('Siren', 3)\n",
      "('Diesel', 2)\n"
     ]
    }
   ],
   "source": [
    "# where [i] maps to one another\n",
    "pets = [\"Siren\", \"Diesel\"]\n",
    "age = [3, 2]\n",
    "\n",
    "for pet_info in zip(pets, age):\n",
    "    print(pet_info)\n",
    "    \n",
    "# NOTE: in python 2, zip is not a generator: \n",
    "# - use `from itertools import izip`\n",
    "# WARNING: if the lengths are different lengths, \n",
    "# it will run until either of the iterators are exhausted\n"
   ]
  },
  {
   "cell_type": "code",
   "execution_count": 3,
   "metadata": {},
   "outputs": [
    {
     "name": "stdout",
     "output_type": "stream",
     "text": [
      "---- Using zip\n",
      "('Siren', 3)\n",
      "('Diesel', 2)\n",
      "------ using zip_longest\n",
      "('Siren', 3)\n",
      "('Diesel', 2)\n",
      "('Bella', None)\n"
     ]
    }
   ],
   "source": [
    "from itertools import zip_longest\n",
    "\n",
    "# let's pretend I know the next pet will be named bella\n",
    "# BUT, she isnt' born yet.\n",
    "pets = [\"Siren\", \"Diesel\", \"Bella\"]\n",
    "age = [3, 2]\n",
    "\n",
    "print(\"---- Using zip\")\n",
    "for pet_info in zip(pets, age):\n",
    "    print(pet_info)\n",
    "    \n",
    "print(\"------ using zip_longest\")\n",
    "for pet_info in zip_longest(pets, age):\n",
    "    print(pet_info)"
   ]
  },
  {
   "cell_type": "markdown",
   "metadata": {},
   "source": [
    "### For - else"
   ]
  },
  {
   "cell_type": "code",
   "execution_count": 4,
   "metadata": {},
   "outputs": [
    {
     "name": "stdout",
     "output_type": "stream",
     "text": [
      "This else block runs\n",
      "loop: 0\n",
      "loop: 1\n",
      "else\n",
      "\n",
      "This else block does not\n",
      "loop 0\n",
      "loop 1\n",
      "\n",
      "The else block does run here `for i in []:`\n",
      "else\n"
     ]
    }
   ],
   "source": [
    "print(\"This else block runs\")\n",
    "for i in range(2):\n",
    "    print(\"loop: {}\".format(i))\n",
    "else:\n",
    "    print(\"else\")\n",
    "    \n",
    "\n",
    "print(\"\\nThis else block does not\")\n",
    "for i in range(2):\n",
    "    print(\"loop {}\".format(i))\n",
    "    if i == 1:\n",
    "        break\n",
    "else:\n",
    "    print(\"else\")\n",
    "    \n",
    "    \n",
    "\n",
    "print(\"\\nThe else block does run here `for i in []:`\")\n",
    "for i in []:\n",
    "    print(\"Never Runs\".format(i))\n",
    "else:\n",
    "    print(\"else\")\n",
    "    \n",
    "## \"else blocks are useful after the loop runs\""
   ]
  },
  {
   "cell_type": "code",
   "execution_count": 5,
   "metadata": {},
   "outputs": [
    {
     "name": "stdout",
     "output_type": "stream",
     "text": [
      "testing: 2\n",
      "testing: 3\n",
      "testing: 4\n",
      "coprime\n",
      "coprime(4, 9) = True\n",
      "coprime(4, 8) = False\n"
     ]
    }
   ],
   "source": [
    "## useful example adapted from linked udemy course\n",
    "a = 4\n",
    "b = 9\n",
    "\n",
    "for i in range(2, min(a, b)+ 1):\n",
    "    print(\"testing: {}\".format(i))\n",
    "    if a % i == 0 and b % i == 0:\n",
    "        print(\"not coprime\")\n",
    "        break\n",
    "else:\n",
    "    print(\"coprime\")\n",
    "    \n",
    "    \n",
    "# more useful example - the for else is confusing...\n",
    "def coprime(a, b):\n",
    "    for i in range(2, min(a, b)+1):\n",
    "        if a % i == 0 and b % i == 0:\n",
    "            return False\n",
    "    return True\n",
    "\n",
    "print(\"coprime(4, 9) = {}\".format(coprime(4, 9)))\n",
    "print(\"coprime(4, 8) = {}\".format(coprime(4, 8)))"
   ]
  },
  {
   "cell_type": "markdown",
   "metadata": {},
   "source": [
    "### Try blocks"
   ]
  },
  {
   "cell_type": "code",
   "execution_count": 6,
   "metadata": {},
   "outputs": [
    {
     "ename": "IndentationError",
     "evalue": "expected an indented block (<ipython-input-6-32648dbe54e0>, line 3)",
     "output_type": "error",
     "traceback": [
      "\u001b[0;36m  File \u001b[0;32m\"<ipython-input-6-32648dbe54e0>\"\u001b[0;36m, line \u001b[0;32m3\u001b[0m\n\u001b[0;31m    except MyException as e:\u001b[0m\n\u001b[0m         ^\u001b[0m\n\u001b[0;31mIndentationError\u001b[0m\u001b[0;31m:\u001b[0m expected an indented block\n"
     ]
    }
   ],
   "source": [
    "try:\n",
    "    # do something\n",
    "except MyException as e:\n",
    "    # handle exception\n",
    "else:\n",
    "    # runs when there are no exceptions\n",
    "finally:\n",
    "    # always runs after try:"
   ]
  },
  {
   "cell_type": "markdown",
   "metadata": {},
   "source": [
    "### Context Manager"
   ]
  },
  {
   "cell_type": "markdown",
   "metadata": {},
   "source": [
    "#### Swallow exception"
   ]
  },
  {
   "cell_type": "code",
   "execution_count": null,
   "metadata": {},
   "outputs": [],
   "source": [
    "from contextlib import contextmanager\n",
    "import logging\n",
    "\n",
    "# will log the exception, but will continue on as if nothing happened\n",
    "\n",
    "@contextmanager\n",
    "def swallow_exception(cls):\n",
    "    try:\n",
    "        yield\n",
    "    except cls:\n",
    "        logging.exception('Swallowing Exception')\n",
    "        \n",
    "value = 20\n",
    "with swallow_exception(ZeroDivisionError):\n",
    "    value /= 0"
   ]
  },
  {
   "cell_type": "markdown",
   "metadata": {},
   "source": [
    "### Generators"
   ]
  },
  {
   "cell_type": "code",
   "execution_count": null,
   "metadata": {},
   "outputs": [],
   "source": [
    "# dictionaries, lists, and sets have their own comprehensions\n",
    "nums = [1,2,3,4,5,6,7,8,9,10]\n",
    "\n",
    "print(\" ------- list comp\")\n",
    "squares = [x**2 for x in nums]\n",
    "print(squares)\n",
    "\n",
    "squares_filt = [x**2 for x in nums if x % 2 == 0]\n",
    "print(squares_filt)\n",
    "\n",
    "print(\" ------- generator\")\n",
    "squares_g= map(lambda x: x**2, nums)\n",
    "print(list(squares_g))\n",
    "\n",
    "squares_filt_g = map(lambda x: x**2, filter(lambda x: x % 2 == 0, nums))\n",
    "print(list(squares_filt_g))\n",
    "\n",
    "# slightly more readable, yet not really \"better\" - longer\n",
    "map_func = lambda x: x**2\n",
    "filter_func = lambda x: x % 2 == 0\n",
    "alt_sq_filt_g = map(map_func, filter(filter_func, nums))\n",
    "print(list(alt_sq_filt_g))"
   ]
  },
  {
   "cell_type": "code",
   "execution_count": null,
   "metadata": {},
   "outputs": [],
   "source": [
    "# nested list comprehension\n",
    "matrix = [[1,2,3], [4,5,6], [7,8,9]]\n",
    "squared = [[x**2 for x in row] for row in matrix]\n",
    "print(squared)"
   ]
  },
  {
   "cell_type": "markdown",
   "metadata": {},
   "source": [
    "### Extend vs append"
   ]
  },
  {
   "cell_type": "code",
   "execution_count": null,
   "metadata": {},
   "outputs": [],
   "source": [
    "# adapted from https://stackoverflow.com/questions/252703/append-vs-extend\n",
    "print(\"append\")\n",
    "x = [1, 2, 3]\n",
    "x.append([4, 5])\n",
    "print(x)\n",
    "\n",
    "print(\"\\nextend\")\n",
    "y = [1, 2, 3]\n",
    "y.extend([4, 5])\n",
    "print(y)"
   ]
  },
  {
   "cell_type": "code",
   "execution_count": null,
   "metadata": {},
   "outputs": [],
   "source": [
    "# example from linked udemy\n",
    "matrix = [[1,2,3], [4,5,6], [7,8,9]]\n",
    "\n",
    "# value is multiple of 3 and array sum is 10 or greater\n",
    "filtered = [[x for x in row if x % 3 == 0]\n",
    "            for row in matrix if sum(row) >= 10]\n",
    "print(filtered)\n",
    "\n",
    "# but this is getting a little too messy.\n",
    "# the rule of thumb is don't use more than 2 expressions in list comprehensions"
   ]
  },
  {
   "cell_type": "markdown",
   "metadata": {
    "collapsed": true
   },
   "source": [
    "### Generator expressions"
   ]
  },
  {
   "cell_type": "code",
   "execution_count": 15,
   "metadata": {},
   "outputs": [
    {
     "name": "stdout",
     "output_type": "stream",
     "text": [
      "[1, 8, 27, 64, 125, 216, 343, 512, 729, 1000]\n",
      "1\n",
      "8\n",
      "27\n",
      "64\n",
      "125\n",
      "216\n",
      "343\n",
      "512\n",
      "729\n",
      "1000\n"
     ]
    },
    {
     "ename": "StopIteration",
     "evalue": "",
     "output_type": "error",
     "traceback": [
      "\u001b[0;31m---------------------------------------------------------------------------\u001b[0m",
      "\u001b[0;31mStopIteration\u001b[0m                             Traceback (most recent call last)",
      "\u001b[0;32m<ipython-input-15-c5a1fade36e7>\u001b[0m in \u001b[0;36m<module>\u001b[0;34m()\u001b[0m\n\u001b[1;32m     23\u001b[0m \u001b[0mprint\u001b[0m\u001b[0;34m(\u001b[0m\u001b[0mnext\u001b[0m\u001b[0;34m(\u001b[0m\u001b[0mval\u001b[0m\u001b[0;34m)\u001b[0m\u001b[0;34m)\u001b[0m\u001b[0;34m\u001b[0m\u001b[0m\n\u001b[1;32m     24\u001b[0m \u001b[0mprint\u001b[0m\u001b[0;34m(\u001b[0m\u001b[0mnext\u001b[0m\u001b[0;34m(\u001b[0m\u001b[0mval\u001b[0m\u001b[0;34m)\u001b[0m\u001b[0;34m)\u001b[0m\u001b[0;34m\u001b[0m\u001b[0m\n\u001b[0;32m---> 25\u001b[0;31m \u001b[0mprint\u001b[0m\u001b[0;34m(\u001b[0m\u001b[0mnext\u001b[0m\u001b[0;34m(\u001b[0m\u001b[0mval\u001b[0m\u001b[0;34m)\u001b[0m\u001b[0;34m)\u001b[0m\u001b[0;34m\u001b[0m\u001b[0m\n\u001b[0m",
      "\u001b[0;31mStopIteration\u001b[0m: "
     ]
    }
   ],
   "source": [
    "some_huge_list = [1,2,3,4,5,6,7,8,9,10]\n",
    "\n",
    "def some_expensive_task(x):\n",
    "    return x**3\n",
    "\n",
    "# rather than\n",
    "val = [some_expensive_task(x) for x in some_huge_list]\n",
    "print(val)\n",
    "       \n",
    "# use;\n",
    "# This will return a generator that will yield one value at a time\n",
    "val = (some_expensive_task(x) for x in some_huge_list)\n",
    "\n",
    "# you can iterate through the results with next()\n",
    "print(next(val))\n",
    "print(next(val))\n",
    "print(next(val))\n",
    "print(next(val))\n",
    "print(next(val))\n",
    "print(next(val))\n",
    "print(next(val))\n",
    "print(next(val))\n",
    "print(next(val))\n",
    "print(next(val))\n",
    "print(next(val))"
   ]
  },
  {
   "cell_type": "code",
   "execution_count": 20,
   "metadata": {},
   "outputs": [
    {
     "name": "stdout",
     "output_type": "stream",
     "text": [
      "(1, 1.0)\n",
      "(8, 2.0)\n",
      "(27, 3.0)\n",
      "(64, 3.9999999999999996)\n",
      "(125, 4.999999999999999)\n",
      "(216, 5.999999999999999)\n"
     ]
    }
   ],
   "source": [
    "some_huge_list = [1,2,3,4,5,6,7,8,9,10]\n",
    "\n",
    "def some_expensive_task(x):\n",
    "    return x**3\n",
    "\n",
    "# lazy, happens 'just in time'\n",
    "it = (some_expensive_task(x) for x in some_huge_list)\n",
    "retVal = ((x, x**(1/3)) for x in it)\n",
    "print(next(retVal))\n",
    "print(next(retVal))\n",
    "print(next(retVal))\n",
    "print(next(retVal))\n",
    "print(next(retVal))\n",
    "print(next(retVal))"
   ]
  },
  {
   "cell_type": "markdown",
   "metadata": {},
   "source": [
    "### "
   ]
  }
 ],
 "metadata": {
  "kernelspec": {
   "display_name": "Python 3",
   "language": "python",
   "name": "python3"
  },
  "language_info": {
   "codemirror_mode": {
    "name": "ipython",
    "version": 3
   },
   "file_extension": ".py",
   "mimetype": "text/x-python",
   "name": "python",
   "nbconvert_exporter": "python",
   "pygments_lexer": "ipython3",
   "version": "3.6.1"
  }
 },
 "nbformat": 4,
 "nbformat_minor": 2
}
