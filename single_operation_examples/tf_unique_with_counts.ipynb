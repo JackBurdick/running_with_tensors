{
 "cells": [
  {
   "cell_type": "markdown",
   "metadata": {},
   "source": [
    "# tf.unique_with_counts()"
   ]
  },
  {
   "cell_type": "code",
   "execution_count": 1,
   "metadata": {},
   "outputs": [
    {
     "name": "stdout",
     "output_type": "stream",
     "text": [
      "Python: (3, 5, 4, 'final', 0)\n",
      "TensorFlow: 1.5.0-dev20171220\n",
      "No GPU found\n"
     ]
    }
   ],
   "source": [
    "# DL framework\n",
    "import tensorflow as tf\n",
    "import tensorflow.contrib.eager as tfe\n",
    "tfe.enable_eager_execution()\n",
    "\n",
    "from datetime import datetime\n",
    "\n",
    "# common packages\n",
    "import numpy as np\n",
    "import os # handling file i/o\n",
    "import sys\n",
    "import math\n",
    "import time # timing epochs\n",
    "\n",
    "# for ordered dict when building layer components\n",
    "import collections\n",
    "\n",
    "# plotting pretty figures\n",
    "%matplotlib inline\n",
    "import matplotlib\n",
    "import matplotlib.pyplot as plt\n",
    "from matplotlib import pyplot\n",
    "from matplotlib import colors # making colors consistent\n",
    "from mpl_toolkits.axes_grid1 import make_axes_locatable # colorbar helper\n",
    "\n",
    "# read image\n",
    "from scipy.misc import imread\n",
    "# + data augmentation\n",
    "from scipy import ndimage\n",
    "from scipy import misc\n",
    "\n",
    "# used for manually saving best params\n",
    "import pickle\n",
    "\n",
    "# for shuffling data batches\n",
    "from sklearn.utils import shuffle\n",
    "\n",
    "# const\n",
    "SEED = 42\n",
    "\n",
    "# Helper to make the output consistent\n",
    "def reset_graph(seed=SEED):\n",
    "    tf.reset_default_graph()\n",
    "    tf.set_random_seed(seed)\n",
    "    np.random.seed(seed)\n",
    "\n",
    "# helper to create dirs if they don't already exist\n",
    "def maybe_create_dir(dir_path):\n",
    "    if not os.path.exists(dir_path):\n",
    "        os.makedirs(dir_path)\n",
    "        print(\"{} createed\".format(dir_path))\n",
    "    else:\n",
    "        print(\"{} already exists\".format(dir_path))\n",
    "    \n",
    "# set log level to supress messages, unless an error\n",
    "os.environ['TF_CPP_MIN_LOG_LEVEL'] = '3'\n",
    "\n",
    "# Important Version information\n",
    "print(\"Python: {}\".format(sys.version_info[:]))\n",
    "print('TensorFlow: {}'.format(tf.__version__))\n",
    "\n",
    "# Check if using GPU\n",
    "if not tf.test.gpu_device_name():\n",
    "    print('No GPU found')\n",
    "else:\n",
    "    print('Default GPU Device: {}'.format(tf.test.gpu_device_name()))\n",
    "    \n",
    "reset_graph()"
   ]
  },
  {
   "cell_type": "markdown",
   "metadata": {},
   "source": [
    "## To the point"
   ]
  },
  {
   "cell_type": "code",
   "execution_count": 2,
   "metadata": {},
   "outputs": [
    {
     "name": "stdout",
     "output_type": "stream",
     "text": [
      "x:     [3 1 0 1 2 3]\n",
      "y:     [3 1 0 2]\n",
      "idx:   [0 1 2 1 3 0]\n",
      "count: [2 2 1 1]\n"
     ]
    }
   ],
   "source": [
    "example_a = np.asarray([3,1,0,1,2,3])\n",
    "y, idx, count = tf.unique_with_counts(example_a)\n",
    "\n",
    "print(\"x:     {}\".format(example_a))\n",
    "print(\"y:     {}\".format(y))\n",
    "print(\"idx:   {}\".format(idx))\n",
    "print(\"count: {}\".format(count))"
   ]
  },
  {
   "cell_type": "markdown",
   "metadata": {},
   "source": [
    "## Explanation\n",
    "\n",
    "- `y` : tensor containing all the unique elements in the input **(sorted in the order they appear)**\n",
    "> [3,1,0,1,2,3] --> **3**, then **1**, then **0**,skip 1, then **2**, skip 3 --> y=[3,1,0,2]\n",
    "- `idx`: tensor (same size as the input) containing the index of each value from the input in `y`\n",
    "> [3,1,0,1,2,3] --> 3 is y[**0**], 1 = y[**1**], 0 = y[**2**], 1 = y[**1**], 2 = y[**3**] , 3 = y[**0**] --> idx=[0,1,2,1,3,0]\n",
    "- `counts`: tensor containg the count of each element in `y`\n",
    "> [3,1,0,1,2,3] --> y=[3 1 0 2] --> 3 appears **2** times, 1 = **2** times, 0 = **1** time, 2 = **1** time --> count=[2,2,1,1]"
   ]
  },
  {
   "cell_type": "markdown",
   "metadata": {},
   "source": [
    "## More Examples"
   ]
  },
  {
   "cell_type": "code",
   "execution_count": 3,
   "metadata": {},
   "outputs": [
    {
     "name": "stdout",
     "output_type": "stream",
     "text": [
      "x:     [ 0.   1.   0.   1.   2.   3.   1.1]\n",
      "y:     [ 0.   1.   2.   3.   1.1]\n",
      "idx:   [0 1 0 1 2 3 4]\n",
      "count: [2 2 1 1 1]\n"
     ]
    }
   ],
   "source": [
    "# floats are their own value\n",
    "example_b = np.asarray([0,1,0,1,2,3,1.1])\n",
    "y, idx, count = tf.unique_with_counts(example_b)\n",
    "\n",
    "print(\"x:     {}\".format(example_b))\n",
    "print(\"y:     {}\".format(y))\n",
    "print(\"idx:   {}\".format(idx))\n",
    "print(\"count: {}\".format(count))"
   ]
  },
  {
   "cell_type": "code",
   "execution_count": 4,
   "metadata": {},
   "outputs": [
    {
     "name": "stdout",
     "output_type": "stream",
     "text": [
      "x:     ['0' '1' '0.0' '1' '2' '3' 'a']\n",
      "y:     [b'0' b'1' b'0.0' b'2' b'3' b'a']\n",
      "idx:   [0 1 2 1 3 4 5]\n",
      "count: [1 2 1 1 1 1]\n",
      "tf.Tensor([b'0' b'1' b'0.0' b'2' b'3' b'a'], shape=(6,), dtype=string)\n"
     ]
    }
   ],
   "source": [
    "# multiple types supported\n",
    "example_c = np.asarray([0,1,0.,1,2,3,'a'])\n",
    "y, idx, count = tf.unique_with_counts(example_c)\n",
    "\n",
    "print(\"x:     {}\".format(example_c))\n",
    "print(\"y:     {}\".format(y))\n",
    "print(\"idx:   {}\".format(idx))\n",
    "print(\"count: {}\".format(count))\n",
    "####\n",
    "print(y) # type string"
   ]
  }
 ],
 "metadata": {
  "kernelspec": {
   "display_name": "cpu_tf",
   "language": "python",
   "name": "cpu_tf"
  },
  "language_info": {
   "codemirror_mode": {
    "name": "ipython",
    "version": 3
   },
   "file_extension": ".py",
   "mimetype": "text/x-python",
   "name": "python",
   "nbconvert_exporter": "python",
   "pygments_lexer": "ipython3",
   "version": "3.5.4"
  }
 },
 "nbformat": 4,
 "nbformat_minor": 2
}
