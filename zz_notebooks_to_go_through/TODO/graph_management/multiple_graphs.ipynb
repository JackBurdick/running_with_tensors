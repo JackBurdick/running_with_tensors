{
 "cells": [
  {
   "cell_type": "markdown",
   "metadata": {},
   "source": [
    "# multiple graphs"
   ]
  },
  {
   "cell_type": "code",
   "execution_count": 1,
   "metadata": {},
   "outputs": [
    {
     "name": "stdout",
     "output_type": "stream",
     "text": [
      "Python: (3, 5, 4, 'final', 0)\n",
      "TensorFlow: 1.5.0-dev20171220\n",
      "No GPU found\n"
     ]
    }
   ],
   "source": [
    "# DL framework\n",
    "import tensorflow as tf\n",
    "\n",
    "from datetime import datetime\n",
    "\n",
    "# common packages\n",
    "import numpy as np\n",
    "import os # handling file i/o\n",
    "import sys\n",
    "import math\n",
    "import time # timing epochs\n",
    "\n",
    "# for ordered dict when building layer components\n",
    "import collections\n",
    "\n",
    "# plotting pretty figures\n",
    "%matplotlib inline\n",
    "import matplotlib\n",
    "import matplotlib.pyplot as plt\n",
    "from matplotlib import pyplot\n",
    "from matplotlib import colors # making colors consistent\n",
    "from mpl_toolkits.axes_grid1 import make_axes_locatable # colorbar helper\n",
    "\n",
    "# read image\n",
    "from imageio import imread\n",
    "# + data augmentation\n",
    "from scipy import ndimage\n",
    "from scipy import misc\n",
    "\n",
    "# used for manually saving best params\n",
    "import pickle\n",
    "\n",
    "# for shuffling data batches\n",
    "from sklearn.utils import shuffle\n",
    "\n",
    "# const\n",
    "SEED = 42\n",
    "\n",
    "# Helper to make the output consistent\n",
    "def reset_graph(seed=SEED):\n",
    "    tf.reset_default_graph()\n",
    "    tf.set_random_seed(seed)\n",
    "    np.random.seed(seed)\n",
    "\n",
    "# helper to create dirs if they don't already exist\n",
    "def maybe_create_dir(dir_path):\n",
    "    if not os.path.exists(dir_path):\n",
    "        os.makedirs(dir_path)\n",
    "        print(\"{} createed\".format(dir_path))\n",
    "    else:\n",
    "        print(\"{} already exists\".format(dir_path))\n",
    "    \n",
    "# set log level to supress messages, unless an error\n",
    "os.environ['TF_CPP_MIN_LOG_LEVEL'] = '3'\n",
    "\n",
    "# Important Version information\n",
    "print(\"Python: {}\".format(sys.version_info[:]))\n",
    "print('TensorFlow: {}'.format(tf.__version__))\n",
    "\n",
    "# Check if using GPU\n",
    "if not tf.test.gpu_device_name():\n",
    "    print('No GPU found')\n",
    "else:\n",
    "    print('Default GPU Device: {}'.format(tf.test.gpu_device_name()))\n",
    "    \n",
    "reset_graph()"
   ]
  },
  {
   "cell_type": "code",
   "execution_count": 2,
   "metadata": {
    "collapsed": true
   },
   "outputs": [],
   "source": [
    "# define graph (const x const)\n",
    "def build_mult_graph():\n",
    "    reset_graph()\n",
    "    g = tf.Graph()\n",
    "    with g.as_default():\n",
    "        with tf.name_scope(\"operations\"):\n",
    "            with tf.name_scope(\"inputs\"):\n",
    "                x1 = tf.placeholder(tf.float32, name=\"x1\")\n",
    "                x2 = tf.placeholder(tf.float32, name=\"x2\")\n",
    "            with tf.name_scope(\"output\"):\n",
    "                out = tf.multiply(x1,x2, name=\"multipy\")\n",
    "        with tf.name_scope(\"init\"):\n",
    "            init = tf.global_variables_initializer()\n",
    "            \n",
    "    for node in (x1, x2):\n",
    "        g.add_to_collection(\"in_ops\", node)\n",
    "    \n",
    "    g.add_to_collection(\"init_ops\", init)\n",
    "    \n",
    "    g.add_to_collection(\"out_ops\", out)\n",
    "        \n",
    "    return g"
   ]
  },
  {
   "cell_type": "code",
   "execution_count": 3,
   "metadata": {},
   "outputs": [
    {
     "name": "stdout",
     "output_type": "stream",
     "text": [
      "operations/inputs/x1\n",
      "operations/inputs/x2\n",
      "operations/output/multipy\n",
      "init/init\n"
     ]
    }
   ],
   "source": [
    "mult_g = build_mult_graph()\n",
    "\n",
    "all_ops = [op for op in mult_g.get_operations()]\n",
    "for op in all_ops:\n",
    "    print(op.name)"
   ]
  },
  {
   "cell_type": "code",
   "execution_count": 4,
   "metadata": {},
   "outputs": [
    {
     "ename": "NameError",
     "evalue": "name 'init' is not defined",
     "output_type": "error",
     "traceback": [
      "\u001b[0;31m---------------------------------------------------------------------------\u001b[0m",
      "\u001b[0;31mNameError\u001b[0m                                 Traceback (most recent call last)",
      "\u001b[0;32m<ipython-input-4-5842b42b7d9e>\u001b[0m in \u001b[0;36m<module>\u001b[0;34m()\u001b[0m\n\u001b[1;32m      3\u001b[0m \u001b[0mmult_g\u001b[0m \u001b[0;34m=\u001b[0m \u001b[0mbuild_mult_graph\u001b[0m\u001b[0;34m(\u001b[0m\u001b[0;34m)\u001b[0m\u001b[0;34m\u001b[0m\u001b[0m\n\u001b[1;32m      4\u001b[0m \u001b[0;32mwith\u001b[0m \u001b[0mtf\u001b[0m\u001b[0;34m.\u001b[0m\u001b[0mSession\u001b[0m\u001b[0;34m(\u001b[0m\u001b[0mgraph\u001b[0m\u001b[0;34m=\u001b[0m\u001b[0mmult_g\u001b[0m\u001b[0;34m)\u001b[0m \u001b[0;32mas\u001b[0m \u001b[0msess\u001b[0m\u001b[0;34m:\u001b[0m\u001b[0;34m\u001b[0m\u001b[0m\n\u001b[0;32m----> 5\u001b[0;31m     \u001b[0msess\u001b[0m\u001b[0;34m.\u001b[0m\u001b[0mrun\u001b[0m\u001b[0;34m(\u001b[0m\u001b[0minit\u001b[0m\u001b[0;34m)\u001b[0m\u001b[0;34m\u001b[0m\u001b[0m\n\u001b[0m\u001b[1;32m      6\u001b[0m     \u001b[0moutput\u001b[0m \u001b[0;34m=\u001b[0m \u001b[0msess\u001b[0m\u001b[0;34m.\u001b[0m\u001b[0mrun\u001b[0m\u001b[0;34m(\u001b[0m\u001b[0mout\u001b[0m\u001b[0;34m,\u001b[0m \u001b[0mfeed_dict\u001b[0m\u001b[0;34m=\u001b[0m\u001b[0;34m{\u001b[0m\u001b[0mx1\u001b[0m\u001b[0;34m:\u001b[0m \u001b[0;36m2\u001b[0m\u001b[0;34m,\u001b[0m \u001b[0mx2\u001b[0m\u001b[0;34m:\u001b[0m \u001b[0;36m3\u001b[0m\u001b[0;34m}\u001b[0m\u001b[0;34m)\u001b[0m\u001b[0;34m\u001b[0m\u001b[0m\n\u001b[1;32m      7\u001b[0m     \u001b[0mprint\u001b[0m\u001b[0;34m(\u001b[0m\u001b[0;34m\"output = {}\\n\"\u001b[0m\u001b[0;34m.\u001b[0m\u001b[0mformat\u001b[0m\u001b[0;34m(\u001b[0m\u001b[0moutput\u001b[0m\u001b[0;34m)\u001b[0m\u001b[0;34m)\u001b[0m\u001b[0;34m\u001b[0m\u001b[0m\n",
      "\u001b[0;31mNameError\u001b[0m: name 'init' is not defined"
     ]
    }
   ],
   "source": [
    "# Note; we'll define which graph we're using for this session by\n",
    "# passing the mult_g (graph) to the `graph` keyword.\n",
    "mult_g = build_mult_graph()\n",
    "with tf.Session(graph=mult_g) as sess:\n",
    "    sess.run(init) \n",
    "    output = sess.run(out, feed_dict={x1: 2, x2: 3})\n",
    "    print(\"output = {}\\n\".format(output))"
   ]
  },
  {
   "cell_type": "markdown",
   "metadata": {},
   "source": [
    "right, so the operations aren't accessible.. Or rather, they aren't known globally.  We can address this by getting the tensor by name or by building and and using collections {TODO: add link here to collections notebook}.  I'll show a couple ways to acomplish this."
   ]
  },
  {
   "cell_type": "code",
   "execution_count": null,
   "metadata": {},
   "outputs": [],
   "source": [
    "mult_g = build_mult_graph()\n",
    "x1, x2 = mult_g.get_collection(\"in_ops\")\n",
    "init = mult_g.get_collection(\"init_ops\")\n",
    "out = mult_g.get_collection(\"out_ops\")\n",
    "\n",
    "# Note; we'll define which graph we're using for this session by\n",
    "# passing the mult_g (graph) to the `graph` keyword.\n",
    "with tf.Session(graph=mult_g) as sess:\n",
    "    sess.run(init) \n",
    "    output = sess.run(out, feed_dict={x1: 2, x2: 3})\n",
    "    print(\"output = {}\\n\".format(output))"
   ]
  },
  {
   "cell_type": "markdown",
   "metadata": {},
   "source": [
    "### Let's build another (different) graph"
   ]
  },
  {
   "cell_type": "code",
   "execution_count": null,
   "metadata": {
    "collapsed": true
   },
   "outputs": [],
   "source": [
    "def build_div_graph():\n",
    "    reset_graph()\n",
    "    g = tf.Graph()\n",
    "    with g.as_default():\n",
    "        with tf.name_scope(\"operations\"):\n",
    "            with tf.name_scope(\"inputs\"):\n",
    "                x1 = tf.placeholder(tf.float32, name=\"x1\")\n",
    "                x2 = tf.placeholder(tf.float32, name=\"x2\")\n",
    "            with tf.name_scope(\"output\"):\n",
    "                out = tf.divide(x1,x2, name=\"multipy\")\n",
    "        with tf.name_scope(\"init\"):\n",
    "            init = tf.global_variables_initializer()\n",
    "            \n",
    "    for node in (x1, x2):\n",
    "        g.add_to_collection(\"in_ops\", node)\n",
    "    \n",
    "    g.add_to_collection(\"init_ops\", init)\n",
    "    \n",
    "    g.add_to_collection(\"out_ops\", out)\n",
    "        \n",
    "    return g"
   ]
  },
  {
   "cell_type": "code",
   "execution_count": null,
   "metadata": {},
   "outputs": [],
   "source": [
    "div_g = build_div_graph()\n",
    "x1, x2 = div_g.get_collection(\"in_ops\")\n",
    "init = div_g.get_collection(\"init_ops\")\n",
    "out = div_g.get_collection(\"out_ops\")\n",
    "\n",
    "# Note; we'll define which graph we're using for this session by\n",
    "# passing the mult_g (graph) to the `graph` keyword.\n",
    "with tf.Session(graph=div_g) as sess:\n",
    "    sess.run(init) \n",
    "    output = sess.run(out, feed_dict={x1: 2, x2: 3})\n",
    "    print(\"output = {}\\n\".format(output))"
   ]
  },
  {
   "cell_type": "code",
   "execution_count": null,
   "metadata": {
    "collapsed": true
   },
   "outputs": [],
   "source": []
  }
 ],
 "metadata": {
  "kernelspec": {
   "display_name": "cpu_tf",
   "language": "python",
   "name": "cpu_tf"
  },
  "language_info": {
   "codemirror_mode": {
    "name": "ipython",
    "version": 3
   },
   "file_extension": ".py",
   "mimetype": "text/x-python",
   "name": "python",
   "nbconvert_exporter": "python",
   "pygments_lexer": "ipython3",
   "version": "3.5.4"
  }
 },
 "nbformat": 4,
 "nbformat_minor": 2
}
