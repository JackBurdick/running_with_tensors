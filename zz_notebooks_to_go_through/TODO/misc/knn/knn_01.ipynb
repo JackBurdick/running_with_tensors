{
 "cells": [
  {
   "cell_type": "markdown",
   "metadata": {},
   "source": [
    "# _K_ *N*earest *N*eighbor"
   ]
  },
  {
   "cell_type": "code",
   "execution_count": 1,
   "metadata": {},
   "outputs": [
    {
     "name": "stdout",
     "output_type": "stream",
     "text": [
      "Python: (3, 5, 4, 'final', 0)\n",
      "TensorFlow: 1.4.0\n",
      "Default GPU Device: /device:GPU:0\n"
     ]
    }
   ],
   "source": [
    "# common packages\n",
    "import tensorflow as tf\n",
    "import numpy as np\n",
    "import sys\n",
    "import os\n",
    "\n",
    "# displaying images\n",
    "from matplotlib.pyplot import imshow\n",
    "%matplotlib inline\n",
    "\n",
    "# download data\n",
    "from six.moves.urllib.request import urlopen\n",
    "\n",
    "\n",
    "# Helper to make the output consistent\n",
    "SEED = 42\n",
    "def reset_graph(seed=SEED):\n",
    "    tf.reset_default_graph()\n",
    "    tf.set_random_seed(seed)\n",
    "    np.random.seed(seed)\n",
    "\n",
    "reset_graph()\n",
    "\n",
    "\n",
    "# set log level to supress messages, unless an error\n",
    "os.environ['TF_CPP_MIN_LOG_LEVEL'] = '3'\n",
    "\n",
    "# Version information\n",
    "print(\"Python: {}\".format(sys.version_info[:]))\n",
    "print('TensorFlow: {}'.format(tf.__version__))\n",
    "\n",
    "# Check if using GPU\n",
    "if not tf.test.gpu_device_name():\n",
    "    print('No GPU found')\n",
    "else:\n",
    "    print('Default GPU Device: {}'.format(tf.test.gpu_device_name()))\n",
    "\n"
   ]
  },
  {
   "cell_type": "code",
   "execution_count": 2,
   "metadata": {},
   "outputs": [],
   "source": [
    "## Download data paths\n",
    "ROOT_DATA = \"../../ROOT_DATA/\"\n",
    "DATA_DIR = \"IRIS\"\n",
    "\n",
    "IRIS_TRAINING_PATH = os.path.join(ROOT_DATA, DATA_DIR, \"iris_training.csv\")\n",
    "IRIS_TRAINING_URL = \"http://download.tensorflow.org/data/iris_training.csv\"\n",
    "\n",
    "IRIS_TEST_PATH = os.path.join(ROOT_DATA, DATA_DIR, \"iris_test.csv\")\n",
    "IRIS_TEST_URL = \"http://download.tensorflow.org/data/iris_test.csv\""
   ]
  },
  {
   "cell_type": "code",
   "execution_count": 3,
   "metadata": {},
   "outputs": [
    {
     "name": "stdout",
     "output_type": "stream",
     "text": [
      "../../ROOT_DATA/IRIS/iris_training.csv path exists\n",
      "../../ROOT_DATA/IRIS/iris_test.csv path exists\n"
     ]
    }
   ],
   "source": [
    "# download data\n",
    "## training\n",
    "if not os.path.exists(IRIS_TRAINING_PATH):\n",
    "    raw = urlopen(IRIS_TRAINING_URL).read()\n",
    "    with open(IRIS_TRAINING_PATH, \"wb\") as f:\n",
    "        f.write(raw)\n",
    "    print(IRIS_TRAINING_PATH, \"path written\")\n",
    "else:\n",
    "    print(IRIS_TRAINING_PATH, \"path exists\")\n",
    "\n",
    "## test\n",
    "if not os.path.exists(IRIS_TEST_PATH):\n",
    "    raw = urlopen(IRIS_TEST_URL).read()\n",
    "    with open(IRIS_TEST_PATH, \"wb\") as f:\n",
    "        f.write(raw)\n",
    "    print(IRIS_TEST_PATH, \"path written\")\n",
    "else:\n",
    "    print(IRIS_TEST_PATH, \"path exists\")"
   ]
  },
  {
   "cell_type": "code",
   "execution_count": 4,
   "metadata": {},
   "outputs": [],
   "source": [
    "# Load dataset\n",
    "training_set = tf.contrib.learn.datasets.base.load_csv_with_header(\n",
    "                  filename=IRIS_TRAINING_PATH,\n",
    "                  target_dtype=np.int,\n",
    "                  features_dtype=np.float32)\n",
    "test_set = tf.contrib.learn.datasets.base.load_csv_with_header(\n",
    "              filename=IRIS_TEST_PATH,\n",
    "              target_dtype=np.int,\n",
    "              features_dtype=np.float32)"
   ]
  },
  {
   "cell_type": "code",
   "execution_count": 5,
   "metadata": {},
   "outputs": [
    {
     "name": "stdout",
     "output_type": "stream",
     "text": [
      "training shape: (120, 4)\n",
      "test shape: (30, 4)\n",
      "num features = 4\n",
      "training target information: 120 targets, 3 classes\n",
      "test target information: 30 targets, 3 classes\n"
     ]
    }
   ],
   "source": [
    "# print some dataset information\n",
    "print(\"training shape:\", training_set.data.shape)\n",
    "print(\"test shape:\", test_set.data.shape)\n",
    "\n",
    "# quick check\n",
    "assert training_set.data.shape[1] == test_set.data.shape[1], \\\n",
    "    \"Rut row raggy, features don't match ({} vs {})\".format(training_set.data.shape[1],\n",
    "                                                            test_set.data.shape[0])\n",
    "if training_set.data.shape[1] == test_set.data.shape[1]:\n",
    "    NUM_FEATURES = training_set.data.shape[1]\n",
    "    print(\"num features = {}\".format(NUM_FEATURES))\n",
    "    \n",
    "print(\"training target information: {} targets, {} classes\".format(\\\n",
    "    len(training_set.target), len(set(training_set.target))))\n",
    "print(\"test target information: {} targets, {} classes\".format(\\\n",
    "    len(test_set.target), len(set(test_set.target))))"
   ]
  },
  {
   "cell_type": "code",
   "execution_count": 6,
   "metadata": {},
   "outputs": [
    {
     "name": "stdout",
     "output_type": "stream",
     "text": [
      "Number of classes = 3\n"
     ]
    }
   ],
   "source": [
    "# create feature column\n",
    "# in this example training_set.data.shape[1] is 4\n",
    "feature_columns = [tf.feature_column.numeric_column(\"x\", shape=[NUM_FEATURES])]\n",
    "if len(set(training_set.target)) == len(set(test_set.target)):\n",
    "    NUM_CLASSES = len(set(training_set.target))\n",
    "    print(\"Number of classes = {}\".format(NUM_CLASSES))\n",
    "else:\n",
    "    print(\"number of classes in training and test set don't match\")\n",
    "    NUM_CLASSES = len(set(training_set.target))\n",
    "    print(\"WARNING: num classes has been set to {} to match training set\".format(NUM_CLASSES))"
   ]
  },
  {
   "cell_type": "code",
   "execution_count": 41,
   "metadata": {},
   "outputs": [
    {
     "name": "stdout",
     "output_type": "stream",
     "text": [
      "(120, 4)\n",
      "(120,)\n",
      "2\n",
      "[1 2 0 1 1 1 0 2 1 2 2 0 2 1 1 0 1 0 0 2 0 1 2 1 1 1 0 1 2 1]\n"
     ]
    }
   ],
   "source": [
    "X_train, Y_train = training_set\n",
    "X_test, Y_test = test_set\n",
    "print(X_train.shape)\n",
    "print(Y_train.shape)\n",
    "print(Y_train[0])\n",
    "print(Y_test)"
   ]
  },
  {
   "cell_type": "code",
   "execution_count": 46,
   "metadata": {},
   "outputs": [],
   "source": [
    "# place holder\n",
    "xtr = tf.placeholder(tf.float32, [None, NUM_FEATURES], name=\"X\")\n",
    "ytrs = tf.placeholder(tf.int32, [None], name=\"y\")\n",
    "xte = tf.placeholder(tf.float32, [NUM_FEATURES], name=\"te\")\n",
    "ytr = tf.one_hot(ytrs, depth=NUM_CLASSES, axis=1, name=\"jack\")\n",
    "\n",
    "K = 15\n",
    "nearest_neighbors = tf.Variable(tf.zeros([K]))\n",
    "\n",
    "# model\n",
    "l1_dist = tf.negative(tf.reduce_sum(tf.abs(tf.subtract(xtr, xte)), axis=1))\n",
    "# l2_dist = tf.reduce_sum(tf.square(tf.subtract(X, target_x)), axis=1)\n",
    "\n",
    "vals, indices = tf.nn.top_k(l1_dist, k=K, sorted=False)\n",
    "\n",
    "nn = []\n",
    "for i in range (K):\n",
    "    nn.append(tf.argmax(ytr[indices[i]], axis=0))\n",
    "\n",
    "y, idx, count = tf.unique_with_counts(nn)\n",
    "\n",
    "pred = tf.slice(y, begin=[tf.argmax(count, 0)], size=tf.constant([1], dtype=tf.int64))[0]\n",
    "\n",
    "accuracy = 0.0\n",
    "\n",
    "init = tf.global_variables_initializer()"
   ]
  },
  {
   "cell_type": "code",
   "execution_count": 47,
   "metadata": {},
   "outputs": [
    {
     "name": "stdout",
     "output_type": "stream",
     "text": [
      "Test 0 Prediction [1] True Class: 1\n",
      "Test 1 Prediction [2] True Class: 2\n",
      "Test 2 Prediction [0] True Class: 0\n",
      "Test 3 Prediction [1] True Class: 1\n",
      "Test 4 Prediction [1] True Class: 1\n",
      "Test 5 Prediction [1] True Class: 1\n",
      "Test 6 Prediction [0] True Class: 0\n",
      "Test 7 Prediction [2] True Class: 2\n",
      "Test 8 Prediction [1] True Class: 1\n",
      "Test 9 Prediction [2] True Class: 2\n",
      "Test 10 Prediction [2] True Class: 2\n",
      "Test 11 Prediction [0] True Class: 0\n",
      "Test 12 Prediction [2] True Class: 2\n",
      "Test 13 Prediction [1] True Class: 1\n",
      "Test 14 Prediction [1] True Class: 1\n",
      "Test 15 Prediction [0] True Class: 0\n",
      "Test 16 Prediction [1] True Class: 1\n",
      "Test 17 Prediction [0] True Class: 0\n",
      "Test 18 Prediction [0] True Class: 0\n",
      "Test 19 Prediction [2] True Class: 2\n",
      "Test 20 Prediction [0] True Class: 0\n",
      "Test 21 Prediction [1] True Class: 1\n",
      "Test 22 Prediction [2] True Class: 2\n",
      "Test 23 Prediction [1] True Class: 1\n",
      "Test 24 Prediction [1] True Class: 1\n",
      "Test 25 Prediction [1] True Class: 1\n",
      "Test 26 Prediction [0] True Class: 0\n",
      "Test 27 Prediction [1] True Class: 1\n",
      "Test 28 Prediction [2] True Class: 2\n",
      "Test 29 Prediction [1] True Class: 1\n",
      "15 -th neighbors' Accuracy is: 0.9999999999999999\n"
     ]
    }
   ],
   "source": [
    "with tf.Session() as sess:\n",
    "    sess.run(init)\n",
    "    for i in range(X_test.shape[0]):\n",
    "        # return predicted value\n",
    "        pred_val = sess.run([pred], feed_dict={xtr:X_train,ytrs:Y_train,xte:X_test[i,:]})\n",
    "        print(\"Test\",i,\"Prediction\",pred_val,\"True Class:\",Y_test[i])\n",
    "        if pred_val == Y_test[i]:\n",
    "            accuracy += 1. / len(X_test)\n",
    "    print(K,\"-th neighbors' Accuracy is:\",accuracy)"
   ]
  },
  {
   "cell_type": "code",
   "execution_count": 62,
   "metadata": {},
   "outputs": [],
   "source": [
    "feat_0_min, feat_0_max = X_train[:, 0].min(), X_train[:, 0].max()\n",
    "feat_1_min, feat_1_max = X_train[:, 1].min(), X_train[:, 1].max()\n",
    "feat_2_min, feat_2_max = X_train[:, 2].min(), X_train[:, 2].max()\n",
    "feat_3_min, feat_3_max = X_train[:, 3].min(), X_train[:, 3].max()\n",
    "step = 0.2"
   ]
  },
  {
   "cell_type": "code",
   "execution_count": null,
   "metadata": {},
   "outputs": [],
   "source": [
    "xx, yy = np.meshgrid(np.arange(feat_0_min, feat_0_max, step))\n",
    "z = sess.run([pred], feed_dict={xtr:X_train,ytrs:Y_train,xte:xx})"
   ]
  }
 ],
 "metadata": {
  "kernelspec": {
   "display_name": "Python 3",
   "language": "python",
   "name": "python3"
  },
  "language_info": {
   "codemirror_mode": {
    "name": "ipython",
    "version": 3
   },
   "file_extension": ".py",
   "mimetype": "text/x-python",
   "name": "python",
   "nbconvert_exporter": "python",
   "pygments_lexer": "ipython3",
   "version": "3.5.4"
  }
 },
 "nbformat": 4,
 "nbformat_minor": 2
}
