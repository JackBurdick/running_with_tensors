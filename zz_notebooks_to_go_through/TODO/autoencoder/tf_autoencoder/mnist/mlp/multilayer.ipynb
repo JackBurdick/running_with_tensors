{
 "cells": [
  {
   "cell_type": "code",
   "execution_count": 1,
   "metadata": {},
   "outputs": [
    {
     "name": "stdout",
     "output_type": "stream",
     "text": [
      "TensorFlow Version: 1.2.1\n",
      "Default GPU Device: /gpu:0\n",
      "Extracting ../mnist_data/train-images-idx3-ubyte.gz\n",
      "Extracting ../mnist_data/train-labels-idx1-ubyte.gz\n",
      "Extracting ../mnist_data/t10k-images-idx3-ubyte.gz\n",
      "Extracting ../mnist_data/t10k-labels-idx1-ubyte.gz\n"
     ]
    },
    {
     "data": {
      "text/plain": [
       "<matplotlib.image.AxesImage at 0x7fcb467cf198>"
      ]
     },
     "execution_count": 1,
     "metadata": {},
     "output_type": "execute_result"
    },
    {
     "data": {
      "image/png": "[encoded data removed]",
      "text/plain": [
       "<matplotlib.figure.Figure at 0x7fcbb0bf0cc0>"
      ]
     },
     "metadata": {},
     "output_type": "display_data"
    }
   ],
   "source": [
    "%matplotlib inline\n",
    "\n",
    "import numpy as np\n",
    "import tensorflow as tf\n",
    "import matplotlib.pyplot as plt\n",
    "import os\n",
    "\n",
    "# plotting pretty figures\n",
    "%matplotlib inline\n",
    "import matplotlib\n",
    "import matplotlib.pyplot as plt\n",
    "\n",
    "# Helper to make the output consistent\n",
    "SEED = 42\n",
    "def reset_graph(seed=SEED):\n",
    "    tf.reset_default_graph()\n",
    "    tf.set_random_seed(seed)\n",
    "    np.random.seed(seed)\n",
    "\n",
    "# set log level to supress messages, unless an error\n",
    "os.environ['TF_CPP_MIN_LOG_LEVEL'] = '3'\n",
    "\n",
    "# Check TensorFlow version\n",
    "print('TensorFlow Version: {}'.format(tf.__version__))\n",
    "\n",
    "# Check if using GPU\n",
    "if not tf.test.gpu_device_name():\n",
    "    print('No GPU found')\n",
    "else:\n",
    "    print('Default GPU Device: {}'.format(tf.test.gpu_device_name()))\n",
    "    \n",
    "reset_graph()\n",
    "\n",
    "# import dataset (should already be present)\n",
    "from tensorflow.examples.tutorials.mnist import input_data\n",
    "mnist = input_data.read_data_sets('../mnist_data', validation_size=0)\n",
    "\n",
    "\n",
    "# ------ Make sure we're up and running\n",
    "# display, random, single image\n",
    "img = mnist.train.images[np.random.randint(6000, size=1)]\n",
    "\n",
    "# mnist is 28x28 = 784 and is grayscale\n",
    "# meaning, the 784 vector needs to be reshaped to 28,28\n",
    "plt.imshow(img.reshape((28, 28)), cmap='Greys_r')"
   ]
  },
  {
   "cell_type": "code",
   "execution_count": 3,
   "metadata": {},
   "outputs": [],
   "source": [
    "he_init = tf.contrib.layers.variance_scaling_initializer() # He initialization\n",
    "#Equivalent to:\n",
    "#he_init = lambda shape, dtype=tf.float32: tf.truncated_normal(shape, 0., stddev=np.sqrt(2/shape[0]))\n",
    "\n",
    "l2_regularizer = tf.contrib.layers.l2_regularizer(0.001)"
   ]
  },
  {
   "cell_type": "code",
   "execution_count": 13,
   "metadata": {
    "collapsed": true
   },
   "outputs": [],
   "source": [
    "reset_graph()"
   ]
  },
  {
   "cell_type": "code",
   "execution_count": 14,
   "metadata": {},
   "outputs": [
    {
     "name": "stdout",
     "output_type": "stream",
     "text": [
      "ready\n"
     ]
    }
   ],
   "source": [
    "learning_rate = 0.001\n",
    "img_vect_size = mnist.train.images.shape[1]\n",
    "\n",
    "# input place holders\n",
    "input_vector = tf.placeholder(tf.float32, (None, img_vect_size), name=\"input_vector\")\n",
    "input_target = tf.placeholder(tf.float32, (None, img_vect_size), name=\"input_label\")\n",
    "\n",
    "# --- Model\n",
    "# encoder\n",
    "enc_01 = tf.layers.dense(inputs=input_vector, units=512, \n",
    "                            kernel_initializer=he_init, \n",
    "                            kernel_regularizer=l2_regularizer,\n",
    "                            activation=tf.nn.elu)\n",
    "\n",
    "enc_02 = tf.layers.dense(inputs=enc_01, units=256, \n",
    "                            kernel_initializer=he_init, \n",
    "                            kernel_regularizer=l2_regularizer,\n",
    "                            activation=tf.nn.elu)\n",
    "\n",
    "enc_03 = tf.layers.dense(inputs=enc_02, units=128, \n",
    "                            kernel_initializer=he_init, \n",
    "                            kernel_regularizer=l2_regularizer,\n",
    "                            activation=tf.nn.elu)\n",
    "\n",
    "enc_04 = tf.layers.dense(inputs=enc_03, units=56, \n",
    "                            kernel_initializer=he_init, \n",
    "                            kernel_regularizer=l2_regularizer,\n",
    "                            activation=tf.nn.elu)\n",
    "\n",
    "encoder = tf.layers.dense(inputs=enc_04, units=28, \n",
    "                            kernel_initializer=he_init, \n",
    "                            kernel_regularizer=l2_regularizer,\n",
    "                            activation=tf.nn.elu)\n",
    "\n",
    "dec_01 = tf.layers.dense(inputs=encoder, units=56, \n",
    "                            kernel_initializer=he_init, \n",
    "                            kernel_regularizer=l2_regularizer,\n",
    "                            activation=tf.nn.elu)\n",
    "\n",
    "dec_02 = tf.layers.dense(inputs=dec_01, units=128, \n",
    "                            kernel_initializer=he_init, \n",
    "                            kernel_regularizer=l2_regularizer,\n",
    "                            activation=tf.nn.elu)\n",
    "\n",
    "\n",
    "dec_03 = tf.layers.dense(inputs=dec_02, units=256, \n",
    "                            kernel_initializer=he_init, \n",
    "                            kernel_regularizer=l2_regularizer,\n",
    "                            activation=tf.nn.elu)\n",
    "\n",
    "dec_04 = tf.layers.dense(inputs=dec_03, units=512, \n",
    "                            kernel_initializer=he_init, \n",
    "                            kernel_regularizer=l2_regularizer,\n",
    "                            activation=tf.nn.elu)\n",
    "\n",
    "logits = tf.layers.dense(dec_04, img_vect_size, activation=None)\n",
    "decoded = tf.nn.sigmoid(logits, name=\"output\")\n",
    "\n",
    "# loss\n",
    "xentropy = tf.nn.sigmoid_cross_entropy_with_logits(labels=input_target, logits=logits)\n",
    "batch_loss = tf.reduce_mean(xentropy)\n",
    "optimizer = tf.train.AdamOptimizer(learning_rate=learning_rate,\n",
    "                                               beta1=0.9,\n",
    "                                               beta2=0.999,\n",
    "                                               epsilon=1e-08,\n",
    "                                               use_locking=False,\n",
    "                                               name='Adam')\n",
    "training_op = optimizer.minimize(batch_loss)\n",
    "\n",
    "# initializer and saver\n",
    "with tf.name_scope(\"save_session\"):\n",
    "    init_global = tf.global_variables_initializer()\n",
    "    init_local = tf.local_variables_initializer()\n",
    "    saver = tf.train.Saver()\n",
    "\n",
    "print(\"ready\")"
   ]
  },
  {
   "cell_type": "code",
   "execution_count": 15,
   "metadata": {},
   "outputs": [
    {
     "name": "stdout",
     "output_type": "stream",
     "text": [
      "E: 1/32 - loss: 0.9046\n",
      "E: 2/32 - loss: 0.1338\n",
      "E: 3/32 - loss: 0.1072\n",
      "E: 4/32 - loss: 0.1051\n",
      "E: 5/32 - loss: 0.0971\n",
      "E: 6/32 - loss: 0.0933\n",
      "E: 7/32 - loss: 0.0930\n",
      "E: 8/32 - loss: 0.0927\n",
      "E: 9/32 - loss: 0.0928\n",
      "E: 10/32 - loss: 0.0867\n",
      "E: 11/32 - loss: 0.0910\n",
      "E: 12/32 - loss: 0.0916\n",
      "E: 13/32 - loss: 0.0899\n",
      "E: 14/32 - loss: 0.0833\n",
      "E: 15/32 - loss: 0.0870\n",
      "E: 16/32 - loss: 0.0863\n",
      "E: 17/32 - loss: 0.0868\n",
      "E: 18/32 - loss: 0.0849\n",
      "E: 19/32 - loss: 0.0838\n",
      "E: 20/32 - loss: 0.0843\n",
      "E: 21/32 - loss: 0.0850\n",
      "E: 22/32 - loss: 0.0803\n",
      "E: 23/32 - loss: 0.0835\n",
      "E: 24/32 - loss: 0.0842\n",
      "E: 25/32 - loss: 0.0816\n",
      "E: 26/32 - loss: 0.0827\n",
      "E: 27/32 - loss: 0.0791\n",
      "E: 28/32 - loss: 0.0820\n",
      "E: 29/32 - loss: 0.0821\n",
      "E: 30/32 - loss: 0.0817\n",
      "E: 31/32 - loss: 0.0813\n",
      "E: 32/32 - loss: 0.0792\n"
     ]
    }
   ],
   "source": [
    "epochs = 32\n",
    "batch_size = 256\n",
    "train_size = mnist.train.num_examples\n",
    "\n",
    "with tf.Session() as sess:\n",
    "    init_global.run()\n",
    "    init_local.run()\n",
    "    for e in range(epochs):\n",
    "        for i in range(train_size//batch_size):\n",
    "            batch_cur = mnist.train.next_batch(batch_size)\n",
    "            feed_dict = {input_vector: batch_cur[0], input_target: batch_cur[0]}\n",
    "            cost_batch, _ = sess.run([batch_loss, training_op], feed_dict=feed_dict)\n",
    "            if i == 0:\n",
    "                print(\"E: {}/{} - loss: {:.4f}\".format(e+1, epochs, cost_batch))\n",
    "    save_path = saver.save(sess, \"./saver/multi_autoencoder\")"
   ]
  },
  {
   "cell_type": "code",
   "execution_count": 17,
   "metadata": {},
   "outputs": [
    {
     "name": "stdout",
     "output_type": "stream",
     "text": [
      "INFO:tensorflow:Restoring parameters from ./saver/multi_autoencoder\n"
     ]
    },
    {
     "data": {
      "image/png": "[encoded data removed]",
      "text/plain": [
       "<matplotlib.figure.Figure at 0x7fcb2c09bc18>"
      ]
     },
     "metadata": {},
     "output_type": "display_data"
    }
   ],
   "source": [
    "save_path = \"./saver/multi_autoencoder\"\n",
    "sess = tf.Session()\n",
    "saver.restore(sess, save_path)\n",
    "\n",
    "start_index = int(np.random.randint(6000, size=1) - 10)\n",
    "in_imgs = mnist.test.images[start_index:start_index+10]\n",
    "\n",
    "# run model\n",
    "reconstructed, compressed = sess.run([decoded, encoder], feed_dict={input_vector: in_imgs})\n",
    "\n",
    "# plot\n",
    "fig, axes = plt.subplots(nrows=2, ncols=10, sharex=True, sharey=True, figsize=(20,4))\n",
    "for images, row in zip([in_imgs, reconstructed], axes):\n",
    "    for img, ax in zip(images, row):\n",
    "        ax.imshow(img.reshape((28, 28)), cmap='Greys_r')\n",
    "        ax.get_xaxis().set_visible(False)\n",
    "        ax.get_yaxis().set_visible(False)\n",
    "fig.tight_layout(pad=0.1)"
   ]
  },
  {
   "cell_type": "code",
   "execution_count": 18,
   "metadata": {},
   "outputs": [],
   "source": [
    "sess.close()"
   ]
  }
 ],
 "metadata": {
  "kernelspec": {
   "display_name": "Python 3",
   "language": "python",
   "name": "python3"
  },
  "language_info": {
   "codemirror_mode": {
    "name": "ipython",
    "version": 3
   },
   "file_extension": ".py",
   "mimetype": "text/x-python",
   "name": "python",
   "nbconvert_exporter": "python",
   "pygments_lexer": "ipython3",
   "version": "3.6.1"
  }
 },
 "nbformat": 4,
 "nbformat_minor": 2
}
