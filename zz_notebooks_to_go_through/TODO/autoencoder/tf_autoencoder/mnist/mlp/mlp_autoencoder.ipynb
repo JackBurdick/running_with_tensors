{
 "cells": [
  {
   "cell_type": "code",
   "execution_count": 1,
   "metadata": {},
   "outputs": [],
   "source": [
    "%matplotlib inline\n",
    "\n",
    "import numpy as np\n",
    "import tensorflow as tf\n",
    "import matplotlib.pyplot as plt\n",
    "import os\n",
    "\n",
    "# plotting pretty figures\n",
    "%matplotlib inline\n",
    "import matplotlib\n",
    "import matplotlib.pyplot as plt\n",
    "\n",
    "# Helper to make the output consistent\n",
    "SEED = 42\n",
    "def reset_graph(seed=SEED):\n",
    "    tf.reset_default_graph()\n",
    "    tf.set_random_seed(seed)\n",
    "    np.random.seed(seed)"
   ]
  },
  {
   "cell_type": "code",
   "execution_count": 2,
   "metadata": {},
   "outputs": [
    {
     "name": "stdout",
     "output_type": "stream",
     "text": [
      "TensorFlow Version: 1.2.1\n",
      "Default GPU Device: /gpu:0\n"
     ]
    }
   ],
   "source": [
    "# set log level to supress messages, unless an error\n",
    "os.environ['TF_CPP_MIN_LOG_LEVEL'] = '3'\n",
    "\n",
    "# Check TensorFlow version\n",
    "print('TensorFlow Version: {}'.format(tf.__version__))\n",
    "\n",
    "# Check if using GPU\n",
    "if not tf.test.gpu_device_name():\n",
    "    print('No GPU found')\n",
    "else:\n",
    "    print('Default GPU Device: {}'.format(tf.test.gpu_device_name()))\n",
    "    \n",
    "reset_graph()"
   ]
  },
  {
   "cell_type": "markdown",
   "metadata": {},
   "source": [
    "## Import dataset"
   ]
  },
  {
   "cell_type": "code",
   "execution_count": 3,
   "metadata": {},
   "outputs": [
    {
     "name": "stdout",
     "output_type": "stream",
     "text": [
      "Extracting ../mnist_data/train-images-idx3-ubyte.gz\n",
      "Extracting ../mnist_data/train-labels-idx1-ubyte.gz\n",
      "Extracting ../mnist_data/t10k-images-idx3-ubyte.gz\n",
      "Extracting ../mnist_data/t10k-labels-idx1-ubyte.gz\n"
     ]
    }
   ],
   "source": [
    "from tensorflow.examples.tutorials.mnist import input_data\n",
    "mnist = input_data.read_data_sets('../mnist_data', validation_size=0)"
   ]
  },
  {
   "cell_type": "code",
   "execution_count": 4,
   "metadata": {},
   "outputs": [
    {
     "name": "stdout",
     "output_type": "stream",
     "text": [
      "(60000, 784)\n"
     ]
    }
   ],
   "source": [
    "print(mnist.train.images.shape)"
   ]
  },
  {
   "cell_type": "code",
   "execution_count": 5,
   "metadata": {},
   "outputs": [
    {
     "data": {
      "text/plain": [
       "<matplotlib.image.AxesImage at 0x7f8a47151588>"
      ]
     },
     "execution_count": 5,
     "metadata": {},
     "output_type": "execute_result"
    },
    {
     "data": {
      "image/png": "[encoded data removed]",
      "text/plain": [
       "<matplotlib.figure.Figure at 0x7f8a47a51358>"
      ]
     },
     "metadata": {},
     "output_type": "display_data"
    }
   ],
   "source": [
    "# display, random, single image\n",
    "img = mnist.train.images[np.random.randint(6000, size=1)]\n",
    "\n",
    "# mnist is 28x28 = 784 and is grayscale\n",
    "# meaning, the 784 vector needs to be reshaped to 28,28\n",
    "plt.imshow(img.reshape((28, 28)), cmap='Greys_r')"
   ]
  },
  {
   "cell_type": "markdown",
   "metadata": {},
   "source": [
    "## Building the encoder"
   ]
  },
  {
   "cell_type": "code",
   "execution_count": 6,
   "metadata": {},
   "outputs": [],
   "source": [
    "encoding_dim = 64\n",
    "learning_rate = 0.001\n",
    "img_vect_size = mnist.train.images.shape[1]\n",
    "\n",
    "# input place holders\n",
    "input_vector = tf.placeholder(tf.float32, (None, img_vect_size), name=\"input_vector\")\n",
    "input_target = tf.placeholder(tf.float32, (None, img_vect_size), name=\"input_label\")\n",
    "\n",
    "# --- Model\n",
    "# encoder\n",
    "encoded = tf.layers.dense(input_vector, encoding_dim, activation=tf.nn.relu)\n",
    "\n",
    "# decoder\n",
    "logits = tf.layers.dense(encoded, img_vect_size, activation=None)\n",
    "decoded = tf.nn.sigmoid(logits, name=\"output\")\n",
    "\n",
    "# loss\n",
    "xentropy = tf.nn.sigmoid_cross_entropy_with_logits(labels=input_target, logits=logits)\n",
    "batch_loss = tf.reduce_mean(xentropy)\n",
    "optimizer = tf.train.AdamOptimizer(learning_rate=learning_rate,\n",
    "                                               beta1=0.9,\n",
    "                                               beta2=0.999,\n",
    "                                               epsilon=1e-08,\n",
    "                                               use_locking=False,\n",
    "                                               name='Adam')\n",
    "training_op = optimizer.minimize(batch_loss)\n",
    "\n",
    "# initializer and saver\n",
    "with tf.name_scope(\"save_session\"):\n",
    "    init_global = tf.global_variables_initializer()\n",
    "    init_local = tf.local_variables_initializer()\n",
    "    saver = tf.train.Saver()"
   ]
  },
  {
   "cell_type": "code",
   "execution_count": 7,
   "metadata": {},
   "outputs": [
    {
     "name": "stdout",
     "output_type": "stream",
     "text": [
      "E: 1/16 - loss: 0.6968\n",
      "E: 2/16 - loss: 0.1672\n",
      "E: 3/16 - loss: 0.1355\n",
      "E: 4/16 - loss: 0.1115\n",
      "E: 5/16 - loss: 0.1007\n",
      "E: 6/16 - loss: 0.0916\n",
      "E: 7/16 - loss: 0.0841\n",
      "E: 8/16 - loss: 0.0804\n",
      "E: 9/16 - loss: 0.0797\n",
      "E: 10/16 - loss: 0.0784\n",
      "E: 11/16 - loss: 0.0772\n",
      "E: 12/16 - loss: 0.0755\n",
      "E: 13/16 - loss: 0.0756\n",
      "E: 14/16 - loss: 0.0777\n",
      "E: 15/16 - loss: 0.0734\n",
      "E: 16/16 - loss: 0.0753\n"
     ]
    }
   ],
   "source": [
    "epochs = 16\n",
    "batch_size = 256\n",
    "train_size = mnist.train.num_examples\n",
    "\n",
    "with tf.Session() as sess:\n",
    "    init_global.run()\n",
    "    init_local.run()\n",
    "    for e in range(epochs):\n",
    "        for i in range(train_size//batch_size):\n",
    "            batch_cur = mnist.train.next_batch(batch_size)\n",
    "            feed_dict = {input_vector: batch_cur[0], input_target: batch_cur[0]}\n",
    "            cost_batch, _ = sess.run([batch_loss, training_op], feed_dict=feed_dict)\n",
    "            if i == 0:\n",
    "                print(\"E: {}/{} - loss: {:.4f}\".format(e+1, epochs, cost_batch))\n",
    "    save_path = saver.save(sess, \"./saver/mlp_autoencoder\")"
   ]
  },
  {
   "cell_type": "markdown",
   "metadata": {},
   "source": [
    "## Restore session"
   ]
  },
  {
   "cell_type": "code",
   "execution_count": 8,
   "metadata": {},
   "outputs": [
    {
     "name": "stdout",
     "output_type": "stream",
     "text": [
      "INFO:tensorflow:Restoring parameters from ./saver/mlp_autoencoder\n"
     ]
    }
   ],
   "source": [
    "save_path = \"./saver/mlp_autoencoder\"\n",
    "sess = tf.Session()\n",
    "saver.restore(sess, save_path)"
   ]
  },
  {
   "cell_type": "markdown",
   "metadata": {},
   "source": [
    "### Run the model on a small test set"
   ]
  },
  {
   "cell_type": "code",
   "execution_count": 9,
   "metadata": {},
   "outputs": [
    {
     "name": "stdout",
     "output_type": "stream",
     "text": [
      "done\n"
     ]
    }
   ],
   "source": [
    "start_index = int(np.random.randint(6000, size=1) - 10)\n",
    "in_imgs = mnist.test.images[start_index:start_index+10]\n",
    "\n",
    "# run model\n",
    "reconstructed, compressed = sess.run([decoded, encoded], feed_dict={input_vector: in_imgs})\n",
    "print(\"done\")"
   ]
  },
  {
   "cell_type": "markdown",
   "metadata": {},
   "source": [
    "### Visually inspect\n",
    "The top row is the input (uncompressed) and the bottom row is the image encoded and decoded."
   ]
  },
  {
   "cell_type": "code",
   "execution_count": 10,
   "metadata": {},
   "outputs": [
    {
     "data": {
      "image/png": "[encoded data removed]",
      "text/plain": [
       "<matplotlib.figure.Figure at 0x7f8a470f0400>"
      ]
     },
     "metadata": {},
     "output_type": "display_data"
    }
   ],
   "source": [
    "# plot\n",
    "fig, axes = plt.subplots(nrows=2, ncols=10, sharex=True, sharey=True, figsize=(20,4))\n",
    "for images, row in zip([in_imgs, reconstructed], axes):\n",
    "    for img, ax in zip(images, row):\n",
    "        ax.imshow(img.reshape((28, 28)), cmap='Greys_r')\n",
    "        ax.get_xaxis().set_visible(False)\n",
    "        ax.get_yaxis().set_visible(False)\n",
    "fig.tight_layout(pad=0.1)"
   ]
  },
  {
   "cell_type": "code",
   "execution_count": null,
   "metadata": {
    "collapsed": true
   },
   "outputs": [],
   "source": [
    "sess.close()"
   ]
  }
 ],
 "metadata": {
  "kernelspec": {
   "display_name": "Python 3",
   "language": "python",
   "name": "python3"
  },
  "language_info": {
   "codemirror_mode": {
    "name": "ipython",
    "version": 3
   },
   "file_extension": ".py",
   "mimetype": "text/x-python",
   "name": "python",
   "nbconvert_exporter": "python",
   "pygments_lexer": "ipython3",
   "version": "3.6.5"
  }
 },
 "nbformat": 4,
 "nbformat_minor": 2
}
