{
 "cells": [
  {
   "cell_type": "code",
   "execution_count": 1,
   "metadata": {},
   "outputs": [],
   "source": [
    "import gym"
   ]
  },
  {
   "cell_type": "markdown",
   "metadata": {},
   "source": [
    "## Environment Information\n",
    "### observation_space\n",
    "Information from the environment\n",
    "- can be simple (single values), or complex (multidensional tensors representing images)\n",
    "- Discrete or continuous\n",
    "\n",
    "### action_space\n",
    "Provides a specification for what actions are allowed in the environment\n",
    "\n",
    "\n",
    "## Communicating with the environment\n",
    "### reset()\n",
    "resets the environment to the original space\n",
    "\n",
    "### step\n",
    "passes an action to the environment and returns the result of the action (next observation, local reward, end-of-episode flag)\n",
    "1. tells the env our action\n",
    "1. gets the new observation after the action\n",
    "1. obtain the reward gained\n",
    "1. obtain whether the episode is over\n",
    "\n",
    "returned information\n",
    "- observation\n",
    "    - numpy vector of observation data\n",
    "- reward\n",
    "    - reward (float value)\n",
    "- done\n",
    "    - boolean vector\n",
    "- extra_info\n",
    "    - anything evironment-specific\n",
    "    \n",
    "\n",
    "\n",
    "## Other\n",
    "### render()\n",
    "View information from the environment"
   ]
  },
  {
   "cell_type": "markdown",
   "metadata": {},
   "source": [
    "## High Level overview\n",
    "In a loop:\n",
    "1. call step(action) until the `done` flag is `True`\n",
    "2. call reset to start over\n"
   ]
  },
  {
   "cell_type": "code",
   "execution_count": 5,
   "metadata": {},
   "outputs": [],
   "source": [
    "env = gym.make('CartPole-v0')"
   ]
  },
  {
   "cell_type": "code",
   "execution_count": 6,
   "metadata": {},
   "outputs": [
    {
     "name": "stdout",
     "output_type": "stream",
     "text": [
      "[-0.01668935 -0.02406939 -0.00796092  0.01638959]\n"
     ]
    }
   ],
   "source": [
    "obs = env.reset()\n",
    "print(obs)"
   ]
  },
  {
   "cell_type": "code",
   "execution_count": 8,
   "metadata": {},
   "outputs": [
    {
     "data": {
      "text/plain": [
       "Discrete(2)"
      ]
     },
     "execution_count": 8,
     "metadata": {},
     "output_type": "execute_result"
    }
   ],
   "source": [
    "env.action_space"
   ]
  },
  {
   "cell_type": "code",
   "execution_count": 9,
   "metadata": {},
   "outputs": [
    {
     "data": {
      "text/plain": [
       "Box(4,)"
      ]
     },
     "execution_count": 9,
     "metadata": {},
     "output_type": "execute_result"
    }
   ],
   "source": [
    "env.observation_space"
   ]
  },
  {
   "cell_type": "code",
   "execution_count": null,
   "metadata": {},
   "outputs": [],
   "source": []
  }
 ],
 "metadata": {
  "kernelspec": {
   "display_name": "tf_cpu",
   "language": "python",
   "name": "tf_cpu"
  },
  "language_info": {
   "codemirror_mode": {
    "name": "ipython",
    "version": 3
   },
   "file_extension": ".py",
   "mimetype": "text/x-python",
   "name": "python",
   "nbconvert_exporter": "python",
   "pygments_lexer": "ipython3",
   "version": "3.6.8"
  }
 },
 "nbformat": 4,
 "nbformat_minor": 2
}
