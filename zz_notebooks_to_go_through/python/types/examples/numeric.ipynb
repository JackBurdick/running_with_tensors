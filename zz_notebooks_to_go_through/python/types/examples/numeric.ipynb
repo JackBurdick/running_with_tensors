{
 "cells": [
  {
   "cell_type": "markdown",
   "metadata": {},
   "source": [
    "# Numeric\n",
    "\n",
    "[docs](https://docs.python.org/3/library/stdtypes.html#numeric-types-int-float-complex)\n",
    "- `int` - [docs](https://docs.python.org/3/library/functions.html#int) - \"unlimited precision\"\n",
    "- `float` - [docs](https://docs.python.org/3/library/functions.html#float) \"usually implemented using `double` in C\""
   ]
  },
  {
   "cell_type": "code",
   "execution_count": null,
   "metadata": {},
   "outputs": [],
   "source": []
  }
 ],
 "metadata": {
  "kernelspec": {
   "display_name": "dl_edge",
   "language": "python",
   "name": "dl_edge"
  },
  "language_info": {
   "codemirror_mode": {
    "name": "ipython",
    "version": 3
   },
   "file_extension": ".py",
   "mimetype": "text/x-python",
   "name": "python",
   "nbconvert_exporter": "python",
   "pygments_lexer": "ipython3",
   "version": "3.6.5"
  }
 },
 "nbformat": 4,
 "nbformat_minor": 2
}
