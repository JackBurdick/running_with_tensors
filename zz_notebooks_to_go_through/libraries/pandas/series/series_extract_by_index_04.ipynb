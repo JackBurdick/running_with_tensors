{
 "cells": [
  {
   "cell_type": "code",
   "execution_count": 1,
   "metadata": {},
   "outputs": [],
   "source": [
    "import pandas as pd\n",
    "import os"
   ]
  },
  {
   "cell_type": "markdown",
   "metadata": {},
   "source": [
    "## Obtain different dataset data.gov\n",
    "\n",
    "https://catalog.data.gov/dataset"
   ]
  },
  {
   "cell_type": "code",
   "execution_count": 2,
   "metadata": {},
   "outputs": [],
   "source": [
    "from six.moves import urllib\n",
    "\n",
    "# where the datasets will be placed\n",
    "ROOT_DATA = \"../../../ROOT_DATA/data_gov/\"\n",
    "\n",
    "def fetch_data_from_URL(housing_url, file_name, sub_dir=\"tmp\", root_path=ROOT_DATA):\n",
    "    placement_dir = os.path.join(root_path, sub_dir)\n",
    "    if not os.path.isdir(placement_dir):\n",
    "        os.makedirs(placement_dir)\n",
    "    placement_path = os.path.join(placement_dir, file_name)\n",
    "    # only download if not already present\n",
    "    if not os.path.isfile(placement_path):\n",
    "        urllib.request.urlretrieve(housing_url, placement_path)\n",
    "    return placement_path"
   ]
  },
  {
   "cell_type": "code",
   "execution_count": 3,
   "metadata": {},
   "outputs": [],
   "source": [
    "# .CSV data\n",
    "traffic_csv_path = fetch_data_from_URL(\"https://data.montgomerycountymd.gov/api/views/4mse-ku6q/rows.csv?accessType=DOWNLOAD\",\n",
    "                    \"traffic_violations.csv\", sub_dir=\"traffic\")"
   ]
  },
  {
   "cell_type": "code",
   "execution_count": 4,
   "metadata": {},
   "outputs": [
    {
     "name": "stderr",
     "output_type": "stream",
     "text": [
      "/home/jack/anaconda3/envs/tf_edge/lib/python3.5/site-packages/IPython/core/interactiveshell.py:2728: DtypeWarning: Columns (26) have mixed types. Specify dtype option on import or set low_memory=False.\n",
      "  interactivity=interactivity, compiler=compiler, result=result)\n"
     ]
    },
    {
     "name": "stdout",
     "output_type": "stream",
     "text": [
      "<class 'pandas.core.frame.DataFrame'>\n",
      "RangeIndex: 1251972 entries, 0 to 1251971\n",
      "Data columns (total 35 columns):\n",
      "Date Of Stop               1251972 non-null object\n",
      "Time Of Stop               1251972 non-null object\n",
      "Agency                     1251972 non-null object\n",
      "SubAgency                  1251962 non-null object\n",
      "Description                1251963 non-null object\n",
      "Location                   1251970 non-null object\n",
      "Latitude                   1158178 non-null float64\n",
      "Longitude                  1158178 non-null float64\n",
      "Accident                   1251972 non-null object\n",
      "Belts                      1251972 non-null object\n",
      "Personal Injury            1251972 non-null object\n",
      "Property Damage            1251972 non-null object\n",
      "Fatal                      1251972 non-null object\n",
      "Commercial License         1251972 non-null object\n",
      "HAZMAT                     1251972 non-null object\n",
      "Commercial Vehicle         1251972 non-null object\n",
      "Alcohol                    1251972 non-null object\n",
      "Work Zone                  1251972 non-null object\n",
      "State                      1251913 non-null object\n",
      "VehicleType                1251972 non-null object\n",
      "Year                       1244022 non-null float64\n",
      "Make                       1251915 non-null object\n",
      "Model                      1251786 non-null object\n",
      "Color                      1236136 non-null object\n",
      "Violation Type             1251972 non-null object\n",
      "Charge                     1251972 non-null object\n",
      "Article                    1188862 non-null object\n",
      "Contributed To Accident    1251972 non-null object\n",
      "Race                       1251972 non-null object\n",
      "Gender                     1251972 non-null object\n",
      "Driver City                1251768 non-null object\n",
      "Driver State               1251961 non-null object\n",
      "DL State                   1251043 non-null object\n",
      "Arrest Type                1251972 non-null object\n",
      "Geolocation                1158178 non-null object\n",
      "dtypes: float64(3), object(32)\n",
      "memory usage: 334.3+ MB\n",
      "None\n"
     ]
    }
   ],
   "source": [
    "# read entire file into a dataframe\n",
    "t_df = pd.read_csv(traffic_csv_path)\n",
    "print(t_df.info())"
   ]
  },
  {
   "cell_type": "code",
   "execution_count": 5,
   "metadata": {},
   "outputs": [
    {
     "name": "stdout",
     "output_type": "stream",
     "text": [
      "0     13-401(h)\n",
      "1    21-201(a1)\n",
      "2     21-403(b)\n",
      "3     21-402(b)\n",
      "4    21-405(e1)\n",
      "Name: Charge, dtype: object\n"
     ]
    }
   ],
   "source": [
    "charge_ds = t_df['Charge']\n",
    "print(charge_ds.head())"
   ]
  },
  {
   "cell_type": "markdown",
   "metadata": {},
   "source": [
    "## Extract by index"
   ]
  },
  {
   "cell_type": "code",
   "execution_count": 7,
   "metadata": {},
   "outputs": [
    {
     "name": "stdout",
     "output_type": "stream",
     "text": [
      "21-405(e1)\n"
     ]
    }
   ],
   "source": [
    "print(charge_ds[4])"
   ]
  },
  {
   "cell_type": "code",
   "execution_count": 8,
   "metadata": {},
   "outputs": [
    {
     "name": "stdout",
     "output_type": "stream",
     "text": [
      "1    21-201(a1)\n",
      "3     21-402(b)\n",
      "4    21-405(e1)\n",
      "Name: Charge, dtype: object\n"
     ]
    }
   ],
   "source": [
    "print(charge_ds[[1,3,4]])"
   ]
  },
  {
   "cell_type": "code",
   "execution_count": 10,
   "metadata": {},
   "outputs": [
    {
     "name": "stdout",
     "output_type": "stream",
     "text": [
      "1    21-201(a1)\n",
      "2     21-403(b)\n",
      "Name: Charge, dtype: object\n"
     ]
    }
   ],
   "source": [
    "# second value is exclusive\n",
    "print(charge_ds[1:3])"
   ]
  },
  {
   "cell_type": "code",
   "execution_count": 14,
   "metadata": {},
   "outputs": [
    {
     "name": "stdout",
     "output_type": "stream",
     "text": [
      "1          21-201(a1)\n",
      "9999999           NaN\n",
      "Name: Charge, dtype: object\n"
     ]
    }
   ],
   "source": [
    "# print(charge_ds[9999999]) # does not exist\n",
    "# > KeyError: 9999999\n",
    "print(charge_ds[[1, 9999999]]) # will now return `NaN`"
   ]
  },
  {
   "cell_type": "markdown",
   "metadata": {},
   "source": [
    "### get method"
   ]
  },
  {
   "cell_type": "code",
   "execution_count": 28,
   "metadata": {},
   "outputs": [
    {
     "name": "stdout",
     "output_type": "stream",
     "text": [
      "1    21-201(a1)\n",
      "3     21-402(b)\n",
      "Name: Charge, dtype: object\n"
     ]
    }
   ],
   "source": [
    "print(charge_ds.get(key=[1,3]))"
   ]
  },
  {
   "cell_type": "code",
   "execution_count": 29,
   "metadata": {},
   "outputs": [
    {
     "name": "stdout",
     "output_type": "stream",
     "text": [
      "None\n"
     ]
    }
   ],
   "source": [
    "print(charge_ds.get(key=9999999)) # now will not throw error"
   ]
  },
  {
   "cell_type": "code",
   "execution_count": 30,
   "metadata": {},
   "outputs": [
    {
     "name": "stdout",
     "output_type": "stream",
     "text": [
      "NOT HERE\n"
     ]
    }
   ],
   "source": [
    "# can set default to different value\n",
    "print(charge_ds.get(key=9999999, default=\"NOT HERE\"))"
   ]
  }
 ],
 "metadata": {
  "kernelspec": {
   "display_name": "tf_edge",
   "language": "python",
   "name": "tf_edge"
  },
  "language_info": {
   "codemirror_mode": {
    "name": "ipython",
    "version": 3
   },
   "file_extension": ".py",
   "mimetype": "text/x-python",
   "name": "python",
   "nbconvert_exporter": "python",
   "pygments_lexer": "ipython3",
   "version": "3.5.4"
  }
 },
 "nbformat": 4,
 "nbformat_minor": 2
}
