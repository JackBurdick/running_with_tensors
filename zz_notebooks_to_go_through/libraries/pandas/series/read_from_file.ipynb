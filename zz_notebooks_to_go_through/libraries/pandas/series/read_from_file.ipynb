{
 "cells": [
  {
   "cell_type": "code",
   "execution_count": 1,
   "metadata": {},
   "outputs": [],
   "source": [
    "import pandas as pd\n",
    "import os"
   ]
  },
  {
   "cell_type": "markdown",
   "metadata": {},
   "source": [
    "## Obtain different dataset data.gov\n",
    "\n",
    "https://catalog.data.gov/dataset"
   ]
  },
  {
   "cell_type": "code",
   "execution_count": 2,
   "metadata": {},
   "outputs": [],
   "source": [
    "from six.moves import urllib\n",
    "\n",
    "# where the datasets will be placed\n",
    "ROOT_DATA = \"../../../ROOT_DATA/data_gov/\"\n",
    "\n",
    "def fetch_data_from_URL(housing_url, file_name, sub_dir=\"tmp\", root_path=ROOT_DATA):\n",
    "    placement_dir = os.path.join(root_path, sub_dir)\n",
    "    if not os.path.isdir(placement_dir):\n",
    "        os.makedirs(placement_dir)\n",
    "    placement_path = os.path.join(placement_dir, file_name)\n",
    "    # only download if not already present\n",
    "    if not os.path.isfile(placement_path):\n",
    "        urllib.request.urlretrieve(housing_url, placement_path)\n",
    "    return placement_path"
   ]
  },
  {
   "cell_type": "code",
   "execution_count": 3,
   "metadata": {},
   "outputs": [],
   "source": [
    "# .CSV data\n",
    "ny_csv_path = fetch_data_from_URL(\"https://data.cityofnewyork.us/api/views/kku6-nxdu/rows.csv?accessType=DOWNLOAD\",\n",
    "                    \"data_zip.csv\", sub_dir=\"nyc_demo_zip\")"
   ]
  },
  {
   "cell_type": "code",
   "execution_count": 4,
   "metadata": {},
   "outputs": [
    {
     "name": "stdout",
     "output_type": "stream",
     "text": [
      "<class 'pandas.core.frame.DataFrame'>\n",
      "RangeIndex: 236 entries, 0 to 235\n",
      "Data columns (total 46 columns):\n",
      "JURISDICTION NAME                      236 non-null int64\n",
      "COUNT PARTICIPANTS                     236 non-null int64\n",
      "COUNT FEMALE                           236 non-null int64\n",
      "PERCENT FEMALE                         236 non-null float64\n",
      "COUNT MALE                             236 non-null int64\n",
      "PERCENT MALE                           236 non-null float64\n",
      "COUNT GENDER UNKNOWN                   236 non-null int64\n",
      "PERCENT GENDER UNKNOWN                 236 non-null int64\n",
      "COUNT GENDER TOTAL                     236 non-null int64\n",
      "PERCENT GENDER TOTAL                   236 non-null int64\n",
      "COUNT PACIFIC ISLANDER                 236 non-null int64\n",
      "PERCENT PACIFIC ISLANDER               236 non-null float64\n",
      "COUNT HISPANIC LATINO                  236 non-null int64\n",
      "PERCENT HISPANIC LATINO                236 non-null float64\n",
      "COUNT AMERICAN INDIAN                  236 non-null int64\n",
      "PERCENT AMERICAN INDIAN                236 non-null float64\n",
      "COUNT ASIAN NON HISPANIC               236 non-null int64\n",
      "PERCENT ASIAN NON HISPANIC             236 non-null float64\n",
      "COUNT WHITE NON HISPANIC               236 non-null int64\n",
      "PERCENT WHITE NON HISPANIC             236 non-null float64\n",
      "COUNT BLACK NON HISPANIC               236 non-null int64\n",
      "PERCENT BLACK NON HISPANIC             236 non-null float64\n",
      "COUNT OTHER ETHNICITY                  236 non-null int64\n",
      "PERCENT OTHER ETHNICITY                236 non-null float64\n",
      "COUNT ETHNICITY UNKNOWN                236 non-null int64\n",
      "PERCENT ETHNICITY UNKNOWN              236 non-null float64\n",
      "COUNT ETHNICITY TOTAL                  236 non-null int64\n",
      "PERCENT ETHNICITY TOTAL                236 non-null int64\n",
      "COUNT PERMANENT RESIDENT ALIEN         236 non-null int64\n",
      "PERCENT PERMANENT RESIDENT ALIEN       236 non-null float64\n",
      "COUNT US CITIZEN                       236 non-null int64\n",
      "PERCENT US CITIZEN                     236 non-null float64\n",
      "COUNT OTHER CITIZEN STATUS             236 non-null int64\n",
      "PERCENT OTHER CITIZEN STATUS           236 non-null float64\n",
      "COUNT CITIZEN STATUS UNKNOWN           236 non-null int64\n",
      "PERCENT CITIZEN STATUS UNKNOWN         236 non-null int64\n",
      "COUNT CITIZEN STATUS TOTAL             236 non-null int64\n",
      "PERCENT CITIZEN STATUS TOTAL           236 non-null int64\n",
      "COUNT RECEIVES PUBLIC ASSISTANCE       236 non-null int64\n",
      "PERCENT RECEIVES PUBLIC ASSISTANCE     236 non-null float64\n",
      "COUNT NRECEIVES PUBLIC ASSISTANCE      236 non-null int64\n",
      "PERCENT NRECEIVES PUBLIC ASSISTANCE    236 non-null float64\n",
      "COUNT PUBLIC ASSISTANCE UNKNOWN        236 non-null int64\n",
      "PERCENT PUBLIC ASSISTANCE UNKNOWN      236 non-null int64\n",
      "COUNT PUBLIC ASSISTANCE TOTAL          236 non-null int64\n",
      "PERCENT PUBLIC ASSISTANCE TOTAL        236 non-null int64\n",
      "dtypes: float64(15), int64(31)\n",
      "memory usage: 84.9 KB\n",
      "None\n"
     ]
    }
   ],
   "source": [
    "s_csv = pd.read_csv(ny_csv_path)\n",
    "print(s_csv.info())"
   ]
  },
  {
   "cell_type": "code",
   "execution_count": 5,
   "metadata": {},
   "outputs": [],
   "source": [
    "cdc_csv_path = fetch_data_from_URL(\"https://chronicdata.cdc.gov/api/views/g4ie-h725/rows.csv?accessType=DOWNLOAD\",\n",
    "                                   \"cdi.csv\", sub_dir=\"CDC\")"
   ]
  },
  {
   "cell_type": "code",
   "execution_count": 6,
   "metadata": {},
   "outputs": [
    {
     "name": "stderr",
     "output_type": "stream",
     "text": [
      "/home/jack/anaconda3/envs/tf_edge/lib/python3.5/site-packages/IPython/core/interactiveshell.py:2728: DtypeWarning: Columns (7,10,18,19,20,21,23,30,31,32,33) have mixed types. Specify dtype option on import or set low_memory=False.\n",
      "  interactivity=interactivity, compiler=compiler, result=result)\n"
     ]
    },
    {
     "name": "stdout",
     "output_type": "stream",
     "text": [
      "<class 'pandas.core.frame.DataFrame'>\n",
      "RangeIndex: 523486 entries, 0 to 523485\n",
      "Data columns (total 34 columns):\n",
      "YearStart                    523486 non-null int64\n",
      "YearEnd                      523486 non-null int64\n",
      "LocationAbbr                 523486 non-null object\n",
      "LocationDesc                 523486 non-null object\n",
      "DataSource                   523486 non-null object\n",
      "Topic                        523486 non-null object\n",
      "Question                     523486 non-null object\n",
      "Response                     79152 non-null object\n",
      "DataValueUnit                474116 non-null object\n",
      "DataValueType                523486 non-null object\n",
      "DataValue                    379870 non-null object\n",
      "DataValueAlt                 355728 non-null float64\n",
      "DataValueFootnoteSymbol      225733 non-null object\n",
      "DatavalueFootnote            225567 non-null object\n",
      "LowConfidenceLimit           312900 non-null float64\n",
      "HighConfidenceLimit          312900 non-null float64\n",
      "StratificationCategory1      523486 non-null object\n",
      "Stratification1              523486 non-null object\n",
      "StratificationCategory2      79152 non-null object\n",
      "Stratification2              79152 non-null object\n",
      "StratificationCategory3      79152 non-null object\n",
      "Stratification3              79152 non-null object\n",
      "GeoLocation                  519760 non-null object\n",
      "ResponseID                   79152 non-null object\n",
      "LocationID                   523486 non-null int64\n",
      "TopicID                      523486 non-null object\n",
      "QuestionID                   523486 non-null object\n",
      "DataValueTypeID              523486 non-null object\n",
      "StratificationCategoryID1    523486 non-null object\n",
      "StratificationID1            523486 non-null object\n",
      "StratificationCategoryID2    79153 non-null object\n",
      "StratificationID2            79153 non-null object\n",
      "StratificationCategoryID3    79152 non-null object\n",
      "StratificationID3            79152 non-null object\n",
      "dtypes: float64(3), int64(3), object(28)\n",
      "memory usage: 135.8+ MB\n",
      "None\n"
     ]
    }
   ],
   "source": [
    "s_csv = pd.read_csv(cdc_csv_path)\n",
    "print(s_csv.info())"
   ]
  },
  {
   "cell_type": "code",
   "execution_count": 7,
   "metadata": {},
   "outputs": [],
   "source": [
    "# we'll also get an xls file\n",
    "# working with excel: `conda install -c anaconda xlrd`\n",
    "fsa_xlsx_path = fetch_data_from_URL(\"https://ifap.ed.gov/fedschcodelist/attachments/1617FedSchoolCodeList.xlsx\",\n",
    "                    \"1617FedSchoolCodeList.xlsx\", sub_dir=\"FSA\")"
   ]
  },
  {
   "cell_type": "code",
   "execution_count": 8,
   "metadata": {},
   "outputs": [
    {
     "name": "stdout",
     "output_type": "stream",
     "text": [
      "<class 'pandas.core.frame.DataFrame'>\n",
      "RangeIndex: 6962 entries, 0 to 6961\n",
      "Data columns (total 10 columns):\n",
      "ID            6962 non-null int64\n",
      "SchoolCode    6962 non-null object\n",
      "SchoolName    6962 non-null object\n",
      "Address       6962 non-null object\n",
      "City          6962 non-null object\n",
      "StateCode     6962 non-null object\n",
      "ZipCode       6962 non-null int64\n",
      "Province      111 non-null object\n",
      "Country       402 non-null object\n",
      "PostalCode    229 non-null object\n",
      "dtypes: int64(2), object(8)\n",
      "memory usage: 544.0+ KB\n",
      "None\n"
     ]
    }
   ],
   "source": [
    "s_xlsx = pd.read_excel(fsa_xlsx_path)\n",
    "print(s_xlsx.info())"
   ]
  }
 ],
 "metadata": {
  "kernelspec": {
   "display_name": "tf_edge",
   "language": "python",
   "name": "tf_edge"
  },
  "language_info": {
   "codemirror_mode": {
    "name": "ipython",
    "version": 3
   },
   "file_extension": ".py",
   "mimetype": "text/x-python",
   "name": "python",
   "nbconvert_exporter": "python",
   "pygments_lexer": "ipython3",
   "version": "3.5.4"
  }
 },
 "nbformat": 4,
 "nbformat_minor": 2
}
