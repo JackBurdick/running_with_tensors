{
 "cells": [
  {
   "cell_type": "code",
   "execution_count": 1,
   "metadata": {},
   "outputs": [],
   "source": [
    "import pandas as pd\n",
    "import os"
   ]
  },
  {
   "cell_type": "markdown",
   "metadata": {},
   "source": [
    "## Obtain different dataset data.gov\n",
    "\n",
    "https://catalog.data.gov/dataset"
   ]
  },
  {
   "cell_type": "code",
   "execution_count": 2,
   "metadata": {},
   "outputs": [],
   "source": [
    "from six.moves import urllib\n",
    "\n",
    "# where the datasets will be placed\n",
    "ROOT_DATA = \"../../../ROOT_DATA/data_gov/\"\n",
    "\n",
    "def fetch_data_from_URL(housing_url, file_name, sub_dir=\"tmp\", root_path=ROOT_DATA):\n",
    "    placement_dir = os.path.join(root_path, sub_dir)\n",
    "    if not os.path.isdir(placement_dir):\n",
    "        os.makedirs(placement_dir)\n",
    "    placement_path = os.path.join(placement_dir, file_name)\n",
    "    # only download if not already present\n",
    "    if not os.path.isfile(placement_path):\n",
    "        urllib.request.urlretrieve(housing_url, placement_path)\n",
    "    return placement_path"
   ]
  },
  {
   "cell_type": "code",
   "execution_count": 3,
   "metadata": {},
   "outputs": [],
   "source": [
    "# working with excel: `conda install -c anaconda xlrd`\n",
    "fsa_xlsx_path = fetch_data_from_URL(\"https://ifap.ed.gov/fedschcodelist/attachments/1617FedSchoolCodeList.xlsx\",\n",
    "                    \"1617FedSchoolCodeList.xlsx\", sub_dir=\"FSA\")"
   ]
  },
  {
   "cell_type": "code",
   "execution_count": 4,
   "metadata": {},
   "outputs": [
    {
     "name": "stdout",
     "output_type": "stream",
     "text": [
      "<class 'pandas.core.frame.DataFrame'>\n",
      "Index: 6962 entries, DE to NV\n",
      "Data columns (total 9 columns):\n",
      "ID            6962 non-null int64\n",
      "SchoolCode    6962 non-null object\n",
      "SchoolName    6962 non-null object\n",
      "Address       6962 non-null object\n",
      "City          6962 non-null object\n",
      "ZipCode       6962 non-null int64\n",
      "Province      111 non-null object\n",
      "Country       402 non-null object\n",
      "PostalCode    229 non-null object\n",
      "dtypes: int64(2), object(7)\n",
      "memory usage: 543.9+ KB\n",
      "None\n"
     ]
    }
   ],
   "source": [
    "df = pd.read_excel(fsa_xlsx_path, index_col=\"StateCode\")\n",
    "print(df.info())"
   ]
  },
  {
   "cell_type": "code",
   "execution_count": 5,
   "metadata": {},
   "outputs": [
    {
     "name": "stdout",
     "output_type": "stream",
     "text": [
      "              ID SchoolCode                             SchoolName  \\\n",
      "StateCode                                                            \n",
      "DE         25969     B04724        WIDENER UNIV SCHOOL OF LAW - DE   \n",
      "PR         25970     B06171    CENTER FOR ADVANCED STUDIES OF PUER   \n",
      "TN         25971     B06511       PENTECOSTAL THEOLOGICAL SEMINARY   \n",
      "IL         25972     B07022  THE CHICAGO SCHOOL OF PROF PSYCHOLOGY   \n",
      "OR         25973     B07624   NATIONAL COLLEGE OF NATURAL MEDICINE   \n",
      "\n",
      "                                 Address        City  ZipCode Province  \\\n",
      "StateCode                                                                \n",
      "DE         4601 CONCORD PIKE/PO BOX 7474  WILMINGTON    19803      NaN   \n",
      "PR                            BOX S-4467    SAN JUAN      902      NaN   \n",
      "TN                           PO BOX 3330   CLEVELAND    37320      NaN   \n",
      "IL                325 NORTH WELLS STREET     CHICAGO    60610      NaN   \n",
      "OR                         049 SW PORTER    PORTLAND    97201      NaN   \n",
      "\n",
      "          Country PostalCode  \n",
      "StateCode                     \n",
      "DE            NaN        NaN  \n",
      "PR            NaN        NaN  \n",
      "TN            NaN        NaN  \n",
      "IL            NaN        NaN  \n",
      "OR            NaN        NaN  \n"
     ]
    }
   ],
   "source": [
    "print(df.head())"
   ]
  },
  {
   "cell_type": "code",
   "execution_count": 6,
   "metadata": {},
   "outputs": [
    {
     "name": "stdout",
     "output_type": "stream",
     "text": [
      "ID                                      25969\n",
      "SchoolCode                             B04724\n",
      "SchoolName    WIDENER UNIV SCHOOL OF LAW - DE\n",
      "Address         4601 CONCORD PIKE/PO BOX 7474\n",
      "City                               WILMINGTON\n",
      "ZipCode                                 19803\n",
      "Province                                  NaN\n",
      "Country                                   NaN\n",
      "PostalCode                                NaN\n",
      "Name: DE, dtype: object\n"
     ]
    }
   ],
   "source": [
    "# print(df[0]) will not work here\n",
    "# iloc will return the row for the given index position\n",
    "print(df.iloc[0])"
   ]
  },
  {
   "cell_type": "code",
   "execution_count": 7,
   "metadata": {},
   "outputs": [
    {
     "name": "stdout",
     "output_type": "stream",
     "text": [
      "              ID SchoolCode                           SchoolName  \\\n",
      "StateCode                                                          \n",
      "PR         25970     B06171  CENTER FOR ADVANCED STUDIES OF PUER   \n",
      "MN         25975     B08041         ALFRED ADLER GRADUATE SCHOOL   \n",
      "\n",
      "                                  Address      City  ZipCode Province Country  \\\n",
      "StateCode                                                                       \n",
      "PR                             BOX S-4467  SAN JUAN      902      NaN     NaN   \n",
      "MN         1001 WEST HIGHWAY 7  SUITE 344   HOPKINS    55305      NaN     NaN   \n",
      "\n",
      "          PostalCode  \n",
      "StateCode             \n",
      "PR               NaN  \n",
      "MN               NaN  \n"
     ]
    }
   ],
   "source": [
    "print(df.iloc[[1, 6]])"
   ]
  },
  {
   "cell_type": "code",
   "execution_count": 8,
   "metadata": {},
   "outputs": [
    {
     "name": "stdout",
     "output_type": "stream",
     "text": [
      "              ID SchoolCode                           SchoolName      Address  \\\n",
      "StateCode                                                                       \n",
      "PR         25970     B06171  CENTER FOR ADVANCED STUDIES OF PUER   BOX S-4467   \n",
      "TN         25971     B06511     PENTECOSTAL THEOLOGICAL SEMINARY  PO BOX 3330   \n",
      "\n",
      "                City  ZipCode Province Country PostalCode  \n",
      "StateCode                                                  \n",
      "PR          SAN JUAN      902      NaN     NaN        NaN  \n",
      "TN         CLEVELAND    37320      NaN     NaN        NaN  \n"
     ]
    }
   ],
   "source": [
    "print(df.iloc[1:3])"
   ]
  },
  {
   "cell_type": "markdown",
   "metadata": {},
   "source": [
    "## Second Argument"
   ]
  },
  {
   "cell_type": "code",
   "execution_count": 9,
   "metadata": {},
   "outputs": [
    {
     "name": "stdout",
     "output_type": "stream",
     "text": [
      "SchoolCode        B06171\n",
      "Address       BOX S-4467\n",
      "Name: PR, dtype: object\n"
     ]
    }
   ],
   "source": [
    "print(df.iloc[1, [1,3]])"
   ]
  },
  {
   "cell_type": "code",
   "execution_count": null,
   "metadata": {},
   "outputs": [],
   "source": []
  }
 ],
 "metadata": {
  "kernelspec": {
   "display_name": "tf_edge",
   "language": "python",
   "name": "tf_edge"
  },
  "language_info": {
   "codemirror_mode": {
    "name": "ipython",
    "version": 3
   },
   "file_extension": ".py",
   "mimetype": "text/x-python",
   "name": "python",
   "nbconvert_exporter": "python",
   "pygments_lexer": "ipython3",
   "version": "3.5.4"
  }
 },
 "nbformat": 4,
 "nbformat_minor": 2
}
