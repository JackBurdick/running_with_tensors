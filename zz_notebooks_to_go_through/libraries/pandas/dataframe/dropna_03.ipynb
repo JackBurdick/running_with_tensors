{
 "cells": [
  {
   "cell_type": "code",
   "execution_count": 1,
   "metadata": {},
   "outputs": [],
   "source": [
    "import pandas as pd\n",
    "import os"
   ]
  },
  {
   "cell_type": "markdown",
   "metadata": {},
   "source": [
    "## Obtain different dataset data.gov\n",
    "\n",
    "https://catalog.data.gov/dataset"
   ]
  },
  {
   "cell_type": "code",
   "execution_count": 2,
   "metadata": {},
   "outputs": [],
   "source": [
    "from six.moves import urllib\n",
    "\n",
    "# where the datasets will be placed\n",
    "ROOT_DATA = \"../../../ROOT_DATA/data_gov/\"\n",
    "\n",
    "def fetch_data_from_URL(housing_url, file_name, sub_dir=\"tmp\", root_path=ROOT_DATA):\n",
    "    placement_dir = os.path.join(root_path, sub_dir)\n",
    "    if not os.path.isdir(placement_dir):\n",
    "        os.makedirs(placement_dir)\n",
    "    placement_path = os.path.join(placement_dir, file_name)\n",
    "    # only download if not already present\n",
    "    if not os.path.isfile(placement_path):\n",
    "        urllib.request.urlretrieve(housing_url, placement_path)\n",
    "    return placement_path"
   ]
  },
  {
   "cell_type": "code",
   "execution_count": 8,
   "metadata": {},
   "outputs": [],
   "source": [
    "# .CSV data\n",
    "traffic_csv_path = fetch_data_from_URL(\"https://data.montgomerycountymd.gov/api/views/4mse-ku6q/rows.csv?accessType=DOWNLOAD\",\n",
    "                    \"traffic_violations.csv\", sub_dir=\"traffic\")"
   ]
  },
  {
   "cell_type": "code",
   "execution_count": 9,
   "metadata": {},
   "outputs": [
    {
     "name": "stderr",
     "output_type": "stream",
     "text": [
      "/home/jack/anaconda3/envs/tf_edge/lib/python3.5/site-packages/IPython/core/interactiveshell.py:2728: DtypeWarning: Columns (26) have mixed types. Specify dtype option on import or set low_memory=False.\n",
      "  interactivity=interactivity, compiler=compiler, result=result)\n"
     ]
    },
    {
     "name": "stdout",
     "output_type": "stream",
     "text": [
      "<class 'pandas.core.frame.DataFrame'>\n",
      "RangeIndex: 1251972 entries, 0 to 1251971\n",
      "Data columns (total 35 columns):\n",
      "Date Of Stop               1251972 non-null object\n",
      "Time Of Stop               1251972 non-null object\n",
      "Agency                     1251972 non-null object\n",
      "SubAgency                  1251962 non-null object\n",
      "Description                1251963 non-null object\n",
      "Location                   1251970 non-null object\n",
      "Latitude                   1158178 non-null float64\n",
      "Longitude                  1158178 non-null float64\n",
      "Accident                   1251972 non-null object\n",
      "Belts                      1251972 non-null object\n",
      "Personal Injury            1251972 non-null object\n",
      "Property Damage            1251972 non-null object\n",
      "Fatal                      1251972 non-null object\n",
      "Commercial License         1251972 non-null object\n",
      "HAZMAT                     1251972 non-null object\n",
      "Commercial Vehicle         1251972 non-null object\n",
      "Alcohol                    1251972 non-null object\n",
      "Work Zone                  1251972 non-null object\n",
      "State                      1251913 non-null object\n",
      "VehicleType                1251972 non-null object\n",
      "Year                       1244022 non-null float64\n",
      "Make                       1251915 non-null object\n",
      "Model                      1251786 non-null object\n",
      "Color                      1236136 non-null object\n",
      "Violation Type             1251972 non-null object\n",
      "Charge                     1251972 non-null object\n",
      "Article                    1188862 non-null object\n",
      "Contributed To Accident    1251972 non-null object\n",
      "Race                       1251972 non-null object\n",
      "Gender                     1251972 non-null object\n",
      "Driver City                1251768 non-null object\n",
      "Driver State               1251961 non-null object\n",
      "DL State                   1251043 non-null object\n",
      "Arrest Type                1251972 non-null object\n",
      "Geolocation                1158178 non-null object\n",
      "dtypes: float64(3), object(32)\n",
      "memory usage: 334.3+ MB\n",
      "None\n"
     ]
    }
   ],
   "source": [
    "# read entire file into a dataframe\n",
    "t_df = pd.read_csv(traffic_csv_path)\n",
    "\n",
    "# summmary of dataframe\n",
    "print(t_df.info())"
   ]
  },
  {
   "cell_type": "markdown",
   "metadata": {},
   "source": [
    "## Dropping NaN values"
   ]
  },
  {
   "cell_type": "code",
   "execution_count": 11,
   "metadata": {},
   "outputs": [
    {
     "name": "stdout",
     "output_type": "stream",
     "text": [
      "<class 'pandas.core.frame.DataFrame'>\n",
      "Int64Index: 1083727 entries, 1 to 1251313\n",
      "Data columns (total 35 columns):\n",
      "Date Of Stop               1083727 non-null object\n",
      "Time Of Stop               1083727 non-null object\n",
      "Agency                     1083727 non-null object\n",
      "SubAgency                  1083727 non-null object\n",
      "Description                1083727 non-null object\n",
      "Location                   1083727 non-null object\n",
      "Latitude                   1083727 non-null float64\n",
      "Longitude                  1083727 non-null float64\n",
      "Accident                   1083727 non-null object\n",
      "Belts                      1083727 non-null object\n",
      "Personal Injury            1083727 non-null object\n",
      "Property Damage            1083727 non-null object\n",
      "Fatal                      1083727 non-null object\n",
      "Commercial License         1083727 non-null object\n",
      "HAZMAT                     1083727 non-null object\n",
      "Commercial Vehicle         1083727 non-null object\n",
      "Alcohol                    1083727 non-null object\n",
      "Work Zone                  1083727 non-null object\n",
      "State                      1083727 non-null object\n",
      "VehicleType                1083727 non-null object\n",
      "Year                       1083727 non-null float64\n",
      "Make                       1083727 non-null object\n",
      "Model                      1083727 non-null object\n",
      "Color                      1083727 non-null object\n",
      "Violation Type             1083727 non-null object\n",
      "Charge                     1083727 non-null object\n",
      "Article                    1083727 non-null object\n",
      "Contributed To Accident    1083727 non-null object\n",
      "Race                       1083727 non-null object\n",
      "Gender                     1083727 non-null object\n",
      "Driver City                1083727 non-null object\n",
      "Driver State               1083727 non-null object\n",
      "DL State                   1083727 non-null object\n",
      "Arrest Type                1083727 non-null object\n",
      "Geolocation                1083727 non-null object\n",
      "dtypes: float64(3), object(32)\n",
      "memory usage: 297.7+ MB\n"
     ]
    }
   ],
   "source": [
    "# this will drop all rows with (any) NaN values in ANY column\n",
    "# this does not occur inplace by default\n",
    "t_df.dropna().info()"
   ]
  },
  {
   "cell_type": "code",
   "execution_count": 13,
   "metadata": {},
   "outputs": [
    {
     "name": "stdout",
     "output_type": "stream",
     "text": [
      "<class 'pandas.core.frame.DataFrame'>\n",
      "Int64Index: 1251972 entries, 0 to 1251971\n",
      "Data columns (total 35 columns):\n",
      "Date Of Stop               1251972 non-null object\n",
      "Time Of Stop               1251972 non-null object\n",
      "Agency                     1251972 non-null object\n",
      "SubAgency                  1251962 non-null object\n",
      "Description                1251963 non-null object\n",
      "Location                   1251970 non-null object\n",
      "Latitude                   1158178 non-null float64\n",
      "Longitude                  1158178 non-null float64\n",
      "Accident                   1251972 non-null object\n",
      "Belts                      1251972 non-null object\n",
      "Personal Injury            1251972 non-null object\n",
      "Property Damage            1251972 non-null object\n",
      "Fatal                      1251972 non-null object\n",
      "Commercial License         1251972 non-null object\n",
      "HAZMAT                     1251972 non-null object\n",
      "Commercial Vehicle         1251972 non-null object\n",
      "Alcohol                    1251972 non-null object\n",
      "Work Zone                  1251972 non-null object\n",
      "State                      1251913 non-null object\n",
      "VehicleType                1251972 non-null object\n",
      "Year                       1244022 non-null float64\n",
      "Make                       1251915 non-null object\n",
      "Model                      1251786 non-null object\n",
      "Color                      1236136 non-null object\n",
      "Violation Type             1251972 non-null object\n",
      "Charge                     1251972 non-null object\n",
      "Article                    1188862 non-null object\n",
      "Contributed To Accident    1251972 non-null object\n",
      "Race                       1251972 non-null object\n",
      "Gender                     1251972 non-null object\n",
      "Driver City                1251768 non-null object\n",
      "Driver State               1251961 non-null object\n",
      "DL State                   1251043 non-null object\n",
      "Arrest Type                1251972 non-null object\n",
      "Geolocation                1158178 non-null object\n",
      "dtypes: float64(3), object(32)\n",
      "memory usage: 343.9+ MB\n"
     ]
    }
   ],
   "source": [
    "# how is set to 'any' by default\n",
    "# can also be set to 'all' in which all values have\n",
    "# have to be NaN to be dropped (in this case there are none)\n",
    "t_df.dropna(how='all').info()"
   ]
  },
  {
   "cell_type": "markdown",
   "metadata": {},
   "source": [
    "## Drop columns that contain NaN values"
   ]
  },
  {
   "cell_type": "code",
   "execution_count": 14,
   "metadata": {},
   "outputs": [
    {
     "name": "stdout",
     "output_type": "stream",
     "text": [
      "<class 'pandas.core.frame.DataFrame'>\n",
      "RangeIndex: 1251972 entries, 0 to 1251971\n",
      "Data columns (total 20 columns):\n",
      "Date Of Stop               1251972 non-null object\n",
      "Time Of Stop               1251972 non-null object\n",
      "Agency                     1251972 non-null object\n",
      "Accident                   1251972 non-null object\n",
      "Belts                      1251972 non-null object\n",
      "Personal Injury            1251972 non-null object\n",
      "Property Damage            1251972 non-null object\n",
      "Fatal                      1251972 non-null object\n",
      "Commercial License         1251972 non-null object\n",
      "HAZMAT                     1251972 non-null object\n",
      "Commercial Vehicle         1251972 non-null object\n",
      "Alcohol                    1251972 non-null object\n",
      "Work Zone                  1251972 non-null object\n",
      "VehicleType                1251972 non-null object\n",
      "Violation Type             1251972 non-null object\n",
      "Charge                     1251972 non-null object\n",
      "Contributed To Accident    1251972 non-null object\n",
      "Race                       1251972 non-null object\n",
      "Gender                     1251972 non-null object\n",
      "Arrest Type                1251972 non-null object\n",
      "dtypes: object(20)\n",
      "memory usage: 191.0+ MB\n"
     ]
    }
   ],
   "source": [
    "# `how` parameter again applies\n",
    "t_df.dropna(subset=[\"\"]).info()"
   ]
  },
  {
   "cell_type": "markdown",
   "metadata": {},
   "source": [
    "## Subset"
   ]
  },
  {
   "cell_type": "code",
   "execution_count": 15,
   "metadata": {},
   "outputs": [
    {
     "name": "stdout",
     "output_type": "stream",
     "text": [
      "<class 'pandas.core.frame.DataFrame'>\n",
      "Int64Index: 1251963 entries, 0 to 1251971\n",
      "Data columns (total 35 columns):\n",
      "Date Of Stop               1251963 non-null object\n",
      "Time Of Stop               1251963 non-null object\n",
      "Agency                     1251963 non-null object\n",
      "SubAgency                  1251953 non-null object\n",
      "Description                1251963 non-null object\n",
      "Location                   1251961 non-null object\n",
      "Latitude                   1158171 non-null float64\n",
      "Longitude                  1158171 non-null float64\n",
      "Accident                   1251963 non-null object\n",
      "Belts                      1251963 non-null object\n",
      "Personal Injury            1251963 non-null object\n",
      "Property Damage            1251963 non-null object\n",
      "Fatal                      1251963 non-null object\n",
      "Commercial License         1251963 non-null object\n",
      "HAZMAT                     1251963 non-null object\n",
      "Commercial Vehicle         1251963 non-null object\n",
      "Alcohol                    1251963 non-null object\n",
      "Work Zone                  1251963 non-null object\n",
      "State                      1251904 non-null object\n",
      "VehicleType                1251963 non-null object\n",
      "Year                       1244013 non-null float64\n",
      "Make                       1251906 non-null object\n",
      "Model                      1251777 non-null object\n",
      "Color                      1236127 non-null object\n",
      "Violation Type             1251963 non-null object\n",
      "Charge                     1251963 non-null object\n",
      "Article                    1188853 non-null object\n",
      "Contributed To Accident    1251963 non-null object\n",
      "Race                       1251963 non-null object\n",
      "Gender                     1251963 non-null object\n",
      "Driver City                1251759 non-null object\n",
      "Driver State               1251952 non-null object\n",
      "DL State                   1251034 non-null object\n",
      "Arrest Type                1251963 non-null object\n",
      "Geolocation                1158171 non-null object\n",
      "dtypes: float64(3), object(32)\n",
      "memory usage: 343.9+ MB\n"
     ]
    }
   ],
   "source": [
    "# We'll only drop rows if they contain a `NaN` in the\n",
    "# column `Description`\n",
    "t_df.dropna(subset=[\"Description\"]).info()"
   ]
  },
  {
   "cell_type": "code",
   "execution_count": null,
   "metadata": {},
   "outputs": [],
   "source": []
  }
 ],
 "metadata": {
  "kernelspec": {
   "display_name": "tf_edge",
   "language": "python",
   "name": "tf_edge"
  },
  "language_info": {
   "codemirror_mode": {
    "name": "ipython",
    "version": 3
   },
   "file_extension": ".py",
   "mimetype": "text/x-python",
   "name": "python",
   "nbconvert_exporter": "python",
   "pygments_lexer": "ipython3",
   "version": "3.5.4"
  }
 },
 "nbformat": 4,
 "nbformat_minor": 2
}
