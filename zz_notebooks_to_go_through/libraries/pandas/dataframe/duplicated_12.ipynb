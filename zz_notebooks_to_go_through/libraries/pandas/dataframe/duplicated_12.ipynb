{
 "cells": [
  {
   "cell_type": "code",
   "execution_count": 1,
   "metadata": {},
   "outputs": [],
   "source": [
    "import pandas as pd\n",
    "import os"
   ]
  },
  {
   "cell_type": "markdown",
   "metadata": {},
   "source": [
    "## Obtain different dataset data.gov\n",
    "\n",
    "https://catalog.data.gov/dataset"
   ]
  },
  {
   "cell_type": "code",
   "execution_count": 2,
   "metadata": {},
   "outputs": [],
   "source": [
    "from six.moves import urllib\n",
    "\n",
    "# where the datasets will be placed\n",
    "ROOT_DATA = \"../../../ROOT_DATA/data_gov/\"\n",
    "\n",
    "def fetch_data_from_URL(housing_url, file_name, sub_dir=\"tmp\", root_path=ROOT_DATA):\n",
    "    placement_dir = os.path.join(root_path, sub_dir)\n",
    "    if not os.path.isdir(placement_dir):\n",
    "        os.makedirs(placement_dir)\n",
    "    placement_path = os.path.join(placement_dir, file_name)\n",
    "    # only download if not already present\n",
    "    if not os.path.isfile(placement_path):\n",
    "        urllib.request.urlretrieve(housing_url, placement_path)\n",
    "    return placement_path"
   ]
  },
  {
   "cell_type": "code",
   "execution_count": 3,
   "metadata": {},
   "outputs": [],
   "source": [
    "# .CSV data\n",
    "traffic_csv_path = fetch_data_from_URL(\"https://data.montgomerycountymd.gov/api/views/4mse-ku6q/rows.csv?accessType=DOWNLOAD\",\n",
    "                    \"traffic_violations.csv\", sub_dir=\"traffic\")"
   ]
  },
  {
   "cell_type": "code",
   "execution_count": 4,
   "metadata": {},
   "outputs": [
    {
     "name": "stderr",
     "output_type": "stream",
     "text": [
      "/home/jack/anaconda3/envs/tf_edge/lib/python3.5/site-packages/IPython/core/interactiveshell.py:2728: DtypeWarning: Columns (26) have mixed types. Specify dtype option on import or set low_memory=False.\n",
      "  interactivity=interactivity, compiler=compiler, result=result)\n"
     ]
    },
    {
     "name": "stdout",
     "output_type": "stream",
     "text": [
      "<class 'pandas.core.frame.DataFrame'>\n",
      "RangeIndex: 1251972 entries, 0 to 1251971\n",
      "Data columns (total 35 columns):\n",
      "Date Of Stop               1251972 non-null object\n",
      "Time Of Stop               1251972 non-null object\n",
      "Agency                     1251972 non-null object\n",
      "SubAgency                  1251962 non-null object\n",
      "Description                1251963 non-null object\n",
      "Location                   1251970 non-null object\n",
      "Latitude                   1158178 non-null float64\n",
      "Longitude                  1158178 non-null float64\n",
      "Accident                   1251972 non-null object\n",
      "Belts                      1251972 non-null object\n",
      "Personal Injury            1251972 non-null object\n",
      "Property Damage            1251972 non-null object\n",
      "Fatal                      1251972 non-null object\n",
      "Commercial License         1251972 non-null object\n",
      "HAZMAT                     1251972 non-null object\n",
      "Commercial Vehicle         1251972 non-null object\n",
      "Alcohol                    1251972 non-null object\n",
      "Work Zone                  1251972 non-null object\n",
      "State                      1251913 non-null object\n",
      "VehicleType                1251972 non-null object\n",
      "Year                       1244022 non-null float64\n",
      "Make                       1251915 non-null object\n",
      "Model                      1251786 non-null object\n",
      "Color                      1236136 non-null object\n",
      "Violation Type             1251972 non-null object\n",
      "Charge                     1251972 non-null object\n",
      "Article                    1188862 non-null object\n",
      "Contributed To Accident    1251972 non-null object\n",
      "Race                       1251972 non-null object\n",
      "Gender                     1251972 non-null object\n",
      "Driver City                1251768 non-null object\n",
      "Driver State               1251961 non-null object\n",
      "DL State                   1251043 non-null object\n",
      "Arrest Type                1251972 non-null object\n",
      "Geolocation                1158178 non-null object\n",
      "dtypes: float64(3), object(32)\n",
      "memory usage: 334.3+ MB\n",
      "None\n"
     ]
    }
   ],
   "source": [
    "# read entire file into a dataframe\n",
    "df = pd.read_csv(traffic_csv_path)\n",
    "\n",
    "# summmary of dataframe\n",
    "print(df.info())"
   ]
  },
  {
   "cell_type": "code",
   "execution_count": 6,
   "metadata": {},
   "outputs": [
    {
     "name": "stdout",
     "output_type": "stream",
     "text": [
      "0     09/24/2013\n",
      "1     08/29/2017\n",
      "2     12/01/2014\n",
      "3     08/29/2017\n",
      "4     08/28/2017\n",
      "5     08/27/2013\n",
      "6     10/08/2013\n",
      "7     04/24/2015\n",
      "8     08/28/2017\n",
      "9     08/28/2017\n",
      "10    02/14/2014\n",
      "11    03/19/2012\n",
      "12    06/09/2012\n",
      "13    12/20/2012\n",
      "14    07/20/2012\n",
      "15    09/11/2012\n",
      "16    07/23/2013\n",
      "17    10/28/2013\n",
      "18    08/28/2017\n",
      "19    12/17/2015\n",
      "Name: Date Of Stop, dtype: object\n"
     ]
    }
   ],
   "source": [
    "print(df[\"Date Of Stop\"].head(20))"
   ]
  },
  {
   "cell_type": "markdown",
   "metadata": {},
   "source": [
    "## duplicated()"
   ]
  },
  {
   "cell_type": "code",
   "execution_count": 7,
   "metadata": {},
   "outputs": [
    {
     "data": {
      "text/plain": [
       "0     False\n",
       "1     False\n",
       "2     False\n",
       "3      True\n",
       "4     False\n",
       "5     False\n",
       "6     False\n",
       "7     False\n",
       "8      True\n",
       "9      True\n",
       "10    False\n",
       "11    False\n",
       "12    False\n",
       "13    False\n",
       "14    False\n",
       "15    False\n",
       "16    False\n",
       "17    False\n",
       "18     True\n",
       "19    False\n",
       "Name: Date Of Stop, dtype: bool"
      ]
     },
     "execution_count": 7,
     "metadata": {},
     "output_type": "execute_result"
    }
   ],
   "source": [
    "# keep='first' by default (mark first encounter as false, rest=True)\n",
    "# can also use keep='last'\n",
    "# can also use keep='False', will remove _all_ that are duplicates\n",
    "df[\"Date Of Stop\"].duplicated().head(20)"
   ]
  },
  {
   "cell_type": "code",
   "execution_count": 13,
   "metadata": {},
   "outputs": [
    {
     "name": "stdout",
     "output_type": "stream",
     "text": [
      "Empty DataFrame\n",
      "Columns: [Date Of Stop, Time Of Stop, Agency, SubAgency, Description, Location, Latitude, Longitude, Accident, Belts, Personal Injury, Property Damage, Fatal, Commercial License, HAZMAT, Commercial Vehicle, Alcohol, Work Zone, State, VehicleType, Year, Make, Model, Color, Violation Type, Charge, Article, Contributed To Accident, Race, Gender, Driver City, Driver State, DL State, Arrest Type, Geolocation]\n",
      "Index: []\n",
      "\n",
      "[0 rows x 35 columns]\n"
     ]
    }
   ],
   "source": [
    "# what if we ant all unique\n",
    "# Dates that only occur once\n",
    "mask = ~df[\"Date Of Stop\"].duplicated(keep=False) # negated\n",
    "print(df[mask].head()) # none, in this case"
   ]
  },
  {
   "cell_type": "markdown",
   "metadata": {},
   "source": [
    "## drop_duplicates()\n",
    "\n",
    "Operates on the dataframe. Can use the `keep` and `subset` param. `inplace` also applies"
   ]
  },
  {
   "cell_type": "code",
   "execution_count": 15,
   "metadata": {},
   "outputs": [
    {
     "name": "stdout",
     "output_type": "stream",
     "text": [
      "1251972\n",
      "1250420\n"
     ]
    }
   ],
   "source": [
    "# if a row is exactly the same\n",
    "print(len(df))\n",
    "print(len(df.drop_duplicates()))"
   ]
  },
  {
   "cell_type": "code",
   "execution_count": null,
   "metadata": {},
   "outputs": [],
   "source": [
    "# df.drop_duplicates(subset=[\"\"], keep)"
   ]
  },
  {
   "cell_type": "markdown",
   "metadata": {},
   "source": [
    "## View duplicate Rows"
   ]
  },
  {
   "cell_type": "code",
   "execution_count": 25,
   "metadata": {},
   "outputs": [
    {
     "name": "stdout",
     "output_type": "stream",
     "text": [
      "        Date Of Stop Time Of Stop Agency                    SubAgency  \\\n",
      "441041    07/10/2016     02:16:00    MCP  3rd district, Silver Spring   \n",
      "441043    07/10/2016     02:16:00    MCP  3rd district, Silver Spring   \n",
      "117007    03/02/2014     00:01:00    MCP        4th district, Wheaton   \n",
      "1015543   03/02/2014     00:01:00    MCP        4th district, Wheaton   \n",
      "636634    10/21/2014     11:59:00    MCP     5th district, Germantown   \n",
      "636635    10/21/2014     11:59:00    MCP     5th district, Germantown   \n",
      "47150     09/29/2013     21:27:00    MCP     5th district, Germantown   \n",
      "47697     09/29/2013     21:27:00    MCP     5th district, Germantown   \n",
      "203696    11/02/2013     04:13:00    MCP        4th district, Wheaton   \n",
      "204278    11/02/2013     04:13:00    MCP        4th district, Wheaton   \n",
      "\n",
      "                                               Description  \\\n",
      "441041           ALLOWING UNREG. VEH. TO BE DRIVEN ON HWY.   \n",
      "441043           ALLOWING UNREG. VEH. TO BE DRIVEN ON HWY.   \n",
      "117007   ALLOWING VEH. TO BE DRIVEN ON HWY. WITH SUSPEN...   \n",
      "1015543  ALLOWING VEH. TO BE DRIVEN ON HWY. WITH SUSPEN...   \n",
      "636634   ALLOWING VEHICLE TO BE DRIVEN ON HWY. WITH UNP...   \n",
      "636635   ALLOWING VEHICLE TO BE DRIVEN ON HWY. WITH UNP...   \n",
      "47150    ALLOWING VEHICLE TO BE DRIVEN ON HWY. WITH UNP...   \n",
      "47697    ALLOWING VEHICLE TO BE DRIVEN ON HWY. WITH UNP...   \n",
      "203696   ATTEMPT BY DRIV TO ELUDE POLICE IN OFFCAL POLI...   \n",
      "204278   ATTEMPT BY DRIV TO ELUDE POLICE IN OFFCAL POLI...   \n",
      "\n",
      "                                   Location   Latitude  Longitude Accident  \\\n",
      "441041   NEW HAMPSHIRE AVE @ POWDER MILL RD  39.023210 -76.977902       No   \n",
      "441043   NEW HAMPSHIRE AVE @ POWDER MILL RD  39.023210 -76.977902       No   \n",
      "117007           E RANDOLPH RD/ FAIRLAND RD  39.076835 -76.990925       No   \n",
      "1015543          E RANDOLPH RD/ FAIRLAND RD  39.076835 -76.990925       No   \n",
      "636634           GERMANTOWN RD @ CLOPPER RD  39.166280 -77.281170       No   \n",
      "636635           GERMANTOWN RD @ CLOPPER RD  39.166280 -77.281170       No   \n",
      "47150       VALLEY PARK @ SHELLDRAKE CIRCLE        NaN        NaN       No   \n",
      "47697       VALLEY PARK @ SHELLDRAKE CIRCLE        NaN        NaN       No   \n",
      "203696       NEW HAMPSHIRE AVE @ NORWOOD RD  39.062942 -77.054518       No   \n",
      "204278       NEW HAMPSHIRE AVE @ NORWOOD RD  39.062942 -77.054518       No   \n",
      "\n",
      "        Belts                  ...                        Charge  \\\n",
      "441041     No                  ...                     13-401(c)   \n",
      "441043     No                  ...                     13-401(c)   \n",
      "117007     No                  ...                     13-401(i)   \n",
      "1015543    No                  ...                     13-401(i)   \n",
      "636634     No                  ...                     13-401(e)   \n",
      "636635     No                  ...                     13-401(e)   \n",
      "47150      No                  ...                     13-401(e)   \n",
      "47697      No                  ...                     13-401(e)   \n",
      "203696     No                  ...                    21-904(c3)   \n",
      "204278     No                  ...                    21-904(c3)   \n",
      "\n",
      "                        Article Contributed To Accident      Race Gender  \\\n",
      "441041   Transportation Article                      No     BLACK      M   \n",
      "441043   Transportation Article                      No     BLACK      M   \n",
      "117007   Transportation Article                      No     BLACK      M   \n",
      "1015543  Transportation Article                      No     BLACK      M   \n",
      "636634   Transportation Article                      No     BLACK      F   \n",
      "636635   Transportation Article                      No     BLACK      F   \n",
      "47150    Transportation Article                      No     WHITE      F   \n",
      "47697    Transportation Article                      No     WHITE      F   \n",
      "203696   Transportation Article                     Yes  HISPANIC      M   \n",
      "204278   Transportation Article                     Yes  HISPANIC      M   \n",
      "\n",
      "           Driver City Driver State DL State        Arrest Type  \\\n",
      "441041     BLADENSBURG           MD       MD  A - Marked Patrol   \n",
      "441043     BLADENSBURG           MD       MD  A - Marked Patrol   \n",
      "117007   SILVER SPRING           MD       MD  A - Marked Patrol   \n",
      "1015543  SILVER SPRING           MD       MD  A - Marked Patrol   \n",
      "636634    GAITHERSBURG           MD       MD  A - Marked Patrol   \n",
      "636635    GAITHERSBURG           MD       MD  A - Marked Patrol   \n",
      "47150     GAITHERSBURG           MD       MD  A - Marked Patrol   \n",
      "47697     GAITHERSBURG           MD       MD  A - Marked Patrol   \n",
      "203696           OLNEY           MD       MD  A - Marked Patrol   \n",
      "204278           OLNEY           MD       MD  A - Marked Patrol   \n",
      "\n",
      "                                   Geolocation  \n",
      "441041           (39.02321, -76.9779016666667)  \n",
      "441043           (39.02321, -76.9779016666667)  \n",
      "117007                 (39.076835, -76.990925)  \n",
      "1015543                (39.076835, -76.990925)  \n",
      "636634                   (39.16628, -77.28117)  \n",
      "636635                   (39.16628, -77.28117)  \n",
      "47150                                      NaN  \n",
      "47697                                      NaN  \n",
      "203696   (39.0629416666667, -77.0545183333333)  \n",
      "204278   (39.0629416666667, -77.0545183333333)  \n",
      "\n",
      "[10 rows x 35 columns]\n"
     ]
    },
    {
     "name": "stderr",
     "output_type": "stream",
     "text": [
      "/home/jack/anaconda3/envs/tf_edge/lib/python3.5/site-packages/ipykernel_launcher.py:2: FutureWarning: sort(columns=....) is deprecated, use sort_values(by=.....)\n",
      "  \n"
     ]
    }
   ],
   "source": [
    "mask = df.duplicated(keep=False)\n",
    "print(df[mask].sort([\"Description\", \"Time Of Stop\"]).head(10))"
   ]
  },
  {
   "cell_type": "code",
   "execution_count": null,
   "metadata": {},
   "outputs": [],
   "source": []
  }
 ],
 "metadata": {
  "kernelspec": {
   "display_name": "tf_edge",
   "language": "python",
   "name": "tf_edge"
  },
  "language_info": {
   "codemirror_mode": {
    "name": "ipython",
    "version": 3
   },
   "file_extension": ".py",
   "mimetype": "text/x-python",
   "name": "python",
   "nbconvert_exporter": "python",
   "pygments_lexer": "ipython3",
   "version": "3.5.4"
  }
 },
 "nbformat": 4,
 "nbformat_minor": 2
}
