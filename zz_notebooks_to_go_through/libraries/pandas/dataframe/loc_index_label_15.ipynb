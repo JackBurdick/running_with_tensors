{
 "cells": [
  {
   "cell_type": "code",
   "execution_count": 1,
   "metadata": {},
   "outputs": [],
   "source": [
    "import pandas as pd\n",
    "import os"
   ]
  },
  {
   "cell_type": "markdown",
   "metadata": {},
   "source": [
    "## Obtain different dataset data.gov\n",
    "\n",
    "https://catalog.data.gov/dataset"
   ]
  },
  {
   "cell_type": "code",
   "execution_count": 2,
   "metadata": {},
   "outputs": [],
   "source": [
    "from six.moves import urllib\n",
    "\n",
    "# where the datasets will be placed\n",
    "ROOT_DATA = \"../../../ROOT_DATA/data_gov/\"\n",
    "\n",
    "def fetch_data_from_URL(housing_url, file_name, sub_dir=\"tmp\", root_path=ROOT_DATA):\n",
    "    placement_dir = os.path.join(root_path, sub_dir)\n",
    "    if not os.path.isdir(placement_dir):\n",
    "        os.makedirs(placement_dir)\n",
    "    placement_path = os.path.join(placement_dir, file_name)\n",
    "    # only download if not already present\n",
    "    if not os.path.isfile(placement_path):\n",
    "        urllib.request.urlretrieve(housing_url, placement_path)\n",
    "    return placement_path"
   ]
  },
  {
   "cell_type": "code",
   "execution_count": 3,
   "metadata": {},
   "outputs": [],
   "source": [
    "# working with excel: `conda install -c anaconda xlrd`\n",
    "fsa_xlsx_path = fetch_data_from_URL(\"https://ifap.ed.gov/fedschcodelist/attachments/1617FedSchoolCodeList.xlsx\",\n",
    "                    \"1617FedSchoolCodeList.xlsx\", sub_dir=\"FSA\")"
   ]
  },
  {
   "cell_type": "code",
   "execution_count": 4,
   "metadata": {},
   "outputs": [
    {
     "name": "stdout",
     "output_type": "stream",
     "text": [
      "<class 'pandas.core.frame.DataFrame'>\n",
      "Int64Index: 6962 entries, 25969 to 32930\n",
      "Data columns (total 9 columns):\n",
      "SchoolCode    6962 non-null object\n",
      "SchoolName    6962 non-null object\n",
      "Address       6962 non-null object\n",
      "City          6962 non-null object\n",
      "StateCode     6962 non-null object\n",
      "ZipCode       6962 non-null int64\n",
      "Province      111 non-null object\n",
      "Country       402 non-null object\n",
      "PostalCode    229 non-null object\n",
      "dtypes: int64(1), object(8)\n",
      "memory usage: 543.9+ KB\n",
      "None\n"
     ]
    }
   ],
   "source": [
    "df = pd.read_excel(fsa_xlsx_path, index_col=\"ID\")\n",
    "print(df.info())"
   ]
  },
  {
   "cell_type": "code",
   "execution_count": 5,
   "metadata": {},
   "outputs": [
    {
     "name": "stdout",
     "output_type": "stream",
     "text": [
      "      SchoolCode                             SchoolName  \\\n",
      "ID                                                        \n",
      "25969     B04724        WIDENER UNIV SCHOOL OF LAW - DE   \n",
      "25970     B06171    CENTER FOR ADVANCED STUDIES OF PUER   \n",
      "25971     B06511       PENTECOSTAL THEOLOGICAL SEMINARY   \n",
      "25972     B07022  THE CHICAGO SCHOOL OF PROF PSYCHOLOGY   \n",
      "25973     B07624   NATIONAL COLLEGE OF NATURAL MEDICINE   \n",
      "\n",
      "                             Address        City StateCode  ZipCode Province  \\\n",
      "ID                                                                             \n",
      "25969  4601 CONCORD PIKE/PO BOX 7474  WILMINGTON        DE    19803      NaN   \n",
      "25970                     BOX S-4467    SAN JUAN        PR      902      NaN   \n",
      "25971                    PO BOX 3330   CLEVELAND        TN    37320      NaN   \n",
      "25972         325 NORTH WELLS STREET     CHICAGO        IL    60610      NaN   \n",
      "25973                  049 SW PORTER    PORTLAND        OR    97201      NaN   \n",
      "\n",
      "      Country PostalCode  \n",
      "ID                        \n",
      "25969     NaN        NaN  \n",
      "25970     NaN        NaN  \n",
      "25971     NaN        NaN  \n",
      "25972     NaN        NaN  \n",
      "25973     NaN        NaN  \n"
     ]
    }
   ],
   "source": [
    "print(df.head())"
   ]
  },
  {
   "cell_type": "code",
   "execution_count": 6,
   "metadata": {},
   "outputs": [
    {
     "name": "stdout",
     "output_type": "stream",
     "text": [
      "SchoolCode                             B04724\n",
      "SchoolName    WIDENER UNIV SCHOOL OF LAW - DE\n",
      "Address         4601 CONCORD PIKE/PO BOX 7474\n",
      "City                               WILMINGTON\n",
      "StateCode                                  DE\n",
      "ZipCode                                 19803\n",
      "Province                                  NaN\n",
      "Country                                   NaN\n",
      "PostalCode                                NaN\n",
      "Name: 25969, dtype: object\n"
     ]
    }
   ],
   "source": [
    "# print(df[0]) will not work here\n",
    "print(df.loc[25969])"
   ]
  },
  {
   "cell_type": "markdown",
   "metadata": {},
   "source": [
    "If we have multiple rows with the same index, pandas will return all rows that match the query. Example:"
   ]
  },
  {
   "cell_type": "code",
   "execution_count": 7,
   "metadata": {},
   "outputs": [
    {
     "name": "stdout",
     "output_type": "stream",
     "text": [
      "              ID SchoolCode                             SchoolName  \\\n",
      "StateCode                                                            \n",
      "DE         25969     B04724        WIDENER UNIV SCHOOL OF LAW - DE   \n",
      "PR         25970     B06171    CENTER FOR ADVANCED STUDIES OF PUER   \n",
      "TN         25971     B06511       PENTECOSTAL THEOLOGICAL SEMINARY   \n",
      "IL         25972     B07022  THE CHICAGO SCHOOL OF PROF PSYCHOLOGY   \n",
      "OR         25973     B07624   NATIONAL COLLEGE OF NATURAL MEDICINE   \n",
      "\n",
      "                                 Address        City  ZipCode Province  \\\n",
      "StateCode                                                                \n",
      "DE         4601 CONCORD PIKE/PO BOX 7474  WILMINGTON    19803      NaN   \n",
      "PR                            BOX S-4467    SAN JUAN      902      NaN   \n",
      "TN                           PO BOX 3330   CLEVELAND    37320      NaN   \n",
      "IL                325 NORTH WELLS STREET     CHICAGO    60610      NaN   \n",
      "OR                         049 SW PORTER    PORTLAND    97201      NaN   \n",
      "\n",
      "          Country PostalCode  \n",
      "StateCode                     \n",
      "DE            NaN        NaN  \n",
      "PR            NaN        NaN  \n",
      "TN            NaN        NaN  \n",
      "IL            NaN        NaN  \n",
      "OR            NaN        NaN  \n"
     ]
    }
   ],
   "source": [
    "tmp_df = df.reset_index() # keep the `ID` col\n",
    "tmp_df = tmp_df.set_index(\"StateCode\")\n",
    "print(tmp_df.head())"
   ]
  },
  {
   "cell_type": "code",
   "execution_count": 8,
   "metadata": {},
   "outputs": [
    {
     "name": "stdout",
     "output_type": "stream",
     "text": [
      "              ID SchoolCode                                SchoolName  \\\n",
      "StateCode                                                               \n",
      "DE         25969     B04724           WIDENER UNIV SCHOOL OF LAW - DE   \n",
      "DE         26206     E01080                STAR TECHNICAL INSTITUTE -   \n",
      "DE         27484     001428                 DELAWARE STATE UNIVERSITY   \n",
      "DE         27485     001429                     GOLDEY BEACOM COLLEGE   \n",
      "DE         27486     001431                    UNIVERSITY OF DELAWARE   \n",
      "DE         27487     001433                            WESLEY COLLEGE   \n",
      "DE         29676     007948                     WILMINGTON UNIVERSITY   \n",
      "DE         30139     011727      DELAWARE TECHNICAL COMMUNITY COLLEGE   \n",
      "DE         30756     015477        SCHILLING DOUGLAS SCH OF HAIR DSGN   \n",
      "DE         31263     021252    SCHOOL OF NURSING BEEBE MEDICAL CENTER   \n",
      "DE         31427     030258                      DAWN TRAINING CENTRE   \n",
      "DE         31843     035433                 HARRIS SCHOOL OF BUSINESS   \n",
      "DE         31912     037023  DELAWARE LEARNING INSTITUTE OF COSMETOLO   \n",
      "DE         32209     041307           ACADEMY OF MASSAGE AND BODYWORK   \n",
      "DE         32254     041398          DELAWARE COLLEGE OF ART & DESIGN   \n",
      "DE         32440     041711         PAUL MITCHELL THE SCHOOL-DELAWARE   \n",
      "DE         32887     042503  HAIR ACADEMY SCHOOL OF BARBERING & BEAUT   \n",
      "\n",
      "                                  Address        City  ZipCode Province  \\\n",
      "StateCode                                                                 \n",
      "DE          4601 CONCORD PIKE/PO BOX 7474  WILMINGTON    19803      NaN   \n",
      "DE              BLUE HEN CORPORATE CENTER       DOVER    19901      NaN   \n",
      "DE              1200 NORTH DUPONT HIGHWAY       DOVER    19901      NaN   \n",
      "DE                      4701 LIMESTONE RD  WILMINGTON    19808      NaN   \n",
      "DE                      224 HULLIHEN HALL      NEWARK    19716      NaN   \n",
      "DE                     120 N STATE STREET       DOVER    19901      NaN   \n",
      "DE                   320 N DUPONT HIGHWAY  NEW CASTLE    19720      NaN   \n",
      "DE                   FINANCIAL AID OFFICE       DOVER    19901      NaN   \n",
      "DE                          70 AMSTEL AVE      NEWARK    19711      NaN   \n",
      "DE                      424 SAVANNAH ROAD       LEWES    19958      NaN   \n",
      "DE         3700 LANCASTER PIKE, SUITE 105  WILMINGTON    19805      NaN   \n",
      "DE             1413 FOULK ROAD, SUITE 100  WILMINGTON    19803      NaN   \n",
      "DE         33448 ROYAL BOULEVARD, SUITE A    DAGSBORO    19939      NaN   \n",
      "DE                   1218 PULASKI HIGHWAY        BEAR    19701      NaN   \n",
      "DE                600 NORTH MARKET STREET  WILMINGTON    19801      NaN   \n",
      "DE                   1420 PULASKI HIGHWAY      NEWARK    19702      NaN   \n",
      "DE              1013 SOUTH COLLEGE AVENUE      NEWARK    19713      NaN   \n",
      "\n",
      "          Country PostalCode  \n",
      "StateCode                     \n",
      "DE            NaN        NaN  \n",
      "DE            NaN        NaN  \n",
      "DE            NaN        NaN  \n",
      "DE            NaN        NaN  \n",
      "DE            NaN        NaN  \n",
      "DE            NaN        NaN  \n",
      "DE            NaN        NaN  \n",
      "DE            NaN        NaN  \n",
      "DE            NaN        NaN  \n",
      "DE            NaN        NaN  \n",
      "DE            NaN        NaN  \n",
      "DE            NaN        NaN  \n",
      "DE            NaN        NaN  \n",
      "DE            NaN        NaN  \n",
      "DE            NaN        NaN  \n",
      "DE            NaN        NaN  \n",
      "DE            NaN        NaN  \n"
     ]
    }
   ],
   "source": [
    "print(tmp_df.loc['DE'])"
   ]
  },
  {
   "cell_type": "code",
   "execution_count": 9,
   "metadata": {},
   "outputs": [
    {
     "data": {
      "text/plain": [
       "CA    673\n",
       "NY    452\n",
       "TX    381\n",
       "FL    367\n",
       "FC    326\n",
       "PA    321\n",
       "OH    294\n",
       "IL    268\n",
       "MA    189\n",
       "MI    187\n",
       "MO    182\n",
       "NC    175\n",
       "TN    164\n",
       "VA    147\n",
       "GA    144\n",
       "NJ    143\n",
       "PR    126\n",
       "IN    126\n",
       "LA    118\n",
       "OK    118\n",
       "MN    116\n",
       "WA    109\n",
       "WI    104\n",
       "KY    103\n",
       "CO    100\n",
       "AZ     97\n",
       "SC     97\n",
       "MD     92\n",
       "CT     92\n",
       "IA     90\n",
       "     ... \n",
       "OR     83\n",
       "KS     81\n",
       "WV     73\n",
       "CN     69\n",
       "UT     65\n",
       "MS     56\n",
       "NE     44\n",
       "NM     40\n",
       "ME     39\n",
       "ID     36\n",
       "NV     35\n",
       "NH     35\n",
       "DC     30\n",
       "MT     29\n",
       "SD     28\n",
       "ND     28\n",
       "VT     24\n",
       "HI     22\n",
       "RI     21\n",
       "DE     17\n",
       "AK     10\n",
       "WY     10\n",
       "MX      7\n",
       "GU      3\n",
       "VI      2\n",
       "MP      1\n",
       "FM      1\n",
       "MH      1\n",
       "PW      1\n",
       "AS      1\n",
       "Name: StateCode, dtype: int64"
      ]
     },
     "execution_count": 9,
     "metadata": {},
     "output_type": "execute_result"
    }
   ],
   "source": [
    "tmp_df.index.value_counts()"
   ]
  },
  {
   "cell_type": "code",
   "execution_count": 10,
   "metadata": {},
   "outputs": [
    {
     "name": "stdout",
     "output_type": "stream",
     "text": [
      "              ID SchoolCode                                SchoolName  \\\n",
      "StateCode                                                               \n",
      "AK         27243     001065            UNIVERSITY OF ALASKA SOUTHEAST   \n",
      "AK         30109     011462            UNIVERSITY OF ALASKA ANCHORAGE   \n",
      "AK         27241     001061                 ALASKA PACIFIC UNIVERSITY   \n",
      "AK         31676     031603  AVTEC - ALASKA'S INSTITUTE OF TECHNOLOGY   \n",
      "AK         27242     001063            UNIVERSITY OF ALASKA FAIRBANKS   \n",
      "AK         31260     017377                           CHARTER COLLEGE   \n",
      "AK         31811     034613                         ILISAGVIK COLLEGE   \n",
      "AK         31180     017066                     ALASKA CAREER COLLEGE   \n",
      "AK         30499     014325                      ALASKA BIBLE COLLEGE   \n",
      "AK         32248     041386                  ALASKA CHRISTIAN COLLEGE   \n",
      "AL         30946     016217  PRINCE INSTITUTE OF PROFESSIONAL STUDIES   \n",
      "AL         27223     001030            BISHOP STATE COMMUNITY COLLEGE   \n",
      "AL         32533     041873                        HAIR ACADEMY (THE)   \n",
      "AL         31952     037833                 BLUE CLIFF CAREER COLLEGE   \n",
      "AL         29183     004463             SOUTH UNIVERSITY - MONTGOMERY   \n",
      "AL         32532     041872      NEW BEGINNING COLLEGE OF COSMETOLOGY   \n",
      "AL         32807     E40408  EDWARD VIA VIRGINIA COLLEGE OF OSTEOPATH   \n",
      "AL         30396     013857                SOUTHEASTERN BIBLE COLLEGE   \n",
      "AL         26316     E01434             VIRGINIA COLLEGE - MONTGOMERY   \n",
      "AL         32016     038943                  HUNTSVILLE BIBLE COLLEGE   \n",
      "AL         32893     042294         MIDFIELD INSTITUTE OF COSMETOLOGY   \n",
      "AL         29665     007871           GEORGE C WALLACE STATE CMTY CLG   \n",
      "AL         32626     042110          SALON PROFESSIONAL ACADEMY (THE)   \n",
      "AL         27240     001060          FAULKNER STATE COMMUNITY COLLEGE   \n",
      "AL         31401     030106                          VIRGINIA COLLEGE   \n",
      "AL         29721     008310              AUBURN UNIVERSITY-MONTGOMERY   \n",
      "AL         31446     030325          ALABAMA STATE CLG BARBER STYLING   \n",
      "AL         30735     015370             HERITAGE CHRISTIAN UNIVERSITY   \n",
      "AL         27239     001059            LAWSON STATE COMMUNITY COLLEGE   \n",
      "AL         31758     033614                            FORTIS COLLEGE   \n",
      "...          ...        ...                                       ...   \n",
      "CA         31177     017062                  MTI BUSINESS COLLEGE INC   \n",
      "CA         31176     017061             HYPNOSIS MOTIVATION INSTITUTE   \n",
      "CA         31644     031253       JOHN WESLEY INTER. BARBER & BTY CLG   \n",
      "CA         26418     E01827       UNITED EDUCATION INSTITUTE - ENCINO   \n",
      "CA         31415     030199                          CAPSTONE COLLEGE   \n",
      "CA         31554     030944                MARINELLO SCHOOL OF BEAUTY   \n",
      "CA         26478     E02024           MEDIATECH INSTITUTE - OCEANSIDE   \n",
      "CA         26580     G01120        AMER BAPT SEM OF THE WEST-BERKELEY   \n",
      "CA         26481     E02056      MARINELLO SCHOOLS OF BEAUTY - LOMITA   \n",
      "CA         31524     030782  CALIFORNIA INSTITUTE OF INTEGRAL STUDIES   \n",
      "CA         31541     030847        VENTURA ADULT\\CONTINUING EDUCATION   \n",
      "CA         26468     E01977                     UEI COLLEGE-RIVERSIDE   \n",
      "CA         31544     030874                   ITT TECHNICAL INSTITUTE   \n",
      "CA         31629     031166       EAST SAN GABRIEL VLY REG OCCUP PROG   \n",
      "CA         26581     G01165             CHURCH DIV SCH OF THE PACIFIC   \n",
      "CA         31563     030977         CENTRAL CALIF SCH CONTINUING EDUC   \n",
      "CA         31511     030727            WESTWOOD COLLEGE - LOS ANGELES   \n",
      "CA         31508     030723                           EVEREST COLLEGE   \n",
      "CA         31404     030113              CALIF STATE UNIV, SAN MARCOS   \n",
      "CA         31600     031081                            SUMMIT COLLEGE   \n",
      "CA         31701     032253    AMERICAN UNIVERSITY OF HEALTH SCIENCES   \n",
      "CA         26482     E02057    MARINELLO SCHOOLS OF BEAUTY - EL CAJON   \n",
      "CA         31606     031095           DONGGUK  UNIVERSITY LOS ANGELES   \n",
      "CA         31614     031133                               UEI COLLEGE   \n",
      "CA         31616     031136       SOUTHERN CALIFORNIA INST OF TECHNOL   \n",
      "CA         26487     E02062      MARINELLO SCHOOL OF BEAUTY - SEASIDE   \n",
      "CA         31696     032103   LE CORDON BLEU COLLEGE OF CULINARY ARTS   \n",
      "CA         26486     E02061  MARINELLO SCHOOL OF BEAUTY - BAKERSFIELD   \n",
      "CA         31566     030982       YO SAN UNIV TRADITIONAL CHINESE MED   \n",
      "CA         26578     E40398   HUSSIAN SCHOOL OF ART-RELATIVITY CAMPUS   \n",
      "\n",
      "                                Address             City  ZipCode Province  \\\n",
      "StateCode                                                                    \n",
      "AK                11120 GLACIER HIGHWAY           JUNEAU    99801      NaN   \n",
      "AK                        PO BOX 141608        ANCHORAGE    99514      NaN   \n",
      "AK                4101 UNIVERSITY DRIVE        ANCHORAGE    99508      NaN   \n",
      "AK                    809 SECOND AVENUE           SEWARD    99664      NaN   \n",
      "AK              3RD FLOOR SIGNER'S HALL        FAIRBANKS    99775      NaN   \n",
      "AK          2221 E NORTHERN LIGHTS BLVD        ANCHORAGE    99508      NaN   \n",
      "AK                           PO BOX 749           BARROW    99723      NaN   \n",
      "AK                   1415 E. TUDOR ROAD        ANCHORAGE    99507      NaN   \n",
      "AK                 BOX 289 COLLEGE ROAD       GLENNALLEN    99588      NaN   \n",
      "AK                    35109 ROYAL PLACE         SOLDOTNA    99669      NaN   \n",
      "AL                     7735 ATLANTA HWY       MONTGOMERY    36117      NaN   \n",
      "AL                  351 NO BROAD STREET           MOBILE    36603      NaN   \n",
      "AL                    3150 MCGEHEE ROAD       MONTGOMERY    36111      NaN   \n",
      "AL               2970 COTTAGE HILL ROAD           MOBILE    63306      NaN   \n",
      "AL                     5355 VAUGHN ROAD       MONTGOMERY    36116      NaN   \n",
      "AL                 509 BALTIMORE AVENUE      ALBERTVILLE    35950      NaN   \n",
      "AL                 910 S. DONAHUE DRIVE           AUBURN    36832      NaN   \n",
      "AL                 2545 VALLEYDALE ROAD      BIRIMINGHAM    35244      NaN   \n",
      "AL                 6200 ATLANTA HIGHWAY       MONTGOMERY    36117      NaN   \n",
      "AL                   904 OAKWOOD AVENUE       HUNTSVILLE    35811      NaN   \n",
      "AL                  26 B PHILLIPS DRIVE         MIDFIELD    35228      NaN   \n",
      "AL                          PO BOX 2000       HANCEVILLE    35077      NaN   \n",
      "AL                4925 UNIVERSITY DRIVE       HUNTSVILLE    35816      NaN   \n",
      "AL                 1900 US HWY 31 SOUTH      BAY MINETTE    36507      NaN   \n",
      "AL              488 PALISADES BOULEVARD       BIRMINGHAM    35209      NaN   \n",
      "AL                       P O BOX 244023       MONTGOMERY    36124      NaN   \n",
      "AL                      9480 PARKWAY  E       BIRMINGHAM    35215      NaN   \n",
      "AL                          PO BOX  HCU         FLORENCE    35630      NaN   \n",
      "AL                3060 WILSON ROAD S.W.       BIRMINGHAM    35221      NaN   \n",
      "AL               200 EAST LAUREL AVENUE            FOLEY    36535      NaN   \n",
      "...                                 ...              ...      ...      ...   \n",
      "CA                    6006 N. EL DORADO         STOCKTON    95207      NaN   \n",
      "CA         18607 VENTURA BLVD  STE #310          TARZANA    91356      NaN   \n",
      "CA                      717 PINE AVENUE       LONG BEACH    90813      NaN   \n",
      "CA                5445 BALBOA BOULEVARD           ENCINO    91316      NaN   \n",
      "CA              14547 TITUS ST  STE 100         VAN NUYS    91402      NaN   \n",
      "CA                 5522 GARFIELD AVENUE       SACRAMENTO    95841      NaN   \n",
      "CA              302 OCEANSIDE BOULEVARD        OCEANSIDE    92054      NaN   \n",
      "CA                      2606 DWIGHT WAY         BERKELEY    94704      NaN   \n",
      "CA                2418 LOMITA BOULEVARD           LOMITA    90717      NaN   \n",
      "CA                  455 ARKANSAS STREET    SAN FRANCISCO    94107      NaN   \n",
      "CA                  5200 VALENTINE ROAD          VENTURA    93003      NaN   \n",
      "CA              1860 UNIVERSITY  AVENUE        RIVERSIDE    92507      NaN   \n",
      "CA           20050 SOUTH VERMONT AVENUE         TORRANCE    90502      NaN   \n",
      "CA                 1501 W DEL NORTE AVE      WEST COVINA    91790      NaN   \n",
      "CA                        2451 RIDGE RD         BERKELEY    94709      NaN   \n",
      "CA                     3195 MCMILLAN #F  SAN LUIS OBISPO    93401      NaN   \n",
      "CA              3250 WILSHIRE BOULEVARD      LOS ANGELES    90010      NaN   \n",
      "CA                 1460 S. MILLIKEN AVE          ONTARIO    91761      NaN   \n",
      "CA          333 S TWIN OAKS VALLEY ROAD       SAN MARCOS    92096      NaN   \n",
      "CA               851 SOUTH COOLEY DRIVE           COLTON    92324      NaN   \n",
      "CA         1600 E. HILL STREET, BLDG. 1      SIGNAL HILL    90755      NaN   \n",
      "CA                    841 ARNELE AVENUE         EL CAJON    92020      NaN   \n",
      "CA               440 SOUTH SHATTO PLACE      LOS ANGELES    90020      NaN   \n",
      "CA             1901 EAST SHIELDS AVENUE           FRESNO    93726      NaN   \n",
      "CA           222 SOUTH HARBOR BOULEVARD          ANAHEIM    92805      NaN   \n",
      "CA               1760 FREMONT BOULEVARD          SEASIDE    93955      NaN   \n",
      "CA                521 EAST GREEN STREET         PASADENA    91101      NaN   \n",
      "CA                     3737 MING AVENUE      BAKERSFIELD    93309      NaN   \n",
      "CA           13315 WASHINGTON BOULEVARD      LOS ANGELES    90066      NaN   \n",
      "CA                   1201 W. 5TH STREET      LOS ANGELES    90017      NaN   \n",
      "\n",
      "          Country PostalCode  \n",
      "StateCode                     \n",
      "AK            NaN        NaN  \n",
      "AK            NaN        NaN  \n",
      "AK            NaN        NaN  \n",
      "AK            NaN        NaN  \n",
      "AK            NaN        NaN  \n",
      "AK            NaN        NaN  \n",
      "AK            NaN        NaN  \n",
      "AK            NaN        NaN  \n",
      "AK            NaN        NaN  \n",
      "AK            NaN        NaN  \n",
      "AL            NaN        NaN  \n",
      "AL            NaN        NaN  \n",
      "AL            NaN        NaN  \n",
      "AL            NaN        NaN  \n",
      "AL            NaN        NaN  \n",
      "AL            NaN        NaN  \n",
      "AL            NaN        NaN  \n",
      "AL            NaN        NaN  \n",
      "AL            NaN        NaN  \n",
      "AL            NaN        NaN  \n",
      "AL            NaN        NaN  \n",
      "AL            NaN        NaN  \n",
      "AL            NaN        NaN  \n",
      "AL            NaN        NaN  \n",
      "AL            NaN        NaN  \n",
      "AL            NaN        NaN  \n",
      "AL            NaN        NaN  \n",
      "AL            NaN        NaN  \n",
      "AL            NaN        NaN  \n",
      "AL            NaN        NaN  \n",
      "...           ...        ...  \n",
      "CA            NaN        NaN  \n",
      "CA            NaN        NaN  \n",
      "CA            NaN        NaN  \n",
      "CA            NaN        NaN  \n",
      "CA            NaN        NaN  \n",
      "CA            NaN        NaN  \n",
      "CA            NaN        NaN  \n",
      "CA            NaN        NaN  \n",
      "CA            NaN        NaN  \n",
      "CA            NaN        NaN  \n",
      "CA            NaN        NaN  \n",
      "CA            NaN        NaN  \n",
      "CA            NaN        NaN  \n",
      "CA            NaN        NaN  \n",
      "CA            NaN        NaN  \n",
      "CA            NaN        NaN  \n",
      "CA            NaN        NaN  \n",
      "CA            NaN        NaN  \n",
      "CA            NaN        NaN  \n",
      "CA            NaN        NaN  \n",
      "CA            NaN        NaN  \n",
      "CA            NaN        NaN  \n",
      "CA            NaN        NaN  \n",
      "CA            NaN        NaN  \n",
      "CA            NaN        NaN  \n",
      "CA            NaN        NaN  \n",
      "CA            NaN        NaN  \n",
      "CA            NaN        NaN  \n",
      "CA            NaN        NaN  \n",
      "CA            NaN        NaN  \n",
      "\n",
      "[950 rows x 9 columns]\n"
     ]
    },
    {
     "name": "stderr",
     "output_type": "stream",
     "text": [
      "/home/jack/anaconda3/envs/tf_edge/lib/python3.5/site-packages/ipykernel_launcher.py:3: FutureWarning: sort(....) is deprecated, use sort_index(.....)\n",
      "  This is separate from the ipykernel package so we can avoid doing imports until\n"
     ]
    }
   ],
   "source": [
    "# print(tmp_df.loc['AK': 'CA']) # needs to be sorted first\n",
    "#print(tmp_df.sort().head())\n",
    "print(tmp_df.sort().loc['AK': 'CA'])"
   ]
  },
  {
   "cell_type": "markdown",
   "metadata": {},
   "source": [
    "### Multiple index not next to each other"
   ]
  },
  {
   "cell_type": "code",
   "execution_count": 11,
   "metadata": {},
   "outputs": [
    {
     "name": "stdout",
     "output_type": "stream",
     "text": [
      "              ID SchoolCode                   SchoolName  \\\n",
      "StateCode                                                  \n",
      "PW         30080     011009      PALAU COMMUNITY COLLEGE   \n",
      "FM         29990     010343  COLLEGE OF MICRONESIA - FSM   \n",
      "\n",
      "                                  Address                     City  ZipCode  \\\n",
      "StateCode                                                                     \n",
      "PW         POST OFFICE BOX 9  KOROR PALAU  WESTERN CAROLINA ISLAND    96940   \n",
      "FM                            159 KOLONIA         KOLONIA, POHNPEI    96941   \n",
      "\n",
      "          Province Country PostalCode  \n",
      "StateCode                              \n",
      "PW             NaN     NaN        NaN  \n",
      "FM             NaN     NaN        NaN  \n"
     ]
    }
   ],
   "source": [
    "print(tmp_df.loc[['PW', 'FM']])"
   ]
  },
  {
   "cell_type": "code",
   "execution_count": 12,
   "metadata": {},
   "outputs": [
    {
     "name": "stdout",
     "output_type": "stream",
     "text": [
      "                ID SchoolCode                   SchoolName  \\\n",
      "StateCode                                                    \n",
      "PW         30080.0     011009      PALAU COMMUNITY COLLEGE   \n",
      "FM         29990.0     010343  COLLEGE OF MICRONESIA - FSM   \n",
      "ZZ             NaN        NaN                          NaN   \n",
      "\n",
      "                                  Address                     City  ZipCode  \\\n",
      "StateCode                                                                     \n",
      "PW         POST OFFICE BOX 9  KOROR PALAU  WESTERN CAROLINA ISLAND  96940.0   \n",
      "FM                            159 KOLONIA         KOLONIA, POHNPEI  96941.0   \n",
      "ZZ                                    NaN                      NaN      NaN   \n",
      "\n",
      "          Province Country PostalCode  \n",
      "StateCode                              \n",
      "PW             NaN     NaN        NaN  \n",
      "FM             NaN     NaN        NaN  \n",
      "ZZ             NaN     NaN        NaN  \n"
     ]
    }
   ],
   "source": [
    "# if not included, it will be 'created'\n",
    "print(tmp_df.loc[['PW', 'FM', 'ZZ']])"
   ]
  },
  {
   "cell_type": "code",
   "execution_count": 13,
   "metadata": {},
   "outputs": [
    {
     "name": "stdout",
     "output_type": "stream",
     "text": [
      "False\n"
     ]
    }
   ],
   "source": [
    "# can check for inclusion\n",
    "print(\"ZZ\" in tmp_df.index)"
   ]
  },
  {
   "cell_type": "markdown",
   "metadata": {},
   "source": [
    "## Second Argument"
   ]
  },
  {
   "cell_type": "code",
   "execution_count": 14,
   "metadata": {},
   "outputs": [
    {
     "name": "stdout",
     "output_type": "stream",
     "text": [
      "ID             30080\n",
      "SchoolCode    011009\n",
      "Name: PW, dtype: object\n"
     ]
    }
   ],
   "source": [
    "# will return the specified columns\n",
    "print(tmp_df.loc['PW', [\"ID\", \"SchoolCode\"]])"
   ]
  },
  {
   "cell_type": "code",
   "execution_count": null,
   "metadata": {},
   "outputs": [],
   "source": []
  }
 ],
 "metadata": {
  "kernelspec": {
   "display_name": "tf_edge",
   "language": "python",
   "name": "tf_edge"
  },
  "language_info": {
   "codemirror_mode": {
    "name": "ipython",
    "version": 3
   },
   "file_extension": ".py",
   "mimetype": "text/x-python",
   "name": "python",
   "nbconvert_exporter": "python",
   "pygments_lexer": "ipython3",
   "version": "3.5.4"
  }
 },
 "nbformat": 4,
 "nbformat_minor": 2
}
