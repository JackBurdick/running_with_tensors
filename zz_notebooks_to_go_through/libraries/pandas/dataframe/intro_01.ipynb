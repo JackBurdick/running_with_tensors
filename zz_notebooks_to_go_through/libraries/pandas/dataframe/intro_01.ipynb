{
 "cells": [
  {
   "cell_type": "code",
   "execution_count": 1,
   "metadata": {},
   "outputs": [],
   "source": [
    "import pandas as pd\n",
    "import os"
   ]
  },
  {
   "cell_type": "markdown",
   "metadata": {},
   "source": [
    "## Obtain different dataset data.gov\n",
    "\n",
    "https://catalog.data.gov/dataset"
   ]
  },
  {
   "cell_type": "code",
   "execution_count": 2,
   "metadata": {},
   "outputs": [],
   "source": [
    "from six.moves import urllib\n",
    "\n",
    "# where the datasets will be placed\n",
    "ROOT_DATA = \"../../../ROOT_DATA/data_gov/\"\n",
    "\n",
    "def fetch_data_from_URL(housing_url, file_name, sub_dir=\"tmp\", root_path=ROOT_DATA):\n",
    "    placement_dir = os.path.join(root_path, sub_dir)\n",
    "    if not os.path.isdir(placement_dir):\n",
    "        os.makedirs(placement_dir)\n",
    "    placement_path = os.path.join(placement_dir, file_name)\n",
    "    # only download if not already present\n",
    "    if not os.path.isfile(placement_path):\n",
    "        urllib.request.urlretrieve(housing_url, placement_path)\n",
    "    return placement_path"
   ]
  },
  {
   "cell_type": "code",
   "execution_count": 3,
   "metadata": {},
   "outputs": [],
   "source": [
    "# .CSV data\n",
    "traffic_csv_path = fetch_data_from_URL(\"https://data.montgomerycountymd.gov/api/views/4mse-ku6q/rows.csv?accessType=DOWNLOAD\",\n",
    "                    \"traffic_violations.csv\", sub_dir=\"traffic\")"
   ]
  },
  {
   "cell_type": "code",
   "execution_count": 4,
   "metadata": {},
   "outputs": [
    {
     "name": "stderr",
     "output_type": "stream",
     "text": [
      "/home/jack/anaconda3/envs/tf_edge/lib/python3.5/site-packages/IPython/core/interactiveshell.py:2728: DtypeWarning: Columns (26) have mixed types. Specify dtype option on import or set low_memory=False.\n",
      "  interactivity=interactivity, compiler=compiler, result=result)\n"
     ]
    },
    {
     "name": "stdout",
     "output_type": "stream",
     "text": [
      "<class 'pandas.core.frame.DataFrame'>\n",
      "RangeIndex: 1251972 entries, 0 to 1251971\n",
      "Data columns (total 35 columns):\n",
      "Date Of Stop               1251972 non-null object\n",
      "Time Of Stop               1251972 non-null object\n",
      "Agency                     1251972 non-null object\n",
      "SubAgency                  1251962 non-null object\n",
      "Description                1251963 non-null object\n",
      "Location                   1251970 non-null object\n",
      "Latitude                   1158178 non-null float64\n",
      "Longitude                  1158178 non-null float64\n",
      "Accident                   1251972 non-null object\n",
      "Belts                      1251972 non-null object\n",
      "Personal Injury            1251972 non-null object\n",
      "Property Damage            1251972 non-null object\n",
      "Fatal                      1251972 non-null object\n",
      "Commercial License         1251972 non-null object\n",
      "HAZMAT                     1251972 non-null object\n",
      "Commercial Vehicle         1251972 non-null object\n",
      "Alcohol                    1251972 non-null object\n",
      "Work Zone                  1251972 non-null object\n",
      "State                      1251913 non-null object\n",
      "VehicleType                1251972 non-null object\n",
      "Year                       1244022 non-null float64\n",
      "Make                       1251915 non-null object\n",
      "Model                      1251786 non-null object\n",
      "Color                      1236136 non-null object\n",
      "Violation Type             1251972 non-null object\n",
      "Charge                     1251972 non-null object\n",
      "Article                    1188862 non-null object\n",
      "Contributed To Accident    1251972 non-null object\n",
      "Race                       1251972 non-null object\n",
      "Gender                     1251972 non-null object\n",
      "Driver City                1251768 non-null object\n",
      "Driver State               1251961 non-null object\n",
      "DL State                   1251043 non-null object\n",
      "Arrest Type                1251972 non-null object\n",
      "Geolocation                1158178 non-null object\n",
      "dtypes: float64(3), object(32)\n",
      "memory usage: 334.3+ MB\n",
      "None\n"
     ]
    }
   ],
   "source": [
    "# read entire file into a dataframe\n",
    "t_df = pd.read_csv(traffic_csv_path)\n",
    "\n",
    "# summmary of dataframe\n",
    "print(t_df.info())"
   ]
  },
  {
   "cell_type": "markdown",
   "metadata": {},
   "source": [
    "## Viewing Index (labels) and values"
   ]
  },
  {
   "cell_type": "code",
   "execution_count": 5,
   "metadata": {},
   "outputs": [
    {
     "name": "stdout",
     "output_type": "stream",
     "text": [
      "RangeIndex(start=0, stop=1251972, step=1)\n"
     ]
    }
   ],
   "source": [
    "print(t_df.index)"
   ]
  },
  {
   "cell_type": "code",
   "execution_count": 6,
   "metadata": {},
   "outputs": [
    {
     "name": "stdout",
     "output_type": "stream",
     "text": [
      "[['09/24/2013' '17:11:00' 'MCP' ..., 'MD' 'A - Marked Patrol' nan]\n",
      " ['08/29/2017' '10:19:00' 'MCP' ..., 'VA' 'A - Marked Patrol'\n",
      "  '(38.981725, -77.0927566666667)']\n",
      " ['12/01/2014' '12:52:00' 'MCP' ..., 'MD' 'A - Marked Patrol'\n",
      "  '(39.1628883333333, -77.2290883333333)']\n",
      " ..., \n",
      " ['12/15/2012' '00:30:00' 'MCP' ..., 'MD' 'A - Marked Patrol'\n",
      "  '(39.1527700833333, -77.2202923833333)']\n",
      " ['12/16/2012' '22:55:00' 'MCP' ..., 'MD' 'A - Marked Patrol'\n",
      "  '(39.0800610666667, -77.0743472)']\n",
      " ['12/21/2012' '23:47:00' 'MCP' ..., 'MD' 'A - Marked Patrol'\n",
      "  '(39.0171391166667, -77.0063790833333)']]\n"
     ]
    }
   ],
   "source": [
    "print(t_df.values)"
   ]
  },
  {
   "cell_type": "code",
   "execution_count": 7,
   "metadata": {},
   "outputs": [
    {
     "name": "stdout",
     "output_type": "stream",
     "text": [
      "(1251972, 35)\n"
     ]
    }
   ],
   "source": [
    "# rows x columnds\n",
    "print(t_df.shape)"
   ]
  },
  {
   "cell_type": "code",
   "execution_count": 8,
   "metadata": {},
   "outputs": [
    {
     "name": "stdout",
     "output_type": "stream",
     "text": [
      "Date Of Stop                object\n",
      "Time Of Stop                object\n",
      "Agency                      object\n",
      "SubAgency                   object\n",
      "Description                 object\n",
      "Location                    object\n",
      "Latitude                   float64\n",
      "Longitude                  float64\n",
      "Accident                    object\n",
      "Belts                       object\n",
      "Personal Injury             object\n",
      "Property Damage             object\n",
      "Fatal                       object\n",
      "Commercial License          object\n",
      "HAZMAT                      object\n",
      "Commercial Vehicle          object\n",
      "Alcohol                     object\n",
      "Work Zone                   object\n",
      "State                       object\n",
      "VehicleType                 object\n",
      "Year                       float64\n",
      "Make                        object\n",
      "Model                       object\n",
      "Color                       object\n",
      "Violation Type              object\n",
      "Charge                      object\n",
      "Article                     object\n",
      "Contributed To Accident     object\n",
      "Race                        object\n",
      "Gender                      object\n",
      "Driver City                 object\n",
      "Driver State                object\n",
      "DL State                    object\n",
      "Arrest Type                 object\n",
      "Geolocation                 object\n",
      "dtype: object\n"
     ]
    }
   ],
   "source": [
    "# The type of each column\n",
    "print(t_df.dtypes)"
   ]
  },
  {
   "cell_type": "code",
   "execution_count": 9,
   "metadata": {},
   "outputs": [
    {
     "name": "stdout",
     "output_type": "stream",
     "text": [
      "Index(['Date Of Stop', 'Time Of Stop', 'Agency', 'SubAgency', 'Description',\n",
      "       'Location', 'Latitude', 'Longitude', 'Accident', 'Belts',\n",
      "       'Personal Injury', 'Property Damage', 'Fatal', 'Commercial License',\n",
      "       'HAZMAT', 'Commercial Vehicle', 'Alcohol', 'Work Zone', 'State',\n",
      "       'VehicleType', 'Year', 'Make', 'Model', 'Color', 'Violation Type',\n",
      "       'Charge', 'Article', 'Contributed To Accident', 'Race', 'Gender',\n",
      "       'Driver City', 'Driver State', 'DL State', 'Arrest Type',\n",
      "       'Geolocation'],\n",
      "      dtype='object')\n"
     ]
    }
   ],
   "source": [
    "# the column names\n",
    "print(t_df.columns)"
   ]
  },
  {
   "cell_type": "code",
   "execution_count": 10,
   "metadata": {},
   "outputs": [
    {
     "name": "stdout",
     "output_type": "stream",
     "text": [
      "[RangeIndex(start=0, stop=1251972, step=1), Index(['Date Of Stop', 'Time Of Stop', 'Agency', 'SubAgency', 'Description',\n",
      "       'Location', 'Latitude', 'Longitude', 'Accident', 'Belts',\n",
      "       'Personal Injury', 'Property Damage', 'Fatal', 'Commercial License',\n",
      "       'HAZMAT', 'Commercial Vehicle', 'Alcohol', 'Work Zone', 'State',\n",
      "       'VehicleType', 'Year', 'Make', 'Model', 'Color', 'Violation Type',\n",
      "       'Charge', 'Article', 'Contributed To Accident', 'Race', 'Gender',\n",
      "       'Driver City', 'Driver State', 'DL State', 'Arrest Type',\n",
      "       'Geolocation'],\n",
      "      dtype='object')]\n"
     ]
    }
   ],
   "source": [
    "# [rows, columns]\n",
    "print(t_df.axes)"
   ]
  },
  {
   "cell_type": "code",
   "execution_count": 11,
   "metadata": {},
   "outputs": [
    {
     "name": "stdout",
     "output_type": "stream",
     "text": [
      "float64     3\n",
      "object     32\n",
      "dtype: int64\n"
     ]
    }
   ],
   "source": [
    "# counts of each datatype\n",
    "print(t_df.get_dtype_counts())"
   ]
  },
  {
   "cell_type": "code",
   "execution_count": null,
   "metadata": {},
   "outputs": [],
   "source": []
  }
 ],
 "metadata": {
  "kernelspec": {
   "display_name": "tf_edge",
   "language": "python",
   "name": "tf_edge"
  },
  "language_info": {
   "codemirror_mode": {
    "name": "ipython",
    "version": 3
   },
   "file_extension": ".py",
   "mimetype": "text/x-python",
   "name": "python",
   "nbconvert_exporter": "python",
   "pygments_lexer": "ipython3",
   "version": "3.5.4"
  }
 },
 "nbformat": 4,
 "nbformat_minor": 2
}
