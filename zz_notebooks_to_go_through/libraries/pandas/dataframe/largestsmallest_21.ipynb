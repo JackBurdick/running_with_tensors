{
 "cells": [
  {
   "cell_type": "code",
   "execution_count": 1,
   "metadata": {
    "collapsed": true
   },
   "outputs": [],
   "source": [
    "import pandas as pd\n",
    "import os"
   ]
  },
  {
   "cell_type": "markdown",
   "metadata": {},
   "source": [
    "## Obtain different dataset data.gov\n",
    "\n",
    "https://catalog.data.gov/dataset"
   ]
  },
  {
   "cell_type": "code",
   "execution_count": 2,
   "metadata": {
    "collapsed": true
   },
   "outputs": [],
   "source": [
    "from six.moves import urllib\n",
    "\n",
    "# where the datasets will be placed\n",
    "ROOT_DATA = \"../../../ROOT_DATA/data_gov/\"\n",
    "\n",
    "def fetch_data_from_URL(housing_url, file_name, sub_dir=\"tmp\", root_path=ROOT_DATA):\n",
    "    placement_dir = os.path.join(root_path, sub_dir)\n",
    "    if not os.path.isdir(placement_dir):\n",
    "        os.makedirs(placement_dir)\n",
    "    placement_path = os.path.join(placement_dir, file_name)\n",
    "    # only download if not already present\n",
    "    if not os.path.isfile(placement_path):\n",
    "        urllib.request.urlretrieve(housing_url, placement_path)\n",
    "    return placement_path"
   ]
  },
  {
   "cell_type": "code",
   "execution_count": 3,
   "metadata": {
    "collapsed": true
   },
   "outputs": [],
   "source": [
    "# .CSV data\n",
    "la_csv_path = fetch_data_from_URL(\"https://data.lacity.org/api/views/nxs9-385f/rows.csv?accessType=DOWNLOAD\",\n",
    "                    \"2010.csv\", sub_dir=\"la_cencus\")"
   ]
  },
  {
   "cell_type": "code",
   "execution_count": 4,
   "metadata": {},
   "outputs": [
    {
     "name": "stdout",
     "output_type": "stream",
     "text": [
      "<class 'pandas.core.frame.DataFrame'>\n",
      "RangeIndex: 319 entries, 0 to 318\n",
      "Data columns (total 7 columns):\n",
      "Zip Code                  319 non-null int64\n",
      "Total Population          319 non-null int64\n",
      "Median Age                319 non-null float64\n",
      "Total Males               319 non-null int64\n",
      "Total Females             319 non-null int64\n",
      "Total Households          319 non-null int64\n",
      "Average Household Size    319 non-null float64\n",
      "dtypes: float64(2), int64(5)\n",
      "memory usage: 17.5 KB\n",
      "None\n"
     ]
    }
   ],
   "source": [
    "# read entire file into a dataframe\n",
    "df = pd.read_csv(la_csv_path)\n",
    "\n",
    "# summmary of dataframe\n",
    "print(df.info())"
   ]
  },
  {
   "cell_type": "code",
   "execution_count": 5,
   "metadata": {},
   "outputs": [
    {
     "data": {
      "text/html": [
       "<div>\n",
       "<table border=\"1\" class=\"dataframe\">\n",
       "  <thead>\n",
       "    <tr style=\"text-align: right;\">\n",
       "      <th></th>\n",
       "      <th>Zip Code</th>\n",
       "      <th>Total Population</th>\n",
       "      <th>Median Age</th>\n",
       "      <th>Total Males</th>\n",
       "      <th>Total Females</th>\n",
       "      <th>Total Households</th>\n",
       "      <th>Average Household Size</th>\n",
       "    </tr>\n",
       "  </thead>\n",
       "  <tbody>\n",
       "    <tr>\n",
       "      <th>180</th>\n",
       "      <td>91046</td>\n",
       "      <td>156</td>\n",
       "      <td>74.0</td>\n",
       "      <td>51</td>\n",
       "      <td>105</td>\n",
       "      <td>114</td>\n",
       "      <td>1.37</td>\n",
       "    </tr>\n",
       "    <tr>\n",
       "      <th>0</th>\n",
       "      <td>91371</td>\n",
       "      <td>1</td>\n",
       "      <td>73.5</td>\n",
       "      <td>0</td>\n",
       "      <td>1</td>\n",
       "      <td>1</td>\n",
       "      <td>1.00</td>\n",
       "    </tr>\n",
       "    <tr>\n",
       "      <th>58</th>\n",
       "      <td>90067</td>\n",
       "      <td>2424</td>\n",
       "      <td>65.3</td>\n",
       "      <td>1074</td>\n",
       "      <td>1350</td>\n",
       "      <td>1510</td>\n",
       "      <td>1.61</td>\n",
       "    </tr>\n",
       "  </tbody>\n",
       "</table>\n",
       "</div>"
      ],
      "text/plain": [
       "     Zip Code  Total Population  Median Age  Total Males  Total Females  \\\n",
       "180     91046               156        74.0           51            105   \n",
       "0       91371                 1        73.5            0              1   \n",
       "58      90067              2424        65.3         1074           1350   \n",
       "\n",
       "     Total Households  Average Household Size  \n",
       "180               114                    1.37  \n",
       "0                   1                    1.00  \n",
       "58               1510                    1.61  "
      ]
     },
     "execution_count": 5,
     "metadata": {},
     "output_type": "execute_result"
    }
   ],
   "source": [
    "df.sort_values(\"Median Age\", ascending=False).head(3)"
   ]
  },
  {
   "cell_type": "code",
   "execution_count": 6,
   "metadata": {},
   "outputs": [
    {
     "data": {
      "text/html": [
       "<div>\n",
       "<table border=\"1\" class=\"dataframe\">\n",
       "  <thead>\n",
       "    <tr style=\"text-align: right;\">\n",
       "      <th></th>\n",
       "      <th>Zip Code</th>\n",
       "      <th>Total Population</th>\n",
       "      <th>Median Age</th>\n",
       "      <th>Total Males</th>\n",
       "      <th>Total Females</th>\n",
       "      <th>Total Households</th>\n",
       "      <th>Average Household Size</th>\n",
       "    </tr>\n",
       "  </thead>\n",
       "  <tbody>\n",
       "    <tr>\n",
       "      <th>180</th>\n",
       "      <td>91046</td>\n",
       "      <td>156</td>\n",
       "      <td>74.0</td>\n",
       "      <td>51</td>\n",
       "      <td>105</td>\n",
       "      <td>114</td>\n",
       "      <td>1.37</td>\n",
       "    </tr>\n",
       "    <tr>\n",
       "      <th>0</th>\n",
       "      <td>91371</td>\n",
       "      <td>1</td>\n",
       "      <td>73.5</td>\n",
       "      <td>0</td>\n",
       "      <td>1</td>\n",
       "      <td>1</td>\n",
       "      <td>1.00</td>\n",
       "    </tr>\n",
       "    <tr>\n",
       "      <th>58</th>\n",
       "      <td>90067</td>\n",
       "      <td>2424</td>\n",
       "      <td>65.3</td>\n",
       "      <td>1074</td>\n",
       "      <td>1350</td>\n",
       "      <td>1510</td>\n",
       "      <td>1.61</td>\n",
       "    </tr>\n",
       "  </tbody>\n",
       "</table>\n",
       "</div>"
      ],
      "text/plain": [
       "     Zip Code  Total Population  Median Age  Total Males  Total Females  \\\n",
       "180     91046               156        74.0           51            105   \n",
       "0       91371                 1        73.5            0              1   \n",
       "58      90067              2424        65.3         1074           1350   \n",
       "\n",
       "     Total Households  Average Household Size  \n",
       "180               114                    1.37  \n",
       "0                   1                    1.00  \n",
       "58               1510                    1.61  "
      ]
     },
     "execution_count": 6,
     "metadata": {},
     "output_type": "execute_result"
    }
   ],
   "source": [
    "df.nlargest(3, columns=\"Median Age\")\n",
    "# equivalent = df[\"Median Age\"].nlargest(3)"
   ]
  },
  {
   "cell_type": "code",
   "execution_count": 7,
   "metadata": {},
   "outputs": [
    {
     "name": "stdout",
     "output_type": "stream",
     "text": [
      "<class 'pandas.core.frame.DataFrame'>\n",
      "Int64Index: 313 entries, 0 to 318\n",
      "Data columns (total 7 columns):\n",
      "Zip Code                  313 non-null int64\n",
      "Total Population          313 non-null int64\n",
      "Median Age                313 non-null float64\n",
      "Total Males               313 non-null int64\n",
      "Total Females             313 non-null int64\n",
      "Total Households          313 non-null int64\n",
      "Average Household Size    313 non-null float64\n",
      "dtypes: float64(2), int64(5)\n",
      "memory usage: 19.6 KB\n"
     ]
    }
   ],
   "source": [
    "mask = df[\"Median Age\"] != 0\n",
    "df[mask].info()"
   ]
  },
  {
   "cell_type": "code",
   "execution_count": 8,
   "metadata": {},
   "outputs": [
    {
     "data": {
      "text/html": [
       "<div>\n",
       "<table border=\"1\" class=\"dataframe\">\n",
       "  <thead>\n",
       "    <tr style=\"text-align: right;\">\n",
       "      <th></th>\n",
       "      <th>Zip Code</th>\n",
       "      <th>Total Population</th>\n",
       "      <th>Median Age</th>\n",
       "      <th>Total Males</th>\n",
       "      <th>Total Females</th>\n",
       "      <th>Total Households</th>\n",
       "      <th>Average Household Size</th>\n",
       "    </tr>\n",
       "  </thead>\n",
       "  <tbody>\n",
       "    <tr>\n",
       "      <th>65</th>\n",
       "      <td>90089</td>\n",
       "      <td>3217</td>\n",
       "      <td>19.3</td>\n",
       "      <td>1436</td>\n",
       "      <td>1781</td>\n",
       "      <td>31</td>\n",
       "      <td>1.94</td>\n",
       "    </tr>\n",
       "    <tr>\n",
       "      <th>210</th>\n",
       "      <td>91330</td>\n",
       "      <td>2702</td>\n",
       "      <td>19.6</td>\n",
       "      <td>1103</td>\n",
       "      <td>1599</td>\n",
       "      <td>2</td>\n",
       "      <td>2.50</td>\n",
       "    </tr>\n",
       "    <tr>\n",
       "      <th>90</th>\n",
       "      <td>90263</td>\n",
       "      <td>1612</td>\n",
       "      <td>19.7</td>\n",
       "      <td>665</td>\n",
       "      <td>947</td>\n",
       "      <td>0</td>\n",
       "      <td>0.00</td>\n",
       "    </tr>\n",
       "  </tbody>\n",
       "</table>\n",
       "</div>"
      ],
      "text/plain": [
       "     Zip Code  Total Population  Median Age  Total Males  Total Females  \\\n",
       "65      90089              3217        19.3         1436           1781   \n",
       "210     91330              2702        19.6         1103           1599   \n",
       "90      90263              1612        19.7          665            947   \n",
       "\n",
       "     Total Households  Average Household Size  \n",
       "65                 31                    1.94  \n",
       "210                 2                    2.50  \n",
       "90                  0                    0.00  "
      ]
     },
     "execution_count": 8,
     "metadata": {},
     "output_type": "execute_result"
    }
   ],
   "source": [
    "df[mask].nsmallest(3, columns=\"Median Age\")"
   ]
  },
  {
   "cell_type": "code",
   "execution_count": null,
   "metadata": {
    "collapsed": true
   },
   "outputs": [],
   "source": []
  }
 ],
 "metadata": {
  "kernelspec": {
   "display_name": "tf_edge",
   "language": "python",
   "name": "tf_edge"
  },
  "language_info": {
   "codemirror_mode": {
    "name": "ipython",
    "version": 3
   },
   "file_extension": ".py",
   "mimetype": "text/x-python",
   "name": "python",
   "nbconvert_exporter": "python",
   "pygments_lexer": "ipython3",
   "version": "3.5.4"
  }
 },
 "nbformat": 4,
 "nbformat_minor": 2
}
