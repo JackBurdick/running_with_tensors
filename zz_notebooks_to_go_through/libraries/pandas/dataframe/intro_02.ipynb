{
 "cells": [
  {
   "cell_type": "code",
   "execution_count": 1,
   "metadata": {},
   "outputs": [],
   "source": [
    "import pandas as pd\n",
    "import os"
   ]
  },
  {
   "cell_type": "markdown",
   "metadata": {},
   "source": [
    "## Obtain different dataset data.gov\n",
    "\n",
    "https://catalog.data.gov/dataset"
   ]
  },
  {
   "cell_type": "code",
   "execution_count": 2,
   "metadata": {},
   "outputs": [],
   "source": [
    "from six.moves import urllib\n",
    "\n",
    "# where the datasets will be placed\n",
    "ROOT_DATA = \"../../../ROOT_DATA/data_gov/\"\n",
    "\n",
    "def fetch_data_from_URL(housing_url, file_name, sub_dir=\"tmp\", root_path=ROOT_DATA):\n",
    "    placement_dir = os.path.join(root_path, sub_dir)\n",
    "    if not os.path.isdir(placement_dir):\n",
    "        os.makedirs(placement_dir)\n",
    "    placement_path = os.path.join(placement_dir, file_name)\n",
    "    # only download if not already present\n",
    "    if not os.path.isfile(placement_path):\n",
    "        urllib.request.urlretrieve(housing_url, placement_path)\n",
    "    return placement_path"
   ]
  },
  {
   "cell_type": "code",
   "execution_count": 3,
   "metadata": {},
   "outputs": [],
   "source": [
    "# .CSV data\n",
    "la_csv_path = fetch_data_from_URL(\"https://data.lacity.org/api/views/nxs9-385f/rows.csv?accessType=DOWNLOAD\",\n",
    "                    \"2010.csv\", sub_dir=\"la_cencus\")"
   ]
  },
  {
   "cell_type": "code",
   "execution_count": 4,
   "metadata": {},
   "outputs": [
    {
     "name": "stdout",
     "output_type": "stream",
     "text": [
      "<class 'pandas.core.frame.DataFrame'>\n",
      "RangeIndex: 319 entries, 0 to 318\n",
      "Data columns (total 7 columns):\n",
      "Zip Code                  319 non-null int64\n",
      "Total Population          319 non-null int64\n",
      "Median Age                319 non-null float64\n",
      "Total Males               319 non-null int64\n",
      "Total Females             319 non-null int64\n",
      "Total Households          319 non-null int64\n",
      "Average Household Size    319 non-null float64\n",
      "dtypes: float64(2), int64(5)\n",
      "memory usage: 17.5 KB\n",
      "None\n"
     ]
    }
   ],
   "source": [
    "# read entire file into a dataframe\n",
    "la_df = pd.read_csv(la_csv_path)\n",
    "\n",
    "# summmary of dataframe\n",
    "print(la_df.info())"
   ]
  },
  {
   "cell_type": "markdown",
   "metadata": {},
   "source": [
    "## Viewing Index (labels) and values"
   ]
  },
  {
   "cell_type": "code",
   "execution_count": 5,
   "metadata": {},
   "outputs": [
    {
     "name": "stdout",
     "output_type": "stream",
     "text": [
      "   Zip Code  Total Population  Median Age  Total Males  Total Females  \\\n",
      "0     91371                 1        73.5            0              1   \n",
      "1     90001             57110        26.6        28468          28642   \n",
      "2     90002             51223        25.5        24876          26347   \n",
      "3     90003             66266        26.3        32631          33635   \n",
      "4     90004             62180        34.8        31302          30878   \n",
      "\n",
      "   Total Households  Average Household Size  \n",
      "0                 1                    1.00  \n",
      "1             12971                    4.40  \n",
      "2             11731                    4.36  \n",
      "3             15642                    4.22  \n",
      "4             22547                    2.73  \n"
     ]
    }
   ],
   "source": [
    "# counts of each datatype\n",
    "print(la_df.head())"
   ]
  },
  {
   "cell_type": "markdown",
   "metadata": {},
   "source": [
    "## Sum (rows or columns)"
   ]
  },
  {
   "cell_type": "code",
   "execution_count": 6,
   "metadata": {},
   "outputs": [
    {
     "name": "stdout",
     "output_type": "stream",
     "text": [
      "Zip Code                  29029215.00\n",
      "Total Population          10603988.00\n",
      "Median Age                   11652.30\n",
      "Total Males                5228909.00\n",
      "Total Females              5375079.00\n",
      "Total Households           3497698.00\n",
      "Average Household Size         902.17\n",
      "dtype: float64\n"
     ]
    }
   ],
   "source": [
    "# will sum all columns (whether or not it makes sense)\n",
    "print(la_df.sum())"
   ]
  },
  {
   "cell_type": "code",
   "execution_count": 7,
   "metadata": {},
   "outputs": [
    {
     "name": "stdout",
     "output_type": "stream",
     "text": [
      "0     91448.50\n",
      "1    217223.00\n",
      "2    204208.86\n",
      "3    238207.52\n",
      "4    236948.53\n",
      "dtype: float64\n"
     ]
    }
   ],
   "source": [
    "# will sum all values in a row (whether or not it makes sense)\n",
    "print(la_df.sum(axis=1).head())"
   ]
  },
  {
   "cell_type": "markdown",
   "metadata": {},
   "source": [
    "## Extracting single columns"
   ]
  },
  {
   "cell_type": "code",
   "execution_count": 8,
   "metadata": {},
   "outputs": [
    {
     "name": "stdout",
     "output_type": "stream",
     "text": [
      "0        1\n",
      "1    12971\n",
      "2    11731\n",
      "3    15642\n",
      "4    22547\n",
      "Name: Total Households, dtype: int64\n"
     ]
    }
   ],
   "source": [
    "# bracket notation\n",
    "# note: dot notation `la_df.colname` also works for simple\n",
    "# column names\n",
    "th_s = la_df['Total Households']\n",
    "print(th_s.head())"
   ]
  },
  {
   "cell_type": "markdown",
   "metadata": {},
   "source": [
    "## Extracting multiple columns"
   ]
  },
  {
   "cell_type": "code",
   "execution_count": 9,
   "metadata": {},
   "outputs": [
    {
     "name": "stdout",
     "output_type": "stream",
     "text": [
      "   Zip Code  Total Households\n",
      "0     91371                 1\n",
      "1     90001             12971\n",
      "2     90002             11731\n",
      "3     90003             15642\n",
      "4     90004             22547\n"
     ]
    }
   ],
   "source": [
    "# can use as many column names as you'd like and they'll\n",
    "# be returned in the order you specify\n",
    "select = ['Zip Code','Total Households']\n",
    "ziphouse_df = la_df[select]\n",
    "print(ziphouse_df.head())"
   ]
  },
  {
   "cell_type": "code",
   "execution_count": 10,
   "metadata": {},
   "outputs": [
    {
     "name": "stdout",
     "output_type": "stream",
     "text": [
      "Index(['Zip Code', 'Total Population', 'Median Age', 'Total Males',\n",
      "       'Total Females', 'Total Households', 'Average Household Size'],\n",
      "      dtype='object')\n"
     ]
    }
   ],
   "source": [
    "# you can also use the list of the values you want to extract\n",
    "select = la_df.columns\n",
    "print(select)"
   ]
  },
  {
   "cell_type": "code",
   "execution_count": 11,
   "metadata": {},
   "outputs": [
    {
     "name": "stdout",
     "output_type": "stream",
     "text": [
      "   Zip Code  Total Population  Median Age\n",
      "0     91371                 1        73.5\n",
      "1     90001             57110        26.6\n",
      "2     90002             51223        25.5\n",
      "3     90003             66266        26.3\n",
      "4     90004             62180        34.8\n"
     ]
    }
   ],
   "source": [
    "# only want the first 3\n",
    "select = la_df.columns[:3]\n",
    "three_df = la_df[select]\n",
    "print(three_df.head())"
   ]
  },
  {
   "cell_type": "markdown",
   "metadata": {},
   "source": [
    "## Adding new columns"
   ]
  },
  {
   "cell_type": "code",
   "execution_count": 12,
   "metadata": {},
   "outputs": [
    {
     "name": "stdout",
     "output_type": "stream",
     "text": [
      "   Zip Code       State  Total Population  Median Age\n",
      "0     91371  California                 1        73.5\n",
      "1     90001  California             57110        26.6\n",
      "2     90002  California             51223        25.5\n",
      "3     90003  California             66266        26.3\n",
      "4     90004  California             62180        34.8\n"
     ]
    }
   ],
   "source": [
    "# be careful not to overwrite an existing column\n",
    "# loc == location, 0 index\n",
    "# column = \"name\"\n",
    "# value = value to insert\n",
    "\n",
    "# example (adding a scalar) \n",
    "three_df.insert(1, column=\"State\", value=\"California\")\n",
    "print(three_df.head())"
   ]
  },
  {
   "cell_type": "code",
   "execution_count": 13,
   "metadata": {},
   "outputs": [
    {
     "name": "stdout",
     "output_type": "stream",
     "text": [
      "   Zip Code       State  Total Population  Median Age  Dog Years\n",
      "0     91371  California                 1        73.5  10.500000\n",
      "1     90001  California             57110        26.6   3.800000\n",
      "2     90002  California             51223        25.5   3.642857\n",
      "3     90003  California             66266        26.3   3.757143\n",
      "4     90004  California             62180        34.8   4.971429\n"
     ]
    },
    {
     "name": "stderr",
     "output_type": "stream",
     "text": [
      "/home/jack/anaconda3/envs/tf_edge/lib/python3.5/site-packages/ipykernel_launcher.py:2: SettingWithCopyWarning: \n",
      "A value is trying to be set on a copy of a slice from a DataFrame.\n",
      "Try using .loc[row_indexer,col_indexer] = value instead\n",
      "\n",
      "See the caveats in the documentation: http://pandas.pydata.org/pandas-docs/stable/indexing.html#indexing-view-versus-copy\n",
      "  \n"
     ]
    }
   ],
   "source": [
    "# adding to the end of the columns, and using values from the df\n",
    "three_df[\"Dog Years\"] = three_df['Median Age']/7\n",
    "print(three_df.head())"
   ]
  },
  {
   "cell_type": "code",
   "execution_count": 14,
   "metadata": {},
   "outputs": [
    {
     "name": "stdout",
     "output_type": "stream",
     "text": [
      "   Zip Code  Total Population  Median Age  Total Males  Total Females  \\\n",
      "0     91371                 1        73.5            0              1   \n",
      "1     90001             57110        26.6        28468          28642   \n",
      "2     90002             51223        25.5        24876          26347   \n",
      "3     90003             66266        26.3        32631          33635   \n",
      "4     90004             62180        34.8        31302          30878   \n",
      "\n",
      "   Total Households  Average Household Size  \n",
      "0                 1                    1.00  \n",
      "1             12971                    4.40  \n",
      "2             11731                    4.36  \n",
      "3             15642                    4.22  \n",
      "4             22547                    2.73  \n"
     ]
    }
   ],
   "source": [
    "print(la_df.head())"
   ]
  },
  {
   "cell_type": "code",
   "execution_count": 15,
   "metadata": {},
   "outputs": [
    {
     "data": {
      "text/plain": [
       "0        8\n",
       "2        3\n",
       "11944    2\n",
       "9289     2\n",
       "14038    2\n",
       "Name: Total Households, dtype: int64"
      ]
     },
     "execution_count": 15,
     "metadata": {},
     "output_type": "execute_result"
    }
   ],
   "source": [
    "la_df['Total Households'].value_counts().head()"
   ]
  },
  {
   "cell_type": "markdown",
   "metadata": {},
   "source": [
    "## Example"
   ]
  },
  {
   "cell_type": "code",
   "execution_count": 16,
   "metadata": {},
   "outputs": [
    {
     "name": "stdout",
     "output_type": "stream",
     "text": [
      "   Zip Code  Total Males  Total Females\n",
      "0     91371            0              1\n",
      "1     90001        28468          28642\n",
      "2     90002        24876          26347\n",
      "3     90003        32631          33635\n",
      "4     90004        31302          30878\n"
     ]
    }
   ],
   "source": [
    "select = ['Zip Code','Total Males','Total Females']\n",
    "gender_df = la_df[select]\n",
    "print(gender_df.head())"
   ]
  },
  {
   "cell_type": "code",
   "execution_count": 17,
   "metadata": {},
   "outputs": [
    {
     "name": "stdout",
     "output_type": "stream",
     "text": [
      "   Zip Code  Total Males  Total Females  MtoF Ratio\n",
      "0     91371            0              1    0.000000\n",
      "1     90001        28468          28642    0.993925\n",
      "2     90002        24876          26347    0.944168\n",
      "3     90003        32631          33635    0.970150\n",
      "4     90004        31302          30878    1.013731\n"
     ]
    }
   ],
   "source": [
    "gender_df.insert(3, column=\"MtoF Ratio\", \n",
    "                 value=gender_df['Total Males']/gender_df['Total Females'])\n",
    "print(gender_df.head())"
   ]
  },
  {
   "cell_type": "code",
   "execution_count": 18,
   "metadata": {},
   "outputs": [
    {
     "name": "stdout",
     "output_type": "stream",
     "text": [
      "     Zip Code  Total Males  Total Females  MtoF Ratio\n",
      "0       91371            0              1    0.000000\n",
      "180     91046           51            105    0.485714\n",
      "210     91330         1103           1599    0.689806\n",
      "90      90263          665            947    0.702218\n",
      "48      90056         3436           4391    0.782510\n"
     ]
    }
   ],
   "source": [
    "print(gender_df.sort_values(by='MtoF Ratio').head())"
   ]
  },
  {
   "cell_type": "code",
   "execution_count": 19,
   "metadata": {},
   "outputs": [
    {
     "name": "stdout",
     "output_type": "stream",
     "text": [
      "     Zip Code  Total Males  Total Females  MtoF Ratio\n",
      "62      90073          506             33   15.333333\n",
      "166     90822          109              8   13.625000\n",
      "61      90071           13              2    6.500000\n",
      "303     93252         3301            875    3.772571\n",
      "20      90021         2790           1161    2.403101\n"
     ]
    }
   ],
   "source": [
    "print(gender_df.sort_values(by='MtoF Ratio', ascending=False).head())"
   ]
  }
 ],
 "metadata": {
  "kernelspec": {
   "display_name": "tf_edge",
   "language": "python",
   "name": "tf_edge"
  },
  "language_info": {
   "codemirror_mode": {
    "name": "ipython",
    "version": 3
   },
   "file_extension": ".py",
   "mimetype": "text/x-python",
   "name": "python",
   "nbconvert_exporter": "python",
   "pygments_lexer": "ipython3",
   "version": "3.5.4"
  }
 },
 "nbformat": 4,
 "nbformat_minor": 2
}
