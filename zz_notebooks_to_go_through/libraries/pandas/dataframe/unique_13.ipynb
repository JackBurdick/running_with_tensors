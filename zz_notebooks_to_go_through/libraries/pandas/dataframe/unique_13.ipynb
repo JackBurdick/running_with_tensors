{
 "cells": [
  {
   "cell_type": "code",
   "execution_count": 1,
   "metadata": {},
   "outputs": [],
   "source": [
    "import pandas as pd\n",
    "import os"
   ]
  },
  {
   "cell_type": "markdown",
   "metadata": {},
   "source": [
    "## Obtain different dataset data.gov\n",
    "\n",
    "https://catalog.data.gov/dataset"
   ]
  },
  {
   "cell_type": "code",
   "execution_count": 2,
   "metadata": {},
   "outputs": [],
   "source": [
    "from six.moves import urllib\n",
    "\n",
    "# where the datasets will be placed\n",
    "ROOT_DATA = \"../../../ROOT_DATA/data_gov/\"\n",
    "\n",
    "def fetch_data_from_URL(housing_url, file_name, sub_dir=\"tmp\", root_path=ROOT_DATA):\n",
    "    placement_dir = os.path.join(root_path, sub_dir)\n",
    "    if not os.path.isdir(placement_dir):\n",
    "        os.makedirs(placement_dir)\n",
    "    placement_path = os.path.join(placement_dir, file_name)\n",
    "    # only download if not already present\n",
    "    if not os.path.isfile(placement_path):\n",
    "        urllib.request.urlretrieve(housing_url, placement_path)\n",
    "    return placement_path"
   ]
  },
  {
   "cell_type": "code",
   "execution_count": 3,
   "metadata": {},
   "outputs": [],
   "source": [
    "# .CSV data\n",
    "traffic_csv_path = fetch_data_from_URL(\"https://data.montgomerycountymd.gov/api/views/4mse-ku6q/rows.csv?accessType=DOWNLOAD\",\n",
    "                    \"traffic_violations.csv\", sub_dir=\"traffic\")"
   ]
  },
  {
   "cell_type": "code",
   "execution_count": 4,
   "metadata": {
    "scrolled": false
   },
   "outputs": [
    {
     "name": "stderr",
     "output_type": "stream",
     "text": [
      "/home/jack/anaconda3/envs/tf_edge/lib/python3.5/site-packages/IPython/core/interactiveshell.py:2728: DtypeWarning: Columns (26) have mixed types. Specify dtype option on import or set low_memory=False.\n",
      "  interactivity=interactivity, compiler=compiler, result=result)\n"
     ]
    },
    {
     "name": "stdout",
     "output_type": "stream",
     "text": [
      "<class 'pandas.core.frame.DataFrame'>\n",
      "RangeIndex: 1251972 entries, 0 to 1251971\n",
      "Data columns (total 35 columns):\n",
      "Date Of Stop               1251972 non-null object\n",
      "Time Of Stop               1251972 non-null object\n",
      "Agency                     1251972 non-null object\n",
      "SubAgency                  1251962 non-null object\n",
      "Description                1251963 non-null object\n",
      "Location                   1251970 non-null object\n",
      "Latitude                   1158178 non-null float64\n",
      "Longitude                  1158178 non-null float64\n",
      "Accident                   1251972 non-null object\n",
      "Belts                      1251972 non-null object\n",
      "Personal Injury            1251972 non-null object\n",
      "Property Damage            1251972 non-null object\n",
      "Fatal                      1251972 non-null object\n",
      "Commercial License         1251972 non-null object\n",
      "HAZMAT                     1251972 non-null object\n",
      "Commercial Vehicle         1251972 non-null object\n",
      "Alcohol                    1251972 non-null object\n",
      "Work Zone                  1251972 non-null object\n",
      "State                      1251913 non-null object\n",
      "VehicleType                1251972 non-null object\n",
      "Year                       1244022 non-null float64\n",
      "Make                       1251915 non-null object\n",
      "Model                      1251786 non-null object\n",
      "Color                      1236136 non-null object\n",
      "Violation Type             1251972 non-null object\n",
      "Charge                     1251972 non-null object\n",
      "Article                    1188862 non-null object\n",
      "Contributed To Accident    1251972 non-null object\n",
      "Race                       1251972 non-null object\n",
      "Gender                     1251972 non-null object\n",
      "Driver City                1251768 non-null object\n",
      "Driver State               1251961 non-null object\n",
      "DL State                   1251043 non-null object\n",
      "Arrest Type                1251972 non-null object\n",
      "Geolocation                1158178 non-null object\n",
      "dtypes: float64(3), object(32)\n",
      "memory usage: 334.3+ MB\n",
      "None\n"
     ]
    }
   ],
   "source": [
    "# read entire file into a dataframe\n",
    "df = pd.read_csv(traffic_csv_path)\n",
    "\n",
    "# summmary of dataframe\n",
    "print(df.info())"
   ]
  },
  {
   "cell_type": "code",
   "execution_count": 5,
   "metadata": {},
   "outputs": [
    {
     "name": "stdout",
     "output_type": "stream",
     "text": [
      "['MD' 'VA' 'XX' 'DC' 'PA' 'NY' 'TN' 'DE' 'WA' 'MA' 'WV' 'FL' 'CA' 'US' 'IN'\n",
      " 'NJ' 'KY' 'NC' 'MI' 'GA' 'OH' 'OK' 'SC' 'CT' 'IL' 'AL' 'CO' 'VI' 'MO' 'TX'\n",
      " 'AZ' 'ME' 'ON' 'NH' 'NM' 'MS' 'LA' 'RI' 'NV' 'MN' 'ID' 'WI' 'AR' 'VT' 'OR'\n",
      " 'AK' 'KS' nan 'NB' 'IA' 'MT' 'MB' 'UT' 'PR' 'HI' 'AB' 'NE' 'WY' 'NF' 'QC'\n",
      " 'SD' 'ND' 'NS' 'PQ' 'MH' 'BC' 'PE' 'GU' 'AS' 'IT']\n"
     ]
    }
   ],
   "source": [
    "print(df[\"State\"].unique())"
   ]
  },
  {
   "cell_type": "code",
   "execution_count": 6,
   "metadata": {},
   "outputs": [
    {
     "name": "stdout",
     "output_type": "stream",
     "text": [
      "70\n",
      "69\n"
     ]
    }
   ],
   "source": [
    "print(len(df[\"State\"].unique()))\n",
    "print(df[\"State\"].nunique()) "
   ]
  },
  {
   "cell_type": "code",
   "execution_count": 7,
   "metadata": {},
   "outputs": [
    {
     "name": "stdout",
     "output_type": "stream",
     "text": [
      "70\n"
     ]
    }
   ],
   "source": [
    "# dropna=True by default\n",
    "print(df[\"State\"].nunique(dropna=False))"
   ]
  },
  {
   "cell_type": "code",
   "execution_count": 8,
   "metadata": {},
   "outputs": [
    {
     "name": "stdout",
     "output_type": "stream",
     "text": [
      "MD    1095217\n",
      "VA      51897\n",
      "DC      31675\n",
      "XX      10175\n",
      "PA       9016\n",
      "FL       5655\n",
      "TX       4923\n",
      "NC       4747\n",
      "WV       4533\n",
      "NY       4117\n",
      "NJ       3506\n",
      "GA       2686\n",
      "DE       2353\n",
      "OH       2096\n",
      "CA       2093\n",
      "MA       1638\n",
      "IL       1355\n",
      "SC       1333\n",
      "TN       1140\n",
      "MI       1039\n",
      "AZ        851\n",
      "CT        850\n",
      "IN        822\n",
      "AL        649\n",
      "US        516\n",
      "KY        474\n",
      "OK        469\n",
      "WA        438\n",
      "MS        419\n",
      "CO        410\n",
      "       ...   \n",
      "IA        213\n",
      "NV        213\n",
      "UT        211\n",
      "OR        181\n",
      "KS        159\n",
      "VT        142\n",
      "AK        122\n",
      "ON        117\n",
      "ID        112\n",
      "MT         81\n",
      "ND         80\n",
      "NE         73\n",
      "HI         66\n",
      "MB         56\n",
      "SD         51\n",
      "WY         39\n",
      "NB         38\n",
      "QC         30\n",
      "VI         21\n",
      "AB         12\n",
      "GU         12\n",
      "PR         11\n",
      "PQ          8\n",
      "NS          5\n",
      "BC          4\n",
      "PE          3\n",
      "NF          2\n",
      "AS          2\n",
      "MH          1\n",
      "IT          1\n",
      "Name: State, dtype: int64\n"
     ]
    }
   ],
   "source": [
    "# If we want to see the value and the counts\n",
    "print(df[\"State\"].value_counts())"
   ]
  },
  {
   "cell_type": "code",
   "execution_count": null,
   "metadata": {},
   "outputs": [],
   "source": []
  }
 ],
 "metadata": {
  "kernelspec": {
   "display_name": "tf_edge",
   "language": "python",
   "name": "tf_edge"
  },
  "language_info": {
   "codemirror_mode": {
    "name": "ipython",
    "version": 3
   },
   "file_extension": ".py",
   "mimetype": "text/x-python",
   "name": "python",
   "nbconvert_exporter": "python",
   "pygments_lexer": "ipython3",
   "version": "3.5.4"
  }
 },
 "nbformat": 4,
 "nbformat_minor": 2
}
