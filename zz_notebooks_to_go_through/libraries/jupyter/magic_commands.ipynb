{
 "cells": [
  {
   "cell_type": "markdown",
   "metadata": {},
   "source": [
    "# Common \"magic\" Jupyter Commands"
   ]
  },
  {
   "cell_type": "markdown",
   "metadata": {},
   "source": [
    "### List all available commands"
   ]
  },
  {
   "cell_type": "code",
   "execution_count": 1,
   "metadata": {},
   "outputs": [
    {
     "data": {
      "application/json": {
       "cell": {
        "!": "OSMagics",
        "HTML": "Other",
        "SVG": "Other",
        "bash": "Other",
        "capture": "ExecutionMagics",
        "debug": "ExecutionMagics",
        "file": "Other",
        "html": "DisplayMagics",
        "javascript": "DisplayMagics",
        "js": "DisplayMagics",
        "latex": "DisplayMagics",
        "markdown": "DisplayMagics",
        "perl": "Other",
        "prun": "ExecutionMagics",
        "pypy": "Other",
        "python": "Other",
        "python2": "Other",
        "python3": "Other",
        "ruby": "Other",
        "script": "ScriptMagics",
        "sh": "Other",
        "svg": "DisplayMagics",
        "sx": "OSMagics",
        "system": "OSMagics",
        "time": "ExecutionMagics",
        "timeit": "ExecutionMagics",
        "writefile": "OSMagics"
       },
       "line": {
        "alias": "OSMagics",
        "alias_magic": "BasicMagics",
        "autocall": "AutoMagics",
        "automagic": "AutoMagics",
        "autosave": "KernelMagics",
        "bookmark": "OSMagics",
        "cat": "Other",
        "cd": "OSMagics",
        "clear": "KernelMagics",
        "colors": "BasicMagics",
        "config": "ConfigMagics",
        "connect_info": "KernelMagics",
        "cp": "Other",
        "debug": "ExecutionMagics",
        "dhist": "OSMagics",
        "dirs": "OSMagics",
        "doctest_mode": "BasicMagics",
        "ed": "Other",
        "edit": "KernelMagics",
        "env": "OSMagics",
        "gui": "BasicMagics",
        "hist": "Other",
        "history": "HistoryMagics",
        "killbgscripts": "ScriptMagics",
        "ldir": "Other",
        "less": "KernelMagics",
        "lf": "Other",
        "lk": "Other",
        "ll": "Other",
        "load": "CodeMagics",
        "load_ext": "ExtensionMagics",
        "loadpy": "CodeMagics",
        "logoff": "LoggingMagics",
        "logon": "LoggingMagics",
        "logstart": "LoggingMagics",
        "logstate": "LoggingMagics",
        "logstop": "LoggingMagics",
        "ls": "Other",
        "lsmagic": "BasicMagics",
        "lx": "Other",
        "macro": "ExecutionMagics",
        "magic": "BasicMagics",
        "man": "KernelMagics",
        "matplotlib": "PylabMagics",
        "mkdir": "Other",
        "more": "KernelMagics",
        "mv": "Other",
        "notebook": "BasicMagics",
        "page": "BasicMagics",
        "pastebin": "CodeMagics",
        "pdb": "ExecutionMagics",
        "pdef": "NamespaceMagics",
        "pdoc": "NamespaceMagics",
        "pfile": "NamespaceMagics",
        "pinfo": "NamespaceMagics",
        "pinfo2": "NamespaceMagics",
        "pip": "BasicMagics",
        "popd": "OSMagics",
        "pprint": "BasicMagics",
        "precision": "BasicMagics",
        "profile": "BasicMagics",
        "prun": "ExecutionMagics",
        "psearch": "NamespaceMagics",
        "psource": "NamespaceMagics",
        "pushd": "OSMagics",
        "pwd": "OSMagics",
        "pycat": "OSMagics",
        "pylab": "PylabMagics",
        "qtconsole": "KernelMagics",
        "quickref": "BasicMagics",
        "recall": "HistoryMagics",
        "rehashx": "OSMagics",
        "reload_ext": "ExtensionMagics",
        "rep": "Other",
        "rerun": "HistoryMagics",
        "reset": "NamespaceMagics",
        "reset_selective": "NamespaceMagics",
        "rm": "Other",
        "rmdir": "Other",
        "run": "ExecutionMagics",
        "save": "CodeMagics",
        "sc": "OSMagics",
        "set_env": "OSMagics",
        "store": "StoreMagics",
        "sx": "OSMagics",
        "system": "OSMagics",
        "tb": "ExecutionMagics",
        "time": "ExecutionMagics",
        "timeit": "ExecutionMagics",
        "unalias": "OSMagics",
        "unload_ext": "ExtensionMagics",
        "who": "NamespaceMagics",
        "who_ls": "NamespaceMagics",
        "whos": "NamespaceMagics",
        "xdel": "NamespaceMagics",
        "xmode": "BasicMagics"
       }
      },
      "text/plain": [
       "Available line magics:\n",
       "%alias  %alias_magic  %autocall  %automagic  %autosave  %bookmark  %cat  %cd  %clear  %colors  %config  %connect_info  %cp  %debug  %dhist  %dirs  %doctest_mode  %ed  %edit  %env  %gui  %hist  %history  %killbgscripts  %ldir  %less  %lf  %lk  %ll  %load  %load_ext  %loadpy  %logoff  %logon  %logstart  %logstate  %logstop  %ls  %lsmagic  %lx  %macro  %magic  %man  %matplotlib  %mkdir  %more  %mv  %notebook  %page  %pastebin  %pdb  %pdef  %pdoc  %pfile  %pinfo  %pinfo2  %popd  %pprint  %precision  %profile  %prun  %psearch  %psource  %pushd  %pwd  %pycat  %pylab  %qtconsole  %quickref  %recall  %rehashx  %reload_ext  %rep  %rerun  %reset  %reset_selective  %rm  %rmdir  %run  %save  %sc  %set_env  %store  %sx  %system  %tb  %time  %timeit  %unalias  %unload_ext  %who  %who_ls  %whos  %xdel  %xmode\n",
       "\n",
       "Available cell magics:\n",
       "%%!  %%HTML  %%SVG  %%bash  %%capture  %%debug  %%file  %%html  %%javascript  %%js  %%latex  %%markdown  %%perl  %%prun  %%pypy  %%python  %%python2  %%python3  %%ruby  %%script  %%sh  %%svg  %%sx  %%system  %%time  %%timeit  %%writefile\n",
       "\n",
       "Automagic is ON, % prefix IS NOT needed for line magics."
      ]
     },
     "execution_count": 1,
     "metadata": {},
     "output_type": "execute_result"
    }
   ],
   "source": [
    "%lsmagic"
   ]
  },
  {
   "cell_type": "markdown",
   "metadata": {},
   "source": [
    "### cell vs line\n",
    "- `%` prefix will pass the rest of the line as an argument\n",
    "- `%%` prefix will pass the rest of the cell"
   ]
  },
  {
   "cell_type": "code",
   "execution_count": 6,
   "metadata": {},
   "outputs": [
    {
     "name": "stdout",
     "output_type": "stream",
     "text": [
      "CPU times: user 0 ns, sys: 0 ns, total: 0 ns\n",
      "Wall time: 21 µs\n"
     ]
    }
   ],
   "source": [
    "# TODO: expand examples\n",
    "%time jack = range(100000)"
   ]
  },
  {
   "cell_type": "markdown",
   "metadata": {},
   "source": [
    "## Executing shell commands\n",
    "To execute a shell command, you simply need to prefix the command with `!`"
   ]
  },
  {
   "cell_type": "code",
   "execution_count": 7,
   "metadata": {},
   "outputs": [
    {
     "name": "stdout",
     "output_type": "stream",
     "text": [
      "# packages in environment at /home/jack/anaconda3/envs/cpu_tf:\n",
      "#\n",
      "absl-py                   0.1.7                     <pip>\n",
      "backports                 1.0                      py35_1    conda-forge\n",
      "backports.functools_lru_cache 1.4                      py35_1    conda-forge\n",
      "bleach                    1.5.0                     <pip>\n",
      "bleach                    2.0.0                    py35_0    conda-forge\n",
      "ca-certificates           2017.11.5                     0    conda-forge\n",
      "certifi                   2017.11.5                py35_0    conda-forge\n",
      "cycler                    0.10.0                   py35_0    conda-forge\n",
      "dbus                      1.10.22                       0    conda-forge\n",
      "decorator                 4.1.2                    py35_0    conda-forge\n",
      "entrypoints               0.2.3                    py35_1    conda-forge\n",
      "enum34                    1.1.6                     <pip>\n",
      "expat                     2.2.5                         0    conda-forge\n",
      "ffmpeg                    2.7.0                         0    menpo\n",
      "fontconfig                2.12.6                        0    conda-forge\n",
      "freeimage                 3.17.0                        0    menpo\n",
      "freetype                  2.8.1                         0    conda-forge\n",
      "gast                      0.2.0                     <pip>\n",
      "gettext                   0.19.7                        1    conda-forge\n",
      "glib                      2.55.0                        0    conda-forge\n",
      "gmp                       6.1.2                         0    conda-forge\n",
      "gst-plugins-base          1.8.0                         0    conda-forge\n",
      "gstreamer                 1.8.0                         1    conda-forge\n",
      "html5lib                  0.9999999                 <pip>\n",
      "html5lib                  1.0.1                      py_0    conda-forge\n",
      "icu                       58.2                          0    conda-forge\n",
      "imageio                   1.5.0                    py35_0    menpo\n",
      "intel-openmp              2018.0.0             hc7b2577_8    anaconda\n",
      "ipykernel                 4.7.0                    py35_0    conda-forge\n",
      "ipython                   6.2.1                    py35_0    conda-forge\n",
      "ipython_genutils          0.2.0                    py35_0    conda-forge\n",
      "jedi                      0.10.2                   py35_0    conda-forge\n",
      "jinja2                    2.10                     py35_0    conda-forge\n",
      "jpeg                      9b                            2    conda-forge\n",
      "jsonschema                2.6.0                    py35_0    conda-forge\n",
      "jupyter_client            5.2.0                    py35_0    conda-forge\n",
      "jupyter_core              4.4.0                      py_0    conda-forge\n",
      "libffi                    3.2.1                         3    conda-forge\n",
      "libgcc-ng                 7.2.0                h7cc24e2_2    anaconda\n",
      "libgfortran-ng            7.2.0                h9f7466a_2    anaconda\n",
      "libiconv                  1.15                          0    conda-forge\n",
      "libpng                    1.6.34                        0    conda-forge\n",
      "libsodium                 1.0.15                        1    conda-forge\n",
      "libstdcxx-ng              7.2.0                h7a57d05_2    anaconda\n",
      "libtiff                   4.0.9                h28f6b97_0    anaconda\n",
      "libxcb                    1.12                          1    conda-forge\n",
      "libxml2                   2.9.5                         2    conda-forge\n",
      "Markdown                  2.6.11                    <pip>\n",
      "markupsafe                1.0                      py35_0    conda-forge\n",
      "matplotlib                2.1.1                    py35_2    conda-forge\n",
      "mistune                   0.8.3                      py_0    conda-forge\n",
      "mkl                       2018.0.1             h19d6760_4    anaconda\n",
      "nbconvert                 5.3.1                      py_1    conda-forge\n",
      "nbformat                  4.4.0                    py35_0    conda-forge\n",
      "ncurses                   5.9                          10    conda-forge\n",
      "notebook                  5.2.2                    py35_1    conda-forge\n",
      "numpy                     1.13.3           py35hd829ed6_0    anaconda\n",
      "numpy                     1.13.3                    <pip>\n",
      "olefile                   0.44             py35h2c86149_0    anaconda\n",
      "openssl                   1.0.2n                        0    conda-forge\n",
      "pandoc                    2.0.5                         0    conda-forge\n",
      "pandocfilters             1.4.1                    py35_0    conda-forge\n",
      "pcre                      8.39                          0    conda-forge\n",
      "pexpect                   4.3.1                    py35_0    conda-forge\n",
      "pickleshare               0.7.4                    py35_0    conda-forge\n",
      "pillow                    4.3.0            py35h550890c_1    anaconda\n",
      "pip                       9.0.1                    py35_0    conda-forge\n",
      "prompt_toolkit            1.0.15                   py35_0    conda-forge\n",
      "protobuf                  3.5.1                     <pip>\n",
      "ptyprocess                0.5.2                    py35_0    conda-forge\n",
      "pygments                  2.2.0                    py35_0    conda-forge\n",
      "pyparsing                 2.2.0                    py35_0    conda-forge\n",
      "pyqt                      5.6.0                    py35_4    conda-forge\n",
      "python                    3.5.4                         3    conda-forge\n",
      "python-dateutil           2.6.1                    py35_0    conda-forge\n",
      "pytz                      2017.3                     py_2    conda-forge\n",
      "pyzmq                     16.0.2                   py35_2    conda-forge\n",
      "qt                        5.6.2                         7    conda-forge\n",
      "readline                  7.0                           0    conda-forge\n",
      "scikit-learn              0.19.1           py35hbf1f462_0    anaconda\n",
      "scipy                     1.0.0            py35hcbbe4a2_0    anaconda\n",
      "setuptools                38.4.0                    <pip>\n",
      "setuptools                38.2.4                   py35_0    conda-forge\n",
      "setuptools                38.2.4                    <pip>\n",
      "simplegeneric             0.8.1                    py35_0    conda-forge\n",
      "sip                       4.18                     py35_1    conda-forge\n",
      "six                       1.11.0                    <pip>\n",
      "six                       1.11.0                   py35_1    conda-forge\n",
      "sqlite                    3.20.1                        0    conda-forge\n",
      "tb-nightly                1.5.0a20180105            <pip>\n",
      "tensorflow                1.4.0                     <pip>\n",
      "tensorflow-tensorboard    0.4.0rc3                  <pip>\n",
      "terminado                 0.8.1                    py35_0    conda-forge\n",
      "testpath                  0.3.1                    py35_0    conda-forge\n",
      "tf-nightly                1.6.0.dev20180105           <pip>\n",
      "tk                        8.6.7                         0    conda-forge\n",
      "tornado                   4.5.2                    py35_0    conda-forge\n",
      "traitlets                 4.3.2                    py35_0    conda-forge\n",
      "wcwidth                   0.1.7                    py35_0    conda-forge\n",
      "webencodings              0.5                      py35_0    conda-forge\n",
      "Werkzeug                  0.14.1                    <pip>\n",
      "wheel                     0.30.0                     py_1    conda-forge\n",
      "wheel                     0.30.0                    <pip>\n",
      "xorg-libxau               1.0.8                         3    conda-forge\n",
      "xorg-libxdmcp             1.1.2                         3    conda-forge\n",
      "xz                        5.2.3                         0    conda-forge\n",
      "zeromq                    4.2.1                         1    conda-forge\n",
      "zlib                      1.2.11                        0    conda-forge\n"
     ]
    }
   ],
   "source": [
    "!conda list"
   ]
  },
  {
   "cell_type": "markdown",
   "metadata": {},
   "source": [
    "## Introspection\n",
    "> using `?` before|after a variable will display general information about that variable.\n",
    "\n",
    "If the object is a function/method instance, the docstring will be shown"
   ]
  },
  {
   "cell_type": "markdown",
   "metadata": {},
   "source": [
    "## The `%run` command\n",
    "> using `%run <some_example_scripy.py>` in a cell will run the indicated python file.  Note: the file is run in an _empty namespace_, _i.e._ there are no imports or variable defined when run. If you want to use the variables currently definited in the notebook environment the `-i` option can be used _e.g._ `%run -i <some_example_scripy.py>`"
   ]
  },
  {
   "cell_type": "markdown",
   "metadata": {},
   "source": [
    "## `%paste` and `%cpaste`\n",
    "\n",
    "- `%paste` will paste whatever text is in the clipboard and execute it\n",
    "- `%cpaste` will paste will paste the code, then you can decide when to execute. This allows for modification before exectution"
   ]
  },
  {
   "cell_type": "markdown",
   "metadata": {
    "collapsed": true
   },
   "source": [
    "## Write file\n",
    "Using `%writefile <some_file_name>` will write the cell to the indicated file.\n",
    "e.g.\n",
    "```\n",
    "%writefile sample.py\n",
    "\n",
    "import tensorflow as tf\n",
    "\n",
    "def some_method(a, b):\n",
    "  b = tf.cast(b, tf.float32)\n",
    "  s = (a - b)\n",
    "  return s\n",
    "\n",
    "with tf.Session() as sess:\n",
    "  fake_a = tf.constant([\n",
    "      [1.0, 2.0, 3.0],\n",
    "      [4.0, 5.0, 6.0],\n",
    "    ])\n",
    "  fake_b = tf.constant([\n",
    "      [0.1, 0.2, 0.3],\n",
    "      [0.4, 0.5, 0.6]\n",
    "    ])\n",
    "  \n",
    "  print sess.run(some_method(fake_a, fake_b))\n",
    "\n",
    "```\n",
    "Will write the following informatin to a file named `sample.py`"
   ]
  },
  {
   "cell_type": "code",
   "execution_count": null,
   "metadata": {},
   "outputs": [],
   "source": []
  }
 ],
 "metadata": {
  "kernelspec": {
   "display_name": "dl_edge",
   "language": "python",
   "name": "dl_edge"
  },
  "language_info": {
   "codemirror_mode": {
    "name": "ipython",
    "version": 3
   },
   "file_extension": ".py",
   "mimetype": "text/x-python",
   "name": "python",
   "nbconvert_exporter": "python",
   "pygments_lexer": "ipython3",
   "version": "3.6.5"
  }
 },
 "nbformat": 4,
 "nbformat_minor": 2
}
