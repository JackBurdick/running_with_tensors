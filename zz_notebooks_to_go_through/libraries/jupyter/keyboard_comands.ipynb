{
 "cells": [
  {
   "cell_type": "markdown",
   "metadata": {},
   "source": [
    "# Common Keyboard commands"
   ]
  },
  {
   "cell_type": "markdown",
   "metadata": {},
   "source": [
    "## Modes\n",
    "\n",
    "### *Edit* vs *Command* mode.\n",
    "When working in jupyter notebooks, there are two modes `edit` and `command`.\n",
    "\n",
    "You can toggle between the modes by hitting the `[ESC]` key on the keyboard"
   ]
  },
  {
   "cell_type": "markdown",
   "metadata": {},
   "source": [
    "##  Help\n",
    "To view all of the available commands, you can enter command mode `[ESC]`+"
   ]
  },
  {
   "cell_type": "markdown",
   "metadata": {},
   "source": [
    "## Common Commands\n",
    "\n",
    "#### Change cell type\n",
    "```\n",
    "[y]: code\n",
    "[m]: markdown\n",
    "[r]: raw\n",
    "```\n",
    "#### Moving around the notebook\n",
    "```\n",
    "[j]: up\n",
    "[k]: down\n",
    "```\n",
    "\n",
    "#### Adding new cells\n",
    "```\n",
    "[a]: above\n",
    "[b]: below\n",
    "```\n",
    "\n",
    "#### Copy, Cut, Paste\n",
    "```\n",
    "[c]: copy\n",
    "[x]: cut\n",
    "[d]+[d]: delete\n",
    "[v]: paste (below)\n",
    "[shift]+[v]: paste (above)\n",
    "```\n",
    "\n",
    "#### Select and Merge\n",
    "```\n",
    "[shift][k] or [shift][up]: extend selected cells above\n",
    "[shift][j] or [shift][down]: extend selected cells below\n",
    "[shift]+[m] : merge selected (or w/below cell, if only one selected)\n",
    "```\n",
    "\n",
    "#### Find|Replace\n",
    "```\n",
    "[f]: find\n",
    "```"
   ]
  },
  {
   "cell_type": "markdown",
   "metadata": {},
   "source": [
    "## Kernel Commands\n",
    "```\n",
    "[i,i]: interrupt the kernel\n",
    "[0,0]: restart kernel (with dialog)\n",
    "```"
   ]
  },
  {
   "cell_type": "markdown",
   "metadata": {},
   "source": [
    "# Edit Commands"
   ]
  },
  {
   "cell_type": "markdown",
   "metadata": {},
   "source": [
    "```\n",
    "[ctrl-/]: comment\n",
    "[ctrl-up]: go to cell start\n",
    "[ctrl-down]: go to cell end\n",
    "[ctrl-d]: delete whole line\n",
    "[ctrl-shift-minus]: split cell at cursor\n",
    "```"
   ]
  },
  {
   "cell_type": "code",
   "execution_count": null,
   "metadata": {},
   "outputs": [],
   "source": []
  }
 ],
 "metadata": {
  "kernelspec": {
   "display_name": "dl_edge",
   "language": "python",
   "name": "dl_edge"
  },
  "language_info": {
   "codemirror_mode": {
    "name": "ipython",
    "version": 3
   },
   "file_extension": ".py",
   "mimetype": "text/x-python",
   "name": "python",
   "nbconvert_exporter": "python",
   "pygments_lexer": "ipython3",
   "version": "3.6.5"
  }
 },
 "nbformat": 4,
 "nbformat_minor": 2
}
