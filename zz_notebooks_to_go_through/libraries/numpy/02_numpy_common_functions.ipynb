{
 "cells": [
  {
   "cell_type": "code",
   "execution_count": 1,
   "metadata": {},
   "outputs": [
    {
     "name": "stdout",
     "output_type": "stream",
     "text": [
      "Python: (3, 6, 3, 'final', 0)\n",
      "Numpy: 1.13.3\n"
     ]
    }
   ],
   "source": [
    "import sys\n",
    "import numpy as np\n",
    "\n",
    "print(\"Python: {}\".format(sys.version_info[:]))\n",
    "print('Numpy: {}'.format(np.__version__))"
   ]
  },
  {
   "cell_type": "markdown",
   "metadata": {},
   "source": [
    "## argmax"
   ]
  },
  {
   "cell_type": "code",
   "execution_count": 2,
   "metadata": {},
   "outputs": [
    {
     "name": "stdout",
     "output_type": "stream",
     "text": [
      "np_1d; \n",
      "[0 1 2 3 4 5 6 7 8]\n",
      "np_1d.shape = (9,)\n",
      "\n",
      "np_2d; \n",
      "[[0 1 2]\n",
      " [3 4 5]\n",
      " [6 7 8]]\n",
      "np_2d.shape = (3, 3)\n",
      "\n",
      "np_3d; \n",
      "[[[ 0  1  2]\n",
      "  [ 3  4  5]\n",
      "  [ 6  7  8]]\n",
      "\n",
      " [[ 9 10 11]\n",
      "  [12 13 14]\n",
      "  [15 16 17]]\n",
      "\n",
      " [[18 19 20]\n",
      "  [21 22 23]\n",
      "  [24 25 26]]]\n",
      "np_3d.shape = (3, 3, 3)\n"
     ]
    }
   ],
   "source": [
    "np_1d = np.arange(9)\n",
    "np_2d = np.arange(9).reshape(3,3)\n",
    "np_3d = np.arange(27).reshape(3,3,3)\n",
    "\n",
    "print(\"np_1d; \\n{}\".format(np_1d))\n",
    "print(\"np_1d.shape = {}\".format(np_1d.shape))\n",
    "\n",
    "print(\"\\nnp_2d; \\n{}\".format(np_2d))\n",
    "print(\"np_2d.shape = {}\".format(np_2d.shape))\n",
    "\n",
    "print(\"\\nnp_3d; \\n{}\".format(np_3d))\n",
    "print(\"np_3d.shape = {}\".format(np_3d.shape))"
   ]
  },
  {
   "cell_type": "code",
   "execution_count": 3,
   "metadata": {},
   "outputs": [
    {
     "name": "stdout",
     "output_type": "stream",
     "text": [
      "1D\n",
      "argmax, axis=0: 8\n",
      "\n",
      "2D\n",
      "argmax, axis=0: [2 2 2]\n",
      "argmax, axis=1: [2 2 2]\n",
      "\n",
      "3D\n",
      "argmax, axis=0: \n",
      "[[2 2 2]\n",
      " [2 2 2]\n",
      " [2 2 2]]\n",
      "argmax, axis=1: \n",
      "[[2 2 2]\n",
      " [2 2 2]\n",
      " [2 2 2]]\n",
      "argmax, axis=2: \n",
      "[[2 2 2]\n",
      " [2 2 2]\n",
      " [2 2 2]]\n"
     ]
    }
   ],
   "source": [
    "print(\"1D\")\n",
    "argmax_1d = np_1d.argmax(axis=0)\n",
    "print(\"argmax, axis=0: {}\".format(argmax_1d))\n",
    "\n",
    "print(\"\\n2D\")\n",
    "argmax_2d_a0 = np_2d.argmax(axis=0)\n",
    "argmax_2d_a1 = np_2d.argmax(axis=1)\n",
    "print(\"argmax, axis=0: {}\".format(argmax_2d_a0))\n",
    "print(\"argmax, axis=1: {}\".format(argmax_2d_a1))\n",
    "\n",
    "print(\"\\n3D\")\n",
    "argmax_3d_a0 = np_3d.argmax(axis=0)\n",
    "argmax_3d_a1 = np_3d.argmax(axis=1)\n",
    "argmax_3d_a2 = np_3d.argmax(axis=2)\n",
    "print(\"argmax, axis=0: \\n{}\".format(argmax_3d_a0))\n",
    "print(\"argmax, axis=1: \\n{}\".format(argmax_3d_a1))\n",
    "print(\"argmax, axis=2: \\n{}\".format(argmax_3d_a2))"
   ]
  },
  {
   "cell_type": "code",
   "execution_count": 4,
   "metadata": {},
   "outputs": [
    {
     "name": "stdout",
     "output_type": "stream",
     "text": [
      "np_2d; \n",
      "[[7 1 9]\n",
      " [1 3 5]\n",
      " [6 2 1]]\n",
      "np_2d.shape = (3, 3)\n",
      "\n",
      "argmax, axis=0: [0 1 0]\n",
      "(7,1,6)=0, (1,3,2)=1, (9,5,1)=0\n",
      "\n",
      "argmax, axis=1: [2 2 0]\n",
      "(7,1,9)=2, (1,3,5)=2, (6,2,1)=0\n"
     ]
    }
   ],
   "source": [
    "# alternate view\n",
    "np_2d = np.array([[7,1,9],[1,3,5],[6,2,1]])\n",
    "print(\"np_2d; \\n{}\".format(np_2d))\n",
    "print(\"np_2d.shape = {}\".format(np_2d.shape))\n",
    "\n",
    "argmax_2d_a0 = np_2d.argmax(axis=0)\n",
    "argmax_2d_a1 = np_2d.argmax(axis=1)\n",
    "# compare values in each displayed \"column\"\n",
    "print(\"\\nargmax, axis=0: {}\".format(argmax_2d_a0))\n",
    "print(\"({},{},{})={}, ({},{},{})={}, ({},{},{})={}\".format(np_2d[0][0], np_2d[1][0], \n",
    "                                                  np_2d[2][0], argmax_2d_a0[0],\n",
    "                                                  np_2d[0][1], np_2d[1][1], \n",
    "                                                  np_2d[2][1], argmax_2d_a0[1],\n",
    "                                                  np_2d[0][2], np_2d[1][2], \n",
    "                                                  np_2d[2][2], argmax_2d_a0[2]))\n",
    "\n",
    "# compare values in each displayed \"row\"\n",
    "print(\"\\nargmax, axis=1: {}\".format(argmax_2d_a1))\n",
    "print(\"({},{},{})={}, ({},{},{})={}, ({},{},{})={}\".format(np_2d[0][0], np_2d[0][1], \n",
    "                                                  np_2d[0][2], argmax_2d_a1[0],\n",
    "                                                  np_2d[1][0], np_2d[1][1], \n",
    "                                                  np_2d[1][2], argmax_2d_a1[1],\n",
    "                                                  np_2d[2][0], np_2d[2][1], \n",
    "                                                  np_2d[2][2], argmax_2d_a1[2]))"
   ]
  },
  {
   "cell_type": "markdown",
   "metadata": {},
   "source": [
    "## expand_dims"
   ]
  },
  {
   "cell_type": "code",
   "execution_count": 5,
   "metadata": {},
   "outputs": [
    {
     "name": "stdout",
     "output_type": "stream",
     "text": [
      "np_a; \n",
      "[[0 1 2]\n",
      " [3 4 5]\n",
      " [6 7 8]]\n",
      "np_a.shape = (3, 3)\n",
      "\n",
      "np_b = np.expand_dims(np_a, axis=0); \n",
      "[[[0 1 2]\n",
      "  [3 4 5]\n",
      "  [6 7 8]]]\n",
      "np_b.shape = (1, 3, 3)\n",
      "\n",
      "np_c = np.expand_dims(np_a, axis=1); \n",
      "[[[0 1 2]]\n",
      "\n",
      " [[3 4 5]]\n",
      "\n",
      " [[6 7 8]]]\n",
      "np_c.shape = (3, 1, 3)\n",
      "\n",
      "np_d = np.expand_dims(np_a, axis=-1); \n",
      "[[[0]\n",
      "  [1]\n",
      "  [2]]\n",
      "\n",
      " [[3]\n",
      "  [4]\n",
      "  [5]]\n",
      "\n",
      " [[6]\n",
      "  [7]\n",
      "  [8]]]\n",
      "np_d.shape = (3, 3, 1)\n"
     ]
    }
   ],
   "source": [
    "np_a = np.arange(9).reshape(3,3)\n",
    "print(\"np_a; \\n{}\".format(np_a))\n",
    "print(\"np_a.shape = {}\".format(np_a.shape))\n",
    "\n",
    "np_b = np.expand_dims(np_a, axis=0)\n",
    "print(\"\\nnp_b = np.expand_dims(np_a, axis=0); \\n{}\".format(np_b))\n",
    "print(\"np_b.shape = {}\".format(np_b.shape))\n",
    "\n",
    "np_c = np.expand_dims(np_a, axis=1)\n",
    "print(\"\\nnp_c = np.expand_dims(np_a, axis=1); \\n{}\".format(np_c))\n",
    "print(\"np_c.shape = {}\".format(np_c.shape))\n",
    "\n",
    "np_d = np.expand_dims(np_a, axis=-1)\n",
    "print(\"\\nnp_d = np.expand_dims(np_a, axis=-1); \\n{}\".format(np_d))\n",
    "print(\"np_d.shape = {}\".format(np_d.shape))"
   ]
  },
  {
   "cell_type": "markdown",
   "metadata": {},
   "source": [
    "## means and standard deviations"
   ]
  },
  {
   "cell_type": "code",
   "execution_count": 6,
   "metadata": {},
   "outputs": [
    {
     "name": "stdout",
     "output_type": "stream",
     "text": [
      "np_2d; \n",
      "[[0 0 3]\n",
      " [0 9 3]\n",
      " [1 0 3]]\n",
      "np_2d.shape = (3, 3)\n",
      "np.mean(np_2d, axis=0) = [ 0.33333333  3.          3.        ]\n",
      "np.mean(np_2d, axis=1) = [ 1.          4.          1.33333333]\n"
     ]
    }
   ],
   "source": [
    "np_2d = np.array([[0,0,3],[0,9,3],[1,0,3]])\n",
    "print(\"np_2d; \\n{}\".format(np_2d))\n",
    "print(\"np_2d.shape = {}\".format(np_2d.shape))\n",
    "\n",
    "mean_0 = np.mean(np_2d, axis=0)\n",
    "print(\"np.mean(np_2d, axis=0) = {}\".format(mean_0))\n",
    "mean_1 = np.mean(np_2d, axis=1)\n",
    "print(\"np.mean(np_2d, axis=1) = {}\".format(mean_1))"
   ]
  },
  {
   "cell_type": "markdown",
   "metadata": {},
   "source": [
    "## minimum and maximum"
   ]
  },
  {
   "cell_type": "code",
   "execution_count": 7,
   "metadata": {},
   "outputs": [
    {
     "name": "stdout",
     "output_type": "stream",
     "text": [
      "np_2d; \n",
      "[[0 0 3]\n",
      " [0 9 3]\n",
      " [1 0 3]]\n",
      "np_2d.shape = (3, 3)\n",
      "\n",
      "np.min(np_2d, axis=0) = [0 0 3]\n",
      "np.min(np_2d, axis=1) = [0 0 0]\n",
      "\n",
      "np.max(np_2d, axis=0) = [1 9 3]\n",
      "np.max(np_2d, axis=1) = [3 9 3]\n"
     ]
    }
   ],
   "source": [
    "np_2d = np.array([[0,0,3],[0,9,3],[1,0,3]])\n",
    "print(\"np_2d; \\n{}\".format(np_2d))\n",
    "print(\"np_2d.shape = {}\".format(np_2d.shape))\n",
    "\n",
    "min_0 = np.min(np_2d, axis=0)\n",
    "print(\"\\nnp.min(np_2d, axis=0) = {}\".format(min_0))\n",
    "min_1 = np.min(np_2d, axis=1)\n",
    "print(\"np.min(np_2d, axis=1) = {}\".format(min_1))\n",
    "\n",
    "max_0 = np.max(np_2d, axis=0)\n",
    "print(\"\\nnp.max(np_2d, axis=0) = {}\".format(max_0))\n",
    "max_1 = np.max(np_2d, axis=1)\n",
    "print(\"np.max(np_2d, axis=1) = {}\".format(max_1))"
   ]
  },
  {
   "cell_type": "markdown",
   "metadata": {},
   "source": [
    "## Copy (deep vs shallow)\n",
    "\n",
    "### Shallow\n",
    "**It is important to note the difference between a shallow and deep copy in numpy.  This has previously fooled me and lead to a difficult bug to track down.**"
   ]
  },
  {
   "cell_type": "code",
   "execution_count": 8,
   "metadata": {},
   "outputs": [
    {
     "name": "stdout",
     "output_type": "stream",
     "text": [
      "base_matrix; \n",
      "[[0 1]\n",
      " [2 3]]\n",
      "base_matrix.shape = (2, 2)\n",
      "\n",
      "shallow_copy; \n",
      "[[0 1]\n",
      " [2 3]]\n",
      "\n",
      "shallow_copy *= 2; \n",
      "[[0 2]\n",
      " [4 6]]\n",
      "\n",
      "base_matrix; \n",
      "[[0 2]\n",
      " [4 6]]\n"
     ]
    }
   ],
   "source": [
    "base_matrix = np.arange(4).reshape(2,2)\n",
    "print(\"base_matrix; \\n{}\".format(base_matrix))\n",
    "print(\"base_matrix.shape = {}\".format(base_matrix.shape))\n",
    "\n",
    "shallow_copy = base_matrix\n",
    "print(\"\\nshallow_copy; \\n{}\".format(shallow_copy))\n",
    "\n",
    "shallow_copy *= 2\n",
    "print(\"\\nshallow_copy *= 2; \\n{}\".format(shallow_copy))\n",
    "\n",
    "# Base changes!!!!!\n",
    "print(\"\\nbase_matrix; \\n{}\".format(base_matrix))"
   ]
  },
  {
   "cell_type": "code",
   "execution_count": 9,
   "metadata": {},
   "outputs": [
    {
     "name": "stdout",
     "output_type": "stream",
     "text": [
      "base_matrix; \n",
      "[[0 1]\n",
      " [2 3]]\n",
      "base_matrix.shape = (2, 2)\n",
      "\n",
      "shallow_copy; \n",
      "[[0 1]\n",
      " [2 3]]\n",
      "\n",
      "base_matrix *= 2; \n",
      "[[0 2]\n",
      " [4 6]]\n",
      "\n",
      "shallow_copy; \n",
      "[[0 2]\n",
      " [4 6]]\n"
     ]
    }
   ],
   "source": [
    "base_matrix = np.arange(4).reshape(2,2)\n",
    "print(\"base_matrix; \\n{}\".format(base_matrix))\n",
    "print(\"base_matrix.shape = {}\".format(base_matrix.shape))\n",
    "\n",
    "shallow_copy = base_matrix\n",
    "print(\"\\nshallow_copy; \\n{}\".format(shallow_copy))\n",
    "\n",
    "base_matrix *= 2\n",
    "print(\"\\nbase_matrix *= 2; \\n{}\".format(base_matrix))\n",
    "\n",
    "# Shallow copy changes!!!\n",
    "print(\"\\nshallow_copy; \\n{}\".format(shallow_copy))"
   ]
  },
  {
   "cell_type": "markdown",
   "metadata": {},
   "source": [
    "### Deep copy"
   ]
  },
  {
   "cell_type": "code",
   "execution_count": 10,
   "metadata": {},
   "outputs": [
    {
     "name": "stdout",
     "output_type": "stream",
     "text": [
      "base_matrix; \n",
      "[[0 1]\n",
      " [2 3]]\n",
      "base_matrix.shape = (2, 2)\n",
      "\n",
      "deep_copy; \n",
      "[[0 1]\n",
      " [2 3]]\n",
      "\n",
      "deep_copy *= 2; \n",
      "[[0 2]\n",
      " [4 6]]\n",
      "\n",
      "base_matrix; \n",
      "[[0 1]\n",
      " [2 3]]\n"
     ]
    }
   ],
   "source": [
    "base_matrix = np.arange(4).reshape(2,2)\n",
    "print(\"base_matrix; \\n{}\".format(base_matrix))\n",
    "print(\"base_matrix.shape = {}\".format(base_matrix.shape))\n",
    "\n",
    "deep_copy = base_matrix.copy()\n",
    "print(\"\\ndeep_copy; \\n{}\".format(deep_copy))\n",
    "\n",
    "deep_copy *= 2\n",
    "print(\"\\ndeep_copy *= 2; \\n{}\".format(deep_copy))\n",
    "\n",
    "# Base doesn't change\n",
    "print(\"\\nbase_matrix; \\n{}\".format(base_matrix))"
   ]
  },
  {
   "cell_type": "code",
   "execution_count": 11,
   "metadata": {},
   "outputs": [
    {
     "name": "stdout",
     "output_type": "stream",
     "text": [
      "base_matrix; \n",
      "[[0 1]\n",
      " [2 3]]\n",
      "base_matrix.shape = (2, 2)\n",
      "\n",
      "deep_copy; \n",
      "[[0 1]\n",
      " [2 3]]\n",
      "\n",
      "base_matrix *= 2; \n",
      "[[0 2]\n",
      " [4 6]]\n",
      "\n",
      "deep_copy; \n",
      "[[0 1]\n",
      " [2 3]]\n"
     ]
    }
   ],
   "source": [
    "base_matrix = np.arange(4).reshape(2,2)\n",
    "print(\"base_matrix; \\n{}\".format(base_matrix))\n",
    "print(\"base_matrix.shape = {}\".format(base_matrix.shape))\n",
    "\n",
    "deep_copy = base_matrix.copy()\n",
    "print(\"\\ndeep_copy; \\n{}\".format(deep_copy))\n",
    "\n",
    "base_matrix *= 2\n",
    "print(\"\\nbase_matrix *= 2; \\n{}\".format(base_matrix))\n",
    "\n",
    "# deep doesn't change\n",
    "print(\"\\ndeep_copy; \\n{}\".format(deep_copy))"
   ]
  }
 ],
 "metadata": {
  "kernelspec": {
   "display_name": "Python 3",
   "language": "python",
   "name": "python3"
  },
  "language_info": {
   "codemirror_mode": {
    "name": "ipython",
    "version": 3
   },
   "file_extension": ".py",
   "mimetype": "text/x-python",
   "name": "python",
   "nbconvert_exporter": "python",
   "pygments_lexer": "ipython3",
   "version": "3.6.3"
  }
 },
 "nbformat": 4,
 "nbformat_minor": 2
}
