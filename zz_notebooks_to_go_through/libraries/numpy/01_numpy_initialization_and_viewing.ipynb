{
 "cells": [
  {
   "cell_type": "code",
   "execution_count": 1,
   "metadata": {},
   "outputs": [
    {
     "name": "stdout",
     "output_type": "stream",
     "text": [
      "Python: (3, 6, 5, 'final', 0)\n",
      "Numpy: 1.14.3\n"
     ]
    }
   ],
   "source": [
    "import sys\n",
    "import numpy as np\n",
    "\n",
    "print(\"Python: {}\".format(sys.version_info[:]))\n",
    "print('Numpy: {}'.format(np.__version__))"
   ]
  },
  {
   "cell_type": "markdown",
   "metadata": {
    "collapsed": true
   },
   "source": [
    "## Basics"
   ]
  },
  {
   "cell_type": "markdown",
   "metadata": {},
   "source": [
    "### Initialization"
   ]
  },
  {
   "cell_type": "code",
   "execution_count": 2,
   "metadata": {},
   "outputs": [],
   "source": [
    "# example of array > note the use of `[]`\n",
    "# {{{np_init_01\n",
    "np_ex = np.array([10,11,12,13,14,15,16,17,18,19,20])\n",
    "# END}}}"
   ]
  },
  {
   "cell_type": "code",
   "execution_count": 3,
   "metadata": {},
   "outputs": [
    {
     "name": "stdout",
     "output_type": "stream",
     "text": [
      "np_ex = [10 11 12 13 14 15 16 17 18 19 20]\n",
      "np_ex.shape = (11,)\n",
      "np_ex.dtype = int64\n"
     ]
    }
   ],
   "source": [
    "# viewing information about the object\n",
    "# {{{np_info_01\n",
    "print(\"np_ex = {}\".format(np_ex))\n",
    "print(\"np_ex.shape = {}\".format(np_ex.shape))\n",
    "print(\"np_ex.dtype = {}\".format(np_ex.dtype))\n",
    "# END}}}"
   ]
  },
  {
   "cell_type": "markdown",
   "metadata": {},
   "source": [
    "### Indexing"
   ]
  },
  {
   "cell_type": "code",
   "execution_count": 4,
   "metadata": {},
   "outputs": [
    {
     "name": "stdout",
     "output_type": "stream",
     "text": [
      "np_ex[3] = 13\n",
      "np_ex[-1] = 20\n"
     ]
    }
   ],
   "source": [
    "# {{{np_index_01\n",
    "print(\"np_ex[3] = {}\".format(np_ex[3]))\n",
    "print(\"np_ex[-1] = {}\".format(np_ex[-1]))\n",
    "# END}}}"
   ]
  },
  {
   "cell_type": "code",
   "execution_count": 5,
   "metadata": {},
   "outputs": [
    {
     "name": "stdout",
     "output_type": "stream",
     "text": [
      "np_ex[:] = [10 11 12 13 14 15 16 17 18 19 20]\n",
      "np_ex[:3] = [10 11 12]\n",
      "np_ex[3:] = [13 14 15 16 17 18 19 20]\n"
     ]
    }
   ],
   "source": [
    "# {{{np_index_02\n",
    "print(\"np_ex[:] = {}\".format(np_ex[:]))\n",
    "print(\"np_ex[:3] = {}\".format(np_ex[:3]))\n",
    "print(\"np_ex[3:] = {}\".format(np_ex[3:]))\n",
    "# END}}}"
   ]
  },
  {
   "cell_type": "code",
   "execution_count": 6,
   "metadata": {},
   "outputs": [
    {
     "name": "stdout",
     "output_type": "stream",
     "text": [
      "np_ex[::2] = [10 12 14 16 18 20]\n",
      "np_ex[::-1] = [20 19 18 17 16 15 14 13 12 11 10]\n",
      "np_ex[::-3] = [20 17 14 11]\n"
     ]
    }
   ],
   "source": [
    "# {{{np_index_03\n",
    "print(\"np_ex[::2] = {}\".format(np_ex[::2]))\n",
    "print(\"np_ex[::-1] = {}\".format(np_ex[::-1]))\n",
    "print(\"np_ex[::-3] = {}\".format(np_ex[::-3]))\n",
    "# END}}}"
   ]
  },
  {
   "cell_type": "markdown",
   "metadata": {},
   "source": [
    "Using dtype to specify the type"
   ]
  },
  {
   "cell_type": "code",
   "execution_count": 7,
   "metadata": {},
   "outputs": [
    {
     "name": "stdout",
     "output_type": "stream",
     "text": [
      "np_ex.dtype = float64\n"
     ]
    }
   ],
   "source": [
    "# {{{np_dtypearg_01\n",
    "np_ex = np.array([10,11,12,13,14,15,16,17,18,19,20], dtype=np.float64)\n",
    "# END}}}\n",
    "print(\"np_ex.dtype = {}\".format(np_ex.dtype))"
   ]
  },
  {
   "cell_type": "code",
   "execution_count": 8,
   "metadata": {},
   "outputs": [
    {
     "name": "stdout",
     "output_type": "stream",
     "text": [
      "np_ex.dtype = float64\n"
     ]
    }
   ],
   "source": [
    "# what will it do by default if they're all floats?\n",
    "np_ex = np.array([10.,11.,12.,13.,14.,15.,16.,17.,18.,19.,20.])\n",
    "print(\"np_ex.dtype = {}\".format(np_ex.dtype))"
   ]
  },
  {
   "cell_type": "markdown",
   "metadata": {},
   "source": [
    "Note what happens if just one is specified as a float"
   ]
  },
  {
   "cell_type": "code",
   "execution_count": 9,
   "metadata": {},
   "outputs": [
    {
     "name": "stdout",
     "output_type": "stream",
     "text": [
      "np_ex.dtype = float64\n"
     ]
    }
   ],
   "source": [
    "# {{{np_dtype_01\n",
    "np_ex = np.array([10,11.,12,13,14,15,16,17,18,19,20])\n",
    "# END}}}\n",
    "print(\"np_ex.dtype = {}\".format(np_ex.dtype))"
   ]
  },
  {
   "cell_type": "markdown",
   "metadata": {},
   "source": [
    "### Types\n",
    "Common types. Most common in **bold**. [Relevent documentation](https://docs.scipy.org/doc/numpy/user/basics.types.html)\n",
    "\n",
    "Boolean\n",
    "\n",
    "- **`bool`**\n",
    "\n",
    "Signed Int\n",
    "\n",
    "- `int8` _(-128, 127)_\n",
    "- `int16` _(-32768, 32767)_\n",
    "- `int32`  _(-2147483648, 2147483647)_\n",
    "- **`int64`** _(-9223372036854775808, 9223372036854775807)_\n",
    "\n",
    "Unsigned Int\n",
    "\n",
    "- `uint8` _(0, 255)_\n",
    "- `uint16` _(0, 65535)_\n",
    "- `uint32`  _(0, 4294967295)_\n",
    "- `uint64` _(0, 18446744073709551615)_\n",
    "\n",
    "Floats\n",
    "\n",
    "- `float16` \"half precision\"\n",
    "- `float32` \"single precision\"\n",
    "- **`float64`** \"double precision\""
   ]
  },
  {
   "cell_type": "markdown",
   "metadata": {},
   "source": [
    "## special initializations"
   ]
  },
  {
   "cell_type": "markdown",
   "metadata": {},
   "source": [
    "### zeros"
   ]
  },
  {
   "cell_type": "code",
   "execution_count": 10,
   "metadata": {},
   "outputs": [
    {
     "name": "stdout",
     "output_type": "stream",
     "text": [
      "np_ex = \n",
      "[[0. 0. 0. 0. 0. 0.]\n",
      " [0. 0. 0. 0. 0. 0.]\n",
      " [0. 0. 0. 0. 0. 0.]]\n",
      "np_ex.shape = (3, 6)\n",
      "np_ex.dtype = float64\n"
     ]
    }
   ],
   "source": [
    "# initialize by `shape` keyword\n",
    "# {{{np_zeros_01\n",
    "np_ex = np.zeros(shape=(3,6))\n",
    "# END}}}\n",
    "print(\"np_ex = \\n{}\".format(np_ex))\n",
    "print(\"np_ex.shape = {}\".format(np_ex.shape))\n",
    "print(\"np_ex.dtype = {}\".format(np_ex.dtype))"
   ]
  },
  {
   "cell_type": "markdown",
   "metadata": {},
   "source": [
    "### ones"
   ]
  },
  {
   "cell_type": "code",
   "execution_count": 11,
   "metadata": {},
   "outputs": [
    {
     "name": "stdout",
     "output_type": "stream",
     "text": [
      "np_ex = \n",
      "[[1. 1. 1. 1. 1. 1.]\n",
      " [1. 1. 1. 1. 1. 1.]\n",
      " [1. 1. 1. 1. 1. 1.]]\n",
      "np_ex.shape = (3, 6)\n",
      "np_ex.dtype = float64\n"
     ]
    }
   ],
   "source": [
    "# {{{np_ones_01\n",
    "np_ex = np.ones((3,6))\n",
    "# END}}}\n",
    "print(\"np_ex = \\n{}\".format(np_ex))\n",
    "print(\"np_ex.shape = {}\".format(np_ex.shape))\n",
    "print(\"np_ex.dtype = {}\".format(np_ex.dtype))"
   ]
  },
  {
   "cell_type": "markdown",
   "metadata": {},
   "source": [
    "### empty "
   ]
  },
  {
   "cell_type": "markdown",
   "metadata": {},
   "source": [
    "The output will vary"
   ]
  },
  {
   "cell_type": "code",
   "execution_count": 12,
   "metadata": {},
   "outputs": [
    {
     "name": "stdout",
     "output_type": "stream",
     "text": [
      "np_ex = \n",
      "[[2.72876563e+114 5.58294180e-322]\n",
      " [4.66005481e-310 4.66005485e-310]]\n",
      "np_ex.shape = (2, 2)\n",
      "np_ex.dtype = float64\n"
     ]
    }
   ],
   "source": [
    "# {{{np_empty_01\n",
    "np_ex = np.empty((2,2))\n",
    "# END}}}\n",
    "print(\"np_ex = \\n{}\".format(np_ex))\n",
    "print(\"np_ex.shape = {}\".format(np_ex.shape))\n",
    "print(\"np_ex.dtype = {}\".format(np_ex.dtype))"
   ]
  },
  {
   "cell_type": "markdown",
   "metadata": {},
   "source": [
    "### eye"
   ]
  },
  {
   "cell_type": "markdown",
   "metadata": {},
   "source": [
    "Identity matrix"
   ]
  },
  {
   "cell_type": "code",
   "execution_count": 13,
   "metadata": {},
   "outputs": [
    {
     "name": "stdout",
     "output_type": "stream",
     "text": [
      "np_ex = \n",
      "[[1. 0. 0.]\n",
      " [0. 1. 0.]\n",
      " [0. 0. 1.]]\n",
      "np_ex.shape = (3, 3)\n",
      "np_ex.dtype = float64\n"
     ]
    }
   ],
   "source": [
    "# {{{np_eye_01\n",
    "np_ex = np.eye(3)\n",
    "# END}}}\n",
    "print(\"np_ex = \\n{}\".format(np_ex))\n",
    "print(\"np_ex.shape = {}\".format(np_ex.shape))\n",
    "print(\"np_ex.dtype = {}\".format(np_ex.dtype))"
   ]
  },
  {
   "cell_type": "markdown",
   "metadata": {},
   "source": [
    "### full"
   ]
  },
  {
   "cell_type": "markdown",
   "metadata": {},
   "source": [
    "Constant"
   ]
  },
  {
   "cell_type": "code",
   "execution_count": 14,
   "metadata": {},
   "outputs": [
    {
     "name": "stdout",
     "output_type": "stream",
     "text": [
      "np_ex = \n",
      "[[9 9 9]\n",
      " [9 9 9]\n",
      " [9 9 9]]\n",
      "np_ex.shape = (3, 3)\n",
      "np_ex.dtype = int64\n"
     ]
    }
   ],
   "source": [
    "# {{{np_full_01\n",
    "np_ex = np.full((3,3), 9)\n",
    "# END}}}\n",
    "print(\"np_ex = \\n{}\".format(np_ex))\n",
    "print(\"np_ex.shape = {}\".format(np_ex.shape))\n",
    "print(\"np_ex.dtype = {}\".format(np_ex.dtype))"
   ]
  },
  {
   "cell_type": "markdown",
   "metadata": {},
   "source": [
    "## Reshape"
   ]
  },
  {
   "cell_type": "markdown",
   "metadata": {},
   "source": [
    ".arange will create a 1D array in the range [0,value)"
   ]
  },
  {
   "cell_type": "code",
   "execution_count": 15,
   "metadata": {},
   "outputs": [
    {
     "name": "stdout",
     "output_type": "stream",
     "text": [
      "vals_1D = \n",
      "[ 0  1  2  3  4  5  6  7  8  9 10 11 12 13 14 15 16 17 18 19 20 21 22 23\n",
      " 24 25 26]\n",
      "vals_1D.shape = (27,)\n"
     ]
    }
   ],
   "source": [
    "# 1D vs 2D vs 3D\n",
    "# {{{np_arange_01\n",
    "vals_1D = np.arange(27)\n",
    "# END}}}\n",
    "print(\"vals_1D = \\n{}\".format(vals_1D))\n",
    "print(\"vals_1D.shape = {}\".format(vals_1D.shape))"
   ]
  },
  {
   "cell_type": "code",
   "execution_count": 16,
   "metadata": {},
   "outputs": [
    {
     "name": "stdout",
     "output_type": "stream",
     "text": [
      "vals_2D = \n",
      "[[ 0  1  2]\n",
      " [ 3  4  5]\n",
      " [ 6  7  8]\n",
      " [ 9 10 11]\n",
      " [12 13 14]\n",
      " [15 16 17]\n",
      " [18 19 20]\n",
      " [21 22 23]\n",
      " [24 25 26]]\n",
      "vals_2D.shape = (9, 3)\n"
     ]
    }
   ],
   "source": [
    "# {{{np_reshape_01\n",
    "vals_2D = vals_1D.reshape(9,3)\n",
    "# END}}}\n",
    "print(\"vals_2D = \\n{}\".format(vals_2D))\n",
    "print(\"vals_2D.shape = {}\".format(vals_2D.shape))"
   ]
  },
  {
   "cell_type": "code",
   "execution_count": 17,
   "metadata": {},
   "outputs": [
    {
     "name": "stdout",
     "output_type": "stream",
     "text": [
      "vals_2D = \n",
      "[[ 0  1  2  3  4  5  6  7  8]\n",
      " [ 9 10 11 12 13 14 15 16 17]\n",
      " [18 19 20 21 22 23 24 25 26]]\n",
      "vals_2D.shape = (3, 9)\n"
     ]
    }
   ],
   "source": [
    "# {{{np_reshape_02\n",
    "vals_2D = vals_1D.reshape(3,9)\n",
    "# END}}}\n",
    "print(\"vals_2D = \\n{}\".format(vals_2D))\n",
    "print(\"vals_2D.shape = {}\".format(vals_2D.shape))"
   ]
  },
  {
   "cell_type": "code",
   "execution_count": 18,
   "metadata": {},
   "outputs": [
    {
     "name": "stdout",
     "output_type": "stream",
     "text": [
      "vals_3D = \n",
      "[[[ 0  1  2]\n",
      "  [ 3  4  5]\n",
      "  [ 6  7  8]]\n",
      "\n",
      " [[ 9 10 11]\n",
      "  [12 13 14]\n",
      "  [15 16 17]]\n",
      "\n",
      " [[18 19 20]\n",
      "  [21 22 23]\n",
      "  [24 25 26]]]\n",
      "vals_3D.shape = (3, 3, 3)\n"
     ]
    }
   ],
   "source": [
    "# {{{np_reshape_03\n",
    "vals_3D = vals_1D.reshape(3,3,3)\n",
    "# END}}}\n",
    "print(\"vals_3D = \\n{}\".format(vals_3D))\n",
    "print(\"vals_3D.shape = {}\".format(vals_3D.shape))"
   ]
  },
  {
   "cell_type": "markdown",
   "metadata": {},
   "source": [
    "### Convert list to numpy"
   ]
  },
  {
   "cell_type": "markdown",
   "metadata": {},
   "source": [
    "Convert list to numpy array"
   ]
  },
  {
   "cell_type": "code",
   "execution_count": 19,
   "metadata": {},
   "outputs": [
    {
     "name": "stdout",
     "output_type": "stream",
     "text": [
      "some_list: [1, 2, 3, 4, 5, 6, 7]\n",
      "list_as_arr: [1 2 3 4 5 6 7]\n",
      "list_as_arr.shape: (7,)\n"
     ]
    }
   ],
   "source": [
    "# {{{np_asarray_01\n",
    "some_list = [1,2,3,4,5,6,7]\n",
    "list_as_arr = np.asarray(some_list)\n",
    "# END}}}\n",
    "print(\"some_list: {}\".format(some_list))\n",
    "print(\"list_as_arr: {}\".format(list_as_arr))\n",
    "print(\"list_as_arr.shape: {}\".format(list_as_arr.shape))"
   ]
  },
  {
   "cell_type": "code",
   "execution_count": null,
   "metadata": {},
   "outputs": [],
   "source": []
  }
 ],
 "metadata": {
  "kernelspec": {
   "display_name": "Python 3",
   "language": "python",
   "name": "python3"
  },
  "language_info": {
   "codemirror_mode": {
    "name": "ipython",
    "version": 3
   },
   "file_extension": ".py",
   "mimetype": "text/x-python",
   "name": "python",
   "nbconvert_exporter": "python",
   "pygments_lexer": "ipython3",
   "version": "3.6.5"
  }
 },
 "nbformat": 4,
 "nbformat_minor": 2
}
