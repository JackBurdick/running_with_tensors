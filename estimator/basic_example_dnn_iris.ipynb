{
 "cells": [
  {
   "cell_type": "markdown",
   "metadata": {},
   "source": [
    "# Estimator example\n",
    "In this example, I will do a quick walkthrough on how to use the estimators API.\n",
    "\n",
    "## Overview\n",
    "- Classifier: [DNN](https://www.tensorflow.org/api_docs/python/tf/estimator/DNNClassifier)\n",
    "- Dataset: [IRIS](https://en.wikipedia.org/wiki/Iris_flower_data_set)\n",
    "- Final acc ~96%\n",
    "\n",
    "### Resources\n",
    "- [Estimators documentation](https://www.tensorflow.org/api_docs/python/tf/estimator)\n",
    "- [DNN Classifier Documentation](https://www.tensorflow.org/api_docs/python/tf/estimator/DNNClassifier)\n",
    "- [Tensorflow github repository](https://github.com/tensorflow/tensorflow)\n",
    "- Note: this notebook was inspired by the official tensorflow estimators quickstart guide, which can be found [here](https://www.tensorflow.org/get_started/estimator)"
   ]
  },
  {
   "cell_type": "code",
   "execution_count": 1,
   "metadata": {},
   "outputs": [
    {
     "name": "stdout",
     "output_type": "stream",
     "text": [
      "Python: (3, 5, 4, 'final', 0)\n",
      "TensorFlow: 1.4.0\n",
      "Default GPU Device: /device:GPU:0\n"
     ]
    }
   ],
   "source": [
    "# common packages\n",
    "import tensorflow as tf\n",
    "import numpy as np\n",
    "import sys\n",
    "import os\n",
    "\n",
    "# displaying images\n",
    "from matplotlib.pyplot import imshow\n",
    "%matplotlib inline\n",
    "\n",
    "# download data\n",
    "from six.moves.urllib.request import urlopen\n",
    "\n",
    "\n",
    "# Helper to make the output consistent\n",
    "SEED = 42\n",
    "def reset_graph(seed=SEED):\n",
    "    tf.reset_default_graph()\n",
    "    tf.set_random_seed(seed)\n",
    "    np.random.seed(seed)\n",
    "\n",
    "reset_graph()\n",
    "\n",
    "\n",
    "# set log level to supress messages, unless an error\n",
    "os.environ['TF_CPP_MIN_LOG_LEVEL'] = '3'\n",
    "\n",
    "# Version information\n",
    "print(\"Python: {}\".format(sys.version_info[:]))\n",
    "print('TensorFlow: {}'.format(tf.__version__))\n",
    "\n",
    "# Check if using GPU\n",
    "if not tf.test.gpu_device_name():\n",
    "    print('No GPU found')\n",
    "else:\n",
    "    print('Default GPU Device: {}'.format(tf.test.gpu_device_name()))"
   ]
  },
  {
   "cell_type": "markdown",
   "metadata": {},
   "source": [
    "## Obtain and load data"
   ]
  },
  {
   "cell_type": "code",
   "execution_count": 2,
   "metadata": {},
   "outputs": [],
   "source": [
    "## Download data paths\n",
    "ROOT_DATA = \"../ROOT_DATA/\"\n",
    "DATA_DIR = \"IRIS\"\n",
    "\n",
    "IRIS_TRAINING_PATH = os.path.join(ROOT_DATA, DATA_DIR, \"iris_training.csv\")\n",
    "IRIS_TRAINING_URL = \"http://download.tensorflow.org/data/iris_training.csv\"\n",
    "\n",
    "IRIS_TEST_PATH = os.path.join(ROOT_DATA, DATA_DIR, \"iris_test.csv\")\n",
    "IRIS_TEST_URL = \"http://download.tensorflow.org/data/iris_test.csv\""
   ]
  },
  {
   "cell_type": "code",
   "execution_count": 3,
   "metadata": {},
   "outputs": [
    {
     "name": "stdout",
     "output_type": "stream",
     "text": [
      "../ROOT_DATA/IRIS/iris_training.csv path exists\n",
      "../ROOT_DATA/IRIS/iris_test.csv path exists\n"
     ]
    }
   ],
   "source": [
    "# download data\n",
    "## training\n",
    "if not os.path.exists(IRIS_TRAINING_PATH):\n",
    "    raw = urlopen(IRIS_TRAINING_URL).read()\n",
    "    with open(IRIS_TRAINING_PATH, \"wb\") as f:\n",
    "        f.write(raw)\n",
    "    print(IRIS_TRAINING_PATH, \"path written\")\n",
    "else:\n",
    "    print(IRIS_TRAINING_PATH, \"path exists\")\n",
    "\n",
    "## test\n",
    "if not os.path.exists(IRIS_TEST_PATH):\n",
    "    raw = urlopen(IRIS_TEST_URL).read()\n",
    "    with open(IRIS_TEST_PATH, \"wb\") as f:\n",
    "        f.write(raw)\n",
    "    print(IRIS_TEST_PATH, \"path written\")\n",
    "else:\n",
    "    print(IRIS_TEST_PATH, \"path exists\")"
   ]
  },
  {
   "cell_type": "code",
   "execution_count": 4,
   "metadata": {},
   "outputs": [],
   "source": [
    "# Load dataset\n",
    "training_set = tf.contrib.learn.datasets.base.load_csv_with_header(\n",
    "                  filename=IRIS_TRAINING_PATH,\n",
    "                  target_dtype=np.int,\n",
    "                  features_dtype=np.float32)\n",
    "test_set = tf.contrib.learn.datasets.base.load_csv_with_header(\n",
    "              filename=IRIS_TEST_PATH,\n",
    "              target_dtype=np.int,\n",
    "              features_dtype=np.float32)"
   ]
  },
  {
   "cell_type": "markdown",
   "metadata": {},
   "source": [
    "## Classifier"
   ]
  },
  {
   "cell_type": "markdown",
   "metadata": {},
   "source": [
    "### Dataset information"
   ]
  },
  {
   "cell_type": "code",
   "execution_count": 5,
   "metadata": {},
   "outputs": [
    {
     "name": "stdout",
     "output_type": "stream",
     "text": [
      "training shape: (120, 4)\n",
      "test shape: (30, 4)\n",
      "num features = 4\n",
      "training target information: 120 targets, 3 classes\n",
      "test target information: 30 targets, 3 classes\n"
     ]
    }
   ],
   "source": [
    "# print some dataset information\n",
    "print(\"training shape:\", training_set.data.shape)\n",
    "print(\"test shape:\", test_set.data.shape)\n",
    "\n",
    "# quick check\n",
    "assert training_set.data.shape[1] == test_set.data.shape[1], \\\n",
    "    \"Rut row raggy, features don't match ({} vs {})\".format(training_set.data.shape[1],\n",
    "                                                            test_set.data.shape[0])\n",
    "if training_set.data.shape[1] == test_set.data.shape[1]:\n",
    "    NUM_FEATURES = training_set.data.shape[1]\n",
    "    print(\"num features = {}\".format(NUM_FEATURES))\n",
    "    \n",
    "print(\"training target information: {} targets, {} classes\".format(\\\n",
    "    len(training_set.target), len(set(training_set.target))))\n",
    "print(\"test target information: {} targets, {} classes\".format(\\\n",
    "    len(test_set.target), len(set(test_set.target))))"
   ]
  },
  {
   "cell_type": "code",
   "execution_count": 6,
   "metadata": {},
   "outputs": [
    {
     "name": "stdout",
     "output_type": "stream",
     "text": [
      "Number of classes = 3\n"
     ]
    }
   ],
   "source": [
    "# create feature column\n",
    "# in this example training_set.data.shape[1] is 4\n",
    "feature_columns = [tf.feature_column.numeric_column(\"x\", shape=[NUM_FEATURES])]\n",
    "if len(set(training_set.target)) == len(set(test_set.target)):\n",
    "    NUM_CLASSES = len(set(training_set.target))\n",
    "    print(\"Number of classes = {}\".format(NUM_CLASSES))\n",
    "else:\n",
    "    print(\"number of classes in training and test set don't match\")\n",
    "    NUM_CLASSES = len(set(training_set.target))\n",
    "    print(\"WARNING: num classes has been set to {} to match training set\".format(NUM_CLASSES))"
   ]
  },
  {
   "cell_type": "markdown",
   "metadata": {},
   "source": [
    "### Build Basic DNN Classifier"
   ]
  },
  {
   "cell_type": "code",
   "execution_count": 7,
   "metadata": {},
   "outputs": [
    {
     "name": "stdout",
     "output_type": "stream",
     "text": [
      "INFO:tensorflow:Using default config.\n",
      "INFO:tensorflow:Using config: {'_log_step_count_steps': 100, '_keep_checkpoint_every_n_hours': 10000, '_save_checkpoints_steps': None, '_save_checkpoints_secs': 600, '_cluster_spec': <tensorflow.python.training.server_lib.ClusterSpec object at 0x7f11a6654940>, '_master': '', '_tf_random_seed': None, '_is_chief': True, '_task_id': 0, '_num_worker_replicas': 1, '_service': None, '_num_ps_replicas': 0, '_task_type': 'worker', '_model_dir': './saver/iris_model', '_session_config': None, '_keep_checkpoint_max': 5, '_save_summary_steps': 100}\n"
     ]
    }
   ],
   "source": [
    "# DNN classifier will be projected to 20, then filtered down to num classes\n",
    "# hidden units = [input: NUM_FEATURES] -> 20, 16, 12, 8 -> [out: NUM_CLASSES]\n",
    "classifier = tf.estimator.DNNClassifier(feature_columns=feature_columns,\n",
    "                                        hidden_units=[20, 16, 12, 8],\n",
    "                                        n_classes=NUM_CLASSES,\n",
    "                                        model_dir=\"./saver/iris_model\")"
   ]
  },
  {
   "cell_type": "code",
   "execution_count": 8,
   "metadata": {},
   "outputs": [],
   "source": [
    "# create input function\n",
    "# \"x\" will accept our input data\n",
    "# y will accept our input labels\n",
    "train_input_fn = tf.estimator.inputs.numpy_input_fn(\n",
    "    x={\"x\": np.array(training_set.data)},\n",
    "    y=np.array(training_set.target),\n",
    "    num_epochs=None,\n",
    "    shuffle=True)"
   ]
  },
  {
   "cell_type": "markdown",
   "metadata": {},
   "source": [
    "### Train our classifier"
   ]
  },
  {
   "cell_type": "code",
   "execution_count": 9,
   "metadata": {
    "scrolled": true
   },
   "outputs": [
    {
     "name": "stdout",
     "output_type": "stream",
     "text": [
      "INFO:tensorflow:Create CheckpointSaverHook.\n",
      "INFO:tensorflow:Saving checkpoints for 1 into ./saver/iris_model/model.ckpt.\n",
      "INFO:tensorflow:loss = 273.882, step = 1\n",
      "INFO:tensorflow:global_step/sec: 419.817\n",
      "INFO:tensorflow:loss = 23.5532, step = 101 (0.240 sec)\n",
      "INFO:tensorflow:global_step/sec: 478.717\n",
      "INFO:tensorflow:loss = 6.82936, step = 201 (0.210 sec)\n",
      "INFO:tensorflow:global_step/sec: 448.616\n",
      "INFO:tensorflow:loss = 8.22148, step = 301 (0.221 sec)\n",
      "INFO:tensorflow:global_step/sec: 471.132\n",
      "INFO:tensorflow:loss = 8.47243, step = 401 (0.212 sec)\n",
      "INFO:tensorflow:global_step/sec: 509.801\n",
      "INFO:tensorflow:loss = 4.56142, step = 501 (0.197 sec)\n",
      "INFO:tensorflow:global_step/sec: 340.667\n",
      "INFO:tensorflow:loss = 5.29664, step = 601 (0.293 sec)\n",
      "INFO:tensorflow:global_step/sec: 370.546\n",
      "INFO:tensorflow:loss = 5.60795, step = 701 (0.270 sec)\n",
      "INFO:tensorflow:global_step/sec: 471.172\n",
      "INFO:tensorflow:loss = 7.73368, step = 801 (0.212 sec)\n",
      "INFO:tensorflow:global_step/sec: 474.105\n",
      "INFO:tensorflow:loss = 9.77283, step = 901 (0.211 sec)\n",
      "INFO:tensorflow:global_step/sec: 437.857\n",
      "INFO:tensorflow:loss = 4.22693, step = 1001 (0.230 sec)\n",
      "INFO:tensorflow:global_step/sec: 444.236\n",
      "INFO:tensorflow:loss = 11.3342, step = 1101 (0.225 sec)\n",
      "INFO:tensorflow:global_step/sec: 436.715\n",
      "INFO:tensorflow:loss = 5.54132, step = 1201 (0.229 sec)\n",
      "INFO:tensorflow:global_step/sec: 456.453\n",
      "INFO:tensorflow:loss = 2.65059, step = 1301 (0.221 sec)\n",
      "INFO:tensorflow:global_step/sec: 451.044\n",
      "INFO:tensorflow:loss = 5.82189, step = 1401 (0.218 sec)\n",
      "INFO:tensorflow:global_step/sec: 442.662\n",
      "INFO:tensorflow:loss = 5.68678, step = 1501 (0.227 sec)\n",
      "INFO:tensorflow:global_step/sec: 397.05\n",
      "INFO:tensorflow:loss = 9.6902, step = 1601 (0.251 sec)\n",
      "INFO:tensorflow:global_step/sec: 381.896\n",
      "INFO:tensorflow:loss = 2.83235, step = 1701 (0.264 sec)\n",
      "INFO:tensorflow:global_step/sec: 413.355\n",
      "INFO:tensorflow:loss = 2.69785, step = 1801 (0.241 sec)\n",
      "INFO:tensorflow:global_step/sec: 403.849\n",
      "INFO:tensorflow:loss = 6.45266, step = 1901 (0.248 sec)\n",
      "INFO:tensorflow:global_step/sec: 374.878\n",
      "INFO:tensorflow:loss = 4.70717, step = 2001 (0.267 sec)\n",
      "INFO:tensorflow:global_step/sec: 401.681\n",
      "INFO:tensorflow:loss = 10.6489, step = 2101 (0.247 sec)\n",
      "INFO:tensorflow:global_step/sec: 373.047\n",
      "INFO:tensorflow:loss = 10.3746, step = 2201 (0.270 sec)\n",
      "INFO:tensorflow:global_step/sec: 348.161\n",
      "INFO:tensorflow:loss = 7.39593, step = 2301 (0.286 sec)\n",
      "INFO:tensorflow:global_step/sec: 389.193\n",
      "INFO:tensorflow:loss = 1.77285, step = 2401 (0.260 sec)\n",
      "INFO:tensorflow:Saving checkpoints for 2500 into ./saver/iris_model/model.ckpt.\n",
      "INFO:tensorflow:Loss for final step: 10.3541.\n"
     ]
    },
    {
     "data": {
      "text/plain": [
       "<tensorflow.python.estimator.canned.dnn.DNNClassifier at 0x7f11a6654518>"
      ]
     },
     "execution_count": 9,
     "metadata": {},
     "output_type": "execute_result"
    }
   ],
   "source": [
    "classifier.train(input_fn=train_input_fn, steps=2500)"
   ]
  },
  {
   "cell_type": "markdown",
   "metadata": {},
   "source": [
    "### Evaluate our classifier"
   ]
  },
  {
   "cell_type": "markdown",
   "metadata": {},
   "source": [
    "IMPORTANT: Note the `num_epochs` specification here.  It is 1.  This is because when we evaluate our classifier with our test data we only want to run the set through the classifier once.  `test_input_fn` will iterate over the data (once in this case) then raise a `OutOfRangeError` which will stop the evaluation."
   ]
  },
  {
   "cell_type": "code",
   "execution_count": 10,
   "metadata": {},
   "outputs": [],
   "source": [
    "test_input_fn = tf.estimator.inputs.numpy_input_fn(\n",
    "      x={\"x\": np.array(test_set.data)},\n",
    "      y=np.array(test_set.target),\n",
    "      num_epochs=1,\n",
    "      shuffle=False)"
   ]
  },
  {
   "cell_type": "code",
   "execution_count": 11,
   "metadata": {},
   "outputs": [
    {
     "name": "stdout",
     "output_type": "stream",
     "text": [
      "INFO:tensorflow:Starting evaluation at 2017-11-06-16:13:12\n",
      "INFO:tensorflow:Restoring parameters from ./saver/iris_model/model.ckpt-2500\n",
      "INFO:tensorflow:Finished evaluation at 2017-11-06-16:13:12\n",
      "INFO:tensorflow:Saving dict for global step 2500: accuracy = 0.966667, average_loss = 0.0544802, global_step = 2500, loss = 1.63441\n"
     ]
    }
   ],
   "source": [
    "test_metrics = classifier.evaluate(input_fn=test_input_fn)"
   ]
  },
  {
   "cell_type": "code",
   "execution_count": 12,
   "metadata": {},
   "outputs": [
    {
     "name": "stdout",
     "output_type": "stream",
     "text": [
      "Test accuracy: 96.6667%\n"
     ]
    }
   ],
   "source": [
    "print(\"Test accuracy: {:.4f}%\".format(test_metrics[\"accuracy\"]*100))"
   ]
  }
 ],
 "metadata": {
  "kernelspec": {
   "display_name": "Python 3",
   "language": "python",
   "name": "python3"
  },
  "language_info": {
   "codemirror_mode": {
    "name": "ipython",
    "version": 3
   },
   "file_extension": ".py",
   "mimetype": "text/x-python",
   "name": "python",
   "nbconvert_exporter": "python",
   "pygments_lexer": "ipython3",
   "version": "3.5.4"
  }
 },
 "nbformat": 4,
 "nbformat_minor": 2
}
