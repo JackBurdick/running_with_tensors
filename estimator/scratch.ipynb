{
 "cells": [
  {
   "cell_type": "code",
   "execution_count": 1,
   "metadata": {},
   "outputs": [
    {
     "name": "stdout",
     "output_type": "stream",
     "text": [
      "Python: (3, 5, 4, 'final', 0)\n",
      "TensorFlow: 1.4.0\n",
      "Default GPU Device: /device:GPU:0\n"
     ]
    }
   ],
   "source": [
    "# common packages\n",
    "import tensorflow as tf\n",
    "import numpy as np\n",
    "import sys\n",
    "import os\n",
    "\n",
    "# displaying images\n",
    "from matplotlib.pyplot import imshow\n",
    "%matplotlib inline\n",
    "\n",
    "# download data\n",
    "from six.moves.urllib.request import urlopen\n",
    "\n",
    "\n",
    "# Helper to make the output consistent\n",
    "SEED = 42\n",
    "def reset_graph(seed=SEED):\n",
    "    tf.reset_default_graph()\n",
    "    tf.set_random_seed(seed)\n",
    "    np.random.seed(seed)\n",
    "\n",
    "reset_graph()\n",
    "\n",
    "\n",
    "# set log level to supress messages, unless an error\n",
    "os.environ['TF_CPP_MIN_LOG_LEVEL'] = '3'\n",
    "\n",
    "# Version information\n",
    "print(\"Python: {}\".format(sys.version_info[:]))\n",
    "print('TensorFlow: {}'.format(tf.__version__))\n",
    "\n",
    "# Check if using GPU\n",
    "if not tf.test.gpu_device_name():\n",
    "    print('No GPU found')\n",
    "else:\n",
    "    print('Default GPU Device: {}'.format(tf.test.gpu_device_name()))"
   ]
  },
  {
   "cell_type": "markdown",
   "metadata": {},
   "source": [
    "## Obtain and load data"
   ]
  },
  {
   "cell_type": "code",
   "execution_count": 2,
   "metadata": {},
   "outputs": [],
   "source": [
    "## Download data paths\n",
    "ROOT_DATA = \"../ROOT_DATA/\"\n",
    "DATA_DIR = \"IRIS\"\n",
    "\n",
    "IRIS_TRAINING_PATH = os.path.join(ROOT_DATA, DATA_DIR, \"iris_training.csv\")\n",
    "IRIS_TRAINING_URL = \"http://download.tensorflow.org/data/iris_training.csv\"\n",
    "\n",
    "IRIS_TEST_PATH = os.path.join(ROOT_DATA, DATA_DIR, \"iris_test.csv\")\n",
    "IRIS_TEST_URL = \"http://download.tensorflow.org/data/iris_test.csv\""
   ]
  },
  {
   "cell_type": "code",
   "execution_count": 3,
   "metadata": {},
   "outputs": [
    {
     "name": "stdout",
     "output_type": "stream",
     "text": [
      "../ROOT_DATA/IRIS/iris_training.csv path exists\n",
      "../ROOT_DATA/IRIS/iris_test.csv path exists\n"
     ]
    }
   ],
   "source": [
    "# download data\n",
    "## training\n",
    "if not os.path.exists(IRIS_TRAINING_PATH):\n",
    "    raw = urlopen(IRIS_TRAINING_URL).read()\n",
    "    with open(IRIS_TRAINING_PATH, \"wb\") as f:\n",
    "        f.write(raw)\n",
    "    print(IRIS_TRAINING_PATH, \"path written\")\n",
    "else:\n",
    "    print(IRIS_TRAINING_PATH, \"path exists\")\n",
    "\n",
    "## test\n",
    "if not os.path.exists(IRIS_TEST_PATH):\n",
    "    raw = urlopen(IRIS_TEST_URL).read()\n",
    "    with open(IRIS_TEST_PATH, \"wb\") as f:\n",
    "        f.write(raw)\n",
    "    print(IRIS_TEST_PATH, \"path written\")\n",
    "else:\n",
    "    print(IRIS_TEST_PATH, \"path exists\")"
   ]
  },
  {
   "cell_type": "code",
   "execution_count": 4,
   "metadata": {},
   "outputs": [],
   "source": [
    "# Load dataset\n",
    "training_set = tf.contrib.learn.datasets.base.load_csv_with_header(\n",
    "                  filename=IRIS_TRAINING_PATH,\n",
    "                  target_dtype=np.int,\n",
    "                  features_dtype=np.float32)\n",
    "test_set = tf.contrib.learn.datasets.base.load_csv_with_header(\n",
    "              filename=IRIS_TEST_PATH,\n",
    "              target_dtype=np.int,\n",
    "              features_dtype=np.float32)"
   ]
  },
  {
   "cell_type": "markdown",
   "metadata": {},
   "source": [
    "## Classifier"
   ]
  },
  {
   "cell_type": "markdown",
   "metadata": {},
   "source": [
    "### Dataset information"
   ]
  },
  {
   "cell_type": "code",
   "execution_count": 5,
   "metadata": {},
   "outputs": [
    {
     "name": "stdout",
     "output_type": "stream",
     "text": [
      "training shape: (120, 4)\n",
      "test shape: (30, 4)\n",
      "num features = 4\n",
      "training target information: 120 targets, 3 classes\n",
      "test target information: 30 targets, 3 classes\n"
     ]
    }
   ],
   "source": [
    "# print some dataset information\n",
    "print(\"training shape:\", training_set.data.shape)\n",
    "print(\"test shape:\", test_set.data.shape)\n",
    "\n",
    "# quick check\n",
    "assert training_set.data.shape[1] == test_set.data.shape[1], \\\n",
    "    \"Rut row raggy, features don't match ({} vs {})\".format(training_set.data.shape[1],\n",
    "                                                            test_set.data.shape[0])\n",
    "if training_set.data.shape[1] == test_set.data.shape[1]:\n",
    "    NUM_FEATURES = training_set.data.shape[1]\n",
    "    print(\"num features = {}\".format(NUM_FEATURES))\n",
    "    \n",
    "print(\"training target information: {} targets, {} classes\".format(\\\n",
    "    len(training_set.target), len(set(training_set.target))))\n",
    "print(\"test target information: {} targets, {} classes\".format(\\\n",
    "    len(test_set.target), len(set(test_set.target))))"
   ]
  },
  {
   "cell_type": "code",
   "execution_count": 6,
   "metadata": {},
   "outputs": [
    {
     "name": "stdout",
     "output_type": "stream",
     "text": [
      "Number of classes = 3\n"
     ]
    }
   ],
   "source": [
    "# create feature column\n",
    "# in this example training_set.data.shape[1] is 4\n",
    "feature_columns = [tf.feature_column.numeric_column(\"x\", shape=[NUM_FEATURES])]\n",
    "if len(set(training_set.target)) == len(set(test_set.target)):\n",
    "    NUM_CLASSES = len(set(training_set.target))\n",
    "    print(\"Number of classes = {}\".format(NUM_CLASSES))\n",
    "else:\n",
    "    print(\"number of classes in training and test set don't match\")\n",
    "    NUM_CLASSES = len(set(training_set.target))\n",
    "    print(\"WARNING: num classes has been set to {} to match training set\".format(NUM_CLASSES))"
   ]
  },
  {
   "cell_type": "markdown",
   "metadata": {},
   "source": [
    "### Build Basic DNN Classifier"
   ]
  },
  {
   "cell_type": "code",
   "execution_count": 7,
   "metadata": {},
   "outputs": [
    {
     "name": "stdout",
     "output_type": "stream",
     "text": [
      "INFO:tensorflow:Using default config.\n",
      "INFO:tensorflow:Using config: {'_cluster_spec': <tensorflow.python.training.server_lib.ClusterSpec object at 0x7fc5105ba8d0>, '_save_summary_steps': 100, '_tf_random_seed': None, '_keep_checkpoint_max': 5, '_num_worker_replicas': 1, '_save_checkpoints_steps': None, '_service': None, '_task_id': 0, '_num_ps_replicas': 0, '_master': '', '_model_dir': '/tmp/iris_model', '_is_chief': True, '_save_checkpoints_secs': 600, '_log_step_count_steps': 100, '_session_config': None, '_task_type': 'worker', '_keep_checkpoint_every_n_hours': 10000}\n"
     ]
    }
   ],
   "source": [
    "# DNN classifier will be projected to 20, then filtered down to num classes\n",
    "# hidden units = [input: NUM_FEATURES] -> 20, 16, 12, 8 -> [out: NUM_CLASSES]\n",
    "classifier = tf.estimator.DNNClassifier(feature_columns=feature_columns,\n",
    "                                        hidden_units=[10, 20, 10],\n",
    "                                        n_classes=NUM_CLASSES,\n",
    "                                        model_dir=\"/tmp/iris_model\")"
   ]
  },
  {
   "cell_type": "code",
   "execution_count": 8,
   "metadata": {},
   "outputs": [],
   "source": [
    "# create input function\n",
    "# \"x\" will accept our input data\n",
    "# y will accept our input labels\n",
    "train_input_fn = tf.estimator.inputs.numpy_input_fn(\n",
    "    x={\"x\": np.array(training_set.data)},\n",
    "    y=np.array(training_set.target),\n",
    "    num_epochs=None,\n",
    "    shuffle=True)"
   ]
  },
  {
   "cell_type": "markdown",
   "metadata": {},
   "source": [
    "### Train our classifier"
   ]
  },
  {
   "cell_type": "code",
   "execution_count": 9,
   "metadata": {
    "scrolled": true
   },
   "outputs": [
    {
     "name": "stdout",
     "output_type": "stream",
     "text": [
      "INFO:tensorflow:Create CheckpointSaverHook.\n",
      "INFO:tensorflow:Saving checkpoints for 1 into /tmp/iris_model/model.ckpt.\n",
      "INFO:tensorflow:step = 1, loss = 201.049\n",
      "INFO:tensorflow:global_step/sec: 375.226\n",
      "INFO:tensorflow:step = 101, loss = 16.4933 (0.267 sec)\n",
      "INFO:tensorflow:global_step/sec: 457.454\n",
      "INFO:tensorflow:step = 201, loss = 8.19692 (0.220 sec)\n",
      "INFO:tensorflow:global_step/sec: 402.874\n",
      "INFO:tensorflow:step = 301, loss = 6.31408 (0.249 sec)\n",
      "INFO:tensorflow:global_step/sec: 416.92\n",
      "INFO:tensorflow:step = 401, loss = 9.12889 (0.238 sec)\n",
      "INFO:tensorflow:global_step/sec: 396.901\n",
      "INFO:tensorflow:step = 501, loss = 7.02289 (0.254 sec)\n",
      "INFO:tensorflow:global_step/sec: 301.315\n",
      "INFO:tensorflow:step = 601, loss = 22.6839 (0.331 sec)\n",
      "INFO:tensorflow:global_step/sec: 397.084\n",
      "INFO:tensorflow:step = 701, loss = 4.06732 (0.250 sec)\n",
      "INFO:tensorflow:global_step/sec: 416.189\n",
      "INFO:tensorflow:step = 801, loss = 7.456 (0.240 sec)\n",
      "INFO:tensorflow:global_step/sec: 392.124\n",
      "INFO:tensorflow:step = 901, loss = 6.01622 (0.255 sec)\n",
      "INFO:tensorflow:global_step/sec: 327.788\n",
      "INFO:tensorflow:step = 1001, loss = 3.42179 (0.305 sec)\n",
      "INFO:tensorflow:global_step/sec: 318.183\n",
      "INFO:tensorflow:step = 1101, loss = 4.81359 (0.314 sec)\n",
      "INFO:tensorflow:global_step/sec: 266.173\n",
      "INFO:tensorflow:step = 1201, loss = 13.3482 (0.376 sec)\n",
      "INFO:tensorflow:global_step/sec: 351.627\n",
      "INFO:tensorflow:step = 1301, loss = 8.32868 (0.284 sec)\n",
      "INFO:tensorflow:global_step/sec: 348.522\n",
      "INFO:tensorflow:step = 1401, loss = 11.2063 (0.288 sec)\n",
      "INFO:tensorflow:global_step/sec: 377.356\n",
      "INFO:tensorflow:step = 1501, loss = 11.6899 (0.265 sec)\n",
      "INFO:tensorflow:global_step/sec: 461.03\n",
      "INFO:tensorflow:step = 1601, loss = 5.22354 (0.216 sec)\n",
      "INFO:tensorflow:global_step/sec: 456.764\n",
      "INFO:tensorflow:step = 1701, loss = 9.25989 (0.219 sec)\n",
      "INFO:tensorflow:global_step/sec: 448.528\n",
      "INFO:tensorflow:step = 1801, loss = 13.7636 (0.225 sec)\n",
      "INFO:tensorflow:global_step/sec: 450.042\n",
      "INFO:tensorflow:step = 1901, loss = 2.0308 (0.221 sec)\n",
      "INFO:tensorflow:global_step/sec: 424.037\n",
      "INFO:tensorflow:step = 2001, loss = 4.50254 (0.236 sec)\n",
      "INFO:tensorflow:global_step/sec: 453.794\n",
      "INFO:tensorflow:step = 2101, loss = 12.5315 (0.220 sec)\n",
      "INFO:tensorflow:global_step/sec: 451.859\n",
      "INFO:tensorflow:step = 2201, loss = 6.11968 (0.221 sec)\n",
      "INFO:tensorflow:global_step/sec: 433.118\n",
      "INFO:tensorflow:step = 2301, loss = 1.89264 (0.232 sec)\n",
      "INFO:tensorflow:global_step/sec: 387.114\n",
      "INFO:tensorflow:step = 2401, loss = 2.64991 (0.262 sec)\n",
      "INFO:tensorflow:Saving checkpoints for 2500 into /tmp/iris_model/model.ckpt.\n",
      "INFO:tensorflow:Loss for final step: 4.68577.\n"
     ]
    },
    {
     "data": {
      "text/plain": [
       "<tensorflow.python.estimator.canned.dnn.DNNClassifier at 0x7fc5105ad400>"
      ]
     },
     "execution_count": 9,
     "metadata": {},
     "output_type": "execute_result"
    }
   ],
   "source": [
    "classifier.train(input_fn=train_input_fn, steps=2500)"
   ]
  },
  {
   "cell_type": "markdown",
   "metadata": {},
   "source": [
    "### Evaluate our classifier"
   ]
  },
  {
   "cell_type": "code",
   "execution_count": 10,
   "metadata": {},
   "outputs": [],
   "source": [
    "test_input_fn = tf.estimator.inputs.numpy_input_fn(\n",
    "      x={\"x\": np.array(test_set.data)},\n",
    "      y=np.array(test_set.target),\n",
    "      num_epochs=1,\n",
    "      shuffle=False)"
   ]
  },
  {
   "cell_type": "code",
   "execution_count": 15,
   "metadata": {},
   "outputs": [
    {
     "name": "stdout",
     "output_type": "stream",
     "text": [
      "INFO:tensorflow:Starting evaluation at 2017-11-06-15:36:55\n",
      "INFO:tensorflow:Restoring parameters from /tmp/iris_model/model.ckpt-2500\n",
      "INFO:tensorflow:Finished evaluation at 2017-11-06-15:36:55\n",
      "INFO:tensorflow:Saving dict for global step 2500: accuracy = 0.966667, average_loss = 0.0492171, global_step = 2500, loss = 1.47651\n"
     ]
    }
   ],
   "source": [
    "test_metrics = classifier.evaluate(input_fn=test_input_fn)"
   ]
  },
  {
   "cell_type": "code",
   "execution_count": 19,
   "metadata": {},
   "outputs": [
    {
     "name": "stdout",
     "output_type": "stream",
     "text": [
      "Test accuracy: 96.6667%\n"
     ]
    }
   ],
   "source": [
    "print(\"Test accuracy: {:.4f}%\".format(test_metrics[\"accuracy\"]*100))"
   ]
  },
  {
   "cell_type": "code",
   "execution_count": null,
   "metadata": {},
   "outputs": [],
   "source": []
  }
 ],
 "metadata": {
  "kernelspec": {
   "display_name": "Python 3",
   "language": "python",
   "name": "python3"
  },
  "language_info": {
   "codemirror_mode": {
    "name": "ipython",
    "version": 3
   },
   "file_extension": ".py",
   "mimetype": "text/x-python",
   "name": "python",
   "nbconvert_exporter": "python",
   "pygments_lexer": "ipython3",
   "version": "3.5.4"
  }
 },
 "nbformat": 4,
 "nbformat_minor": 2
}
