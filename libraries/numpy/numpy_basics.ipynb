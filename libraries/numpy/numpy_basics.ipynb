{
 "cells": [
  {
   "cell_type": "code",
   "execution_count": 4,
   "metadata": {},
   "outputs": [
    {
     "name": "stdout",
     "output_type": "stream",
     "text": [
      "Python: (3, 6, 3, 'final', 0)\n",
      "Numpy: 1.13.3\n"
     ]
    }
   ],
   "source": [
    "import sys\n",
    "import numpy as np\n",
    "\n",
    "print(\"Python: {}\".format(sys.version_info[:]))\n",
    "print('Numpy: {}'.format(np.__version__))"
   ]
  },
  {
   "cell_type": "markdown",
   "metadata": {
    "collapsed": true
   },
   "source": [
    "## Basics"
   ]
  },
  {
   "cell_type": "code",
   "execution_count": 10,
   "metadata": {},
   "outputs": [],
   "source": [
    "# example of array\n",
    "# note the use of `[]`\n",
    "np_example = np.array([10,11,12,13,14,15,16,17,18,19,20])\n",
    "\n",
    "# this will throw an error\n",
    "# np_example = np.array(1,2,3,4)"
   ]
  },
  {
   "cell_type": "code",
   "execution_count": 15,
   "metadata": {},
   "outputs": [
    {
     "name": "stdout",
     "output_type": "stream",
     "text": [
      "np_example = [10 11 12 13 14 15 16 17 18 19 20]\n",
      "np_example[3] = 13\n",
      "np_example[-1] = 20\n",
      "np_example.shape = (11,)\n",
      "np_example.dtype = int64\n"
     ]
    }
   ],
   "source": [
    "# viewing information about the object\n",
    "print(\"np_example = {}\".format(np_example))\n",
    "print(\"np_example.shape = {}\".format(np_example.shape))\n",
    "print(\"np_example.dtype = {}\".format(np_example.dtype))"
   ]
  },
  {
   "cell_type": "code",
   "execution_count": 25,
   "metadata": {},
   "outputs": [
    {
     "name": "stdout",
     "output_type": "stream",
     "text": [
      "np_example[3] = 13\n",
      "np_example[-1] = 20\n",
      "\n",
      "np_example[:] = [10 11 12 13 14 15 16 17 18 19 20]\n",
      "np_example[:3] = [10 11 12]\n",
      "np_example[3:] = [13 14 15 16 17 18 19 20]\n",
      "\n",
      "np_example[::2] = [10 12 14 16 18 20]\n",
      "np_example[::-1] = [20 19 18 17 16 15 14 13 12 11 10]\n",
      "np_example[::-3] = [20 17 14 11]\n"
     ]
    }
   ],
   "source": [
    "# indexing objects in the array\n",
    "print(\"np_example[3] = {}\".format(np_example[3]))\n",
    "print(\"np_example[-1] = {}\".format(np_example[-1]))\n",
    "#\n",
    "print(\"\\nnp_example[:] = {}\".format(np_example[:]))\n",
    "print(\"np_example[:3] = {}\".format(np_example[:3]))\n",
    "print(\"np_example[3:] = {}\".format(np_example[3:]))\n",
    "#\n",
    "print(\"\\nnp_example[::2] = {}\".format(np_example[::2]))\n",
    "print(\"np_example[::-1] = {}\".format(np_example[::-1]))\n",
    "print(\"np_example[::-3] = {}\".format(np_example[::-3]))"
   ]
  },
  {
   "cell_type": "code",
   "execution_count": null,
   "metadata": {},
   "outputs": [],
   "source": []
  }
 ],
 "metadata": {
  "kernelspec": {
   "display_name": "Python 3",
   "language": "python",
   "name": "python3"
  },
  "language_info": {
   "codemirror_mode": {
    "name": "ipython",
    "version": 3
   },
   "file_extension": ".py",
   "mimetype": "text/x-python",
   "name": "python",
   "nbconvert_exporter": "python",
   "pygments_lexer": "ipython3",
   "version": "3.6.3"
  }
 },
 "nbformat": 4,
 "nbformat_minor": 2
}
