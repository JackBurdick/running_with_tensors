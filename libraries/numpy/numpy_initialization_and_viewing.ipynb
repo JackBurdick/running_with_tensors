{
 "cells": [
  {
   "cell_type": "code",
   "execution_count": 1,
   "metadata": {},
   "outputs": [
    {
     "name": "stdout",
     "output_type": "stream",
     "text": [
      "Python: (3, 6, 3, 'final', 0)\n",
      "Numpy: 1.13.3\n"
     ]
    }
   ],
   "source": [
    "import sys\n",
    "import numpy as np\n",
    "\n",
    "print(\"Python: {}\".format(sys.version_info[:]))\n",
    "print('Numpy: {}'.format(np.__version__))"
   ]
  },
  {
   "cell_type": "markdown",
   "metadata": {
    "collapsed": true
   },
   "source": [
    "## Basics"
   ]
  },
  {
   "cell_type": "code",
   "execution_count": 2,
   "metadata": {},
   "outputs": [],
   "source": [
    "# example of array\n",
    "# note the use of `[]`\n",
    "np_example = np.array([10,11,12,13,14,15,16,17,18,19,20])\n",
    "\n",
    "# this will throw an error\n",
    "# np_example = np.array(1,2,3,4)"
   ]
  },
  {
   "cell_type": "code",
   "execution_count": 3,
   "metadata": {},
   "outputs": [
    {
     "name": "stdout",
     "output_type": "stream",
     "text": [
      "np_example = [10 11 12 13 14 15 16 17 18 19 20]\n",
      "np_example.shape = (11,)\n",
      "np_example.dtype = int64\n"
     ]
    }
   ],
   "source": [
    "# viewing information about the object\n",
    "print(\"np_example = {}\".format(np_example))\n",
    "print(\"np_example.shape = {}\".format(np_example.shape))\n",
    "print(\"np_example.dtype = {}\".format(np_example.dtype))"
   ]
  },
  {
   "cell_type": "code",
   "execution_count": 4,
   "metadata": {},
   "outputs": [
    {
     "name": "stdout",
     "output_type": "stream",
     "text": [
      "np_example[3] = 13\n",
      "np_example[-1] = 20\n",
      "\n",
      "np_example[:] = [10 11 12 13 14 15 16 17 18 19 20]\n",
      "np_example[:3] = [10 11 12]\n",
      "np_example[3:] = [13 14 15 16 17 18 19 20]\n",
      "\n",
      "np_example[::2] = [10 12 14 16 18 20]\n",
      "np_example[::-1] = [20 19 18 17 16 15 14 13 12 11 10]\n",
      "np_example[::-3] = [20 17 14 11]\n"
     ]
    }
   ],
   "source": [
    "# indexing objects in the array\n",
    "print(\"np_example[3] = {}\".format(np_example[3]))\n",
    "print(\"np_example[-1] = {}\".format(np_example[-1]))\n",
    "#\n",
    "print(\"\\nnp_example[:] = {}\".format(np_example[:]))\n",
    "print(\"np_example[:3] = {}\".format(np_example[:3]))\n",
    "print(\"np_example[3:] = {}\".format(np_example[3:]))\n",
    "#\n",
    "print(\"\\nnp_example[::2] = {}\".format(np_example[::2]))\n",
    "print(\"np_example[::-1] = {}\".format(np_example[::-1]))\n",
    "print(\"np_example[::-3] = {}\".format(np_example[::-3]))"
   ]
  },
  {
   "cell_type": "code",
   "execution_count": 9,
   "metadata": {},
   "outputs": [
    {
     "name": "stdout",
     "output_type": "stream",
     "text": [
      "np_example.dtype = float64\n",
      "np_example.dtype = float64\n",
      "np_example.dtype = float64\n"
     ]
    }
   ],
   "source": [
    "# using dtype to specifiy the type\n",
    "np_example = np.array([10,11,12,13,14,15,16,17,18,19,20], dtype=np.float64)\n",
    "print(\"np_example.dtype = {}\".format(np_example.dtype))\n",
    "\n",
    "# what will it do by default if they're all floats?\n",
    "np_example = np.array([10.,11.,12.,13.,14.,15.,16.,17.,18.,19.,20.])\n",
    "print(\"np_example.dtype = {}\".format(np_example.dtype))\n",
    "\n",
    "# what will it do by default if just one is specified as a float?\n",
    "np_example = np.array([10,11.,12,13,14,15,16,17,18,19,20])\n",
    "print(\"np_example.dtype = {}\".format(np_example.dtype))"
   ]
  },
  {
   "cell_type": "markdown",
   "metadata": {},
   "source": [
    "### Types\n",
    "Common types. Most common in **bold**. [Relevent documentation](https://docs.scipy.org/doc/numpy/user/basics.types.html)\n",
    "\n",
    "Boolean\n",
    "\n",
    "- **`bool`**\n",
    "\n",
    "Signed Int\n",
    "\n",
    "- `int8` _(-128, 127)_\n",
    "- `int16` _(-32768, 32767)_\n",
    "- `int32`  _(-2147483648, 2147483647)_\n",
    "- **`int64`** _(-9223372036854775808, 9223372036854775807)_\n",
    "\n",
    "Unsigned Int\n",
    "\n",
    "- `uint8` _(0, 255)_\n",
    "- `uint16` _(0, 65535)_\n",
    "- `uint32`  _(0, 4294967295)_\n",
    "- `uint64` _(0, 18446744073709551615)_\n",
    "\n",
    "Floats\n",
    "\n",
    "- `float16` \"half precision\"\n",
    "- `float32` \"Single precision\"\n",
    "- **`float64`** \"Double precision\""
   ]
  },
  {
   "cell_type": "markdown",
   "metadata": {},
   "source": [
    "## special initializations"
   ]
  },
  {
   "cell_type": "code",
   "execution_count": 27,
   "metadata": {},
   "outputs": [
    {
     "name": "stdout",
     "output_type": "stream",
     "text": [
      "np_example = \n",
      "[[ 0.  0.  0.  0.  0.  0.]\n",
      " [ 0.  0.  0.  0.  0.  0.]\n",
      " [ 0.  0.  0.  0.  0.  0.]]\n",
      "np_example.shape = (3, 6)\n",
      "np_example.dtype = float64\n",
      "np_example = \n",
      "[[ 0.  0.  0.  0.  0.  0.]\n",
      " [ 0.  0.  0.  0.  0.  0.]\n",
      " [ 0.  0.  0.  0.  0.  0.]]\n",
      "np_example.shape = (3, 6)\n",
      "np_example.dtype = float64\n"
     ]
    }
   ],
   "source": [
    "# zeros\n",
    "\n",
    "# initialize by `shape` keyword\n",
    "np_example = np.zeros(shape=(3,6))\n",
    "print(\"np_example = \\n{}\".format(np_example))\n",
    "print(\"np_example.shape = {}\".format(np_example.shape))\n",
    "print(\"np_example.dtype = {}\".format(np_example.dtype))\n",
    "\n",
    "# if we don't use the keyword, this will still work\n",
    "np_example = np.zeros((3,6))\n",
    "print(\"np_example = \\n{}\".format(np_example))\n",
    "print(\"np_example.shape = {}\".format(np_example.shape))\n",
    "print(\"np_example.dtype = {}\".format(np_example.dtype))"
   ]
  },
  {
   "cell_type": "code",
   "execution_count": 16,
   "metadata": {},
   "outputs": [
    {
     "name": "stdout",
     "output_type": "stream",
     "text": [
      "np_example = \n",
      "[[ 1.  1.  1.  1.  1.  1.]\n",
      " [ 1.  1.  1.  1.  1.  1.]\n",
      " [ 1.  1.  1.  1.  1.  1.]]\n",
      "np_example.shape = (3, 6)\n",
      "np_example.dtype = float64\n"
     ]
    }
   ],
   "source": [
    "# ones\n",
    "np_example = np.ones((3,6))\n",
    "print(\"np_example = \\n{}\".format(np_example))\n",
    "print(\"np_example.shape = {}\".format(np_example.shape))\n",
    "print(\"np_example.dtype = {}\".format(np_example.dtype))"
   ]
  },
  {
   "cell_type": "code",
   "execution_count": 23,
   "metadata": {},
   "outputs": [
    {
     "name": "stdout",
     "output_type": "stream",
     "text": [
      "np_example = \n",
      "[[  9.88131292e-323   8.39911598e-323]\n",
      " [  6.91691904e-323   5.43472210e-323]]\n",
      "np_example.shape = (2, 2)\n",
      "np_example.dtype = float64\n"
     ]
    }
   ],
   "source": [
    "# empty\n",
    "# > output will vary\n",
    "np_example = np.empty((2,2))\n",
    "print(\"np_example = \\n{}\".format(np_example))\n",
    "print(\"np_example.shape = {}\".format(np_example.shape))\n",
    "print(\"np_example.dtype = {}\".format(np_example.dtype))"
   ]
  },
  {
   "cell_type": "markdown",
   "metadata": {},
   "source": [
    "## Reshape"
   ]
  },
  {
   "cell_type": "code",
   "execution_count": 34,
   "metadata": {},
   "outputs": [
    {
     "name": "stdout",
     "output_type": "stream",
     "text": [
      "vals_1D = \n",
      "[ 0  1  2  3  4  5  6  7  8  9 10 11 12 13 14 15 16 17 18 19 20 21 22 23 24\n",
      " 25 26]\n",
      "vals_1D.shape = (27,)\n",
      "\n",
      "vals_2D = \n",
      "[[ 0  1  2]\n",
      " [ 3  4  5]\n",
      " [ 6  7  8]\n",
      " [ 9 10 11]\n",
      " [12 13 14]\n",
      " [15 16 17]\n",
      " [18 19 20]\n",
      " [21 22 23]\n",
      " [24 25 26]]\n",
      "vals_2D.shape = (9, 3)\n",
      "\n",
      "vals_2D = \n",
      "[[ 0  1  2  3  4  5  6  7  8]\n",
      " [ 9 10 11 12 13 14 15 16 17]\n",
      " [18 19 20 21 22 23 24 25 26]]\n",
      "vals_2D.shape = (3, 9)\n",
      "\n",
      "vals_3D = \n",
      "[[[ 0  1  2]\n",
      "  [ 3  4  5]\n",
      "  [ 6  7  8]]\n",
      "\n",
      " [[ 9 10 11]\n",
      "  [12 13 14]\n",
      "  [15 16 17]]\n",
      "\n",
      " [[18 19 20]\n",
      "  [21 22 23]\n",
      "  [24 25 26]]]\n",
      "vals_3D.shape = (3, 3, 3)\n"
     ]
    }
   ],
   "source": [
    "# 1D vs 2D vs 3D\n",
    "# this will create a 1D array in the range [0,value)\n",
    "vals_1D = np.arange(27)\n",
    "print(\"vals_1D = \\n{}\".format(vals_1D))\n",
    "print(\"vals_1D.shape = {}\".format(vals_1D.shape))\n",
    "\n",
    "vals_2D = vals_1D.reshape(9,3)\n",
    "print(\"\\nvals_2D = \\n{}\".format(vals_2D))\n",
    "print(\"vals_2D.shape = {}\".format(vals_2D.shape))\n",
    "\n",
    "vals_2D = vals_1D.reshape(3,9)\n",
    "print(\"\\nvals_2D = \\n{}\".format(vals_2D))\n",
    "print(\"vals_2D.shape = {}\".format(vals_2D.shape))\n",
    "\n",
    "vals_3D = vals_1D.reshape(3,3,3)\n",
    "print(\"\\nvals_3D = \\n{}\".format(vals_3D))\n",
    "print(\"vals_3D.shape = {}\".format(vals_3D.shape))"
   ]
  },
  {
   "cell_type": "code",
   "execution_count": null,
   "metadata": {},
   "outputs": [],
   "source": [
    "## Convert list to numpy array"
   ]
  }
 ],
 "metadata": {
  "kernelspec": {
   "display_name": "Python 3",
   "language": "python",
   "name": "python3"
  },
  "language_info": {
   "codemirror_mode": {
    "name": "ipython",
    "version": 3
   },
   "file_extension": ".py",
   "mimetype": "text/x-python",
   "name": "python",
   "nbconvert_exporter": "python",
   "pygments_lexer": "ipython3",
   "version": "3.6.3"
  }
 },
 "nbformat": 4,
 "nbformat_minor": 2
}
