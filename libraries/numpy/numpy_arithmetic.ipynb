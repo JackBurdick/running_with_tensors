{
 "cells": [
  {
   "cell_type": "markdown",
   "metadata": {},
   "source": [
    "# Numpy Arithmetic\n",
    "\n",
    "Examples of how to perform basic arithmetic with numpy.  Several of the most common functions, specific to this domain, are shown below.  If you wish to see even more functions and examples please refer to the [documentation](https://docs.scipy.org/doc/numpy-dev/user/quickstart.html)\n",
    "\n",
    "## Overview\n",
    "\n",
    "\n",
    "\n",
    "## To be aware of\n",
    "> when operating on different types, the resulting type will be the more general or more precise type (upcasting)\n",
    "\n",
    "\n",
    "\n",
    "**Note**: Please see [numpy_initialization_and_viewing.ipynb](./numpy_initialization_and_viewing.ipynb) for an introduction to numpy as well as links for numpy documentation"
   ]
  },
  {
   "cell_type": "code",
   "execution_count": 1,
   "metadata": {},
   "outputs": [
    {
     "name": "stdout",
     "output_type": "stream",
     "text": [
      "Python: (3, 6, 3, 'final', 0)\n",
      "Numpy: 1.13.3\n"
     ]
    }
   ],
   "source": [
    "import sys\n",
    "import numpy as np\n",
    "\n",
    "print(\"Python: {}\".format(sys.version_info[:]))\n",
    "print('Numpy: {}'.format(np.__version__))"
   ]
  },
  {
   "cell_type": "code",
   "execution_count": 2,
   "metadata": {},
   "outputs": [
    {
     "name": "stdout",
     "output_type": "stream",
     "text": [
      "np_a; \n",
      "[[0 1 2]\n",
      " [3 4 5]\n",
      " [6 7 8]]\n",
      "np_a.shape = (3, 3), np_a.dtype = int64\n",
      "\n",
      "np_b; \n",
      "[[90 91 92]\n",
      " [93 94 95]\n",
      " [96 97 98]]\n",
      "np_b.shape = (3, 3), np_b.dtype = int64\n"
     ]
    }
   ],
   "source": [
    "np_a = np.arange(9).reshape(3,3)\n",
    "np_b = np.arange(90,99).reshape(3,3)\n",
    "\n",
    "print(\"np_a; \\n{}\".format(np_a))\n",
    "print(\"np_a.shape = {}, np_a.dtype = {}\".format(np_a.shape, np_a.dtype))\n",
    "\n",
    "print(\"\\nnp_b; \\n{}\".format(np_b))\n",
    "print(\"np_b.shape = {}, np_b.dtype = {}\".format(np_b.shape, np_b.dtype))"
   ]
  },
  {
   "cell_type": "markdown",
   "metadata": {},
   "source": [
    "## Subtraction"
   ]
  },
  {
   "cell_type": "code",
   "execution_count": 3,
   "metadata": {},
   "outputs": [
    {
     "name": "stdout",
     "output_type": "stream",
     "text": [
      "np_sub (np.subract(np_b, np_a)); \n",
      "[[90 90 90]\n",
      " [90 90 90]\n",
      " [90 90 90]]\n",
      "np_sub.shape = (3, 3), np_sub.dtype = int64\n",
      "\n",
      "np_sub (np_b - np_a); \n",
      "[[90 90 90]\n",
      " [90 90 90]\n",
      " [90 90 90]]\n",
      "np_sub.shape = (3, 3), np_sub.dtype = int64\n"
     ]
    }
   ],
   "source": [
    "# using np.subtract()\n",
    "np_sub = np.subtract(np_b, np_a)\n",
    "print(\"np_sub (np.subract(np_b, np_a)); \\n{}\".format(np_sub))\n",
    "print(\"np_sub.shape = {}, np_sub.dtype = {}\".format(np_sub.shape, np_sub.dtype))\n",
    "\n",
    "# using `-` operator\n",
    "np_sub = np_b - np_a\n",
    "print(\"\\nnp_sub (np_b - np_a); \\n{}\".format(np_sub))\n",
    "print(\"np_sub.shape = {}, np_sub.dtype = {}\".format(np_sub.shape, np_sub.dtype))"
   ]
  },
  {
   "cell_type": "code",
   "execution_count": 4,
   "metadata": {},
   "outputs": [
    {
     "name": "stdout",
     "output_type": "stream",
     "text": [
      "\n",
      "np_sub (np_b - 10); \n",
      "[[80 81 82]\n",
      " [83 84 85]\n",
      " [86 87 88]]\n",
      "np_sub.shape = (3, 3), np_sub.dtype = int64\n"
     ]
    }
   ],
   "source": [
    "np_sub = np_b - 10\n",
    "print(\"\\nnp_sub (np_b - 10); \\n{}\".format(np_sub))\n",
    "print(\"np_sub.shape = {}, np_sub.dtype = {}\".format(np_sub.shape, np_sub.dtype))"
   ]
  },
  {
   "cell_type": "code",
   "execution_count": 5,
   "metadata": {},
   "outputs": [
    {
     "name": "stdout",
     "output_type": "stream",
     "text": [
      "\n",
      "np_sub (np_b - 10); \n",
      "[[ 80.  81.  82.]\n",
      " [ 83.  84.  85.]\n",
      " [ 86.  87.  88.]]\n",
      "np_sub.shape = (3, 3), np_sub.dtype = float64\n"
     ]
    }
   ],
   "source": [
    "# NOTE THE CHANGE TO FLOAT!\n",
    "np_sub = np_b - 10.\n",
    "print(\"\\nnp_sub (np_b - 10); \\n{}\".format(np_sub))\n",
    "print(\"np_sub.shape = {}, np_sub.dtype = {}\".format(np_sub.shape, np_sub.dtype))"
   ]
  },
  {
   "cell_type": "markdown",
   "metadata": {},
   "source": [
    "## Addition"
   ]
  },
  {
   "cell_type": "code",
   "execution_count": 6,
   "metadata": {},
   "outputs": [
    {
     "name": "stdout",
     "output_type": "stream",
     "text": [
      "\n",
      "np_add (np_b + np_a); \n",
      "[[ 90  92  94]\n",
      " [ 96  98 100]\n",
      " [102 104 106]]\n",
      "np_add.shape = (3, 3), np_add.dtype = int64\n"
     ]
    }
   ],
   "source": [
    "np_add = np_b + np_a\n",
    "print(\"\\nnp_add (np_b + np_a); \\n{}\".format(np_add))\n",
    "print(\"np_add.shape = {}, np_add.dtype = {}\".format(np_add.shape, np_add.dtype))"
   ]
  },
  {
   "cell_type": "code",
   "execution_count": null,
   "metadata": {},
   "outputs": [],
   "source": []
  },
  {
   "cell_type": "markdown",
   "metadata": {},
   "source": []
  }
 ],
 "metadata": {
  "kernelspec": {
   "display_name": "Python 3",
   "language": "python",
   "name": "python3"
  },
  "language_info": {
   "codemirror_mode": {
    "name": "ipython",
    "version": 3
   },
   "file_extension": ".py",
   "mimetype": "text/x-python",
   "name": "python",
   "nbconvert_exporter": "python",
   "pygments_lexer": "ipython3",
   "version": "3.6.3"
  }
 },
 "nbformat": 4,
 "nbformat_minor": 2
}
