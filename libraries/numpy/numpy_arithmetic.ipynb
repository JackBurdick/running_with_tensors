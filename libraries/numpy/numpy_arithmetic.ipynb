{
 "cells": [
  {
   "cell_type": "markdown",
   "metadata": {},
   "source": [
    "# Numpy Arithmetic\n",
    "\n",
    "Examples of how to perform basic arithmetic with numpy.  Several of the most common functions, specific to this domain, are shown below.  If you wish to see even more functions and examples please refer to the [documentation](https://docs.scipy.org/doc/numpy-dev/user/quickstart.html)\n",
    "\n",
    "## Overview\n",
    "- Subtraction\n",
    "- Addition\n",
    "- Multiplication\n",
    "- Dot\n",
    "- Division\n",
    "- Exponent\n",
    "- Transpose\n",
    "\n",
    "\n",
    "## To be aware of\n",
    "> when operating on different types, the resulting type will be the more general or more precise type (upcasting)\n",
    "\n",
    "\n",
    "\n",
    "**Note**: Please see [numpy_initialization_and_viewing.ipynb](./numpy_initialization_and_viewing.ipynb) for an introduction to numpy as well as links for numpy documentation"
   ]
  },
  {
   "cell_type": "code",
   "execution_count": 1,
   "metadata": {},
   "outputs": [
    {
     "name": "stdout",
     "output_type": "stream",
     "text": [
      "Python: (3, 6, 3, 'final', 0)\n",
      "Numpy: 1.13.3\n"
     ]
    }
   ],
   "source": [
    "import sys\n",
    "import numpy as np\n",
    "\n",
    "print(\"Python: {}\".format(sys.version_info[:]))\n",
    "print('Numpy: {}'.format(np.__version__))"
   ]
  },
  {
   "cell_type": "code",
   "execution_count": 2,
   "metadata": {},
   "outputs": [
    {
     "name": "stdout",
     "output_type": "stream",
     "text": [
      "np_a; \n",
      "[[0 1 2]\n",
      " [3 4 5]\n",
      " [6 7 8]]\n",
      "np_a.shape = (3, 3), np_a.dtype = int64\n",
      "\n",
      "np_b; \n",
      "[[90 91 92]\n",
      " [93 94 95]\n",
      " [96 97 98]]\n",
      "np_b.shape = (3, 3), np_b.dtype = int64\n"
     ]
    }
   ],
   "source": [
    "np_a = np.arange(9).reshape(3,3)\n",
    "np_b = np.arange(90,99).reshape(3,3)\n",
    "\n",
    "print(\"np_a; \\n{}\".format(np_a))\n",
    "print(\"np_a.shape = {}, np_a.dtype = {}\".format(np_a.shape, np_a.dtype))\n",
    "\n",
    "print(\"\\nnp_b; \\n{}\".format(np_b))\n",
    "print(\"np_b.shape = {}, np_b.dtype = {}\".format(np_b.shape, np_b.dtype))"
   ]
  },
  {
   "cell_type": "markdown",
   "metadata": {},
   "source": [
    "## Subtraction"
   ]
  },
  {
   "cell_type": "code",
   "execution_count": 3,
   "metadata": {},
   "outputs": [
    {
     "name": "stdout",
     "output_type": "stream",
     "text": [
      "np_sub (np.subract(np_b, np_a)); \n",
      "[[90 90 90]\n",
      " [90 90 90]\n",
      " [90 90 90]]\n",
      "np_sub.shape = (3, 3), np_sub.dtype = int64\n",
      "\n",
      "np_sub (np_b - np_a); \n",
      "[[90 90 90]\n",
      " [90 90 90]\n",
      " [90 90 90]]\n",
      "np_sub.shape = (3, 3), np_sub.dtype = int64\n"
     ]
    }
   ],
   "source": [
    "# using np.subtract()\n",
    "np_sub = np.subtract(np_b, np_a)\n",
    "print(\"np_sub (np.subract(np_b, np_a)); \\n{}\".format(np_sub))\n",
    "print(\"np_sub.shape = {}, np_sub.dtype = {}\".format(np_sub.shape, np_sub.dtype))\n",
    "\n",
    "# using `-` operator\n",
    "np_sub = np_b - np_a\n",
    "print(\"\\nnp_sub (np_b - np_a); \\n{}\".format(np_sub))\n",
    "print(\"np_sub.shape = {}, np_sub.dtype = {}\".format(np_sub.shape, np_sub.dtype))"
   ]
  },
  {
   "cell_type": "code",
   "execution_count": 4,
   "metadata": {},
   "outputs": [
    {
     "name": "stdout",
     "output_type": "stream",
     "text": [
      "\n",
      "np_sub (np_b - 10); \n",
      "[[80 81 82]\n",
      " [83 84 85]\n",
      " [86 87 88]]\n",
      "np_sub.shape = (3, 3), np_sub.dtype = int64\n"
     ]
    }
   ],
   "source": [
    "np_sub = np_b - 10\n",
    "print(\"\\nnp_sub (np_b - 10); \\n{}\".format(np_sub))\n",
    "print(\"np_sub.shape = {}, np_sub.dtype = {}\".format(np_sub.shape, np_sub.dtype))"
   ]
  },
  {
   "cell_type": "markdown",
   "metadata": {},
   "source": [
    "### NOTE: Type conversion"
   ]
  },
  {
   "cell_type": "code",
   "execution_count": 5,
   "metadata": {},
   "outputs": [
    {
     "name": "stdout",
     "output_type": "stream",
     "text": [
      "np_sub (np_b - 10.); \n",
      "[[ 80.  81.  82.]\n",
      " [ 83.  84.  85.]\n",
      " [ 86.  87.  88.]]\n",
      "np_sub.shape = (3, 3), np_sub.dtype = float64\n"
     ]
    }
   ],
   "source": [
    "# NOTE THE CHANGE TO FLOAT!\n",
    "np_sub = np_b - 10.\n",
    "print(\"np_sub (np_b - 10.); \\n{}\".format(np_sub))\n",
    "print(\"np_sub.shape = {}, np_sub.dtype = {}\".format(np_sub.shape, np_sub.dtype))"
   ]
  },
  {
   "cell_type": "code",
   "execution_count": 6,
   "metadata": {},
   "outputs": [
    {
     "name": "stdout",
     "output_type": "stream",
     "text": [
      "np_b_32; \n",
      "[[90 91 92]\n",
      " [93 94 95]\n",
      " [96 97 98]]\n",
      "np_b_32.shape = (3, 3), np_b_32.dtype = int32\n"
     ]
    }
   ],
   "source": [
    "np_b_32 = np.arange(90,99).reshape(3,3).astype(np.int32)\n",
    "print(\"np_b_32; \\n{}\".format(np_b_32))\n",
    "print(\"np_b_32.shape = {}, np_b_32.dtype = {}\".format(np_b_32.shape, np_b_32.dtype))"
   ]
  },
  {
   "cell_type": "code",
   "execution_count": 7,
   "metadata": {},
   "outputs": [
    {
     "name": "stdout",
     "output_type": "stream",
     "text": [
      "np_sub (np_b_32 - np_a); \n",
      "[[90 90 90]\n",
      " [90 90 90]\n",
      " [90 90 90]]\n",
      "np_sub.shape = (3, 3), np_sub.dtype = int64\n"
     ]
    }
   ],
   "source": [
    "# note the change back up to int64\n",
    "np_sub = np_b_32 - np_a\n",
    "print(\"np_sub (np_b_32 - np_a); \\n{}\".format(np_sub))\n",
    "print(\"np_sub.shape = {}, np_sub.dtype = {}\".format(np_sub.shape, np_sub.dtype))"
   ]
  },
  {
   "cell_type": "code",
   "execution_count": 8,
   "metadata": {},
   "outputs": [
    {
     "name": "stdout",
     "output_type": "stream",
     "text": [
      "np_sub (np_b_32 - 10.); \n",
      "[[ 80.  81.  82.]\n",
      " [ 83.  84.  85.]\n",
      " [ 86.  87.  88.]]\n",
      "np_sub.shape = (3, 3), np_sub.dtype = float64\n"
     ]
    }
   ],
   "source": [
    "# this should be expected by now\n",
    "np_sub = np_b_32 - 10.\n",
    "print(\"np_sub (np_b_32 - 10.); \\n{}\".format(np_sub))\n",
    "print(\"np_sub.shape = {}, np_sub.dtype = {}\".format(np_sub.shape, np_sub.dtype))"
   ]
  },
  {
   "cell_type": "code",
   "execution_count": 9,
   "metadata": {},
   "outputs": [
    {
     "name": "stdout",
     "output_type": "stream",
     "text": [
      "np_b_32.dtype = int32, ten_float32.dtype = float32\n",
      "np_sub (np_b - ten_float32); \n",
      "[[ 80.  81.  82.]\n",
      " [ 83.  84.  85.]\n",
      " [ 86.  87.  88.]]\n",
      "np_sub.shape = (3, 3), np_sub.dtype = float64\n"
     ]
    }
   ],
   "source": [
    "# note: will go straight to float64\n",
    "ten_float32 = np.float32(10)\n",
    "print(\"np_b_32.dtype = {}, ten_float32.dtype = {}\".format(np_b_32.dtype, ten_float32.dtype))\n",
    "\n",
    "np_sub = np_b_32 - ten_float32\n",
    "print(\"np_sub (np_b - ten_float32); \\n{}\".format(np_sub))\n",
    "print(\"np_sub.shape = {}, np_sub.dtype = {}\".format(np_sub.shape, np_sub.dtype))"
   ]
  },
  {
   "cell_type": "markdown",
   "metadata": {},
   "source": [
    "### Bottom line:\n",
    "99% of the time, these conversions won't be an issue. It is just something to be aware of.  **This may arrise as an inssue when you are feeding placeholder tensors with numpy data** (ask me how I know...)"
   ]
  },
  {
   "cell_type": "markdown",
   "metadata": {},
   "source": [
    "## Addition"
   ]
  },
  {
   "cell_type": "code",
   "execution_count": 10,
   "metadata": {},
   "outputs": [
    {
     "name": "stdout",
     "output_type": "stream",
     "text": [
      "np_add (np_b + np_a); \n",
      "[[ 90  92  94]\n",
      " [ 96  98 100]\n",
      " [102 104 106]]\n",
      "np_add.shape = (3, 3), np_add.dtype = int64\n"
     ]
    }
   ],
   "source": [
    "np_add = np_b + np_a\n",
    "print(\"np_add (np_b + np_a); \\n{}\".format(np_add))\n",
    "print(\"np_add.shape = {}, np_add.dtype = {}\".format(np_add.shape, np_add.dtype))"
   ]
  },
  {
   "cell_type": "code",
   "execution_count": 11,
   "metadata": {},
   "outputs": [
    {
     "name": "stdout",
     "output_type": "stream",
     "text": [
      "np_add (np_a + np.asarray([10,20,30])); \n",
      "[[10 21 32]\n",
      " [13 24 35]\n",
      " [16 27 38]]\n",
      "np_add.shape = (3, 3), np_add.dtype = int64\n"
     ]
    }
   ],
   "source": [
    "np_add = np_a + np.asarray([10,20,30])\n",
    "print(\"np_add (np_a + np.asarray([10,20,30])); \\n{}\".format(np_add))\n",
    "print(\"np_add.shape = {}, np_add.dtype = {}\".format(np_add.shape, np_add.dtype))"
   ]
  },
  {
   "cell_type": "markdown",
   "metadata": {},
   "source": [
    "## Multiplication"
   ]
  },
  {
   "cell_type": "code",
   "execution_count": 12,
   "metadata": {},
   "outputs": [
    {
     "name": "stdout",
     "output_type": "stream",
     "text": [
      "np_mult (np_a * 10); \n",
      "[[ 0 10 20]\n",
      " [30 40 50]\n",
      " [60 70 80]]\n",
      "np_mult.shape = (3, 3), np_mult.dtype = int64\n"
     ]
    }
   ],
   "source": [
    "# note; the `*` operator operates elementwise \n",
    "# - please see np.dot() example below for dot product\n",
    "np_mult = np_a * 10\n",
    "print(\"np_mult (np_a * 10); \\n{}\".format(np_mult))\n",
    "print(\"np_mult.shape = {}, np_mult.dtype = {}\".format(np_mult.shape, np_mult.dtype))"
   ]
  },
  {
   "cell_type": "code",
   "execution_count": 13,
   "metadata": {},
   "outputs": [
    {
     "name": "stdout",
     "output_type": "stream",
     "text": [
      "np_mult (np_a * np.asarray([10,20,30])); \n",
      "[[  0  20  60]\n",
      " [ 30  80 150]\n",
      " [ 60 140 240]]\n",
      "np_mult.shape = (3, 3), np_mult.dtype = int64\n"
     ]
    }
   ],
   "source": [
    "np_mult = np_a * np.asarray([10,20,30])\n",
    "print(\"np_mult (np_a * np.asarray([10,20,30])); \\n{}\".format(np_mult))\n",
    "print(\"np_mult.shape = {}, np_mult.dtype = {}\".format(np_mult.shape, np_mult.dtype))"
   ]
  },
  {
   "cell_type": "code",
   "execution_count": 14,
   "metadata": {},
   "outputs": [
    {
     "name": "stdout",
     "output_type": "stream",
     "text": [
      "np_mult (np.multiply(np_b, np_a)); \n",
      "[[  0  91 184]\n",
      " [279 376 475]\n",
      " [576 679 784]]\n",
      "np_mult.shape = (3, 3), np_mult.dtype = int64\n",
      "\n",
      "np_mult (np_b * np_a); \n",
      "[[  0  91 184]\n",
      " [279 376 475]\n",
      " [576 679 784]]\n",
      "np_mult.shape = (3, 3), np_mult.dtype = int64\n"
     ]
    }
   ],
   "source": [
    "np_mult = np.multiply(np_b, np_a)\n",
    "print(\"np_mult (np.multiply(np_b, np_a)); \\n{}\".format(np_mult))\n",
    "print(\"np_mult.shape = {}, np_mult.dtype = {}\".format(np_mult.shape, np_mult.dtype))\n",
    "\n",
    "np_mult = np_b * np_a\n",
    "print(\"\\nnp_mult (np_b * np_a); \\n{}\".format(np_mult))\n",
    "print(\"np_mult.shape = {}, np_mult.dtype = {}\".format(np_mult.shape, np_mult.dtype))"
   ]
  },
  {
   "cell_type": "markdown",
   "metadata": {},
   "source": [
    "## Dot product"
   ]
  },
  {
   "cell_type": "code",
   "execution_count": 15,
   "metadata": {},
   "outputs": [
    {
     "name": "stdout",
     "output_type": "stream",
     "text": [
      "np_dot np.dot(np_a, 10); \n",
      "[[ 0 10 20]\n",
      " [30 40 50]\n",
      " [60 70 80]]\n",
      "np_dot.shape = (3, 3), np_dot.dtype = int64\n"
     ]
    }
   ],
   "source": [
    "np_dot = np.dot(np_a, 10)\n",
    "print(\"np_dot np.dot(np_a, 10); \\n{}\".format(np_dot))\n",
    "print(\"np_dot.shape = {}, np_dot.dtype = {}\".format(np_dot.shape, np_dot.dtype))"
   ]
  },
  {
   "cell_type": "code",
   "execution_count": 16,
   "metadata": {},
   "outputs": [
    {
     "name": "stdout",
     "output_type": "stream",
     "text": [
      "np_dot np.dot(np_a, np.asarray([10,20,30])); \n",
      "[ 80 260 440]\n",
      "np_dot.shape = (3,), np_dot.dtype = int64\n"
     ]
    }
   ],
   "source": [
    "np_dot = np.dot(np_a, np.asarray([10,20,30]))\n",
    "print(\"np_dot np.dot(np_a, np.asarray([10,20,30])); \\n{}\".format(np_dot))\n",
    "print(\"np_dot.shape = {}, np_dot.dtype = {}\".format(np_dot.shape, np_dot.dtype))"
   ]
  },
  {
   "cell_type": "code",
   "execution_count": 17,
   "metadata": {},
   "outputs": [
    {
     "name": "stdout",
     "output_type": "stream",
     "text": [
      "np_dot np.dot(np_a, np_b); \n",
      "[[ 285  288  291]\n",
      " [1122 1134 1146]\n",
      " [1959 1980 2001]]\n",
      "np_dot.shape = (3, 3), np_dot.dtype = int64\n",
      "\n",
      "np_dot np.dot(np_b, np_a); \n",
      "[[ 825 1098 1371]\n",
      " [ 852 1134 1416]\n",
      " [ 879 1170 1461]]\n",
      "np_dot.shape = (3, 3), np_dot.dtype = int64\n"
     ]
    }
   ],
   "source": [
    "np_dot = np.dot(np_a, np_b)\n",
    "print(\"np_dot np.dot(np_a, np_b); \\n{}\".format(np_dot))\n",
    "print(\"np_dot.shape = {}, np_dot.dtype = {}\".format(np_dot.shape, np_dot.dtype))\n",
    "\n",
    "np_dot = np.dot(np_b, np_a)\n",
    "print(\"\\nnp_dot np.dot(np_b, np_a); \\n{}\".format(np_dot))\n",
    "print(\"np_dot.shape = {}, np_dot.dtype = {}\".format(np_dot.shape, np_dot.dtype))"
   ]
  },
  {
   "cell_type": "markdown",
   "metadata": {},
   "source": [
    "## Division\n",
    "**NOTE**: conversion to float64 and the runtime warning for divide by zero as well as the \"inf\" output when a divide by zero is encountered"
   ]
  },
  {
   "cell_type": "code",
   "execution_count": 18,
   "metadata": {},
   "outputs": [
    {
     "name": "stdout",
     "output_type": "stream",
     "text": [
      "np_div (np.divide(np_a, np_b)); \n",
      "[[ 0.          0.01098901  0.02173913]\n",
      " [ 0.03225806  0.04255319  0.05263158]\n",
      " [ 0.0625      0.07216495  0.08163265]]\n",
      "np_div.shape = (3, 3), np_div.dtype = float64\n",
      "\n",
      "np_div (np_a / np_b); \n",
      "[[ 0.          0.01098901  0.02173913]\n",
      " [ 0.03225806  0.04255319  0.05263158]\n",
      " [ 0.0625      0.07216495  0.08163265]]\n",
      "np_div.shape = (3, 3), np_div.dtype = float64\n",
      "\n",
      "np_div (np_b / np_a); \n",
      "[[         inf  91.          46.        ]\n",
      " [ 31.          23.5         19.        ]\n",
      " [ 16.          13.85714286  12.25      ]]\n",
      "np_div.shape = (3, 3), np_div.dtype = float64\n"
     ]
    },
    {
     "name": "stderr",
     "output_type": "stream",
     "text": [
      "/home/jack/anaconda3/envs/tf_cpu/lib/python3.6/site-packages/ipykernel_launcher.py:10: RuntimeWarning: divide by zero encountered in true_divide\n",
      "  # Remove the CWD from sys.path while we load stuff.\n"
     ]
    }
   ],
   "source": [
    "np_div = np.divide(np_a, np_b)\n",
    "print(\"np_div (np.divide(np_a, np_b)); \\n{}\".format(np_div))\n",
    "print(\"np_div.shape = {}, np_div.dtype = {}\".format(np_div.shape, np_div.dtype))\n",
    "\n",
    "np_div = np_a / np_b\n",
    "print(\"\\nnp_div (np_a / np_b); \\n{}\".format(np_div))\n",
    "print(\"np_div.shape = {}, np_div.dtype = {}\".format(np_div.shape, np_div.dtype))\n",
    "\n",
    "# NOTE: RuntimeWarning: divide by zero encountered in true_divide\n",
    "np_div = np_b / np_a\n",
    "print(\"\\nnp_div (np_b / np_a); \\n{}\".format(np_div))\n",
    "print(\"np_div.shape = {}, np_div.dtype = {}\".format(np_div.shape, np_div.dtype))"
   ]
  },
  {
   "cell_type": "markdown",
   "metadata": {},
   "source": [
    "## Exponent"
   ]
  },
  {
   "cell_type": "code",
   "execution_count": 19,
   "metadata": {},
   "outputs": [
    {
     "name": "stdout",
     "output_type": "stream",
     "text": [
      "np_exp (np_a**2); \n",
      "[[ 0  1  4]\n",
      " [ 9 16 25]\n",
      " [36 49 64]]\n",
      "np_exp.shape = (3, 3), np_exp.dtype = int64\n"
     ]
    }
   ],
   "source": [
    "np_exp = np_a**2\n",
    "print(\"np_exp (np_a**2); \\n{}\".format(np_exp))\n",
    "print(\"np_exp.shape = {}, np_exp.dtype = {}\".format(np_exp.shape, np_exp.dtype))"
   ]
  },
  {
   "cell_type": "markdown",
   "metadata": {},
   "source": [
    "## Transpose"
   ]
  },
  {
   "cell_type": "code",
   "execution_count": 20,
   "metadata": {},
   "outputs": [
    {
     "name": "stdout",
     "output_type": "stream",
     "text": [
      "np_a; \n",
      "[[0 1 2]\n",
      " [3 4 5]\n",
      " [6 7 8]]\n",
      "\n",
      "np_a_t; \n",
      "[[0 3 6]\n",
      " [1 4 7]\n",
      " [2 5 8]]\n"
     ]
    }
   ],
   "source": [
    "np_a_t = np.transpose(np_a)\n",
    "print(\"np_a; \\n{}\".format(np_a))\n",
    "print(\"\\nnp_a_t; \\n{}\".format(np_a_t))"
   ]
  },
  {
   "cell_type": "code",
   "execution_count": null,
   "metadata": {},
   "outputs": [],
   "source": []
  }
 ],
 "metadata": {
  "kernelspec": {
   "display_name": "Python 3",
   "language": "python",
   "name": "python3"
  },
  "language_info": {
   "codemirror_mode": {
    "name": "ipython",
    "version": 3
   },
   "file_extension": ".py",
   "mimetype": "text/x-python",
   "name": "python",
   "nbconvert_exporter": "python",
   "pygments_lexer": "ipython3",
   "version": "3.6.3"
  }
 },
 "nbformat": 4,
 "nbformat_minor": 2
}
