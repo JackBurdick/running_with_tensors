{
 "cells": [
  {
   "cell_type": "code",
   "execution_count": 1,
   "metadata": {
    "collapsed": true
   },
   "outputs": [],
   "source": [
    "import pandas as pd\n",
    "import os"
   ]
  },
  {
   "cell_type": "markdown",
   "metadata": {},
   "source": [
    "## Obtain different dataset data.gov\n",
    "\n",
    "https://catalog.data.gov/dataset"
   ]
  },
  {
   "cell_type": "code",
   "execution_count": 2,
   "metadata": {
    "collapsed": true
   },
   "outputs": [],
   "source": [
    "from six.moves import urllib\n",
    "\n",
    "# where the datasets will be placed\n",
    "ROOT_DATA = \"../../../ROOT_DATA/data_gov/\"\n",
    "\n",
    "def fetch_data_from_URL(housing_url, file_name, sub_dir=\"tmp\", root_path=ROOT_DATA):\n",
    "    placement_dir = os.path.join(root_path, sub_dir)\n",
    "    if not os.path.isdir(placement_dir):\n",
    "        os.makedirs(placement_dir)\n",
    "    placement_path = os.path.join(placement_dir, file_name)\n",
    "    # only download if not already present\n",
    "    if not os.path.isfile(placement_path):\n",
    "        urllib.request.urlretrieve(housing_url, placement_path)\n",
    "    return placement_path"
   ]
  },
  {
   "cell_type": "code",
   "execution_count": 3,
   "metadata": {
    "collapsed": true
   },
   "outputs": [],
   "source": [
    "# working with excel: `conda install -c anaconda xlrd`\n",
    "fsa_xlsx_path = fetch_data_from_URL(\"https://ifap.ed.gov/fedschcodelist/attachments/1617FedSchoolCodeList.xlsx\",\n",
    "                    \"1617FedSchoolCodeList.xlsx\", sub_dir=\"FSA\")"
   ]
  },
  {
   "cell_type": "code",
   "execution_count": 4,
   "metadata": {},
   "outputs": [
    {
     "name": "stdout",
     "output_type": "stream",
     "text": [
      "<class 'pandas.core.frame.DataFrame'>\n",
      "RangeIndex: 6962 entries, 0 to 6961\n",
      "Data columns (total 5 columns):\n",
      "ID            6962 non-null int64\n",
      "SchoolCode    6962 non-null object\n",
      "StateCode     6962 non-null object\n",
      "ZipCode       6962 non-null int64\n",
      "PostalCode    229 non-null object\n",
      "dtypes: int64(2), object(3)\n",
      "memory usage: 272.0+ KB\n",
      "None\n"
     ]
    }
   ],
   "source": [
    "s_df = pd.read_excel(fsa_xlsx_path)\n",
    "s_df.drop('SchoolName', 1, inplace=True)\n",
    "s_df.drop('Address', 1, inplace=True)\n",
    "s_df.drop('City', 1, inplace=True)\n",
    "s_df.drop('Province', 1, inplace=True)\n",
    "s_df.drop('Country', 1, inplace=True)\n",
    "print(s_df.info())"
   ]
  },
  {
   "cell_type": "code",
   "execution_count": 5,
   "metadata": {},
   "outputs": [
    {
     "name": "stdout",
     "output_type": "stream",
     "text": [
      "      ID SchoolCode StateCode  ZipCode PostalCode\n",
      "0  25969     B04724        DE    19803        NaN\n",
      "1  25970     B06171        PR      902        NaN\n",
      "2  25971     B06511        TN    37320        NaN\n",
      "3  25972     B07022        IL    60610        NaN\n",
      "4  25973     B07624        OR    97201        NaN\n"
     ]
    }
   ],
   "source": [
    "print(s_df.head())"
   ]
  },
  {
   "cell_type": "code",
   "execution_count": 6,
   "metadata": {},
   "outputs": [
    {
     "data": {
      "text/html": [
       "<div>\n",
       "<table border=\"1\" class=\"dataframe\">\n",
       "  <thead>\n",
       "    <tr style=\"text-align: right;\">\n",
       "      <th></th>\n",
       "      <th>ID</th>\n",
       "      <th>SchoolCode</th>\n",
       "      <th>ZipCode</th>\n",
       "      <th>PostalCode</th>\n",
       "    </tr>\n",
       "    <tr>\n",
       "      <th>StateCode</th>\n",
       "      <th></th>\n",
       "      <th></th>\n",
       "      <th></th>\n",
       "      <th></th>\n",
       "    </tr>\n",
       "  </thead>\n",
       "  <tbody>\n",
       "    <tr>\n",
       "      <th>AK</th>\n",
       "      <td>27243</td>\n",
       "      <td>001065</td>\n",
       "      <td>99801</td>\n",
       "      <td>NaN</td>\n",
       "    </tr>\n",
       "    <tr>\n",
       "      <th>AK</th>\n",
       "      <td>30109</td>\n",
       "      <td>011462</td>\n",
       "      <td>99514</td>\n",
       "      <td>NaN</td>\n",
       "    </tr>\n",
       "    <tr>\n",
       "      <th>AK</th>\n",
       "      <td>27241</td>\n",
       "      <td>001061</td>\n",
       "      <td>99508</td>\n",
       "      <td>NaN</td>\n",
       "    </tr>\n",
       "    <tr>\n",
       "      <th>AK</th>\n",
       "      <td>31676</td>\n",
       "      <td>031603</td>\n",
       "      <td>99664</td>\n",
       "      <td>NaN</td>\n",
       "    </tr>\n",
       "    <tr>\n",
       "      <th>AK</th>\n",
       "      <td>27242</td>\n",
       "      <td>001063</td>\n",
       "      <td>99775</td>\n",
       "      <td>NaN</td>\n",
       "    </tr>\n",
       "  </tbody>\n",
       "</table>\n",
       "</div>"
      ],
      "text/plain": [
       "              ID SchoolCode  ZipCode PostalCode\n",
       "StateCode                                      \n",
       "AK         27243     001065    99801        NaN\n",
       "AK         30109     011462    99514        NaN\n",
       "AK         27241     001061    99508        NaN\n",
       "AK         31676     031603    99664        NaN\n",
       "AK         27242     001063    99775        NaN"
      ]
     },
     "execution_count": 6,
     "metadata": {},
     "output_type": "execute_result"
    }
   ],
   "source": [
    "# will set the index to the ID value\n",
    "s_df.set_index(\"StateCode\").sort_index().head()"
   ]
  },
  {
   "cell_type": "code",
   "execution_count": 7,
   "metadata": {},
   "outputs": [
    {
     "data": {
      "text/html": [
       "<div>\n",
       "<table border=\"1\" class=\"dataframe\">\n",
       "  <thead>\n",
       "    <tr style=\"text-align: right;\">\n",
       "      <th></th>\n",
       "      <th></th>\n",
       "      <th>ID</th>\n",
       "      <th>SchoolCode</th>\n",
       "      <th>PostalCode</th>\n",
       "    </tr>\n",
       "    <tr>\n",
       "      <th>StateCode</th>\n",
       "      <th>ZipCode</th>\n",
       "      <th></th>\n",
       "      <th></th>\n",
       "      <th></th>\n",
       "    </tr>\n",
       "  </thead>\n",
       "  <tbody>\n",
       "    <tr>\n",
       "      <th rowspan=\"10\" valign=\"top\">AK</th>\n",
       "      <th>99507</th>\n",
       "      <td>31180</td>\n",
       "      <td>017066</td>\n",
       "      <td>NaN</td>\n",
       "    </tr>\n",
       "    <tr>\n",
       "      <th>99508</th>\n",
       "      <td>27241</td>\n",
       "      <td>001061</td>\n",
       "      <td>NaN</td>\n",
       "    </tr>\n",
       "    <tr>\n",
       "      <th>99508</th>\n",
       "      <td>31260</td>\n",
       "      <td>017377</td>\n",
       "      <td>NaN</td>\n",
       "    </tr>\n",
       "    <tr>\n",
       "      <th>99514</th>\n",
       "      <td>30109</td>\n",
       "      <td>011462</td>\n",
       "      <td>NaN</td>\n",
       "    </tr>\n",
       "    <tr>\n",
       "      <th>99588</th>\n",
       "      <td>30499</td>\n",
       "      <td>014325</td>\n",
       "      <td>NaN</td>\n",
       "    </tr>\n",
       "    <tr>\n",
       "      <th>99664</th>\n",
       "      <td>31676</td>\n",
       "      <td>031603</td>\n",
       "      <td>NaN</td>\n",
       "    </tr>\n",
       "    <tr>\n",
       "      <th>99669</th>\n",
       "      <td>32248</td>\n",
       "      <td>041386</td>\n",
       "      <td>NaN</td>\n",
       "    </tr>\n",
       "    <tr>\n",
       "      <th>99723</th>\n",
       "      <td>31811</td>\n",
       "      <td>034613</td>\n",
       "      <td>NaN</td>\n",
       "    </tr>\n",
       "    <tr>\n",
       "      <th>99775</th>\n",
       "      <td>27242</td>\n",
       "      <td>001063</td>\n",
       "      <td>NaN</td>\n",
       "    </tr>\n",
       "    <tr>\n",
       "      <th>99801</th>\n",
       "      <td>27243</td>\n",
       "      <td>001065</td>\n",
       "      <td>NaN</td>\n",
       "    </tr>\n",
       "  </tbody>\n",
       "</table>\n",
       "</div>"
      ],
      "text/plain": [
       "                      ID SchoolCode PostalCode\n",
       "StateCode ZipCode                             \n",
       "AK        99507    31180     017066        NaN\n",
       "          99508    27241     001061        NaN\n",
       "          99508    31260     017377        NaN\n",
       "          99514    30109     011462        NaN\n",
       "          99588    30499     014325        NaN\n",
       "          99664    31676     031603        NaN\n",
       "          99669    32248     041386        NaN\n",
       "          99723    31811     034613        NaN\n",
       "          99775    27242     001063        NaN\n",
       "          99801    27243     001065        NaN"
      ]
     },
     "execution_count": 7,
     "metadata": {},
     "output_type": "execute_result"
    }
   ],
   "source": [
    "# order is important in this list\n",
    "n_df = s_df.set_index([\"StateCode\", \"ZipCode\"]).sort_index()\n",
    "n_df.head(10)"
   ]
  },
  {
   "cell_type": "code",
   "execution_count": 8,
   "metadata": {},
   "outputs": [
    {
     "data": {
      "text/html": [
       "<div>\n",
       "<table border=\"1\" class=\"dataframe\">\n",
       "  <thead>\n",
       "    <tr style=\"text-align: right;\">\n",
       "      <th></th>\n",
       "      <th>ID</th>\n",
       "      <th>SchoolCode</th>\n",
       "      <th>PostalCode</th>\n",
       "    </tr>\n",
       "    <tr>\n",
       "      <th>ZipCode</th>\n",
       "      <th></th>\n",
       "      <th></th>\n",
       "      <th></th>\n",
       "    </tr>\n",
       "  </thead>\n",
       "  <tbody>\n",
       "    <tr>\n",
       "      <th>99507</th>\n",
       "      <td>31180</td>\n",
       "      <td>017066</td>\n",
       "      <td>NaN</td>\n",
       "    </tr>\n",
       "    <tr>\n",
       "      <th>99508</th>\n",
       "      <td>27241</td>\n",
       "      <td>001061</td>\n",
       "      <td>NaN</td>\n",
       "    </tr>\n",
       "    <tr>\n",
       "      <th>99508</th>\n",
       "      <td>31260</td>\n",
       "      <td>017377</td>\n",
       "      <td>NaN</td>\n",
       "    </tr>\n",
       "    <tr>\n",
       "      <th>99514</th>\n",
       "      <td>30109</td>\n",
       "      <td>011462</td>\n",
       "      <td>NaN</td>\n",
       "    </tr>\n",
       "    <tr>\n",
       "      <th>99588</th>\n",
       "      <td>30499</td>\n",
       "      <td>014325</td>\n",
       "      <td>NaN</td>\n",
       "    </tr>\n",
       "    <tr>\n",
       "      <th>99664</th>\n",
       "      <td>31676</td>\n",
       "      <td>031603</td>\n",
       "      <td>NaN</td>\n",
       "    </tr>\n",
       "    <tr>\n",
       "      <th>99669</th>\n",
       "      <td>32248</td>\n",
       "      <td>041386</td>\n",
       "      <td>NaN</td>\n",
       "    </tr>\n",
       "    <tr>\n",
       "      <th>99723</th>\n",
       "      <td>31811</td>\n",
       "      <td>034613</td>\n",
       "      <td>NaN</td>\n",
       "    </tr>\n",
       "    <tr>\n",
       "      <th>99775</th>\n",
       "      <td>27242</td>\n",
       "      <td>001063</td>\n",
       "      <td>NaN</td>\n",
       "    </tr>\n",
       "    <tr>\n",
       "      <th>99801</th>\n",
       "      <td>27243</td>\n",
       "      <td>001065</td>\n",
       "      <td>NaN</td>\n",
       "    </tr>\n",
       "  </tbody>\n",
       "</table>\n",
       "</div>"
      ],
      "text/plain": [
       "            ID SchoolCode PostalCode\n",
       "ZipCode                             \n",
       "99507    31180     017066        NaN\n",
       "99508    27241     001061        NaN\n",
       "99508    31260     017377        NaN\n",
       "99514    30109     011462        NaN\n",
       "99588    30499     014325        NaN\n",
       "99664    31676     031603        NaN\n",
       "99669    32248     041386        NaN\n",
       "99723    31811     034613        NaN\n",
       "99775    27242     001063        NaN\n",
       "99801    27243     001065        NaN"
      ]
     },
     "execution_count": 8,
     "metadata": {},
     "output_type": "execute_result"
    }
   ],
   "source": [
    "# Extracting row\n",
    "n_df.loc['AK']"
   ]
  },
  {
   "cell_type": "code",
   "execution_count": 9,
   "metadata": {},
   "outputs": [
    {
     "data": {
      "text/html": [
       "<div>\n",
       "<table border=\"1\" class=\"dataframe\">\n",
       "  <thead>\n",
       "    <tr style=\"text-align: right;\">\n",
       "      <th></th>\n",
       "      <th></th>\n",
       "      <th>ID</th>\n",
       "      <th>SchoolCode</th>\n",
       "      <th>PostalCode</th>\n",
       "    </tr>\n",
       "    <tr>\n",
       "      <th>StateCode</th>\n",
       "      <th>ZipCode</th>\n",
       "      <th></th>\n",
       "      <th></th>\n",
       "      <th></th>\n",
       "    </tr>\n",
       "  </thead>\n",
       "  <tbody>\n",
       "    <tr>\n",
       "      <th>AK</th>\n",
       "      <th>99507</th>\n",
       "      <td>31180</td>\n",
       "      <td>017066</td>\n",
       "      <td>NaN</td>\n",
       "    </tr>\n",
       "  </tbody>\n",
       "</table>\n",
       "</div>"
      ],
      "text/plain": [
       "                      ID SchoolCode PostalCode\n",
       "StateCode ZipCode                             \n",
       "AK        99507    31180     017066        NaN"
      ]
     },
     "execution_count": 9,
     "metadata": {},
     "output_type": "execute_result"
    }
   ],
   "source": [
    "n_df.loc[('AK',99507)]"
   ]
  },
  {
   "cell_type": "code",
   "execution_count": 10,
   "metadata": {},
   "outputs": [
    {
     "data": {
      "text/plain": [
       "StateCode  ZipCode\n",
       "AK         99507      017066\n",
       "Name: SchoolCode, dtype: object"
      ]
     },
     "execution_count": 10,
     "metadata": {},
     "output_type": "execute_result"
    }
   ],
   "source": [
    "# value\n",
    "n_df.loc[('AK',99507), \"SchoolCode\"]"
   ]
  },
  {
   "cell_type": "code",
   "execution_count": 11,
   "metadata": {},
   "outputs": [
    {
     "data": {
      "text/plain": [
       "ZipCode\n",
       "99507    017066\n",
       "99508    001061\n",
       "99508    017377\n",
       "99514    011462\n",
       "99588    014325\n",
       "99664    031603\n",
       "99669    041386\n",
       "99723    034613\n",
       "99775    001063\n",
       "99801    001065\n",
       "Name: SchoolCode, dtype: object"
      ]
     },
     "execution_count": 11,
     "metadata": {},
     "output_type": "execute_result"
    }
   ],
   "source": [
    "# series\n",
    "n_df.loc['AK', \"SchoolCode\"]"
   ]
  },
  {
   "cell_type": "code",
   "execution_count": null,
   "metadata": {
    "collapsed": true
   },
   "outputs": [],
   "source": []
  }
 ],
 "metadata": {
  "kernelspec": {
   "display_name": "tf_edge",
   "language": "python",
   "name": "tf_edge"
  },
  "language_info": {
   "codemirror_mode": {
    "name": "ipython",
    "version": 3
   },
   "file_extension": ".py",
   "mimetype": "text/x-python",
   "name": "python",
   "nbconvert_exporter": "python",
   "pygments_lexer": "ipython3",
   "version": "3.5.4"
  }
 },
 "nbformat": 4,
 "nbformat_minor": 2
}
