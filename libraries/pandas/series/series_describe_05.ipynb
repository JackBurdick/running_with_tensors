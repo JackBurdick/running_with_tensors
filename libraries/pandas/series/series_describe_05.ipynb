{
 "cells": [
  {
   "cell_type": "code",
   "execution_count": 1,
   "metadata": {},
   "outputs": [],
   "source": [
    "import pandas as pd\n",
    "import os"
   ]
  },
  {
   "cell_type": "markdown",
   "metadata": {},
   "source": [
    "## Obtain different dataset data.gov\n",
    "\n",
    "https://catalog.data.gov/dataset"
   ]
  },
  {
   "cell_type": "code",
   "execution_count": 2,
   "metadata": {},
   "outputs": [],
   "source": [
    "from six.moves import urllib\n",
    "\n",
    "# where the datasets will be placed\n",
    "ROOT_DATA = \"../../../ROOT_DATA/data_gov/\"\n",
    "\n",
    "def fetch_data_from_URL(housing_url, file_name, sub_dir=\"tmp\", root_path=ROOT_DATA):\n",
    "    placement_dir = os.path.join(root_path, sub_dir)\n",
    "    if not os.path.isdir(placement_dir):\n",
    "        os.makedirs(placement_dir)\n",
    "    placement_path = os.path.join(placement_dir, file_name)\n",
    "    # only download if not already present\n",
    "    if not os.path.isfile(placement_path):\n",
    "        urllib.request.urlretrieve(housing_url, placement_path)\n",
    "    return placement_path"
   ]
  },
  {
   "cell_type": "code",
   "execution_count": 3,
   "metadata": {},
   "outputs": [],
   "source": [
    "# .CSV data\n",
    "cod_csv_path = fetch_data_from_URL(\"https://data.cdc.gov/api/views/bi63-dtpu/rows.csv?accessType=DOWNLOAD\",\n",
    "                    \"cause_of_death.csv\", sub_dir=\"NCHS\")"
   ]
  },
  {
   "cell_type": "code",
   "execution_count": 4,
   "metadata": {},
   "outputs": [
    {
     "name": "stdout",
     "output_type": "stream",
     "text": [
      "<class 'pandas.core.frame.DataFrame'>\n",
      "RangeIndex: 15028 entries, 0 to 15027\n",
      "Data columns (total 6 columns):\n",
      "Year                       15028 non-null int64\n",
      "113 Cause Name             15028 non-null object\n",
      "Cause Name                 15028 non-null object\n",
      "State                      15028 non-null object\n",
      "Deaths                     15013 non-null float64\n",
      "Age-adjusted Death Rate    14917 non-null float64\n",
      "dtypes: float64(2), int64(1), object(3)\n",
      "memory usage: 704.5+ KB\n",
      "None\n"
     ]
    }
   ],
   "source": [
    "# read entire file into a dataframe\n",
    "cod_df = pd.read_csv(cod_csv_path)\n",
    "print(cod_df.info())"
   ]
  },
  {
   "cell_type": "code",
   "execution_count": 5,
   "metadata": {},
   "outputs": [
    {
     "name": "stdout",
     "output_type": "stream",
     "text": [
      "0    2313.0\n",
      "1     294.0\n",
      "2    2214.0\n",
      "3    1287.0\n",
      "4    9198.0\n",
      "Name: Deaths, dtype: float64\n"
     ]
    }
   ],
   "source": [
    "d_ds = cod_df['Deaths']\n",
    "print(d_ds.head())"
   ]
  },
  {
   "cell_type": "code",
   "execution_count": 6,
   "metadata": {},
   "outputs": [
    {
     "name": "stdout",
     "output_type": "stream",
     "text": [
      "15028\n",
      "15013\n"
     ]
    }
   ],
   "source": [
    "print(len(d_ds)) # will count NaN\n",
    "print(d_ds.count()) # excludes NaN"
   ]
  },
  {
   "cell_type": "code",
   "execution_count": 7,
   "metadata": {},
   "outputs": [
    {
     "name": "stdout",
     "output_type": "stream",
     "text": [
      "15\n"
     ]
    }
   ],
   "source": [
    "print(d_ds.isnull().sum()) # should be 15"
   ]
  },
  {
   "cell_type": "code",
   "execution_count": 8,
   "metadata": {},
   "outputs": [
    {
     "name": "stdout",
     "output_type": "stream",
     "text": [
      "153622150.0\n"
     ]
    }
   ],
   "source": [
    "print(d_ds.sum()) # adds all values in series"
   ]
  },
  {
   "cell_type": "code",
   "execution_count": 9,
   "metadata": {},
   "outputs": [
    {
     "name": "stdout",
     "output_type": "stream",
     "text": [
      "10232.608406\n",
      "10232.608406\n",
      "10222.3948629\n"
     ]
    }
   ],
   "source": [
    "print(d_ds.mean()) # average\n",
    "print(d_ds.sum()/d_ds.count()) # equivalent to average\n",
    "\n",
    "print(d_ds.sum()/len(d_ds)) # notice that this is different!"
   ]
  },
  {
   "cell_type": "code",
   "execution_count": 10,
   "metadata": {},
   "outputs": [
    {
     "name": "stdout",
     "output_type": "stream",
     "text": [
      "90032.6104217\n"
     ]
    }
   ],
   "source": [
    "print(d_ds.std())"
   ]
  },
  {
   "cell_type": "code",
   "execution_count": 11,
   "metadata": {},
   "outputs": [
    {
     "name": "stdout",
     "output_type": "stream",
     "text": [
      "10.0\n",
      "2712630.0\n"
     ]
    }
   ],
   "source": [
    "print(d_ds.min())\n",
    "print(d_ds.max())"
   ]
  },
  {
   "cell_type": "code",
   "execution_count": 12,
   "metadata": {},
   "outputs": [
    {
     "name": "stdout",
     "output_type": "stream",
     "text": [
      "838.0\n"
     ]
    }
   ],
   "source": [
    "print(d_ds.median())"
   ]
  },
  {
   "cell_type": "code",
   "execution_count": 13,
   "metadata": {},
   "outputs": [
    {
     "name": "stdout",
     "output_type": "stream",
     "text": [
      "0     23.0\n",
      "1     74.0\n",
      "2     86.0\n",
      "3    133.0\n",
      "dtype: float64\n"
     ]
    }
   ],
   "source": [
    "print(d_ds.mode())"
   ]
  },
  {
   "cell_type": "code",
   "execution_count": 14,
   "metadata": {},
   "outputs": [
    {
     "data": {
      "text/plain": [
       "133.0    25\n",
       "74.0     25\n",
       "86.0     25\n",
       "23.0     25\n",
       "52.0     24\n",
       "109.0    24\n",
       "Name: Deaths, dtype: int64"
      ]
     },
     "execution_count": 14,
     "metadata": {},
     "output_type": "execute_result"
    }
   ],
   "source": [
    "# using value_counts\n",
    "d_ds.value_counts().head(6) # validating mode output"
   ]
  },
  {
   "cell_type": "code",
   "execution_count": 15,
   "metadata": {},
   "outputs": [
    {
     "name": "stdout",
     "output_type": "stream",
     "text": [
      "count    1.501300e+04\n",
      "mean     1.023261e+04\n",
      "std      9.003261e+04\n",
      "min      1.000000e+01\n",
      "25%      2.940000e+02\n",
      "50%      8.380000e+02\n",
      "75%      2.737000e+03\n",
      "max      2.712630e+06\n",
      "Name: Deaths, dtype: float64\n"
     ]
    }
   ],
   "source": [
    "print(d_ds.describe())"
   ]
  },
  {
   "cell_type": "markdown",
   "metadata": {},
   "source": [
    "## Index max and min"
   ]
  },
  {
   "cell_type": "code",
   "execution_count": 16,
   "metadata": {},
   "outputs": [
    {
     "name": "stdout",
     "output_type": "stream",
     "text": [
      "1760\n"
     ]
    }
   ],
   "source": [
    "print(d_ds.idxmax())"
   ]
  },
  {
   "cell_type": "code",
   "execution_count": 17,
   "metadata": {},
   "outputs": [
    {
     "name": "stdout",
     "output_type": "stream",
     "text": [
      "2712630.0\n",
      "2712630.0\n"
     ]
    }
   ],
   "source": [
    "# validate\n",
    "print(d_ds.max())\n",
    "print(d_ds.get(d_ds.idxmax()))"
   ]
  },
  {
   "cell_type": "code",
   "execution_count": 18,
   "metadata": {},
   "outputs": [
    {
     "name": "stdout",
     "output_type": "stream",
     "text": [
      "2755\n"
     ]
    }
   ],
   "source": [
    "print(d_ds.idxmin())"
   ]
  },
  {
   "cell_type": "code",
   "execution_count": 19,
   "metadata": {},
   "outputs": [
    {
     "name": "stdout",
     "output_type": "stream",
     "text": [
      "10.0\n",
      "10.0\n"
     ]
    }
   ],
   "source": [
    "# validate\n",
    "print(d_ds.min())\n",
    "print(d_ds.get(d_ds.idxmin()))"
   ]
  }
 ],
 "metadata": {
  "kernelspec": {
   "display_name": "tf_edge",
   "language": "python",
   "name": "tf_edge"
  },
  "language_info": {
   "codemirror_mode": {
    "name": "ipython",
    "version": 3
   },
   "file_extension": ".py",
   "mimetype": "text/x-python",
   "name": "python",
   "nbconvert_exporter": "python",
   "pygments_lexer": "ipython3",
   "version": "3.5.4"
  }
 },
 "nbformat": 4,
 "nbformat_minor": 2
}
