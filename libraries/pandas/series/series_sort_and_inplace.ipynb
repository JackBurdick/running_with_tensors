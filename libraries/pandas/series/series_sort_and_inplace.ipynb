{
 "cells": [
  {
   "cell_type": "code",
   "execution_count": 1,
   "metadata": {},
   "outputs": [],
   "source": [
    "import pandas as pd\n",
    "import os"
   ]
  },
  {
   "cell_type": "markdown",
   "metadata": {},
   "source": [
    "## Obtain different dataset data.gov\n",
    "\n",
    "https://catalog.data.gov/dataset"
   ]
  },
  {
   "cell_type": "code",
   "execution_count": 2,
   "metadata": {},
   "outputs": [],
   "source": [
    "from six.moves import urllib\n",
    "\n",
    "# where the datasets will be placed\n",
    "ROOT_DATA = \"../../../ROOT_DATA/data_gov/\"\n",
    "\n",
    "def fetch_data_from_URL(housing_url, file_name, sub_dir=\"tmp\", root_path=ROOT_DATA):\n",
    "    placement_dir = os.path.join(root_path, sub_dir)\n",
    "    if not os.path.isdir(placement_dir):\n",
    "        os.makedirs(placement_dir)\n",
    "    placement_path = os.path.join(placement_dir, file_name)\n",
    "    # only download if not already present\n",
    "    if not os.path.isfile(placement_path):\n",
    "        urllib.request.urlretrieve(housing_url, placement_path)\n",
    "    return placement_path"
   ]
  },
  {
   "cell_type": "code",
   "execution_count": 3,
   "metadata": {},
   "outputs": [],
   "source": [
    "# .CSV data\n",
    "traffic_csv_path = fetch_data_from_URL(\"https://data.montgomerycountymd.gov/api/views/4mse-ku6q/rows.csv?accessType=DOWNLOAD\",\n",
    "                    \"traffic_violations.csv\", sub_dir=\"traffic\")"
   ]
  },
  {
   "cell_type": "code",
   "execution_count": 4,
   "metadata": {},
   "outputs": [
    {
     "name": "stderr",
     "output_type": "stream",
     "text": [
      "/home/jack/anaconda3/envs/tf_edge/lib/python3.5/site-packages/IPython/core/interactiveshell.py:2728: DtypeWarning: Columns (26) have mixed types. Specify dtype option on import or set low_memory=False.\n",
      "  interactivity=interactivity, compiler=compiler, result=result)\n"
     ]
    },
    {
     "name": "stdout",
     "output_type": "stream",
     "text": [
      "<class 'pandas.core.frame.DataFrame'>\n",
      "RangeIndex: 1251972 entries, 0 to 1251971\n",
      "Data columns (total 35 columns):\n",
      "Date Of Stop               1251972 non-null object\n",
      "Time Of Stop               1251972 non-null object\n",
      "Agency                     1251972 non-null object\n",
      "SubAgency                  1251962 non-null object\n",
      "Description                1251963 non-null object\n",
      "Location                   1251970 non-null object\n",
      "Latitude                   1158178 non-null float64\n",
      "Longitude                  1158178 non-null float64\n",
      "Accident                   1251972 non-null object\n",
      "Belts                      1251972 non-null object\n",
      "Personal Injury            1251972 non-null object\n",
      "Property Damage            1251972 non-null object\n",
      "Fatal                      1251972 non-null object\n",
      "Commercial License         1251972 non-null object\n",
      "HAZMAT                     1251972 non-null object\n",
      "Commercial Vehicle         1251972 non-null object\n",
      "Alcohol                    1251972 non-null object\n",
      "Work Zone                  1251972 non-null object\n",
      "State                      1251913 non-null object\n",
      "VehicleType                1251972 non-null object\n",
      "Year                       1244022 non-null float64\n",
      "Make                       1251915 non-null object\n",
      "Model                      1251786 non-null object\n",
      "Color                      1236136 non-null object\n",
      "Violation Type             1251972 non-null object\n",
      "Charge                     1251972 non-null object\n",
      "Article                    1188862 non-null object\n",
      "Contributed To Accident    1251972 non-null object\n",
      "Race                       1251972 non-null object\n",
      "Gender                     1251972 non-null object\n",
      "Driver City                1251768 non-null object\n",
      "Driver State               1251961 non-null object\n",
      "DL State                   1251043 non-null object\n",
      "Arrest Type                1251972 non-null object\n",
      "Geolocation                1158178 non-null object\n",
      "dtypes: float64(3), object(32)\n",
      "memory usage: 334.3+ MB\n",
      "None\n"
     ]
    }
   ],
   "source": [
    "# read entire file into a dataframe\n",
    "t_df = pd.read_csv(traffic_csv_path)\n",
    "print(t_df.info())"
   ]
  },
  {
   "cell_type": "code",
   "execution_count": 5,
   "metadata": {},
   "outputs": [
    {
     "name": "stdout",
     "output_type": "stream",
     "text": [
      "0     13-401(h)\n",
      "1    21-201(a1)\n",
      "2     21-403(b)\n",
      "3     21-402(b)\n",
      "4    21-405(e1)\n",
      "Name: Charge, dtype: object\n"
     ]
    }
   ],
   "source": [
    "charge_ds = t_df['Charge']\n",
    "print(charge_ds.head())"
   ]
  },
  {
   "cell_type": "code",
   "execution_count": 6,
   "metadata": {},
   "outputs": [
    {
     "name": "stdout",
     "output_type": "stream",
     "text": [
      "1140408    10-303(a)\n",
      "756371     10-303(a)\n",
      "580317     10-303(a)\n",
      "1208885    10-303(a)\n",
      "303278     10-303(a)\n",
      "Name: Charge, dtype: object\n"
     ]
    }
   ],
   "source": [
    "print(charge_ds.sort_values().head())"
   ]
  },
  {
   "cell_type": "markdown",
   "metadata": {},
   "source": [
    "### Sort series"
   ]
  },
  {
   "cell_type": "code",
   "execution_count": 7,
   "metadata": {},
   "outputs": [
    {
     "name": "stdout",
     "output_type": "stream",
     "text": [
      "837970           90\n",
      "1091898          90\n",
      "1093648          90\n",
      "1251349          90\n",
      "1031348    9-337(a)\n",
      "Name: Charge, dtype: object\n"
     ]
    }
   ],
   "source": [
    "print(charge_ds.sort_values(ascending=False).head())"
   ]
  },
  {
   "cell_type": "code",
   "execution_count": 8,
   "metadata": {},
   "outputs": [
    {
     "name": "stdout",
     "output_type": "stream",
     "text": [
      "303278     10-303(a)\n",
      "1208885    10-303(a)\n",
      "580317     10-303(a)\n",
      "756371     10-303(a)\n",
      "1140408    10-303(a)\n",
      "Name: Charge, dtype: object\n"
     ]
    }
   ],
   "source": [
    "# can chain together\n",
    "print(charge_ds.sort_values(ascending=False).tail()) # the same as sort_values()"
   ]
  },
  {
   "cell_type": "markdown",
   "metadata": {},
   "source": [
    "### Note about NaN"
   ]
  },
  {
   "cell_type": "code",
   "execution_count": 9,
   "metadata": {},
   "outputs": [
    {
     "name": "stdout",
     "output_type": "stream",
     "text": [
      "873135                                       #3 RT FLAT TIRE\n",
      "1202280                                                    )\n",
      "1036398    , ATTEMPTING TO DRIVE MOTOR VEHICLE ON HIGHWAY...\n",
      "746547                             , IMPROPER EXHAUST SYSTEM\n",
      "918268                            , MARKER LIGHT INOPERATIVE\n",
      "Name: Description, dtype: object\n",
      "1049222    NaN\n",
      "1051440    NaN\n",
      "1164359    NaN\n",
      "1205989    NaN\n",
      "1225527    NaN\n",
      "Name: Description, dtype: object\n"
     ]
    }
   ],
   "source": [
    "d_ds = t_df['Description']\n",
    "## Descending\n",
    "print(d_ds.sort_values().head())\n",
    "\n",
    "# note the NaN\n",
    "# this should be the same as d_ds.sort_values().head() but isn't\n",
    "# becuase of the NaN values\n",
    "print(d_ds.sort_values(ascending=False).tail())"
   ]
  },
  {
   "cell_type": "markdown",
   "metadata": {},
   "source": [
    "## What if I want to overwrite the values?\n",
    "\n",
    "we can either perform a method and reassign the output to our original data frame or series, or we can use the `inplace` parameter (provided it is available)"
   ]
  },
  {
   "cell_type": "code",
   "execution_count": 10,
   "metadata": {},
   "outputs": [
    {
     "name": "stdout",
     "output_type": "stream",
     "text": [
      "1140408    10-303(a)\n",
      "756371     10-303(a)\n",
      "580317     10-303(a)\n",
      "1208885    10-303(a)\n",
      "303278     10-303(a)\n",
      "Name: Charge, dtype: object\n",
      "0     13-401(h)\n",
      "1    21-201(a1)\n",
      "2     21-403(b)\n",
      "3     21-402(b)\n",
      "4    21-405(e1)\n",
      "Name: Charge, dtype: object\n"
     ]
    }
   ],
   "source": [
    "print(charge_ds.sort_values().head())\n",
    "print(charge_ds.head())"
   ]
  },
  {
   "cell_type": "markdown",
   "metadata": {},
   "source": [
    "### Using `inplace`\n",
    "```python\n",
    "charge_ds.sort_values(inplace=True)\n",
    "```\n",
    "But... this won't work here since charge_ds is \"a view of some other array\". This is because this series is obtained from the data frame and is not a stand alone series.\n",
    "\n",
    "```\n",
    "ValueError: This Series is a view of some other array, to sort in-place you must create a copy\n",
    "```\n",
    "\n",
    "We can get around this by making a copy of the series, or by reading in the series by itself."
   ]
  },
  {
   "cell_type": "code",
   "execution_count": 11,
   "metadata": {},
   "outputs": [
    {
     "name": "stdout",
     "output_type": "stream",
     "text": [
      "0     13-401(h)\n",
      "1    21-201(a1)\n",
      "2     21-403(b)\n",
      "3     21-402(b)\n",
      "4    21-405(e1)\n",
      "Name: Charge, dtype: object\n"
     ]
    }
   ],
   "source": [
    "t_ds = pd.read_csv(traffic_csv_path, usecols=[\"Charge\"], squeeze=True)\n",
    "print(t_ds.head())"
   ]
  },
  {
   "cell_type": "code",
   "execution_count": 12,
   "metadata": {},
   "outputs": [
    {
     "name": "stdout",
     "output_type": "stream",
     "text": [
      "1140408    10-303(a)\n",
      "756371     10-303(a)\n",
      "580317     10-303(a)\n",
      "1208885    10-303(a)\n",
      "303278     10-303(a)\n",
      "Name: Charge, dtype: object\n",
      "0     13-401(h)\n",
      "1    21-201(a1)\n",
      "2     21-403(b)\n",
      "3     21-402(b)\n",
      "4    21-405(e1)\n",
      "Name: Charge, dtype: object\n"
     ]
    }
   ],
   "source": [
    "print(t_ds.sort_values().head())\n",
    "print(t_ds.head()) # same as cell above"
   ]
  },
  {
   "cell_type": "code",
   "execution_count": 13,
   "metadata": {},
   "outputs": [
    {
     "name": "stdout",
     "output_type": "stream",
     "text": [
      "None\n",
      "1140408    10-303(a)\n",
      "756371     10-303(a)\n",
      "580317     10-303(a)\n",
      "1208885    10-303(a)\n",
      "303278     10-303(a)\n",
      "Name: Charge, dtype: object\n"
     ]
    }
   ],
   "source": [
    "print(t_ds.sort_values(inplace=True))\n",
    "print(t_ds.head()) # now the change takes place \"inplace\""
   ]
  },
  {
   "cell_type": "markdown",
   "metadata": {},
   "source": [
    "## What if we want to get it back to where it is sorted by the index?"
   ]
  },
  {
   "cell_type": "code",
   "execution_count": 15,
   "metadata": {},
   "outputs": [
    {
     "name": "stdout",
     "output_type": "stream",
     "text": [
      "0     13-401(h)\n",
      "1    21-201(a1)\n",
      "2     21-403(b)\n",
      "3     21-402(b)\n",
      "4    21-405(e1)\n",
      "Name: Charge, dtype: object\n",
      "1140408    10-303(a)\n",
      "756371     10-303(a)\n",
      "580317     10-303(a)\n",
      "1208885    10-303(a)\n",
      "303278     10-303(a)\n",
      "Name: Charge, dtype: object\n"
     ]
    }
   ],
   "source": [
    "print(t_ds.sort_index().head())\n",
    "print(t_ds.head())"
   ]
  },
  {
   "cell_type": "markdown",
   "metadata": {},
   "source": [
    "### inplace also works here"
   ]
  },
  {
   "cell_type": "code",
   "execution_count": 21,
   "metadata": {},
   "outputs": [
    {
     "name": "stdout",
     "output_type": "stream",
     "text": [
      "None\n",
      "0     13-401(h)\n",
      "1    21-201(a1)\n",
      "2     21-403(b)\n",
      "3     21-402(b)\n",
      "4    21-405(e1)\n",
      "Name: Charge, dtype: object\n"
     ]
    }
   ],
   "source": [
    "print(t_ds.sort_index(inplace=True))\n",
    "print(t_ds.head())"
   ]
  },
  {
   "cell_type": "code",
   "execution_count": null,
   "metadata": {},
   "outputs": [],
   "source": []
  }
 ],
 "metadata": {
  "kernelspec": {
   "display_name": "tf_edge",
   "language": "python",
   "name": "tf_edge"
  },
  "language_info": {
   "codemirror_mode": {
    "name": "ipython",
    "version": 3
   },
   "file_extension": ".py",
   "mimetype": "text/x-python",
   "name": "python",
   "nbconvert_exporter": "python",
   "pygments_lexer": "ipython3",
   "version": "3.5.4"
  }
 },
 "nbformat": 4,
 "nbformat_minor": 2
}
