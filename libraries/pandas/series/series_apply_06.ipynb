{
 "cells": [
  {
   "cell_type": "code",
   "execution_count": 1,
   "metadata": {},
   "outputs": [],
   "source": [
    "import pandas as pd\n",
    "import os"
   ]
  },
  {
   "cell_type": "markdown",
   "metadata": {},
   "source": [
    "## Obtain different dataset data.gov\n",
    "\n",
    "https://catalog.data.gov/dataset"
   ]
  },
  {
   "cell_type": "code",
   "execution_count": 2,
   "metadata": {},
   "outputs": [],
   "source": [
    "from six.moves import urllib\n",
    "\n",
    "# where the datasets will be placed\n",
    "ROOT_DATA = \"../../../ROOT_DATA/data_gov/\"\n",
    "\n",
    "def fetch_data_from_URL(housing_url, file_name, sub_dir=\"tmp\", root_path=ROOT_DATA):\n",
    "    placement_dir = os.path.join(root_path, sub_dir)\n",
    "    if not os.path.isdir(placement_dir):\n",
    "        os.makedirs(placement_dir)\n",
    "    placement_path = os.path.join(placement_dir, file_name)\n",
    "    # only download if not already present\n",
    "    if not os.path.isfile(placement_path):\n",
    "        urllib.request.urlretrieve(housing_url, placement_path)\n",
    "    return placement_path"
   ]
  },
  {
   "cell_type": "code",
   "execution_count": 3,
   "metadata": {},
   "outputs": [],
   "source": [
    "# .CSV data\n",
    "traffic_csv_path = fetch_data_from_URL(\"https://data.montgomerycountymd.gov/api/views/4mse-ku6q/rows.csv?accessType=DOWNLOAD\",\n",
    "                    \"traffic_violations.csv\", sub_dir=\"traffic\")"
   ]
  },
  {
   "cell_type": "code",
   "execution_count": 4,
   "metadata": {},
   "outputs": [
    {
     "name": "stderr",
     "output_type": "stream",
     "text": [
      "/home/jack/anaconda3/envs/tf_edge/lib/python3.5/site-packages/IPython/core/interactiveshell.py:2728: DtypeWarning: Columns (26) have mixed types. Specify dtype option on import or set low_memory=False.\n",
      "  interactivity=interactivity, compiler=compiler, result=result)\n"
     ]
    },
    {
     "name": "stdout",
     "output_type": "stream",
     "text": [
      "<class 'pandas.core.frame.DataFrame'>\n",
      "RangeIndex: 1251972 entries, 0 to 1251971\n",
      "Data columns (total 35 columns):\n",
      "Date Of Stop               1251972 non-null object\n",
      "Time Of Stop               1251972 non-null object\n",
      "Agency                     1251972 non-null object\n",
      "SubAgency                  1251962 non-null object\n",
      "Description                1251963 non-null object\n",
      "Location                   1251970 non-null object\n",
      "Latitude                   1158178 non-null float64\n",
      "Longitude                  1158178 non-null float64\n",
      "Accident                   1251972 non-null object\n",
      "Belts                      1251972 non-null object\n",
      "Personal Injury            1251972 non-null object\n",
      "Property Damage            1251972 non-null object\n",
      "Fatal                      1251972 non-null object\n",
      "Commercial License         1251972 non-null object\n",
      "HAZMAT                     1251972 non-null object\n",
      "Commercial Vehicle         1251972 non-null object\n",
      "Alcohol                    1251972 non-null object\n",
      "Work Zone                  1251972 non-null object\n",
      "State                      1251913 non-null object\n",
      "VehicleType                1251972 non-null object\n",
      "Year                       1244022 non-null float64\n",
      "Make                       1251915 non-null object\n",
      "Model                      1251786 non-null object\n",
      "Color                      1236136 non-null object\n",
      "Violation Type             1251972 non-null object\n",
      "Charge                     1251972 non-null object\n",
      "Article                    1188862 non-null object\n",
      "Contributed To Accident    1251972 non-null object\n",
      "Race                       1251972 non-null object\n",
      "Gender                     1251972 non-null object\n",
      "Driver City                1251768 non-null object\n",
      "Driver State               1251961 non-null object\n",
      "DL State                   1251043 non-null object\n",
      "Arrest Type                1251972 non-null object\n",
      "Geolocation                1158178 non-null object\n",
      "dtypes: float64(3), object(32)\n",
      "memory usage: 334.3+ MB\n",
      "None\n"
     ]
    }
   ],
   "source": [
    "# read entire file into a dataframe\n",
    "t_df = pd.read_csv(traffic_csv_path)\n",
    "print(t_df.info())"
   ]
  },
  {
   "cell_type": "code",
   "execution_count": 5,
   "metadata": {},
   "outputs": [
    {
     "name": "stdout",
     "output_type": "stream",
     "text": [
      "21-801.1      162237\n",
      "21-201(a1)     99235\n",
      "13-409(b)      59747\n",
      "13-401(h)      43626\n",
      "21-707(a)      39833\n",
      "16-112(c)      32929\n",
      "Name: Charge, dtype: int64\n"
     ]
    }
   ],
   "source": [
    "cid_ds = t_df['Charge']\n",
    "print(cid_ds.value_counts().head(6))"
   ]
  },
  {
   "cell_type": "code",
   "execution_count": 6,
   "metadata": {},
   "outputs": [],
   "source": [
    "# custom function\n",
    "# https://law.justia.com/codes/maryland/2005/gtr/13-401.html\n",
    "# 13-401 seems to relate to ~registration\n",
    "# 21-403 seems to relate to ~stop signs\n",
    "# 21-801 seems to related to ~speeding\n",
    "def classify_charge(charge_id):\n",
    "    if charge_id.startswith(\"21-801\"):\n",
    "        return \"speed related\"\n",
    "    elif charge_id == \"13-401(h)\":\n",
    "        return \"registration of a vehicle is suspended\"\n",
    "    elif charge_id.startswith(\"13-401\"):\n",
    "        return \"registration related\"\n",
    "    elif charge_id.startswith(\"21-403\"):\n",
    "        return \"stop sign\"\n",
    "    else:\n",
    "        return \"not classified\""
   ]
  },
  {
   "cell_type": "code",
   "execution_count": 7,
   "metadata": {},
   "outputs": [
    {
     "name": "stdout",
     "output_type": "stream",
     "text": [
      "0     registration of a vehicle is suspended\n",
      "1                             not classified\n",
      "2                                  stop sign\n",
      "3                             not classified\n",
      "4                             not classified\n",
      "5                             not classified\n",
      "6     registration of a vehicle is suspended\n",
      "7                             not classified\n",
      "8                             not classified\n",
      "9                             not classified\n",
      "10                            not classified\n",
      "11                            not classified\n",
      "12                            not classified\n",
      "13                            not classified\n",
      "14                            not classified\n",
      "15                            not classified\n",
      "16                            not classified\n",
      "17                            not classified\n",
      "18                            not classified\n",
      "19                            not classified\n",
      "20                            not classified\n",
      "21                            not classified\n",
      "22                            not classified\n",
      "23                            not classified\n",
      "24                            not classified\n",
      "25                             speed related\n",
      "26                            not classified\n",
      "27                            not classified\n",
      "28                            not classified\n",
      "29                            not classified\n",
      "30                            not classified\n",
      "31                            not classified\n",
      "32                            not classified\n",
      "33                            not classified\n",
      "34                            not classified\n",
      "35                                 stop sign\n",
      "36                            not classified\n",
      "37                            not classified\n",
      "38                            not classified\n",
      "39                            not classified\n",
      "40                            not classified\n",
      "41                             speed related\n",
      "42                             speed related\n",
      "43                            not classified\n",
      "44                            not classified\n",
      "45                            not classified\n",
      "46                            not classified\n",
      "47                            not classified\n",
      "48                             speed related\n",
      "49                            not classified\n",
      "50                             speed related\n",
      "51                            not classified\n",
      "52                            not classified\n",
      "53                            not classified\n",
      "54                            not classified\n",
      "55                            not classified\n",
      "56                            not classified\n",
      "57                            not classified\n",
      "58                            not classified\n",
      "59                            not classified\n",
      "Name: Charge, dtype: object\n"
     ]
    }
   ],
   "source": [
    "print(cid_ds.apply(classify_charge).head(60))"
   ]
  },
  {
   "cell_type": "code",
   "execution_count": 8,
   "metadata": {},
   "outputs": [
    {
     "name": "stdout",
     "output_type": "stream",
     "text": [
      "0       unsure\n",
      "1       unsure\n",
      "2    stop sign\n",
      "3       unsure\n",
      "4       unsure\n",
      "Name: Charge, dtype: object\n"
     ]
    }
   ],
   "source": [
    "# using lambda\n",
    "print(cid_ds.apply(lambda charge_id: \"stop sign\" if charge_id.startswith(\"21-403\") else \"unsure\").head())"
   ]
  },
  {
   "cell_type": "code",
   "execution_count": null,
   "metadata": {},
   "outputs": [],
   "source": []
  }
 ],
 "metadata": {
  "kernelspec": {
   "display_name": "tf_edge",
   "language": "python",
   "name": "tf_edge"
  },
  "language_info": {
   "codemirror_mode": {
    "name": "ipython",
    "version": 3
   },
   "file_extension": ".py",
   "mimetype": "text/x-python",
   "name": "python",
   "nbconvert_exporter": "python",
   "pygments_lexer": "ipython3",
   "version": "3.5.4"
  }
 },
 "nbformat": 4,
 "nbformat_minor": 2
}
