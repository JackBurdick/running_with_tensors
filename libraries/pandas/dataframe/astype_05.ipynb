{
 "cells": [
  {
   "cell_type": "code",
   "execution_count": 1,
   "metadata": {},
   "outputs": [],
   "source": [
    "import pandas as pd\n",
    "import os"
   ]
  },
  {
   "cell_type": "markdown",
   "metadata": {},
   "source": [
    "## Obtain different dataset data.gov\n",
    "\n",
    "https://catalog.data.gov/dataset"
   ]
  },
  {
   "cell_type": "code",
   "execution_count": 2,
   "metadata": {},
   "outputs": [],
   "source": [
    "from six.moves import urllib\n",
    "\n",
    "# where the datasets will be placed\n",
    "ROOT_DATA = \"../../../ROOT_DATA/data_gov/\"\n",
    "\n",
    "def fetch_data_from_URL(housing_url, file_name, sub_dir=\"tmp\", root_path=ROOT_DATA):\n",
    "    placement_dir = os.path.join(root_path, sub_dir)\n",
    "    if not os.path.isdir(placement_dir):\n",
    "        os.makedirs(placement_dir)\n",
    "    placement_path = os.path.join(placement_dir, file_name)\n",
    "    # only download if not already present\n",
    "    if not os.path.isfile(placement_path):\n",
    "        urllib.request.urlretrieve(housing_url, placement_path)\n",
    "    return placement_path"
   ]
  },
  {
   "cell_type": "code",
   "execution_count": 3,
   "metadata": {},
   "outputs": [],
   "source": [
    "# .CSV data\n",
    "traffic_csv_path = fetch_data_from_URL(\"https://data.montgomerycountymd.gov/api/views/4mse-ku6q/rows.csv?accessType=DOWNLOAD\",\n",
    "                    \"traffic_violations.csv\", sub_dir=\"traffic\")"
   ]
  },
  {
   "cell_type": "code",
   "execution_count": 4,
   "metadata": {},
   "outputs": [
    {
     "name": "stderr",
     "output_type": "stream",
     "text": [
      "/home/jack/anaconda3/envs/tf_edge/lib/python3.5/site-packages/IPython/core/interactiveshell.py:2728: DtypeWarning: Columns (26) have mixed types. Specify dtype option on import or set low_memory=False.\n",
      "  interactivity=interactivity, compiler=compiler, result=result)\n"
     ]
    },
    {
     "name": "stdout",
     "output_type": "stream",
     "text": [
      "<class 'pandas.core.frame.DataFrame'>\n",
      "RangeIndex: 1251972 entries, 0 to 1251971\n",
      "Data columns (total 35 columns):\n",
      "Date Of Stop               1251972 non-null object\n",
      "Time Of Stop               1251972 non-null object\n",
      "Agency                     1251972 non-null object\n",
      "SubAgency                  1251962 non-null object\n",
      "Description                1251963 non-null object\n",
      "Location                   1251970 non-null object\n",
      "Latitude                   1158178 non-null float64\n",
      "Longitude                  1158178 non-null float64\n",
      "Accident                   1251972 non-null object\n",
      "Belts                      1251972 non-null object\n",
      "Personal Injury            1251972 non-null object\n",
      "Property Damage            1251972 non-null object\n",
      "Fatal                      1251972 non-null object\n",
      "Commercial License         1251972 non-null object\n",
      "HAZMAT                     1251972 non-null object\n",
      "Commercial Vehicle         1251972 non-null object\n",
      "Alcohol                    1251972 non-null object\n",
      "Work Zone                  1251972 non-null object\n",
      "State                      1251913 non-null object\n",
      "VehicleType                1251972 non-null object\n",
      "Year                       1244022 non-null float64\n",
      "Make                       1251915 non-null object\n",
      "Model                      1251786 non-null object\n",
      "Color                      1236136 non-null object\n",
      "Violation Type             1251972 non-null object\n",
      "Charge                     1251972 non-null object\n",
      "Article                    1188862 non-null object\n",
      "Contributed To Accident    1251972 non-null object\n",
      "Race                       1251972 non-null object\n",
      "Gender                     1251972 non-null object\n",
      "Driver City                1251768 non-null object\n",
      "Driver State               1251961 non-null object\n",
      "DL State                   1251043 non-null object\n",
      "Arrest Type                1251972 non-null object\n",
      "Geolocation                1158178 non-null object\n",
      "dtypes: float64(3), object(32)\n",
      "memory usage: 334.3+ MB\n",
      "None\n"
     ]
    }
   ],
   "source": [
    "# read entire file into a dataframe\n",
    "t_df = pd.read_csv(traffic_csv_path)\n",
    "print(t_df.info())"
   ]
  },
  {
   "cell_type": "code",
   "execution_count": 5,
   "metadata": {},
   "outputs": [
    {
     "name": "stdout",
     "output_type": "stream",
     "text": [
      "0    2008.0\n",
      "1    2001.0\n",
      "2    2001.0\n",
      "3    1998.0\n",
      "4    2015.0\n",
      "Name: Year, dtype: float64\n"
     ]
    }
   ],
   "source": [
    "print(t_df['Year'].head())"
   ]
  },
  {
   "cell_type": "code",
   "execution_count": 6,
   "metadata": {},
   "outputs": [
    {
     "name": "stdout",
     "output_type": "stream",
     "text": [
      "1244022\n",
      "1251972\n"
     ]
    }
   ],
   "source": [
    "# Note: there cannot be an NaN values before\n",
    "# performing a type conversion\n",
    "print(t_df['Year'].count())\n",
    "t_df['Year'].fillna(0, inplace=True)\n",
    "print(t_df['Year'].count())"
   ]
  },
  {
   "cell_type": "code",
   "execution_count": 7,
   "metadata": {},
   "outputs": [
    {
     "name": "stdout",
     "output_type": "stream",
     "text": [
      "0    2008\n",
      "1    2001\n",
      "2    2001\n",
      "3    1998\n",
      "4    2015\n",
      "Name: Year, dtype: int64\n"
     ]
    }
   ],
   "source": [
    "print(t_df['Year'].astype(\"int\").head())"
   ]
  },
  {
   "cell_type": "code",
   "execution_count": 8,
   "metadata": {},
   "outputs": [],
   "source": [
    "# There is no inplace param, so we have to reassign back\n",
    "t_df['Year'] = t_df['Year'].astype(\"int\")"
   ]
  },
  {
   "cell_type": "code",
   "execution_count": 9,
   "metadata": {},
   "outputs": [
    {
     "name": "stdout",
     "output_type": "stream",
     "text": [
      "<class 'pandas.core.frame.DataFrame'>\n",
      "RangeIndex: 1251972 entries, 0 to 1251971\n",
      "Data columns (total 35 columns):\n",
      "Date Of Stop               1251972 non-null object\n",
      "Time Of Stop               1251972 non-null object\n",
      "Agency                     1251972 non-null object\n",
      "SubAgency                  1251962 non-null object\n",
      "Description                1251963 non-null object\n",
      "Location                   1251970 non-null object\n",
      "Latitude                   1158178 non-null float64\n",
      "Longitude                  1158178 non-null float64\n",
      "Accident                   1251972 non-null object\n",
      "Belts                      1251972 non-null object\n",
      "Personal Injury            1251972 non-null object\n",
      "Property Damage            1251972 non-null object\n",
      "Fatal                      1251972 non-null object\n",
      "Commercial License         1251972 non-null object\n",
      "HAZMAT                     1251972 non-null object\n",
      "Commercial Vehicle         1251972 non-null object\n",
      "Alcohol                    1251972 non-null object\n",
      "Work Zone                  1251972 non-null object\n",
      "State                      1251913 non-null object\n",
      "VehicleType                1251972 non-null object\n",
      "Year                       1251972 non-null int64\n",
      "Make                       1251915 non-null object\n",
      "Model                      1251786 non-null object\n",
      "Color                      1236136 non-null object\n",
      "Violation Type             1251972 non-null object\n",
      "Charge                     1251972 non-null object\n",
      "Article                    1188862 non-null object\n",
      "Contributed To Accident    1251972 non-null object\n",
      "Race                       1251972 non-null object\n",
      "Gender                     1251972 non-null object\n",
      "Driver City                1251768 non-null object\n",
      "Driver State               1251961 non-null object\n",
      "DL State                   1251043 non-null object\n",
      "Arrest Type                1251972 non-null object\n",
      "Geolocation                1158178 non-null object\n",
      "dtypes: float64(2), int64(1), object(32)\n",
      "memory usage: 334.3+ MB\n"
     ]
    }
   ],
   "source": [
    "t_df.info()"
   ]
  },
  {
   "cell_type": "code",
   "execution_count": 10,
   "metadata": {},
   "outputs": [],
   "source": [
    "# note that year is now an int"
   ]
  },
  {
   "cell_type": "markdown",
   "metadata": {},
   "source": [
    "## Category\n",
    "\n",
    "Reducing memory usage"
   ]
  },
  {
   "cell_type": "code",
   "execution_count": 11,
   "metadata": {},
   "outputs": [
    {
     "name": "stdout",
     "output_type": "stream",
     "text": [
      "0     BLACK\n",
      "1     GREEN\n",
      "2    SILVER\n",
      "3     WHITE\n",
      "4     WHITE\n",
      "Name: Color, dtype: object\n",
      "26\n"
     ]
    }
   ],
   "source": [
    "print(t_df['Color'].head())\n",
    "print(t_df['Color'].nunique()) # 6 different"
   ]
  },
  {
   "cell_type": "code",
   "execution_count": 12,
   "metadata": {},
   "outputs": [],
   "source": [
    "t_df['Color'] = t_df['Color'].astype(\"category\") # convert"
   ]
  },
  {
   "cell_type": "code",
   "execution_count": 13,
   "metadata": {},
   "outputs": [
    {
     "name": "stdout",
     "output_type": "stream",
     "text": [
      "0     BLACK\n",
      "1     GREEN\n",
      "2    SILVER\n",
      "3     WHITE\n",
      "4     WHITE\n",
      "Name: Color, dtype: category\n",
      "Categories (26, object): [BEIGE, BLACK, BLUE, BLUE, DARK, ..., SILVER, TAN, WHITE, YELLOW]\n"
     ]
    }
   ],
   "source": [
    "print(t_df['Color'].head())"
   ]
  },
  {
   "cell_type": "code",
   "execution_count": 14,
   "metadata": {},
   "outputs": [
    {
     "name": "stdout",
     "output_type": "stream",
     "text": [
      "<class 'pandas.core.frame.DataFrame'>\n",
      "RangeIndex: 1251972 entries, 0 to 1251971\n",
      "Data columns (total 35 columns):\n",
      "Date Of Stop               1251972 non-null object\n",
      "Time Of Stop               1251972 non-null object\n",
      "Agency                     1251972 non-null object\n",
      "SubAgency                  1251962 non-null object\n",
      "Description                1251963 non-null object\n",
      "Location                   1251970 non-null object\n",
      "Latitude                   1158178 non-null float64\n",
      "Longitude                  1158178 non-null float64\n",
      "Accident                   1251972 non-null object\n",
      "Belts                      1251972 non-null object\n",
      "Personal Injury            1251972 non-null object\n",
      "Property Damage            1251972 non-null object\n",
      "Fatal                      1251972 non-null object\n",
      "Commercial License         1251972 non-null object\n",
      "HAZMAT                     1251972 non-null object\n",
      "Commercial Vehicle         1251972 non-null object\n",
      "Alcohol                    1251972 non-null object\n",
      "Work Zone                  1251972 non-null object\n",
      "State                      1251913 non-null object\n",
      "VehicleType                1251972 non-null object\n",
      "Year                       1251972 non-null int64\n",
      "Make                       1251915 non-null object\n",
      "Model                      1251786 non-null object\n",
      "Color                      1236136 non-null category\n",
      "Violation Type             1251972 non-null object\n",
      "Charge                     1251972 non-null object\n",
      "Article                    1188862 non-null object\n",
      "Contributed To Accident    1251972 non-null object\n",
      "Race                       1251972 non-null object\n",
      "Gender                     1251972 non-null object\n",
      "Driver City                1251768 non-null object\n",
      "Driver State               1251961 non-null object\n",
      "DL State                   1251043 non-null object\n",
      "Arrest Type                1251972 non-null object\n",
      "Geolocation                1158178 non-null object\n",
      "dtypes: category(1), float64(2), int64(1), object(31)\n",
      "memory usage: 326.0+ MB\n"
     ]
    }
   ],
   "source": [
    "t_df.info()"
   ]
  },
  {
   "cell_type": "markdown",
   "metadata": {},
   "source": [
    "**our memory use is now 326.0+ MB vs 334.3+ MB**"
   ]
  },
  {
   "cell_type": "code",
   "execution_count": 15,
   "metadata": {},
   "outputs": [
    {
     "name": "stdout",
     "output_type": "stream",
     "text": [
      "Index(['Date Of Stop', 'Time Of Stop', 'Agency', 'SubAgency', 'Description',\n",
      "       'Location', 'Latitude', 'Longitude', 'Accident', 'Belts',\n",
      "       'Personal Injury', 'Property Damage', 'Fatal', 'Commercial License',\n",
      "       'HAZMAT', 'Commercial Vehicle', 'Alcohol', 'Work Zone', 'State',\n",
      "       'VehicleType', 'Year', 'Make', 'Model', 'Color', 'Violation Type',\n",
      "       'Charge', 'Article', 'Contributed To Accident', 'Race', 'Gender',\n",
      "       'Driver City', 'Driver State', 'DL State', 'Arrest Type',\n",
      "       'Geolocation'],\n",
      "      dtype='object')\n"
     ]
    }
   ],
   "source": [
    "print(t_df.columns)"
   ]
  },
  {
   "cell_type": "code",
   "execution_count": 16,
   "metadata": {},
   "outputs": [
    {
     "name": "stdout",
     "output_type": "stream",
     "text": [
      "('Date Of Stop', 2249)\n",
      "('Time Of Stop', 1440)\n",
      "('Agency', 1)\n",
      "('SubAgency', 7)\n",
      "('Description', 12335)\n",
      "('Location', 182472)\n",
      "('Latitude', 280386)\n",
      "('Longitude', 315383)\n",
      "('Accident', 1)\n",
      "('Belts', 2)\n",
      "('Personal Injury', 2)\n",
      "('Property Damage', 2)\n",
      "('Fatal', 2)\n",
      "('Commercial License', 2)\n",
      "('HAZMAT', 2)\n",
      "('Commercial Vehicle', 2)\n",
      "('Alcohol', 2)\n",
      "('Work Zone', 2)\n",
      "('State', 69)\n",
      "('VehicleType', 33)\n",
      "('Year', 306)\n",
      "('Make', 3481)\n",
      "('Model', 17288)\n",
      "('Color', 26)\n",
      "('Violation Type', 4)\n",
      "('Charge', 1024)\n",
      "('Article', 2)\n",
      "('Contributed To Accident', 2)\n",
      "('Race', 6)\n",
      "('Gender', 3)\n",
      "('Driver City', 7168)\n",
      "('Driver State', 68)\n",
      "('DL State', 70)\n",
      "('Arrest Type', 19)\n",
      "('Geolocation', 613475)\n"
     ]
    }
   ],
   "source": [
    "# look for others to convert to category\n",
    "# we could further reduce memory by converting some of \n",
    "# these to category type\n",
    "ll = [(cat, t_df[cat].nunique()) for cat in t_df.columns]\n",
    "for l in ll:\n",
    "    print(l)"
   ]
  },
  {
   "cell_type": "code",
   "execution_count": null,
   "metadata": {},
   "outputs": [],
   "source": []
  }
 ],
 "metadata": {
  "kernelspec": {
   "display_name": "tf_edge",
   "language": "python",
   "name": "tf_edge"
  },
  "language_info": {
   "codemirror_mode": {
    "name": "ipython",
    "version": 3
   },
   "file_extension": ".py",
   "mimetype": "text/x-python",
   "name": "python",
   "nbconvert_exporter": "python",
   "pygments_lexer": "ipython3",
   "version": "3.5.4"
  }
 },
 "nbformat": 4,
 "nbformat_minor": 2
}
