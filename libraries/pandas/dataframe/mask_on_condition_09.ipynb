{
 "cells": [
  {
   "cell_type": "code",
   "execution_count": 1,
   "metadata": {},
   "outputs": [],
   "source": [
    "import pandas as pd\n",
    "import os"
   ]
  },
  {
   "cell_type": "markdown",
   "metadata": {},
   "source": [
    "## Obtain different dataset data.gov\n",
    "\n",
    "https://catalog.data.gov/dataset"
   ]
  },
  {
   "cell_type": "code",
   "execution_count": 2,
   "metadata": {},
   "outputs": [],
   "source": [
    "from six.moves import urllib\n",
    "\n",
    "# where the datasets will be placed\n",
    "ROOT_DATA = \"../../../ROOT_DATA/data_gov/\"\n",
    "\n",
    "def fetch_data_from_URL(housing_url, file_name, sub_dir=\"tmp\", root_path=ROOT_DATA):\n",
    "    placement_dir = os.path.join(root_path, sub_dir)\n",
    "    if not os.path.isdir(placement_dir):\n",
    "        os.makedirs(placement_dir)\n",
    "    placement_path = os.path.join(placement_dir, file_name)\n",
    "    # only download if not already present\n",
    "    if not os.path.isfile(placement_path):\n",
    "        urllib.request.urlretrieve(housing_url, placement_path)\n",
    "    return placement_path"
   ]
  },
  {
   "cell_type": "code",
   "execution_count": 3,
   "metadata": {},
   "outputs": [],
   "source": [
    "# .CSV data\n",
    "la_csv_path = fetch_data_from_URL(\"https://data.lacity.org/api/views/nxs9-385f/rows.csv?accessType=DOWNLOAD\",\n",
    "                    \"2010.csv\", sub_dir=\"la_cencus\")"
   ]
  },
  {
   "cell_type": "code",
   "execution_count": 4,
   "metadata": {},
   "outputs": [
    {
     "name": "stdout",
     "output_type": "stream",
     "text": [
      "<class 'pandas.core.frame.DataFrame'>\n",
      "RangeIndex: 319 entries, 0 to 318\n",
      "Data columns (total 7 columns):\n",
      "Zip Code                  319 non-null int64\n",
      "Total Population          319 non-null int64\n",
      "Median Age                319 non-null float64\n",
      "Total Males               319 non-null int64\n",
      "Total Females             319 non-null int64\n",
      "Total Households          319 non-null int64\n",
      "Average Household Size    319 non-null float64\n",
      "dtypes: float64(2), int64(5)\n",
      "memory usage: 17.5 KB\n",
      "None\n"
     ]
    }
   ],
   "source": [
    "# read entire file into a dataframe\n",
    "df = pd.read_csv(la_csv_path)\n",
    "\n",
    "# summmary of dataframe\n",
    "print(df.info())"
   ]
  },
  {
   "cell_type": "code",
   "execution_count": 5,
   "metadata": {},
   "outputs": [
    {
     "name": "stdout",
     "output_type": "stream",
     "text": [
      "   Zip Code  Total Population  Median Age  Total Males  Total Females  \\\n",
      "0     91371                 1        73.5            0              1   \n",
      "1     90001             57110        26.6        28468          28642   \n",
      "2     90002             51223        25.5        24876          26347   \n",
      "3     90003             66266        26.3        32631          33635   \n",
      "4     90004             62180        34.8        31302          30878   \n",
      "\n",
      "   Total Households  Average Household Size  \n",
      "0                 1                    1.00  \n",
      "1             12971                    4.40  \n",
      "2             11731                    4.36  \n",
      "3             15642                    4.22  \n",
      "4             22547                    2.73  \n"
     ]
    }
   ],
   "source": [
    "print(df.head())"
   ]
  },
  {
   "cell_type": "code",
   "execution_count": 6,
   "metadata": {},
   "outputs": [
    {
     "name": "stdout",
     "output_type": "stream",
     "text": [
      "0       True\n",
      "1       True\n",
      "2       True\n",
      "3       True\n",
      "4       True\n",
      "5       True\n",
      "6       True\n",
      "7      False\n",
      "8       True\n",
      "9       True\n",
      "10      True\n",
      "11      True\n",
      "12      True\n",
      "13      True\n",
      "14      True\n",
      "15      True\n",
      "16      True\n",
      "17      True\n",
      "18      True\n",
      "19      True\n",
      "20      True\n",
      "21      True\n",
      "22      True\n",
      "23     False\n",
      "24      True\n",
      "25      True\n",
      "26      True\n",
      "27      True\n",
      "28      True\n",
      "29      True\n",
      "       ...  \n",
      "289     True\n",
      "290     True\n",
      "291     True\n",
      "292     True\n",
      "293     True\n",
      "294     True\n",
      "295     True\n",
      "296     True\n",
      "297     True\n",
      "298     True\n",
      "299     True\n",
      "300     True\n",
      "301     True\n",
      "302     True\n",
      "303     True\n",
      "304     True\n",
      "305     True\n",
      "306     True\n",
      "307     True\n",
      "308     True\n",
      "309     True\n",
      "310     True\n",
      "311     True\n",
      "312     True\n",
      "313     True\n",
      "314     True\n",
      "315     True\n",
      "316     True\n",
      "317     True\n",
      "318     True\n",
      "Name: Median Age, dtype: bool\n"
     ]
    }
   ],
   "source": [
    "print(df[\"Median Age\"] > 25)"
   ]
  },
  {
   "cell_type": "code",
   "execution_count": 7,
   "metadata": {},
   "outputs": [
    {
     "name": "stdout",
     "output_type": "stream",
     "text": [
      "   Zip Code  Total Population  Median Age  Total Males  Total Females  \\\n",
      "0     91371                 1        73.5            0              1   \n",
      "4     90004             62180        34.8        31302          30878   \n",
      "5     90005             37681        33.9        19299          18382   \n",
      "6     90006             59185        32.4        30254          28931   \n",
      "8     90008             32327        39.7        14477          17850   \n",
      "\n",
      "   Total Households  Average Household Size  \n",
      "0                 1                    1.00  \n",
      "4             22547                    2.73  \n",
      "5             15044                    2.50  \n",
      "6             18617                    3.13  \n",
      "8             13841                    2.33  \n"
     ]
    }
   ],
   "source": [
    "mask = df[\"Median Age\"] > 30\n",
    "print(df[mask].head())"
   ]
  },
  {
   "cell_type": "markdown",
   "metadata": {},
   "source": [
    "## Multiple conditions"
   ]
  },
  {
   "cell_type": "markdown",
   "metadata": {},
   "source": [
    "### AND"
   ]
  },
  {
   "cell_type": "code",
   "execution_count": 8,
   "metadata": {},
   "outputs": [],
   "source": [
    "age_mask = df[\"Median Age\"] > 42\n",
    "pop_mask = df[\"Total Population\"] > 40000"
   ]
  },
  {
   "cell_type": "code",
   "execution_count": 9,
   "metadata": {},
   "outputs": [
    {
     "name": "stdout",
     "output_type": "stream",
     "text": [
      "     Zip Code  Total Population  Median Age  Total Males  Total Females  \\\n",
      "96      90275             41804        47.8        20283          21521   \n",
      "136     90703             49399        43.9        23785          25614   \n",
      "286     91789             43079        42.8        20988          22091   \n",
      "\n",
      "     Total Households  Average Household Size  \n",
      "96              15618                    2.65  \n",
      "136             15604                    3.16  \n",
      "286             12891                    3.31  \n"
     ]
    }
   ],
   "source": [
    "print(df[age_mask & pop_mask].head())"
   ]
  },
  {
   "cell_type": "markdown",
   "metadata": {},
   "source": [
    "### OR"
   ]
  },
  {
   "cell_type": "code",
   "execution_count": 10,
   "metadata": {},
   "outputs": [],
   "source": [
    "age_mask = df[\"Median Age\"] > 42\n",
    "pop_mask = df[\"Total Population\"] > 40000"
   ]
  },
  {
   "cell_type": "code",
   "execution_count": 11,
   "metadata": {},
   "outputs": [
    {
     "name": "stdout",
     "output_type": "stream",
     "text": [
      "   Zip Code  Total Population  Median Age  Total Males  Total Females  \\\n",
      "0     91371                 1        73.5            0              1   \n",
      "1     90001             57110        26.6        28468          28642   \n",
      "2     90002             51223        25.5        24876          26347   \n",
      "3     90003             66266        26.3        32631          33635   \n",
      "4     90004             62180        34.8        31302          30878   \n",
      "\n",
      "   Total Households  Average Household Size  \n",
      "0                 1                    1.00  \n",
      "1             12971                    4.40  \n",
      "2             11731                    4.36  \n",
      "3             15642                    4.22  \n",
      "4             22547                    2.73  \n"
     ]
    }
   ],
   "source": [
    "print(df[age_mask | pop_mask].head())"
   ]
  },
  {
   "cell_type": "markdown",
   "metadata": {},
   "source": [
    "### Combined"
   ]
  },
  {
   "cell_type": "code",
   "execution_count": 12,
   "metadata": {},
   "outputs": [],
   "source": [
    "age_mask_up = df[\"Median Age\"] > 43\n",
    "pop_mask_up = df[\"Total Population\"] > 40000\n",
    "age_mask_down = df[\"Median Age\"] < 25\n",
    "pop_mask_down = df[\"Total Population\"] > 40000"
   ]
  },
  {
   "cell_type": "code",
   "execution_count": 13,
   "metadata": {},
   "outputs": [
    {
     "name": "stdout",
     "output_type": "stream",
     "text": [
      "     Zip Code  Total Population  Median Age  Total Males  Total Females  \\\n",
      "7       90007             40920        24.0        20915          20005   \n",
      "23      90024             47452        23.6        22248          25204   \n",
      "96      90275             41804        47.8        20283          21521   \n",
      "136     90703             49399        43.9        23785          25614   \n",
      "\n",
      "     Total Households  Average Household Size  \n",
      "7               11944                    3.00  \n",
      "23              17903                    2.03  \n",
      "96              15618                    2.65  \n",
      "136             15604                    3.16  \n"
     ]
    }
   ],
   "source": [
    "print(df[(age_mask_down & pop_mask_down) | (age_mask_up & pop_mask_up)].head())"
   ]
  },
  {
   "cell_type": "code",
   "execution_count": null,
   "metadata": {},
   "outputs": [],
   "source": []
  }
 ],
 "metadata": {
  "kernelspec": {
   "display_name": "tf_edge",
   "language": "python",
   "name": "tf_edge"
  },
  "language_info": {
   "codemirror_mode": {
    "name": "ipython",
    "version": 3
   },
   "file_extension": ".py",
   "mimetype": "text/x-python",
   "name": "python",
   "nbconvert_exporter": "python",
   "pygments_lexer": "ipython3",
   "version": "3.5.4"
  }
 },
 "nbformat": 4,
 "nbformat_minor": 2
}
