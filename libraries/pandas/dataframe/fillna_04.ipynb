{
 "cells": [
  {
   "cell_type": "code",
   "execution_count": 2,
   "metadata": {},
   "outputs": [],
   "source": [
    "import pandas as pd\n",
    "import os"
   ]
  },
  {
   "cell_type": "markdown",
   "metadata": {},
   "source": [
    "## Obtain different dataset data.gov\n",
    "\n",
    "https://catalog.data.gov/dataset"
   ]
  },
  {
   "cell_type": "code",
   "execution_count": 3,
   "metadata": {},
   "outputs": [],
   "source": [
    "from six.moves import urllib\n",
    "\n",
    "# where the datasets will be placed\n",
    "ROOT_DATA = \"../../../ROOT_DATA/data_gov/\"\n",
    "\n",
    "def fetch_data_from_URL(housing_url, file_name, sub_dir=\"tmp\", root_path=ROOT_DATA):\n",
    "    placement_dir = os.path.join(root_path, sub_dir)\n",
    "    if not os.path.isdir(placement_dir):\n",
    "        os.makedirs(placement_dir)\n",
    "    placement_path = os.path.join(placement_dir, file_name)\n",
    "    # only download if not already present\n",
    "    if not os.path.isfile(placement_path):\n",
    "        urllib.request.urlretrieve(housing_url, placement_path)\n",
    "    return placement_path"
   ]
  },
  {
   "cell_type": "code",
   "execution_count": 21,
   "metadata": {},
   "outputs": [],
   "source": [
    "# working with excel: `conda install -c anaconda xlrd`\n",
    "fsa_xlsx_path = fetch_data_from_URL(\"https://ifap.ed.gov/fedschcodelist/attachments/1617FedSchoolCodeList.xlsx\",\n",
    "                    \"1617FedSchoolCodeList.xlsx\", sub_dir=\"FSA\")"
   ]
  },
  {
   "cell_type": "code",
   "execution_count": 22,
   "metadata": {},
   "outputs": [
    {
     "name": "stdout",
     "output_type": "stream",
     "text": [
      "<class 'pandas.core.frame.DataFrame'>\n",
      "RangeIndex: 6962 entries, 0 to 6961\n",
      "Data columns (total 10 columns):\n",
      "ID            6962 non-null int64\n",
      "SchoolCode    6962 non-null object\n",
      "SchoolName    6962 non-null object\n",
      "Address       6962 non-null object\n",
      "City          6962 non-null object\n",
      "StateCode     6962 non-null object\n",
      "ZipCode       6962 non-null int64\n",
      "Province      111 non-null object\n",
      "Country       402 non-null object\n",
      "PostalCode    229 non-null object\n",
      "dtypes: int64(2), object(8)\n",
      "memory usage: 544.0+ KB\n",
      "None\n"
     ]
    }
   ],
   "source": [
    "s_df = pd.read_excel(fsa_xlsx_path)\n",
    "print(s_df.info())"
   ]
  },
  {
   "cell_type": "code",
   "execution_count": 11,
   "metadata": {},
   "outputs": [
    {
     "name": "stdout",
     "output_type": "stream",
     "text": [
      "      ID SchoolCode                             SchoolName  \\\n",
      "0  25969     B04724        WIDENER UNIV SCHOOL OF LAW - DE   \n",
      "1  25970     B06171    CENTER FOR ADVANCED STUDIES OF PUER   \n",
      "2  25971     B06511       PENTECOSTAL THEOLOGICAL SEMINARY   \n",
      "3  25972     B07022  THE CHICAGO SCHOOL OF PROF PSYCHOLOGY   \n",
      "4  25973     B07624   NATIONAL COLLEGE OF NATURAL MEDICINE   \n",
      "\n",
      "                         Address        City StateCode  ZipCode Province  \\\n",
      "0  4601 CONCORD PIKE/PO BOX 7474  WILMINGTON        DE    19803      NaN   \n",
      "1                     BOX S-4467    SAN JUAN        PR      902      NaN   \n",
      "2                    PO BOX 3330   CLEVELAND        TN    37320      NaN   \n",
      "3         325 NORTH WELLS STREET     CHICAGO        IL    60610      NaN   \n",
      "4                  049 SW PORTER    PORTLAND        OR    97201      NaN   \n",
      "\n",
      "  Country PostalCode  \n",
      "0     NaN        NaN  \n",
      "1     NaN        NaN  \n",
      "2     NaN        NaN  \n",
      "3     NaN        NaN  \n",
      "4     NaN        NaN  \n"
     ]
    }
   ],
   "source": [
    "print(s_df.head())"
   ]
  },
  {
   "cell_type": "code",
   "execution_count": 16,
   "metadata": {},
   "outputs": [
    {
     "name": "stdout",
     "output_type": "stream",
     "text": [
      "      ID SchoolCode                             SchoolName  \\\n",
      "0  25969     B04724        WIDENER UNIV SCHOOL OF LAW - DE   \n",
      "1  25970     B06171    CENTER FOR ADVANCED STUDIES OF PUER   \n",
      "2  25971     B06511       PENTECOSTAL THEOLOGICAL SEMINARY   \n",
      "3  25972     B07022  THE CHICAGO SCHOOL OF PROF PSYCHOLOGY   \n",
      "4  25973     B07624   NATIONAL COLLEGE OF NATURAL MEDICINE   \n",
      "\n",
      "                         Address        City StateCode  ZipCode Province  \\\n",
      "0  4601 CONCORD PIKE/PO BOX 7474  WILMINGTON        DE    19803        0   \n",
      "1                     BOX S-4467    SAN JUAN        PR      902        0   \n",
      "2                    PO BOX 3330   CLEVELAND        TN    37320        0   \n",
      "3         325 NORTH WELLS STREET     CHICAGO        IL    60610        0   \n",
      "4                  049 SW PORTER    PORTLAND        OR    97201        0   \n",
      "\n",
      "  Country PostalCode  \n",
      "0       0          0  \n",
      "1       0          0  \n",
      "2       0          0  \n",
      "3       0          0  \n",
      "4       0          0  \n"
     ]
    }
   ],
   "source": [
    "# fillna will fill (all) NaNs with the specified value\n",
    "print(s_df.fillna(0).head())"
   ]
  },
  {
   "cell_type": "code",
   "execution_count": 23,
   "metadata": {},
   "outputs": [
    {
     "name": "stdout",
     "output_type": "stream",
     "text": [
      "      ID SchoolCode                             SchoolName  \\\n",
      "0  25969     B04724        WIDENER UNIV SCHOOL OF LAW - DE   \n",
      "1  25970     B06171    CENTER FOR ADVANCED STUDIES OF PUER   \n",
      "2  25971     B06511       PENTECOSTAL THEOLOGICAL SEMINARY   \n",
      "3  25972     B07022  THE CHICAGO SCHOOL OF PROF PSYCHOLOGY   \n",
      "4  25973     B07624   NATIONAL COLLEGE OF NATURAL MEDICINE   \n",
      "\n",
      "                         Address        City StateCode  ZipCode Province  \\\n",
      "0  4601 CONCORD PIKE/PO BOX 7474  WILMINGTON        DE    19803      NaN   \n",
      "1                     BOX S-4467    SAN JUAN        PR      902      NaN   \n",
      "2                    PO BOX 3330   CLEVELAND        TN    37320      NaN   \n",
      "3         325 NORTH WELLS STREET     CHICAGO        IL    60610      NaN   \n",
      "4                  049 SW PORTER    PORTLAND        OR    97201      NaN   \n",
      "\n",
      "  Country PostalCode  \n",
      "0      NA        NaN  \n",
      "1      NA        NaN  \n",
      "2      NA        NaN  \n",
      "3      NA        NaN  \n",
      "4      NA        NaN  \n"
     ]
    }
   ],
   "source": [
    "# Notice that even though we're working the series,\n",
    "# the series is still linked to the DF (in this case)\n",
    "# and so the df is also updated\n",
    "s_df['Country'].fillna(\"NA\", inplace=True)\n",
    "print(s_df.head())"
   ]
  },
  {
   "cell_type": "code",
   "execution_count": 26,
   "metadata": {},
   "outputs": [
    {
     "name": "stdout",
     "output_type": "stream",
     "text": [
      "NA           6560\n",
      "ENGLAND       189\n",
      "CANADA         69\n",
      "AUSTRALIA      19\n",
      "SCOTLAND       16\n",
      "Name: Country, dtype: int64\n"
     ]
    }
   ],
   "source": [
    "print(s_df['Country'].value_counts().head())"
   ]
  },
  {
   "cell_type": "code",
   "execution_count": null,
   "metadata": {},
   "outputs": [],
   "source": []
  }
 ],
 "metadata": {
  "kernelspec": {
   "display_name": "tf_edge",
   "language": "python",
   "name": "tf_edge"
  },
  "language_info": {
   "codemirror_mode": {
    "name": "ipython",
    "version": 3
   },
   "file_extension": ".py",
   "mimetype": "text/x-python",
   "name": "python",
   "nbconvert_exporter": "python",
   "pygments_lexer": "ipython3",
   "version": "3.5.4"
  }
 },
 "nbformat": 4,
 "nbformat_minor": 2
}
