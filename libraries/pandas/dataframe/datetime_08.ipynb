{
 "cells": [
  {
   "cell_type": "code",
   "execution_count": 1,
   "metadata": {},
   "outputs": [],
   "source": [
    "import pandas as pd\n",
    "import os"
   ]
  },
  {
   "cell_type": "markdown",
   "metadata": {},
   "source": [
    "## Obtain different dataset data.gov\n",
    "\n",
    "https://catalog.data.gov/dataset"
   ]
  },
  {
   "cell_type": "code",
   "execution_count": 2,
   "metadata": {},
   "outputs": [],
   "source": [
    "from six.moves import urllib\n",
    "\n",
    "# where the datasets will be placed\n",
    "ROOT_DATA = \"../../../ROOT_DATA/data_gov/\"\n",
    "\n",
    "def fetch_data_from_URL(housing_url, file_name, sub_dir=\"tmp\", root_path=ROOT_DATA):\n",
    "    placement_dir = os.path.join(root_path, sub_dir)\n",
    "    if not os.path.isdir(placement_dir):\n",
    "        os.makedirs(placement_dir)\n",
    "    placement_path = os.path.join(placement_dir, file_name)\n",
    "    # only download if not already present\n",
    "    if not os.path.isfile(placement_path):\n",
    "        urllib.request.urlretrieve(housing_url, placement_path)\n",
    "    return placement_path"
   ]
  },
  {
   "cell_type": "code",
   "execution_count": 3,
   "metadata": {},
   "outputs": [],
   "source": [
    "# .CSV data\n",
    "traffic_csv_path = fetch_data_from_URL(\"https://data.montgomerycountymd.gov/api/views/4mse-ku6q/rows.csv?accessType=DOWNLOAD\",\n",
    "                    \"traffic_violations.csv\", sub_dir=\"traffic\")"
   ]
  },
  {
   "cell_type": "code",
   "execution_count": 11,
   "metadata": {},
   "outputs": [
    {
     "name": "stderr",
     "output_type": "stream",
     "text": [
      "/home/jack/anaconda3/envs/tf_edge/lib/python3.5/site-packages/IPython/core/interactiveshell.py:2728: DtypeWarning: Columns (26) have mixed types. Specify dtype option on import or set low_memory=False.\n",
      "  interactivity=interactivity, compiler=compiler, result=result)\n"
     ]
    },
    {
     "name": "stdout",
     "output_type": "stream",
     "text": [
      "<class 'pandas.core.frame.DataFrame'>\n",
      "RangeIndex: 1251972 entries, 0 to 1251971\n",
      "Data columns (total 35 columns):\n",
      "Date Of Stop               1251972 non-null datetime64[ns]\n",
      "Time Of Stop               1251972 non-null datetime64[ns]\n",
      "Agency                     1251972 non-null object\n",
      "SubAgency                  1251962 non-null object\n",
      "Description                1251963 non-null object\n",
      "Location                   1251970 non-null object\n",
      "Latitude                   1158178 non-null float64\n",
      "Longitude                  1158178 non-null float64\n",
      "Accident                   1251972 non-null object\n",
      "Belts                      1251972 non-null object\n",
      "Personal Injury            1251972 non-null object\n",
      "Property Damage            1251972 non-null object\n",
      "Fatal                      1251972 non-null object\n",
      "Commercial License         1251972 non-null object\n",
      "HAZMAT                     1251972 non-null object\n",
      "Commercial Vehicle         1251972 non-null object\n",
      "Alcohol                    1251972 non-null object\n",
      "Work Zone                  1251972 non-null object\n",
      "State                      1251913 non-null object\n",
      "VehicleType                1251972 non-null object\n",
      "Year                       1244022 non-null float64\n",
      "Make                       1251915 non-null object\n",
      "Model                      1251786 non-null object\n",
      "Color                      1236136 non-null object\n",
      "Violation Type             1251972 non-null object\n",
      "Charge                     1251972 non-null object\n",
      "Article                    1188862 non-null object\n",
      "Contributed To Accident    1251972 non-null object\n",
      "Race                       1251972 non-null object\n",
      "Gender                     1251972 non-null object\n",
      "Driver City                1251768 non-null object\n",
      "Driver State               1251961 non-null object\n",
      "DL State                   1251043 non-null object\n",
      "Arrest Type                1251972 non-null object\n",
      "Geolocation                1158178 non-null object\n",
      "dtypes: datetime64[ns](2), float64(3), object(30)\n",
      "memory usage: 334.3+ MB\n",
      "None\n"
     ]
    }
   ],
   "source": [
    "# read entire file into a dataframe\n",
    "df = pd.read_csv(traffic_csv_path, parse_dates=[\"Date Of Stop\", \"Time Of Stop\"])\n",
    "\n",
    "# summmary of dataframe\n",
    "print(df.info())"
   ]
  },
  {
   "cell_type": "code",
   "execution_count": 12,
   "metadata": {},
   "outputs": [
    {
     "name": "stdout",
     "output_type": "stream",
     "text": [
      "  Date Of Stop        Time Of Stop Agency  \\\n",
      "0   2013-09-24 2018-03-03 17:11:00    MCP   \n",
      "1   2017-08-29 2018-03-03 10:19:00    MCP   \n",
      "2   2014-12-01 2018-03-03 12:52:00    MCP   \n",
      "3   2017-08-29 2018-03-03 09:22:00    MCP   \n",
      "4   2017-08-28 2018-03-03 23:41:00    MCP   \n",
      "\n",
      "                                         SubAgency  \\\n",
      "0                      3rd district, Silver Spring   \n",
      "1                           2nd district, Bethesda   \n",
      "2  6th district, Gaithersburg / Montgomery Village   \n",
      "3                      3rd district, Silver Spring   \n",
      "4  6th district, Gaithersburg / Montgomery Village   \n",
      "\n",
      "                                         Description  \\\n",
      "0  DRIVING VEHICLE ON HIGHWAY WITH SUSPENDED REGI...   \n",
      "1  DRIVER FAILURE TO OBEY PROPERLY PLACED TRAFFIC...   \n",
      "2                 FAILURE STOP AND YIELD AT THRU HWY   \n",
      "3               FAILURE YIELD RIGHT OF WAY ON U TURN   \n",
      "4  FAILURE OF DR. TO MAKE LANE CHANGE TO AVAIL. L...   \n",
      "\n",
      "                                 Location   Latitude  Longitude Accident  \\\n",
      "0                         8804 FLOWER AVE        NaN        NaN       No   \n",
      "1                   WISCONSIN AVE@ ELM ST  38.981725 -77.092757       No   \n",
      "2  CHRISTOPHER AVE/MONTGOMERY VILLAGE AVE  39.162888 -77.229088       No   \n",
      "3         CHERRY HILL RD./CALVERTON BLVD.  39.056975 -76.954633       No   \n",
      "4              355 @ SOUTH WESTLAND DRIVE        NaN        NaN       No   \n",
      "\n",
      "  Belts                  ...                        Charge  \\\n",
      "0    No                  ...                     13-401(h)   \n",
      "1    No                  ...                    21-201(a1)   \n",
      "2    No                  ...                     21-403(b)   \n",
      "3    No                  ...                     21-402(b)   \n",
      "4    No                  ...                    21-405(e1)   \n",
      "\n",
      "                  Article Contributed To Accident   Race Gender  \\\n",
      "0  Transportation Article                      No  BLACK      M   \n",
      "1  Transportation Article                      No  WHITE      F   \n",
      "2  Transportation Article                      No  BLACK      F   \n",
      "3  Transportation Article                      No  BLACK      M   \n",
      "4  Transportation Article                      No  WHITE      M   \n",
      "\n",
      "       Driver City Driver State DL State        Arrest Type  \\\n",
      "0      TAKOMA PARK           MD       MD  A - Marked Patrol   \n",
      "1  FAIRFAX STATION           VA       VA  A - Marked Patrol   \n",
      "2   UPPER MARLBORO           MD       MD  A - Marked Patrol   \n",
      "3  FORT WASHINGTON           MD       MD  A - Marked Patrol   \n",
      "4     GAITHERSBURG           MD       MD  A - Marked Patrol   \n",
      "\n",
      "                             Geolocation  \n",
      "0                                    NaN  \n",
      "1         (38.981725, -77.0927566666667)  \n",
      "2  (39.1628883333333, -77.2290883333333)  \n",
      "3         (39.056975, -76.9546333333333)  \n",
      "4                                    NaN  \n",
      "\n",
      "[5 rows x 35 columns]\n"
     ]
    }
   ],
   "source": [
    "print(df.head())"
   ]
  },
  {
   "cell_type": "code",
   "execution_count": 13,
   "metadata": {},
   "outputs": [
    {
     "name": "stderr",
     "output_type": "stream",
     "text": [
      "/home/jack/anaconda3/envs/tf_edge/lib/python3.5/site-packages/IPython/core/interactiveshell.py:2728: DtypeWarning: Columns (26) have mixed types. Specify dtype option on import or set low_memory=False.\n",
      "  interactivity=interactivity, compiler=compiler, result=result)\n"
     ]
    },
    {
     "name": "stdout",
     "output_type": "stream",
     "text": [
      "<class 'pandas.core.frame.DataFrame'>\n",
      "RangeIndex: 1251972 entries, 0 to 1251971\n",
      "Data columns (total 34 columns):\n",
      "Date Of Stop_Time Of Stop    1251972 non-null datetime64[ns]\n",
      "Agency                       1251972 non-null object\n",
      "SubAgency                    1251962 non-null object\n",
      "Description                  1251963 non-null object\n",
      "Location                     1251970 non-null object\n",
      "Latitude                     1158178 non-null float64\n",
      "Longitude                    1158178 non-null float64\n",
      "Accident                     1251972 non-null object\n",
      "Belts                        1251972 non-null object\n",
      "Personal Injury              1251972 non-null object\n",
      "Property Damage              1251972 non-null object\n",
      "Fatal                        1251972 non-null object\n",
      "Commercial License           1251972 non-null object\n",
      "HAZMAT                       1251972 non-null object\n",
      "Commercial Vehicle           1251972 non-null object\n",
      "Alcohol                      1251972 non-null object\n",
      "Work Zone                    1251972 non-null object\n",
      "State                        1251913 non-null object\n",
      "VehicleType                  1251972 non-null object\n",
      "Year                         1244022 non-null float64\n",
      "Make                         1251915 non-null object\n",
      "Model                        1251786 non-null object\n",
      "Color                        1236136 non-null object\n",
      "Violation Type               1251972 non-null object\n",
      "Charge                       1251972 non-null object\n",
      "Article                      1188862 non-null object\n",
      "Contributed To Accident      1251972 non-null object\n",
      "Race                         1251972 non-null object\n",
      "Gender                       1251972 non-null object\n",
      "Driver City                  1251768 non-null object\n",
      "Driver State                 1251961 non-null object\n",
      "DL State                     1251043 non-null object\n",
      "Arrest Type                  1251972 non-null object\n",
      "Geolocation                  1158178 non-null object\n",
      "dtypes: datetime64[ns](1), float64(3), object(30)\n",
      "memory usage: 324.8+ MB\n",
      "None\n"
     ]
    }
   ],
   "source": [
    "df = pd.read_csv(traffic_csv_path, parse_dates=[[\"Date Of Stop\", \"Time Of Stop\"]])\n",
    "\n",
    "# summmary of dataframe\n",
    "print(df.info())"
   ]
  },
  {
   "cell_type": "code",
   "execution_count": 14,
   "metadata": {},
   "outputs": [
    {
     "name": "stdout",
     "output_type": "stream",
     "text": [
      "  Date Of Stop_Time Of Stop Agency  \\\n",
      "0       2013-09-24 17:11:00    MCP   \n",
      "1       2017-08-29 10:19:00    MCP   \n",
      "2       2014-12-01 12:52:00    MCP   \n",
      "3       2017-08-29 09:22:00    MCP   \n",
      "4       2017-08-28 23:41:00    MCP   \n",
      "\n",
      "                                         SubAgency  \\\n",
      "0                      3rd district, Silver Spring   \n",
      "1                           2nd district, Bethesda   \n",
      "2  6th district, Gaithersburg / Montgomery Village   \n",
      "3                      3rd district, Silver Spring   \n",
      "4  6th district, Gaithersburg / Montgomery Village   \n",
      "\n",
      "                                         Description  \\\n",
      "0  DRIVING VEHICLE ON HIGHWAY WITH SUSPENDED REGI...   \n",
      "1  DRIVER FAILURE TO OBEY PROPERLY PLACED TRAFFIC...   \n",
      "2                 FAILURE STOP AND YIELD AT THRU HWY   \n",
      "3               FAILURE YIELD RIGHT OF WAY ON U TURN   \n",
      "4  FAILURE OF DR. TO MAKE LANE CHANGE TO AVAIL. L...   \n",
      "\n",
      "                                 Location   Latitude  Longitude Accident  \\\n",
      "0                         8804 FLOWER AVE        NaN        NaN       No   \n",
      "1                   WISCONSIN AVE@ ELM ST  38.981725 -77.092757       No   \n",
      "2  CHRISTOPHER AVE/MONTGOMERY VILLAGE AVE  39.162888 -77.229088       No   \n",
      "3         CHERRY HILL RD./CALVERTON BLVD.  39.056975 -76.954633       No   \n",
      "4              355 @ SOUTH WESTLAND DRIVE        NaN        NaN       No   \n",
      "\n",
      "  Belts Personal Injury                  ...                        Charge  \\\n",
      "0    No              No                  ...                     13-401(h)   \n",
      "1    No              No                  ...                    21-201(a1)   \n",
      "2    No              No                  ...                     21-403(b)   \n",
      "3    No              No                  ...                     21-402(b)   \n",
      "4    No              No                  ...                    21-405(e1)   \n",
      "\n",
      "                  Article Contributed To Accident   Race Gender  \\\n",
      "0  Transportation Article                      No  BLACK      M   \n",
      "1  Transportation Article                      No  WHITE      F   \n",
      "2  Transportation Article                      No  BLACK      F   \n",
      "3  Transportation Article                      No  BLACK      M   \n",
      "4  Transportation Article                      No  WHITE      M   \n",
      "\n",
      "       Driver City Driver State DL State        Arrest Type  \\\n",
      "0      TAKOMA PARK           MD       MD  A - Marked Patrol   \n",
      "1  FAIRFAX STATION           VA       VA  A - Marked Patrol   \n",
      "2   UPPER MARLBORO           MD       MD  A - Marked Patrol   \n",
      "3  FORT WASHINGTON           MD       MD  A - Marked Patrol   \n",
      "4     GAITHERSBURG           MD       MD  A - Marked Patrol   \n",
      "\n",
      "                             Geolocation  \n",
      "0                                    NaN  \n",
      "1         (38.981725, -77.0927566666667)  \n",
      "2  (39.1628883333333, -77.2290883333333)  \n",
      "3         (39.056975, -76.9546333333333)  \n",
      "4                                    NaN  \n",
      "\n",
      "[5 rows x 34 columns]\n"
     ]
    }
   ],
   "source": [
    "print(df.head())"
   ]
  },
  {
   "cell_type": "markdown",
   "metadata": {},
   "source": [
    "## Optimize"
   ]
  },
  {
   "cell_type": "code",
   "execution_count": 15,
   "metadata": {},
   "outputs": [],
   "source": [
    "# dt = pd.to_datetime(df[\"Date Of Stop\"])"
   ]
  },
  {
   "cell_type": "code",
   "execution_count": 16,
   "metadata": {},
   "outputs": [],
   "source": [
    "# https://stackoverflow.com/questions/17978092/combine-date-and-time-columns-using-python-pandas\n",
    "# df.apply(lambda r : pd.datetime.combine(r['date_column_name'],r['time_column_name']),1)"
   ]
  },
  {
   "cell_type": "code",
   "execution_count": null,
   "metadata": {},
   "outputs": [],
   "source": []
  }
 ],
 "metadata": {
  "kernelspec": {
   "display_name": "tf_edge",
   "language": "python",
   "name": "tf_edge"
  },
  "language_info": {
   "codemirror_mode": {
    "name": "ipython",
    "version": 3
   },
   "file_extension": ".py",
   "mimetype": "text/x-python",
   "name": "python",
   "nbconvert_exporter": "python",
   "pygments_lexer": "ipython3",
   "version": "3.5.4"
  }
 },
 "nbformat": 4,
 "nbformat_minor": 2
}
