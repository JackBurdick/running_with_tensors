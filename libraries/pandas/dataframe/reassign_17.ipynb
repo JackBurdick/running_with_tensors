{
 "cells": [
  {
   "cell_type": "code",
   "execution_count": 1,
   "metadata": {
    "collapsed": true
   },
   "outputs": [],
   "source": [
    "import pandas as pd\n",
    "import os"
   ]
  },
  {
   "cell_type": "markdown",
   "metadata": {},
   "source": [
    "## Obtain different dataset data.gov\n",
    "\n",
    "https://catalog.data.gov/dataset"
   ]
  },
  {
   "cell_type": "code",
   "execution_count": 2,
   "metadata": {
    "collapsed": true
   },
   "outputs": [],
   "source": [
    "from six.moves import urllib\n",
    "\n",
    "# where the datasets will be placed\n",
    "ROOT_DATA = \"../../../ROOT_DATA/data_gov/\"\n",
    "\n",
    "def fetch_data_from_URL(housing_url, file_name, sub_dir=\"tmp\", root_path=ROOT_DATA):\n",
    "    placement_dir = os.path.join(root_path, sub_dir)\n",
    "    if not os.path.isdir(placement_dir):\n",
    "        os.makedirs(placement_dir)\n",
    "    placement_path = os.path.join(placement_dir, file_name)\n",
    "    # only download if not already present\n",
    "    if not os.path.isfile(placement_path):\n",
    "        urllib.request.urlretrieve(housing_url, placement_path)\n",
    "    return placement_path"
   ]
  },
  {
   "cell_type": "code",
   "execution_count": 3,
   "metadata": {
    "collapsed": true
   },
   "outputs": [],
   "source": [
    "# working with excel: `conda install -c anaconda xlrd`\n",
    "fsa_xlsx_path = fetch_data_from_URL(\"https://ifap.ed.gov/fedschcodelist/attachments/1617FedSchoolCodeList.xlsx\",\n",
    "                    \"1617FedSchoolCodeList.xlsx\", sub_dir=\"FSA\")"
   ]
  },
  {
   "cell_type": "code",
   "execution_count": 19,
   "metadata": {},
   "outputs": [
    {
     "name": "stdout",
     "output_type": "stream",
     "text": [
      "<class 'pandas.core.frame.DataFrame'>\n",
      "Int64Index: 6962 entries, 25969 to 32930\n",
      "Data columns (total 9 columns):\n",
      "SchoolCode    6962 non-null object\n",
      "SchoolName    6962 non-null object\n",
      "Address       6962 non-null object\n",
      "City          6962 non-null object\n",
      "StateCode     6962 non-null object\n",
      "ZipCode       6962 non-null int64\n",
      "Province      111 non-null object\n",
      "Country       402 non-null object\n",
      "PostalCode    229 non-null object\n",
      "dtypes: int64(1), object(8)\n",
      "memory usage: 543.9+ KB\n",
      "None\n"
     ]
    }
   ],
   "source": [
    "df = pd.read_excel(fsa_xlsx_path, index_col=\"ID\")\n",
    "print(df.info())"
   ]
  },
  {
   "cell_type": "code",
   "execution_count": 22,
   "metadata": {},
   "outputs": [
    {
     "name": "stdout",
     "output_type": "stream",
     "text": [
      "      SchoolCode                             SchoolName  \\\n",
      "ID                                                        \n",
      "25969     B04724        WIDENER UNIV SCHOOL OF LAW - DE   \n",
      "25970     B06171    CENTER FOR ADVANCED STUDIES OF PUER   \n",
      "25971     B06511       PENTECOSTAL THEOLOGICAL SEMINARY   \n",
      "25972     B07022  THE CHICAGO SCHOOL OF PROF PSYCHOLOGY   \n",
      "25973     B07624   NATIONAL COLLEGE OF NATURAL MEDICINE   \n",
      "\n",
      "                             Address        City StateCode  ZipCode Province  \\\n",
      "ID                                                                             \n",
      "25969  4601 CONCORD PIKE/PO BOX 7474  WILMINGTON        DE    19803      NaN   \n",
      "25970                     BOX S-4467    SAN JUAN        PR      902      NaN   \n",
      "25971                    PO BOX 3330   CLEVELAND        TN    37320      NaN   \n",
      "25972         325 NORTH WELLS STREET     CHICAGO        IL    60610      NaN   \n",
      "25973                  049 SW PORTER    PORTLAND        OR    97201      NaN   \n",
      "\n",
      "      Country PostalCode  \n",
      "ID                        \n",
      "25969     NaN        NaN  \n",
      "25970     NaN        NaN  \n",
      "25971     NaN        NaN  \n",
      "25972     NaN        NaN  \n",
      "25973     NaN        NaN  \n"
     ]
    }
   ],
   "source": [
    "print(df.head())"
   ]
  },
  {
   "cell_type": "code",
   "execution_count": 27,
   "metadata": {},
   "outputs": [
    {
     "name": "stdout",
     "output_type": "stream",
     "text": [
      "SchoolCode                             B04724\n",
      "SchoolName    WIDENER UNIV SCHOOL OF LAW - DE\n",
      "Address         4601 CONCORD PIKE/PO BOX 7474\n",
      "City                               WILMINGTON\n",
      "StateCode                                  DE\n",
      "ZipCode                                 19803\n",
      "Province                                  NaN\n",
      "Country                                   NaN\n",
      "PostalCode                                NaN\n",
      "Name: 25969, dtype: object\n"
     ]
    }
   ],
   "source": [
    "# TODO: more about ix\n",
    "# ix combines loc and iloc\n",
    "print(df.ix[25969])"
   ]
  },
  {
   "cell_type": "code",
   "execution_count": 29,
   "metadata": {},
   "outputs": [
    {
     "name": "stdout",
     "output_type": "stream",
     "text": [
      "WILMINGTON\n"
     ]
    }
   ],
   "source": [
    "print(df.ix[25969, \"City\"])"
   ]
  },
  {
   "cell_type": "code",
   "execution_count": 30,
   "metadata": {},
   "outputs": [
    {
     "name": "stdout",
     "output_type": "stream",
     "text": [
      "WILLMINGTON\n"
     ]
    }
   ],
   "source": [
    "df.ix[25969, \"City\"] = \"WILLMINGTON\"\n",
    "print(df.ix[25969, \"City\"])"
   ]
  },
  {
   "cell_type": "code",
   "execution_count": 32,
   "metadata": {},
   "outputs": [
    {
     "name": "stdout",
     "output_type": "stream",
     "text": [
      "City         WILLMINGTON\n",
      "StateCode             DE\n",
      "ZipCode            19803\n",
      "Name: 25969, dtype: object\n"
     ]
    }
   ],
   "source": [
    "print(df.ix[25969, [\"City\", \"StateCode\", \"ZipCode\"]])"
   ]
  },
  {
   "cell_type": "code",
   "execution_count": 33,
   "metadata": {},
   "outputs": [
    {
     "name": "stdout",
     "output_type": "stream",
     "text": [
      "City         PARKFALLS\n",
      "StateCode           KS\n",
      "ZipCode          00000\n",
      "Name: 25969, dtype: object\n"
     ]
    }
   ],
   "source": [
    "df.ix[25969, [\"City\", \"StateCode\", \"ZipCode\"]] = [\"PARKFALLS\",\"KS\",\"00000\"]\n",
    "print(df.ix[25969, [\"City\", \"StateCode\", \"ZipCode\"]])"
   ]
  },
  {
   "cell_type": "code",
   "execution_count": null,
   "metadata": {
    "collapsed": true
   },
   "outputs": [],
   "source": []
  }
 ],
 "metadata": {
  "kernelspec": {
   "display_name": "tf_edge",
   "language": "python",
   "name": "tf_edge"
  },
  "language_info": {
   "codemirror_mode": {
    "name": "ipython",
    "version": 3
   },
   "file_extension": ".py",
   "mimetype": "text/x-python",
   "name": "python",
   "nbconvert_exporter": "python",
   "pygments_lexer": "ipython3",
   "version": "3.5.4"
  }
 },
 "nbformat": 4,
 "nbformat_minor": 2
}
