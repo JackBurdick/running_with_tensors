{
 "cells": [
  {
   "cell_type": "code",
   "execution_count": 1,
   "metadata": {},
   "outputs": [
    {
     "name": "stdout",
     "output_type": "stream",
     "text": [
      "Python: (3, 5, 4, 'final', 0)\n",
      "TensorFlow: 1.6.0-dev20180105\n",
      "No GPU\n"
     ]
    }
   ],
   "source": [
    "import tensorflow as tf\n",
    "import numpy as np\n",
    "import os\n",
    "import sys\n",
    "\n",
    "# set tf log level to supress messages, unless an error\n",
    "os.environ['TF_CPP_MIN_LOG_LEVEL'] = '3'\n",
    "\n",
    "# Important Version information\n",
    "print(\"Python: {}\".format(sys.version_info[:]))\n",
    "print('TensorFlow: {}'.format(tf.__version__))\n",
    "\n",
    "# Helper to make the output consistent\n",
    "def reset_graph(seed=42):\n",
    "    tf.reset_default_graph()\n",
    "    tf.set_random_seed(seed)\n",
    "    np.random.seed(seed)\n",
    "\n",
    "# Check if using GPU\n",
    "if not tf.test.gpu_device_name():\n",
    "    print('No GPU')\n",
    "else:\n",
    "    print('Default GPU Device: {}'.format(tf.test.gpu_device_name()))\n",
    "    \n",
    "reset_graph()"
   ]
  },
  {
   "cell_type": "markdown",
   "metadata": {},
   "source": [
    "## Define graph (for now the operation will live in the global scope) "
   ]
  },
  {
   "cell_type": "code",
   "execution_count": 2,
   "metadata": {},
   "outputs": [],
   "source": [
    "# input placeholders\n",
    "# the shape will need to match the shape of the input data.\n",
    "# the exception is when using `None` which is typically used\n",
    "# in the `batch_size` position\n",
    "in_a = tf.placeholder(tf.int32, shape=(None))\n",
    "in_b = tf.placeholder(tf.int32, shape=(None))\n",
    "\n",
    "## do some crazy ML\n",
    "sum_a_b = tf.add(in_a, in_b)\n",
    "mult_a_b = tf.multiply(in_a, sum_a_b)\n",
    "combination = tf.add(sum_a_b, mult_a_b)\n",
    "\n",
    "square_a = tf.square(in_a)\n",
    "\n",
    "in_c = tf.placeholder(tf.int32, shape=(None))\n",
    "add_combo_and_c = tf.add(combination, in_c)\n",
    "\n",
    "square_a_plus_c = tf.add(square_a, in_c)"
   ]
  },
  {
   "cell_type": "code",
   "execution_count": 3,
   "metadata": {},
   "outputs": [
    {
     "name": "stdout",
     "output_type": "stream",
     "text": [
      "sum_a_b: 5\n"
     ]
    }
   ],
   "source": [
    "with tf.Session() as sess:\n",
    "    out_sum_a_b = sess.run(sum_a_b, feed_dict={in_a: 2, in_b: 3})\n",
    "    print(\"sum_a_b: {}\".format(out_sum_a_b))"
   ]
  },
  {
   "cell_type": "code",
   "execution_count": 4,
   "metadata": {},
   "outputs": [
    {
     "name": "stdout",
     "output_type": "stream",
     "text": [
      "sum_a_b: [ 7  9  0 10]\n"
     ]
    }
   ],
   "source": [
    "with tf.Session() as sess:\n",
    "    out_sum_a_b = sess.run(sum_a_b, feed_dict={in_a: [4,6,-3,7], in_b: 3})\n",
    "    print(\"sum_a_b: {}\".format(out_sum_a_b))"
   ]
  },
  {
   "cell_type": "code",
   "execution_count": 5,
   "metadata": {},
   "outputs": [
    {
     "name": "stdout",
     "output_type": "stream",
     "text": [
      "sum_a_b: 10\n"
     ]
    }
   ],
   "source": [
    "with tf.Session() as sess:\n",
    "    out_mult_a_b = sess.run(mult_a_b, feed_dict={in_a: 2, in_b: 3})\n",
    "    print(\"sum_a_b: {}\".format(out_mult_a_b))"
   ]
  },
  {
   "cell_type": "markdown",
   "metadata": {},
   "source": [
    "## Notice how the `combo` node is evaluated\n",
    "Calling the intermediate steps is not necessary -- tensorflow will determine which order to evaluate the nodes.  Instead, you'll need to \"feed\" the graph the input data the operation depends on and tensorflow will handle the rest."
   ]
  },
  {
   "cell_type": "code",
   "execution_count": 6,
   "metadata": {},
   "outputs": [
    {
     "name": "stdout",
     "output_type": "stream",
     "text": [
      "combo_out: 15\n",
      "square_a_out: 36\n",
      "square_a_plus_c: 40\n",
      "combo_out: 19\n"
     ]
    }
   ],
   "source": [
    "with tf.Session() as sess:\n",
    "    # the `combination` operation only depends on `in_a` and `in_b`\n",
    "    # > ((in_a)+(in_b) + (in_a)(in_b))\n",
    "    combo_out = sess.run(combination, feed_dict={in_a: 2, in_b: 3})\n",
    "    print(\"combo_out: {}\".format(combo_out))\n",
    "    \n",
    "    # the operation `square_a` only depends on `in_a`\n",
    "    # > (in_a)^2\n",
    "    square_a_out = sess.run(square_a, feed_dict={in_a: 6})\n",
    "    print(\"square_a_out: {}\".format(square_a_out))\n",
    "    \n",
    "    # the operation `square_a_plus_c` only depends on `in_a` and `in_c`\n",
    "    # > (in_a)^2 + (in_c)\n",
    "    square_a_plus_c_out = sess.run(square_a_plus_c, feed_dict={in_a: 6, in_c: 4})\n",
    "    print(\"square_a_plus_c: {}\".format(square_a_plus_c_out)) # should be 40\n",
    "    \n",
    "    # the operation `square_a_plus_c`  depends on all three `in_a`, `in_b`, and `in_c`\n",
    "    # > ((in_a)+(in_b) + (in_a)(in_b)) + (in_c)\n",
    "    add_combo_and_c_out = sess.run(add_combo_and_c, feed_dict={in_a: 2, in_b: 3, in_c: 4})\n",
    "    print(\"combo_out: {}\".format(add_combo_and_c_out))"
   ]
  }
 ],
 "metadata": {
  "kernelspec": {
   "display_name": "cpu_tf",
   "language": "python",
   "name": "cpu_tf"
  },
  "language_info": {
   "codemirror_mode": {
    "name": "ipython",
    "version": 3
   },
   "file_extension": ".py",
   "mimetype": "text/x-python",
   "name": "python",
   "nbconvert_exporter": "python",
   "pygments_lexer": "ipython3",
   "version": "3.5.4"
  }
 },
 "nbformat": 4,
 "nbformat_minor": 2
}
