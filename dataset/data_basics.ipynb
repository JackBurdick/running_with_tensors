{
 "cells": [
  {
   "cell_type": "code",
   "execution_count": 1,
   "metadata": {},
   "outputs": [
    {
     "name": "stdout",
     "output_type": "stream",
     "text": [
      "Python: (3, 5, 4, 'final', 0)\n",
      "TensorFlow: 1.6.0-dev20180105\n",
      "No GPU\n"
     ]
    }
   ],
   "source": [
    "# NOTE: this is a custom cell that contains the common imports I personally \n",
    "# use these may/may not be necessary for the following examples\n",
    "\n",
    "# DL framework\n",
    "import tensorflow as tf\n",
    "\n",
    "from datetime import datetime\n",
    "\n",
    "# common packages\n",
    "import numpy as np\n",
    "import os # handling file i/o\n",
    "import sys\n",
    "import math\n",
    "import time # timing epochs\n",
    "\n",
    "# for ordered dict when building layer components\n",
    "import collections\n",
    "\n",
    "# plotting pretty figures\n",
    "%matplotlib inline\n",
    "import matplotlib\n",
    "import matplotlib.pyplot as plt\n",
    "from matplotlib import pyplot\n",
    "from matplotlib import colors # making colors consistent\n",
    "from mpl_toolkits.axes_grid1 import make_axes_locatable # colorbar helper\n",
    "\n",
    "# read image\n",
    "from imageio import imread\n",
    "# + data augmentation\n",
    "from scipy import ndimage\n",
    "from scipy import misc\n",
    "\n",
    "# used for manually saving best params\n",
    "import pickle\n",
    "\n",
    "# for shuffling data batches\n",
    "from sklearn.utils import shuffle\n",
    "\n",
    "# const\n",
    "SEED = 42\n",
    "\n",
    "# Helper to make the output consistent\n",
    "def reset_graph(seed=SEED):\n",
    "    tf.reset_default_graph()\n",
    "    tf.set_random_seed(seed)\n",
    "    np.random.seed(seed)\n",
    "\n",
    "# helper to create dirs if they don't already exist\n",
    "def maybe_create_dir(dir_path):\n",
    "    if not os.path.exists(dir_path):\n",
    "        os.makedirs(dir_path)\n",
    "        print(\"{} created\".format(dir_path))\n",
    "    else:\n",
    "        print(\"{} already exists\".format(dir_path))\n",
    "    \n",
    "# set tf log level to supress messages, unless an error\n",
    "os.environ['TF_CPP_MIN_LOG_LEVEL'] = '3'\n",
    "\n",
    "# Important Version information\n",
    "print(\"Python: {}\".format(sys.version_info[:]))\n",
    "print('TensorFlow: {}'.format(tf.__version__))\n",
    "\n",
    "# Check if using GPU\n",
    "if not tf.test.gpu_device_name():\n",
    "    print('No GPU')\n",
    "else:\n",
    "    print('Default GPU Device: {}'.format(tf.test.gpu_device_name()))\n",
    "    \n",
    "reset_graph()"
   ]
  },
  {
   "cell_type": "code",
   "execution_count": 2,
   "metadata": {},
   "outputs": [
    {
     "name": "stdout",
     "output_type": "stream",
     "text": [
      "[ 0  1  2  3  4  5  6  7  8  9 10 11 12 13 14 15 16 17 18 19]\n",
      "[0 1 0 0 0 1 0 0 0 1 0 0 0 0 1 0 1 1 1 0]\n"
     ]
    }
   ],
   "source": [
    "features = np.arange(20)\n",
    "labels = np.random.randint(2, size=len(features))\n",
    "print(features)\n",
    "print(labels)"
   ]
  },
  {
   "cell_type": "code",
   "execution_count": 18,
   "metadata": {},
   "outputs": [],
   "source": [
    "# convert to tensor\n",
    "X = tf.convert_to_tensor(features, np.float32)\n",
    "y = tf.convert_to_tensor(labels, np.int8)"
   ]
  },
  {
   "cell_type": "code",
   "execution_count": 19,
   "metadata": {},
   "outputs": [],
   "source": [
    "# params\n",
    "n_epochs = 4\n",
    "batch_size = 3\n",
    "buffer_size = 5"
   ]
  },
  {
   "cell_type": "code",
   "execution_count": 20,
   "metadata": {},
   "outputs": [],
   "source": [
    "def return_batched_iter(X, y):\n",
    "    reset_graph()\n",
    "\n",
    "    # create dataset\n",
    "    dataset = tf.data.Dataset.from_tensor_slices((X, y))\n",
    "\n",
    "    # set batch size\n",
    "    dataset = dataset.batch(batch_size)\n",
    "\n",
    "    # set number of times to loop data\n",
    "    dataset = dataset.repeat(n_epochs)\n",
    "\n",
    "    iterator = dataset.make_one_shot_iterator()\n",
    "    next_batch = iterator.get_next()\n",
    "    \n",
    "    return next_batch"
   ]
  },
  {
   "cell_type": "code",
   "execution_count": 21,
   "metadata": {},
   "outputs": [
    {
     "name": "stdout",
     "output_type": "stream",
     "text": [
      "e: 0\n",
      "i: 0 => (array([ 0.,  1.,  2.], dtype=float32), array([0, 1, 0], dtype=int8))\n",
      "i: 1 => (array([ 3.,  4.,  5.], dtype=float32), array([0, 0, 1], dtype=int8))\n",
      "i: 2 => (array([ 6.,  7.,  8.], dtype=float32), array([0, 0, 0], dtype=int8))\n",
      "i: 3 => (array([  9.,  10.,  11.], dtype=float32), array([1, 0, 0], dtype=int8))\n",
      "i: 4 => (array([ 12.,  13.,  14.], dtype=float32), array([0, 0, 1], dtype=int8))\n",
      "i: 5 => (array([ 15.,  16.,  17.], dtype=float32), array([0, 1, 1], dtype=int8))\n",
      "i: 6 => (array([ 18.,  19.], dtype=float32), array([1, 0], dtype=int8))\n",
      "e: 1\n",
      "i: 0 => (array([ 0.,  1.,  2.], dtype=float32), array([0, 1, 0], dtype=int8))\n",
      "i: 1 => (array([ 3.,  4.,  5.], dtype=float32), array([0, 0, 1], dtype=int8))\n",
      "i: 2 => (array([ 6.,  7.,  8.], dtype=float32), array([0, 0, 0], dtype=int8))\n",
      "i: 3 => (array([  9.,  10.,  11.], dtype=float32), array([1, 0, 0], dtype=int8))\n",
      "i: 4 => (array([ 12.,  13.,  14.], dtype=float32), array([0, 0, 1], dtype=int8))\n",
      "i: 5 => (array([ 15.,  16.,  17.], dtype=float32), array([0, 1, 1], dtype=int8))\n",
      "i: 6 => (array([ 18.,  19.], dtype=float32), array([1, 0], dtype=int8))\n",
      "e: 2\n",
      "i: 0 => (array([ 0.,  1.,  2.], dtype=float32), array([0, 1, 0], dtype=int8))\n",
      "i: 1 => (array([ 3.,  4.,  5.], dtype=float32), array([0, 0, 1], dtype=int8))\n",
      "i: 2 => (array([ 6.,  7.,  8.], dtype=float32), array([0, 0, 0], dtype=int8))\n",
      "i: 3 => (array([  9.,  10.,  11.], dtype=float32), array([1, 0, 0], dtype=int8))\n",
      "i: 4 => (array([ 12.,  13.,  14.], dtype=float32), array([0, 0, 1], dtype=int8))\n",
      "i: 5 => (array([ 15.,  16.,  17.], dtype=float32), array([0, 1, 1], dtype=int8))\n",
      "i: 6 => (array([ 18.,  19.], dtype=float32), array([1, 0], dtype=int8))\n",
      "e: 3\n",
      "i: 0 => (array([ 0.,  1.,  2.], dtype=float32), array([0, 1, 0], dtype=int8))\n",
      "i: 1 => (array([ 3.,  4.,  5.], dtype=float32), array([0, 0, 1], dtype=int8))\n",
      "i: 2 => (array([ 6.,  7.,  8.], dtype=float32), array([0, 0, 0], dtype=int8))\n",
      "i: 3 => (array([  9.,  10.,  11.], dtype=float32), array([1, 0, 0], dtype=int8))\n",
      "i: 4 => (array([ 12.,  13.,  14.], dtype=float32), array([0, 0, 1], dtype=int8))\n",
      "i: 5 => (array([ 15.,  16.,  17.], dtype=float32), array([0, 1, 1], dtype=int8))\n",
      "i: 6 => (array([ 18.,  19.], dtype=float32), array([1, 0], dtype=int8))\n"
     ]
    }
   ],
   "source": [
    "# standard\n",
    "next_batch = return_batched_iter(X, y)\n",
    "\n",
    "with tf.Session() as sess:\n",
    "    for e in range(n_epochs):\n",
    "        print(\"e: {}\".format(e))\n",
    "        for i in range((len(features)//batch_size) + 1):\n",
    "            print(\"i: {} => {}\".format(i, sess.run(next_batch)))"
   ]
  },
  {
   "cell_type": "code",
   "execution_count": null,
   "metadata": {},
   "outputs": [],
   "source": []
  }
 ],
 "metadata": {
  "kernelspec": {
   "display_name": "cpu_tf",
   "language": "python",
   "name": "cpu_tf"
  },
  "language_info": {
   "codemirror_mode": {
    "name": "ipython",
    "version": 3
   },
   "file_extension": ".py",
   "mimetype": "text/x-python",
   "name": "python",
   "nbconvert_exporter": "python",
   "pygments_lexer": "ipython3",
   "version": "3.5.4"
  }
 },
 "nbformat": 4,
 "nbformat_minor": 2
}
