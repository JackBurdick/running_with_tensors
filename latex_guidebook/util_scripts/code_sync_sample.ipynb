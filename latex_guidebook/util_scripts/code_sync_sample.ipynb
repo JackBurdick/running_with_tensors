{
 "cells": [
  {
   "cell_type": "code",
   "execution_count": 2,
   "metadata": {},
   "outputs": [
    {
     "name": "stdout",
     "output_type": "stream",
     "text": [
      "a\n",
      "b\n",
      "c\n"
     ]
    }
   ],
   "source": [
    "# {{{00000\n",
    "for i in [\"a\",\"b\",\"c\", 'd']:\n",
    "    print(i)\n",
    "# END}}}\n",
    "\n",
    "for j in [\"d\", \"e\", \"f\"]:\n",
    "    pass"
   ]
  },
  {
   "cell_type": "code",
   "execution_count": 5,
   "metadata": {},
   "outputs": [
    {
     "name": "stdout",
     "output_type": "stream",
     "text": [
      "['a', 'b', '1', '2', '3', 'c', 'd']\n"
     ]
    }
   ],
   "source": [
    "a = [\"a\", \"b\", \"c\", \"d\"]\n",
    "b = [\"1\", \"2\", \"3\"]\n",
    "a[2:2] = b\n",
    "print(a)"
   ]
  },
  {
   "cell_type": "code",
   "execution_count": 10,
   "metadata": {},
   "outputs": [
    {
     "name": "stdout",
     "output_type": "stream",
     "text": [
      "['\\x08egin{lstlisting}[language=Python]', 'a', 'b', '1', '2', '3', 'c', 'd', '\\\\end{lstlisting}']\n"
     ]
    }
   ],
   "source": [
    "code_block = []\n",
    "code_block.append(\"\\\\begin{lstlisting}[language=Python]\")\n",
    "code_block.extend(a)\n",
    "code_block.append(\"\\\\end{lstlisting}\")\n",
    "print(code_block)"
   ]
  },
  {
   "cell_type": "code",
   "execution_count": 11,
   "metadata": {},
   "outputs": [
    {
     "name": "stdout",
     "output_type": "stream",
     "text": [
      "['a', 'b', '1', '2', '3', '4', 'c', 'd']\n"
     ]
    }
   ],
   "source": [
    "a = ['a', 'b', '1', '2', '3', 'c', 'd']\n",
    "b = [\"1\", \"2\", \"3\", \"4\"]\n",
    "a[2:2+3] = b\n",
    "print(a)"
   ]
  },
  {
   "cell_type": "code",
   "execution_count": null,
   "metadata": {
    "collapsed": true
   },
   "outputs": [],
   "source": []
  }
 ],
 "metadata": {
  "kernelspec": {
   "display_name": "tf_edge",
   "language": "python",
   "name": "tf_edge"
  },
  "language_info": {
   "codemirror_mode": {
    "name": "ipython",
    "version": 3
   },
   "file_extension": ".py",
   "mimetype": "text/x-python",
   "name": "python",
   "nbconvert_exporter": "python",
   "pygments_lexer": "ipython3",
   "version": "3.5.4"
  }
 },
 "nbformat": 4,
 "nbformat_minor": 2
}
