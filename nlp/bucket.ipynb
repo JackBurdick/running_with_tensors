{
 "cells": [
  {
   "cell_type": "markdown",
   "metadata": {},
   "source": [
    "## Terms\n",
    "- normalize\n",
    "- tokenize\n",
    "- stemming\n",
    "- lemmatisation\n",
    "- stop word\n",
    "- bag of words\n",
    "- word2vec\n",
    "- GloVe\n",
    "- NLTK\n",
    "- Term Frequency\n",
    "- IDF\n",
    "- TFIDF"
   ]
  }
 ],
 "metadata": {
  "kernelspec": {
   "display_name": "Python 3",
   "language": "python",
   "name": "python3"
  },
  "language_info": {
   "codemirror_mode": {
    "name": "ipython",
    "version": 3
   },
   "file_extension": ".py",
   "mimetype": "text/x-python",
   "name": "python",
   "nbconvert_exporter": "python",
   "pygments_lexer": "ipython3",
   "version": "3.6.1"
  }
 },
 "nbformat": 4,
 "nbformat_minor": 2
}
