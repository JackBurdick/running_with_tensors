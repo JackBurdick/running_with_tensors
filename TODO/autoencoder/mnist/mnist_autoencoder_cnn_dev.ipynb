{
 "cells": [
  {
   "cell_type": "markdown",
   "metadata": {},
   "source": [
    "# CNN autoencoder"
   ]
  },
  {
   "cell_type": "code",
   "execution_count": 1,
   "metadata": {},
   "outputs": [
    {
     "name": "stdout",
     "output_type": "stream",
     "text": [
      "Python: (3, 5, 4, 'final', 0)\n",
      "TensorFlow: 1.6.0-dev20180105\n",
      "No GPU found\n"
     ]
    }
   ],
   "source": [
    "# NOTE: this is a custom cell that contains the common imports I personally \n",
    "# use these may/may not be necessary for the following examples\n",
    "\n",
    "# DL framework\n",
    "import tensorflow as tf\n",
    "\n",
    "from datetime import datetime\n",
    "\n",
    "# common packages\n",
    "import numpy as np\n",
    "import os # handling file i/o\n",
    "import sys\n",
    "import math\n",
    "import time # timing epochs\n",
    "\n",
    "# for ordered dict when building layer components\n",
    "import collections\n",
    "\n",
    "# plotting pretty figures\n",
    "%matplotlib inline\n",
    "import matplotlib\n",
    "import matplotlib.pyplot as plt\n",
    "from matplotlib import pyplot\n",
    "from matplotlib import colors # making colors consistent\n",
    "from mpl_toolkits.axes_grid1 import make_axes_locatable # colorbar helper\n",
    "\n",
    "# read image\n",
    "from imageio import imread\n",
    "# + data augmentation\n",
    "from scipy import ndimage\n",
    "from scipy import misc\n",
    "\n",
    "# used for manually saving best params\n",
    "import pickle\n",
    "\n",
    "# for shuffling data batches\n",
    "from sklearn.utils import shuffle\n",
    "\n",
    "# const\n",
    "SEED = 42\n",
    "\n",
    "# Helper to make the output consistent\n",
    "def reset_graph(seed=SEED):\n",
    "    tf.reset_default_graph()\n",
    "    tf.set_random_seed(seed)\n",
    "    np.random.seed(seed)\n",
    "\n",
    "# helper to create dirs if they don't already exist\n",
    "def maybe_create_dir(dir_path):\n",
    "    if not os.path.exists(dir_path):\n",
    "        os.makedirs(dir_path)\n",
    "        print(\"{} created\".format(dir_path))\n",
    "    else:\n",
    "        print(\"{} already exists\".format(dir_path))\n",
    "    \n",
    "# set tf log level to supress messages, unless an error\n",
    "os.environ['TF_CPP_MIN_LOG_LEVEL'] = '3'\n",
    "\n",
    "# Important Version information\n",
    "print(\"Python: {}\".format(sys.version_info[:]))\n",
    "print('TensorFlow: {}'.format(tf.__version__))\n",
    "\n",
    "# Check if using GPU\n",
    "if not tf.test.gpu_device_name():\n",
    "    print('No GPU found')\n",
    "else:\n",
    "    print('Default GPU Device: {}'.format(tf.test.gpu_device_name()))\n",
    "    \n",
    "reset_graph()"
   ]
  },
  {
   "cell_type": "code",
   "execution_count": 7,
   "metadata": {},
   "outputs": [
    {
     "name": "stdout",
     "output_type": "stream",
     "text": [
      "saver createed\n",
      "best_params createed\n"
     ]
    }
   ],
   "source": [
    "# `saver/` will hold tf saver files\n",
    "maybe_create_dir(\"saver\")\n",
    "# `best_params/` will hold a serialized version of the best params\n",
    "# I like to keep this as a backup in case I run into issues with\n",
    "# the saver files\n",
    "maybe_create_dir(\"best_params\")"
   ]
  },
  {
   "cell_type": "code",
   "execution_count": 4,
   "metadata": {},
   "outputs": [
    {
     "name": "stdout",
     "output_type": "stream",
     "text": [
      "../../../ROOT_DATA/mnist_data already exists\n"
     ]
    }
   ],
   "source": [
    "ROOT_DATA = \"../../../ROOT_DATA/\"\n",
    "DATA_DIR = \"mnist_data\"\n",
    "\n",
    "MNIST_TRAINING_PATH = os.path.join(ROOT_DATA, DATA_DIR)\n",
    "maybe_create_dir(MNIST_TRAINING_PATH)"
   ]
  },
  {
   "cell_type": "code",
   "execution_count": 5,
   "metadata": {},
   "outputs": [
    {
     "name": "stdout",
     "output_type": "stream",
     "text": [
      "Extracting ../../../ROOT_DATA/mnist_data/train-images-idx3-ubyte.gz\n",
      "Extracting ../../../ROOT_DATA/mnist_data/train-labels-idx1-ubyte.gz\n",
      "Extracting ../../../ROOT_DATA/mnist_data/t10k-images-idx3-ubyte.gz\n",
      "Extracting ../../../ROOT_DATA/mnist_data/t10k-labels-idx1-ubyte.gz\n"
     ]
    }
   ],
   "source": [
    "# import dataset (should already be present)\n",
    "from tensorflow.examples.tutorials.mnist import input_data\n",
    "mnist = input_data.read_data_sets(MNIST_TRAINING_PATH, validation_size=0)"
   ]
  },
  {
   "cell_type": "code",
   "execution_count": 6,
   "metadata": {},
   "outputs": [
    {
     "data": {
      "text/plain": [
       "<matplotlib.image.AxesImage at 0x7fa17490c588>"
      ]
     },
     "execution_count": 6,
     "metadata": {},
     "output_type": "execute_result"
    },
    {
     "data": {
      "image/png": "[encoded data removed]",
      "text/plain": [
       "<matplotlib.figure.Figure at 0x7fa17c05d128>"
      ]
     },
     "metadata": {},
     "output_type": "display_data"
    }
   ],
   "source": [
    "# ------ Make sure we're up and running\n",
    "# display, random, single image\n",
    "img = mnist.train.images[np.random.randint(6000, size=1)]\n",
    "\n",
    "# mnist is 28x28 = 784 and is grayscale\n",
    "# meaning, the 784 vector needs to be reshaped to 28,28\n",
    "plt.imshow(img.reshape((28, 28)), cmap='Greys_r')"
   ]
  },
  {
   "cell_type": "code",
   "execution_count": 8,
   "metadata": {},
   "outputs": [
    {
     "name": "stdout",
     "output_type": "stream",
     "text": [
      "ready\n"
     ]
    }
   ],
   "source": [
    "reset_graph()\n",
    "encoding_dim = 64\n",
    "learning_rate = 0.001\n",
    "img_vect_size = mnist.train.images.shape[1]\n",
    "\n",
    "# input place holders\n",
    "input_vector = tf.placeholder(tf.float32, (None, img_vect_size), name=\"input_vector\")\n",
    "vect_reshape = tf.reshape(input_vector, [-1, 28, 28, 1])\n",
    "input_target = tf.placeholder(tf.float32, (None, img_vect_size), name=\"input_label\")\n",
    "target_reshape = tf.reshape(input_target, [-1, 28, 28, 1])\n",
    "\n",
    "# --- Model\n",
    "### Encoder\n",
    "conv2 = tf.layers.conv2d(inputs=vect_reshape, filters=16, \n",
    "                         kernel_size=(3,3), strides=2, \n",
    "                         kernel_initializer=tf.contrib.layers.xavier_initializer(),\n",
    "                         bias_initializer=tf.zeros_initializer(),\n",
    "                         padding='same', \n",
    "                         activation=tf.nn.elu)\n",
    "# Now 14x14x16\n",
    "\n",
    "encoded = tf.layers.conv2d(inputs=conv2, filters=32, \n",
    "                         kernel_size=(3,3), strides=2, \n",
    "                         kernel_initializer=tf.contrib.layers.xavier_initializer(),\n",
    "                         bias_initializer=tf.zeros_initializer(),\n",
    "                         padding='same', \n",
    "                         activation=tf.nn.elu)\n",
    "# Now 7x7x32\n",
    "\n",
    "dconv1 = tf.layers.conv2d_transpose(inputs=encoded, filters=16, \n",
    "                                    kernel_size=(3,3), strides=2, \n",
    "                                    padding=\"same\", activation=tf.nn.elu)\n",
    "# Now 14x14x64\n",
    "\n",
    "logits = tf.layers.conv2d_transpose(inputs=dconv1, filters=1, \n",
    "                                    kernel_size=(3,3), strides=2, \n",
    "                                    padding=\"same\", activation=None)\n",
    "\n",
    "#Now 28x28x1\n",
    "\n",
    "decoded = tf.nn.sigmoid(logits, name='decoded')\n",
    "\n",
    "# loss\n",
    "xentropy = tf.nn.sigmoid_cross_entropy_with_logits(labels=target_reshape, logits=logits)\n",
    "batch_loss = tf.reduce_mean(xentropy)\n",
    "optimizer = tf.train.AdamOptimizer(learning_rate=learning_rate,\n",
    "                                               beta1=0.9,\n",
    "                                               beta2=0.999,\n",
    "                                               epsilon=1e-08,\n",
    "                                               use_locking=False,\n",
    "                                               name='Adam')\n",
    "training_op = optimizer.minimize(batch_loss)\n",
    "\n",
    "# initializer and saver\n",
    "with tf.name_scope(\"save_session\"):\n",
    "    init_global = tf.global_variables_initializer()\n",
    "    init_local = tf.local_variables_initializer()\n",
    "    saver = tf.train.Saver()\n",
    "    \n",
    "print(\"ready\")"
   ]
  },
  {
   "cell_type": "code",
   "execution_count": 9,
   "metadata": {},
   "outputs": [
    {
     "name": "stdout",
     "output_type": "stream",
     "text": [
      "E: 1/1 - loss: 0.6943\n"
     ]
    }
   ],
   "source": [
    "epochs = 1\n",
    "batch_size = 64\n",
    "train_size = mnist.train.num_examples\n",
    "\n",
    "with tf.Session() as sess:\n",
    "    init_global.run()\n",
    "    init_local.run()\n",
    "    for e in range(epochs):\n",
    "        for i in range(train_size//batch_size):\n",
    "            batch_cur = mnist.train.next_batch(batch_size)\n",
    "            feed_dict = {input_vector: batch_cur[0], input_target: batch_cur[0]}\n",
    "            cost_batch, _ = sess.run([batch_loss, training_op], feed_dict=feed_dict)\n",
    "            if i == 0:\n",
    "                print(\"E: {}/{} - loss: {:.4f}\".format(e+1, epochs, cost_batch))\n",
    "    save_path = saver.save(sess, \"./saver/cnn_autoencoder\")"
   ]
  },
  {
   "cell_type": "code",
   "execution_count": 10,
   "metadata": {},
   "outputs": [
    {
     "name": "stdout",
     "output_type": "stream",
     "text": [
      "INFO:tensorflow:Restoring parameters from ./saver/cnn_autoencoder\n"
     ]
    },
    {
     "data": {
      "image/png": "[encoded data removed]",
      "text/plain": [
       "<matplotlib.figure.Figure at 0x7fa17c080588>"
      ]
     },
     "metadata": {},
     "output_type": "display_data"
    }
   ],
   "source": [
    "save_path = \"./saver/cnn_autoencoder\"\n",
    "sess = tf.Session()\n",
    "saver.restore(sess, save_path)\n",
    "\n",
    "start_index = int(np.random.randint(6000, size=1) - 10)\n",
    "in_imgs = mnist.test.images[start_index:start_index+10]\n",
    "\n",
    "# run model\n",
    "reconstructed, compressed = sess.run([decoded, encoded], feed_dict={input_vector: in_imgs})\n",
    "\n",
    "# plot\n",
    "fig, axes = plt.subplots(nrows=2, ncols=10, sharex=True, sharey=True, figsize=(20,4))\n",
    "for images, row in zip([in_imgs, reconstructed], axes):\n",
    "    for img, ax in zip(images, row):\n",
    "        ax.imshow(img.reshape((28, 28)), cmap='Greys_r')\n",
    "        ax.get_xaxis().set_visible(False)\n",
    "        ax.get_yaxis().set_visible(False)\n",
    "fig.tight_layout(pad=0.1)"
   ]
  },
  {
   "cell_type": "code",
   "execution_count": null,
   "metadata": {},
   "outputs": [],
   "source": []
  }
 ],
 "metadata": {
  "kernelspec": {
   "display_name": "cpu_tf",
   "language": "python",
   "name": "cpu_tf"
  },
  "language_info": {
   "codemirror_mode": {
    "name": "ipython",
    "version": 3
   },
   "file_extension": ".py",
   "mimetype": "text/x-python",
   "name": "python",
   "nbconvert_exporter": "python",
   "pygments_lexer": "ipython3",
   "version": "3.5.4"
  }
 },
 "nbformat": 4,
 "nbformat_minor": 2
}
