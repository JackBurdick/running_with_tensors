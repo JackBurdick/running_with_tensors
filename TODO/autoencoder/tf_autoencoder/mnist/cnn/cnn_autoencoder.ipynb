{
 "cells": [
  {
   "cell_type": "code",
   "execution_count": 1,
   "metadata": {},
   "outputs": [
    {
     "name": "stdout",
     "output_type": "stream",
     "text": [
      "TensorFlow Version: 1.2.1\n",
      "Default GPU Device: /gpu:0\n",
      "Extracting ../mnist_data/train-images-idx3-ubyte.gz\n",
      "Extracting ../mnist_data/train-labels-idx1-ubyte.gz\n",
      "Extracting ../mnist_data/t10k-images-idx3-ubyte.gz\n",
      "Extracting ../mnist_data/t10k-labels-idx1-ubyte.gz\n"
     ]
    },
    {
     "data": {
      "text/plain": [
       "<matplotlib.image.AxesImage at 0x7fb533a381d0>"
      ]
     },
     "execution_count": 1,
     "metadata": {},
     "output_type": "execute_result"
    },
    {
     "data": {
      "image/png": "[encoded data removed]",
      "text/plain": [
       "<matplotlib.figure.Figure at 0x7fb59de71d68>"
      ]
     },
     "metadata": {},
     "output_type": "display_data"
    }
   ],
   "source": [
    "%matplotlib inline\n",
    "\n",
    "import numpy as np\n",
    "import tensorflow as tf\n",
    "import matplotlib.pyplot as plt\n",
    "import os\n",
    "\n",
    "# plotting pretty figures\n",
    "%matplotlib inline\n",
    "import matplotlib\n",
    "import matplotlib.pyplot as plt\n",
    "\n",
    "# Helper to make the output consistent\n",
    "SEED = 42\n",
    "def reset_graph(seed=SEED):\n",
    "    tf.reset_default_graph()\n",
    "    tf.set_random_seed(seed)\n",
    "    np.random.seed(seed)\n",
    "\n",
    "# set log level to supress messages, unless an error\n",
    "os.environ['TF_CPP_MIN_LOG_LEVEL'] = '3'\n",
    "\n",
    "# Check TensorFlow version\n",
    "print('TensorFlow Version: {}'.format(tf.__version__))\n",
    "\n",
    "# Check if using GPU\n",
    "if not tf.test.gpu_device_name():\n",
    "    print('No GPU found')\n",
    "else:\n",
    "    print('Default GPU Device: {}'.format(tf.test.gpu_device_name()))\n",
    "    \n",
    "reset_graph()\n",
    "\n",
    "# import dataset (should already be present)\n",
    "from tensorflow.examples.tutorials.mnist import input_data\n",
    "mnist = input_data.read_data_sets('../mnist_data', validation_size=0)\n",
    "\n",
    "\n",
    "# ------ Make sure we're up and running\n",
    "# display, random, single image\n",
    "img = mnist.train.images[np.random.randint(6000, size=1)]\n",
    "\n",
    "# mnist is 28x28 = 784 and is grayscale\n",
    "# meaning, the 784 vector needs to be reshaped to 28,28\n",
    "plt.imshow(img.reshape((28, 28)), cmap='Greys_r')"
   ]
  },
  {
   "cell_type": "code",
   "execution_count": 3,
   "metadata": {},
   "outputs": [
    {
     "name": "stdout",
     "output_type": "stream",
     "text": [
      "ready\n"
     ]
    }
   ],
   "source": [
    "encoding_dim = 64\n",
    "learning_rate = 0.001\n",
    "img_vect_size = mnist.train.images.shape[1]\n",
    "\n",
    "# input place holders\n",
    "input_vector = tf.placeholder(tf.float32, (None, img_vect_size), name=\"input_vector\")\n",
    "vect_reshape = tf.reshape(input_vector, [-1, 28, 28, 1])\n",
    "input_target = tf.placeholder(tf.float32, (None, img_vect_size), name=\"input_label\")\n",
    "target_reshape = tf.reshape(input_target, [-1, 28, 28, 1])\n",
    "\n",
    "# --- Model\n",
    "### Encoder\n",
    "conv2 = tf.layers.conv2d(inputs=vect_reshape, filters=16, \n",
    "                         kernel_size=(3,3), strides=2, \n",
    "                         kernel_initializer=tf.contrib.layers.xavier_initializer(),\n",
    "                         bias_initializer=tf.zeros_initializer(),\n",
    "                         padding='same', \n",
    "                         activation=tf.nn.elu)\n",
    "# Now 14x14x16\n",
    "\n",
    "encoded = tf.layers.conv2d(inputs=conv2, filters=32, \n",
    "                         kernel_size=(3,3), strides=2, \n",
    "                         kernel_initializer=tf.contrib.layers.xavier_initializer(),\n",
    "                         bias_initializer=tf.zeros_initializer(),\n",
    "                         padding='same', \n",
    "                         activation=tf.nn.elu)\n",
    "# Now 7x7x32\n",
    "\n",
    "dconv1 = tf.layers.conv2d_transpose(inputs=encoded, filters=16, \n",
    "                                    kernel_size=(3,3), strides=2, \n",
    "                                    padding=\"same\", activation=tf.nn.elu)\n",
    "# Now 14x14x64\n",
    "\n",
    "logits = tf.layers.conv2d_transpose(inputs=dconv1, filters=1, \n",
    "                                    kernel_size=(3,3), strides=2, \n",
    "                                    padding=\"same\", activation=None)\n",
    "\n",
    "#Now 28x28x1\n",
    "\n",
    "decoded = tf.nn.sigmoid(logits, name='decoded')\n",
    "\n",
    "# loss\n",
    "xentropy = tf.nn.sigmoid_cross_entropy_with_logits(labels=target_reshape, logits=logits)\n",
    "batch_loss = tf.reduce_mean(xentropy)\n",
    "optimizer = tf.train.AdamOptimizer(learning_rate=learning_rate,\n",
    "                                               beta1=0.9,\n",
    "                                               beta2=0.999,\n",
    "                                               epsilon=1e-08,\n",
    "                                               use_locking=False,\n",
    "                                               name='Adam')\n",
    "training_op = optimizer.minimize(batch_loss)\n",
    "\n",
    "# initializer and saver\n",
    "with tf.name_scope(\"save_session\"):\n",
    "    init_global = tf.global_variables_initializer()\n",
    "    init_local = tf.local_variables_initializer()\n",
    "    saver = tf.train.Saver()\n",
    "    \n",
    "print(\"ready\")"
   ]
  },
  {
   "cell_type": "code",
   "execution_count": 4,
   "metadata": {},
   "outputs": [
    {
     "name": "stdout",
     "output_type": "stream",
     "text": [
      "E: 1/16 - loss: 0.6932\n",
      "E: 2/16 - loss: 0.0824\n",
      "E: 3/16 - loss: 0.0721\n",
      "E: 4/16 - loss: 0.0678\n",
      "E: 5/16 - loss: 0.0661\n",
      "E: 6/16 - loss: 0.0657\n",
      "E: 7/16 - loss: 0.0630\n",
      "E: 8/16 - loss: 0.0630\n",
      "E: 9/16 - loss: 0.0635\n",
      "E: 10/16 - loss: 0.0632\n",
      "E: 11/16 - loss: 0.0630\n",
      "E: 12/16 - loss: 0.0617\n",
      "E: 13/16 - loss: 0.0626\n",
      "E: 14/16 - loss: 0.0640\n",
      "E: 15/16 - loss: 0.0617\n",
      "E: 16/16 - loss: 0.0630\n"
     ]
    }
   ],
   "source": [
    "epochs = 16\n",
    "batch_size = 256\n",
    "train_size = mnist.train.num_examples\n",
    "\n",
    "with tf.Session() as sess:\n",
    "    init_global.run()\n",
    "    init_local.run()\n",
    "    for e in range(epochs):\n",
    "        for i in range(train_size//batch_size):\n",
    "            batch_cur = mnist.train.next_batch(batch_size)\n",
    "            feed_dict = {input_vector: batch_cur[0], input_target: batch_cur[0]}\n",
    "            cost_batch, _ = sess.run([batch_loss, training_op], feed_dict=feed_dict)\n",
    "            if i == 0:\n",
    "                print(\"E: {}/{} - loss: {:.4f}\".format(e+1, epochs, cost_batch))\n",
    "    save_path = saver.save(sess, \"./saver/cnn_autoencoder\")"
   ]
  },
  {
   "cell_type": "code",
   "execution_count": 5,
   "metadata": {},
   "outputs": [
    {
     "name": "stdout",
     "output_type": "stream",
     "text": [
      "INFO:tensorflow:Restoring parameters from ./saver/cnn_autoencoder\n"
     ]
    },
    {
     "data": {
      "image/png": "[encoded data removed]",
      "text/plain": [
       "<matplotlib.figure.Figure at 0x7fb52feb30b8>"
      ]
     },
     "metadata": {},
     "output_type": "display_data"
    }
   ],
   "source": [
    "save_path = \"./saver/cnn_autoencoder\"\n",
    "sess = tf.Session()\n",
    "saver.restore(sess, save_path)\n",
    "\n",
    "start_index = int(np.random.randint(6000, size=1) - 10)\n",
    "in_imgs = mnist.test.images[start_index:start_index+10]\n",
    "\n",
    "# run model\n",
    "reconstructed, compressed = sess.run([decoded, encoded], feed_dict={input_vector: in_imgs})\n",
    "\n",
    "# plot\n",
    "fig, axes = plt.subplots(nrows=2, ncols=10, sharex=True, sharey=True, figsize=(20,4))\n",
    "for images, row in zip([in_imgs, reconstructed], axes):\n",
    "    for img, ax in zip(images, row):\n",
    "        ax.imshow(img.reshape((28, 28)), cmap='Greys_r')\n",
    "        ax.get_xaxis().set_visible(False)\n",
    "        ax.get_yaxis().set_visible(False)\n",
    "fig.tight_layout(pad=0.1)"
   ]
  },
  {
   "cell_type": "markdown",
   "metadata": {},
   "source": [
    "But the problem here is that our encoded value is 7x7x32 = 1568 values and our regular data is 28x28x1 = 784 values"
   ]
  },
  {
   "cell_type": "code",
   "execution_count": 6,
   "metadata": {
    "collapsed": true
   },
   "outputs": [],
   "source": [
    "reset_graph()"
   ]
  },
  {
   "cell_type": "code",
   "execution_count": 7,
   "metadata": {},
   "outputs": [
    {
     "name": "stdout",
     "output_type": "stream",
     "text": [
      "ready\n"
     ]
    }
   ],
   "source": [
    "encoding_dim = 64\n",
    "learning_rate = 0.001\n",
    "img_vect_size = mnist.train.images.shape[1]\n",
    "\n",
    "# input place holders\n",
    "input_vector = tf.placeholder(tf.float32, (None, img_vect_size), name=\"input_vector\")\n",
    "vect_reshape = tf.reshape(input_vector, [-1, 28, 28, 1])\n",
    "input_target = tf.placeholder(tf.float32, (None, img_vect_size), name=\"input_label\")\n",
    "target_reshape = tf.reshape(input_target, [-1, 28, 28, 1])\n",
    "\n",
    "# --- Model\n",
    "### Encoder\n",
    "conv2 = tf.layers.conv2d(inputs=vect_reshape, filters=8, \n",
    "                         kernel_size=(3,3), strides=2, \n",
    "                         kernel_initializer=tf.contrib.layers.xavier_initializer(),\n",
    "                         bias_initializer=tf.zeros_initializer(),\n",
    "                         padding='same', \n",
    "                         activation=tf.nn.elu)\n",
    "# Now 14x14x16\n",
    "\n",
    "encoded = tf.layers.conv2d(inputs=conv2, filters=16, \n",
    "                         kernel_size=(3,3), strides=2, \n",
    "                         kernel_initializer=tf.contrib.layers.xavier_initializer(),\n",
    "                         bias_initializer=tf.zeros_initializer(),\n",
    "                         padding='same', \n",
    "                         activation=tf.nn.elu)\n",
    "# Now 7x7x32\n",
    "\n",
    "dconv1 = tf.layers.conv2d_transpose(inputs=encoded, filters=8, \n",
    "                                    kernel_size=(3,3), strides=2, \n",
    "                                    padding=\"same\", activation=tf.nn.elu)\n",
    "# Now 14x14x64\n",
    "\n",
    "logits = tf.layers.conv2d_transpose(inputs=dconv1, filters=1, \n",
    "                                    kernel_size=(3,3), strides=2, \n",
    "                                    padding=\"same\", activation=None)\n",
    "\n",
    "#Now 28x28x1\n",
    "\n",
    "decoded = tf.nn.sigmoid(logits, name='decoded')\n",
    "\n",
    "# loss\n",
    "xentropy = tf.nn.sigmoid_cross_entropy_with_logits(labels=target_reshape, logits=logits)\n",
    "batch_loss = tf.reduce_mean(xentropy)\n",
    "optimizer = tf.train.AdamOptimizer(learning_rate=learning_rate,\n",
    "                                               beta1=0.9,\n",
    "                                               beta2=0.999,\n",
    "                                               epsilon=1e-08,\n",
    "                                               use_locking=False,\n",
    "                                               name='Adam')\n",
    "training_op = optimizer.minimize(batch_loss)\n",
    "\n",
    "# initializer and saver\n",
    "with tf.name_scope(\"save_session\"):\n",
    "    init_global = tf.global_variables_initializer()\n",
    "    init_local = tf.local_variables_initializer()\n",
    "    saver = tf.train.Saver()\n",
    "    \n",
    "print(\"ready\")"
   ]
  },
  {
   "cell_type": "code",
   "execution_count": 8,
   "metadata": {},
   "outputs": [
    {
     "name": "stdout",
     "output_type": "stream",
     "text": [
      "E: 1/10 - loss: 0.6926\n",
      "E: 2/10 - loss: 0.0925\n",
      "E: 3/10 - loss: 0.0763\n",
      "E: 4/10 - loss: 0.0723\n",
      "E: 5/10 - loss: 0.0678\n",
      "E: 6/10 - loss: 0.0686\n",
      "E: 7/10 - loss: 0.0674\n",
      "E: 8/10 - loss: 0.0663\n",
      "E: 9/10 - loss: 0.0637\n",
      "E: 10/10 - loss: 0.0644\n"
     ]
    }
   ],
   "source": [
    "epochs = 10\n",
    "batch_size = 256\n",
    "train_size = mnist.train.num_examples\n",
    "\n",
    "with tf.Session() as sess:\n",
    "    init_global.run()\n",
    "    init_local.run()\n",
    "    for e in range(epochs):\n",
    "        for i in range(train_size//batch_size):\n",
    "            batch_cur = mnist.train.next_batch(batch_size)\n",
    "            feed_dict = {input_vector: batch_cur[0], input_target: batch_cur[0]}\n",
    "            cost_batch, _ = sess.run([batch_loss, training_op], feed_dict=feed_dict)\n",
    "            if i == 0:\n",
    "                print(\"E: {}/{} - loss: {:.4f}\".format(e+1, epochs, cost_batch))\n",
    "    save_path = saver.save(sess, \"./saver/cnn_autoencoder\")"
   ]
  },
  {
   "cell_type": "code",
   "execution_count": 9,
   "metadata": {},
   "outputs": [
    {
     "name": "stdout",
     "output_type": "stream",
     "text": [
      "INFO:tensorflow:Restoring parameters from ./saver/cnn_autoencoder\n"
     ]
    },
    {
     "data": {
      "image/png": "[encoded data removed]",
      "text/plain": [
       "<matplotlib.figure.Figure at 0x7fb5301af550>"
      ]
     },
     "metadata": {},
     "output_type": "display_data"
    }
   ],
   "source": [
    "save_path = \"./saver/cnn_autoencoder\"\n",
    "sess = tf.Session()\n",
    "saver.restore(sess, save_path)\n",
    "\n",
    "start_index = int(np.random.randint(6000, size=1) - 10)\n",
    "in_imgs = mnist.test.images[start_index:start_index+10]\n",
    "\n",
    "# run model\n",
    "reconstructed, compressed = sess.run([decoded, encoded], feed_dict={input_vector: in_imgs})\n",
    "\n",
    "# plot\n",
    "fig, axes = plt.subplots(nrows=2, ncols=10, sharex=True, sharey=True, figsize=(20,4))\n",
    "for images, row in zip([in_imgs, reconstructed], axes):\n",
    "    for img, ax in zip(images, row):\n",
    "        ax.imshow(img.reshape((28, 28)), cmap='Greys_r')\n",
    "        ax.get_xaxis().set_visible(False)\n",
    "        ax.get_yaxis().set_visible(False)\n",
    "fig.tight_layout(pad=0.1)"
   ]
  },
  {
   "cell_type": "markdown",
   "metadata": {},
   "source": [
    "Pretty good - but we're down to the same number of vaolues now... soooo why even go through the autoencoder?  Let't press further"
   ]
  },
  {
   "cell_type": "code",
   "execution_count": 15,
   "metadata": {},
   "outputs": [
    {
     "name": "stdout",
     "output_type": "stream",
     "text": [
      "ready\n"
     ]
    }
   ],
   "source": [
    "reset_graph()\n",
    "learning_rate = 0.001\n",
    "img_vect_size = mnist.train.images.shape[1]\n",
    "\n",
    "# input place holders\n",
    "input_vector = tf.placeholder(tf.float32, (None, img_vect_size), name=\"input_vector\")\n",
    "vect_reshape = tf.reshape(input_vector, [-1, 28, 28, 1])\n",
    "input_target = tf.placeholder(tf.float32, (None, img_vect_size), name=\"input_label\")\n",
    "target_reshape = tf.reshape(input_target, [-1, 28, 28, 1])\n",
    "\n",
    "# --- Model\n",
    "### Encoder\n",
    "conv2 = tf.layers.conv2d(inputs=vect_reshape, filters=4, \n",
    "                         kernel_size=(3,3), strides=2, \n",
    "                         kernel_initializer=tf.contrib.layers.xavier_initializer(),\n",
    "                         bias_initializer=tf.zeros_initializer(),\n",
    "                         padding='same', \n",
    "                         activation=tf.nn.elu)\n",
    "# Now 14x14x4\n",
    "\n",
    "encoded = tf.layers.conv2d(inputs=conv2, filters=8, \n",
    "                         kernel_size=(3,3), strides=2, \n",
    "                         kernel_initializer=tf.contrib.layers.xavier_initializer(),\n",
    "                         bias_initializer=tf.zeros_initializer(),\n",
    "                         padding='same', \n",
    "                         activation=tf.nn.elu)\n",
    "# Now 7x7x8\n",
    "\n",
    "dconv1 = tf.layers.conv2d_transpose(inputs=encoded, filters=4, \n",
    "                                    kernel_size=(3,3), strides=2, \n",
    "                                    padding=\"same\", activation=tf.nn.elu)\n",
    "# Now 14x14x4\n",
    "\n",
    "logits = tf.layers.conv2d_transpose(inputs=dconv1, filters=1, \n",
    "                                    kernel_size=(3,3), strides=2, \n",
    "                                    padding=\"same\", activation=None)\n",
    "\n",
    "#Now 28x28x1\n",
    "\n",
    "decoded = tf.nn.sigmoid(logits, name='decoded')\n",
    "\n",
    "# loss\n",
    "xentropy = tf.nn.sigmoid_cross_entropy_with_logits(labels=target_reshape, logits=logits)\n",
    "batch_loss = tf.reduce_mean(xentropy)\n",
    "optimizer = tf.train.AdamOptimizer(learning_rate=learning_rate,\n",
    "                                               beta1=0.9,\n",
    "                                               beta2=0.999,\n",
    "                                               epsilon=1e-08,\n",
    "                                               use_locking=False,\n",
    "                                               name='Adam')\n",
    "training_op = optimizer.minimize(batch_loss)\n",
    "\n",
    "# initializer and saver\n",
    "with tf.name_scope(\"save_session\"):\n",
    "    init_global = tf.global_variables_initializer()\n",
    "    init_local = tf.local_variables_initializer()\n",
    "    saver = tf.train.Saver()\n",
    "    \n",
    "print(\"ready\")"
   ]
  },
  {
   "cell_type": "code",
   "execution_count": 16,
   "metadata": {},
   "outputs": [
    {
     "name": "stdout",
     "output_type": "stream",
     "text": [
      "E: 1/10 - loss: 0.6934\n",
      "E: 2/10 - loss: 0.1538\n",
      "E: 3/10 - loss: 0.1023\n",
      "E: 4/10 - loss: 0.0913\n",
      "E: 5/10 - loss: 0.0810\n",
      "E: 6/10 - loss: 0.0768\n",
      "E: 7/10 - loss: 0.0777\n",
      "E: 8/10 - loss: 0.0745\n",
      "E: 9/10 - loss: 0.0734\n",
      "E: 10/10 - loss: 0.0712\n"
     ]
    }
   ],
   "source": [
    "epochs = 10\n",
    "batch_size = 256\n",
    "train_size = mnist.train.num_examples\n",
    "\n",
    "with tf.Session() as sess:\n",
    "    init_global.run()\n",
    "    init_local.run()\n",
    "    for e in range(epochs):\n",
    "        for i in range(train_size//batch_size):\n",
    "            batch_cur = mnist.train.next_batch(batch_size)\n",
    "            feed_dict = {input_vector: batch_cur[0], input_target: batch_cur[0]}\n",
    "            cost_batch, _ = sess.run([batch_loss, training_op], feed_dict=feed_dict)\n",
    "            if i == 0:\n",
    "                print(\"E: {}/{} - loss: {:.4f}\".format(e+1, epochs, cost_batch))\n",
    "    save_path = saver.save(sess, \"./saver/cnn_autoencoder\")"
   ]
  },
  {
   "cell_type": "code",
   "execution_count": 17,
   "metadata": {},
   "outputs": [
    {
     "name": "stdout",
     "output_type": "stream",
     "text": [
      "INFO:tensorflow:Restoring parameters from ./saver/cnn_autoencoder\n"
     ]
    },
    {
     "data": {
      "image/png": "[encoded data removed]",
      "text/plain": [
       "<matplotlib.figure.Figure at 0x7fb52fad4e10>"
      ]
     },
     "metadata": {},
     "output_type": "display_data"
    }
   ],
   "source": [
    "save_path = \"./saver/cnn_autoencoder\"\n",
    "sess = tf.Session()\n",
    "saver.restore(sess, save_path)\n",
    "\n",
    "start_index = int(np.random.randint(6000, size=1) - 10)\n",
    "in_imgs = mnist.test.images[start_index:start_index+10]\n",
    "\n",
    "# run model\n",
    "reconstructed, compressed = sess.run([decoded, encoded], feed_dict={input_vector: in_imgs})\n",
    "\n",
    "# plot\n",
    "fig, axes = plt.subplots(nrows=2, ncols=10, sharex=True, sharey=True, figsize=(20,4))\n",
    "for images, row in zip([in_imgs, reconstructed], axes):\n",
    "    for img, ax in zip(images, row):\n",
    "        ax.imshow(img.reshape((28, 28)), cmap='Greys_r')\n",
    "        ax.get_xaxis().set_visible(False)\n",
    "        ax.get_yaxis().set_visible(False)\n",
    "fig.tight_layout(pad=0.1)"
   ]
  },
  {
   "cell_type": "code",
   "execution_count": 18,
   "metadata": {},
   "outputs": [
    {
     "name": "stdout",
     "output_type": "stream",
     "text": [
      "ready\n"
     ]
    }
   ],
   "source": [
    "reset_graph()\n",
    "learning_rate = 0.001\n",
    "img_vect_size = mnist.train.images.shape[1]\n",
    "\n",
    "# input place holders\n",
    "input_vector = tf.placeholder(tf.float32, (None, img_vect_size), name=\"input_vector\")\n",
    "vect_reshape = tf.reshape(input_vector, [-1, 28, 28, 1])\n",
    "input_target = tf.placeholder(tf.float32, (None, img_vect_size), name=\"input_label\")\n",
    "target_reshape = tf.reshape(input_target, [-1, 28, 28, 1])\n",
    "\n",
    "# --- Model\n",
    "### Encoder\n",
    "conv2 = tf.layers.conv2d(inputs=vect_reshape, filters=2, \n",
    "                         kernel_size=(3,3), strides=2, \n",
    "                         kernel_initializer=tf.contrib.layers.xavier_initializer(),\n",
    "                         bias_initializer=tf.zeros_initializer(),\n",
    "                         padding='same', \n",
    "                         activation=tf.nn.elu)\n",
    "# Now 14x14x2\n",
    "\n",
    "encoded = tf.layers.conv2d(inputs=conv2, filters=4, \n",
    "                         kernel_size=(3,3), strides=2, \n",
    "                         kernel_initializer=tf.contrib.layers.xavier_initializer(),\n",
    "                         bias_initializer=tf.zeros_initializer(),\n",
    "                         padding='same', \n",
    "                         activation=tf.nn.elu)\n",
    "# Now 7x7x4\n",
    "\n",
    "dconv1 = tf.layers.conv2d_transpose(inputs=encoded, filters=2, \n",
    "                                    kernel_size=(3,3), strides=2, \n",
    "                                    padding=\"same\", activation=tf.nn.elu)\n",
    "# Now 14x14x2\n",
    "\n",
    "logits = tf.layers.conv2d_transpose(inputs=dconv1, filters=1, \n",
    "                                    kernel_size=(3,3), strides=2, \n",
    "                                    padding=\"same\", activation=None)\n",
    "\n",
    "#Now 28x28x1\n",
    "\n",
    "decoded = tf.nn.sigmoid(logits, name='decoded')\n",
    "\n",
    "# loss\n",
    "xentropy = tf.nn.sigmoid_cross_entropy_with_logits(labels=target_reshape, logits=logits)\n",
    "batch_loss = tf.reduce_mean(xentropy)\n",
    "optimizer = tf.train.AdamOptimizer(learning_rate=learning_rate,\n",
    "                                               beta1=0.9,\n",
    "                                               beta2=0.999,\n",
    "                                               epsilon=1e-08,\n",
    "                                               use_locking=False,\n",
    "                                               name='Adam')\n",
    "training_op = optimizer.minimize(batch_loss)\n",
    "\n",
    "# initializer and saver\n",
    "with tf.name_scope(\"save_session\"):\n",
    "    init_global = tf.global_variables_initializer()\n",
    "    init_local = tf.local_variables_initializer()\n",
    "    saver = tf.train.Saver()\n",
    "    \n",
    "print(\"ready\")"
   ]
  },
  {
   "cell_type": "code",
   "execution_count": 19,
   "metadata": {},
   "outputs": [
    {
     "name": "stdout",
     "output_type": "stream",
     "text": [
      "E: 1/20 - loss: 0.6942\n",
      "E: 2/20 - loss: 0.2538\n",
      "E: 3/20 - loss: 0.1755\n",
      "E: 4/20 - loss: 0.1532\n",
      "E: 5/20 - loss: 0.1377\n",
      "E: 6/20 - loss: 0.1239\n",
      "E: 7/20 - loss: 0.1141\n",
      "E: 8/20 - loss: 0.1099\n",
      "E: 9/20 - loss: 0.1057\n",
      "E: 10/20 - loss: 0.1003\n",
      "E: 11/20 - loss: 0.0944\n",
      "E: 12/20 - loss: 0.0922\n",
      "E: 13/20 - loss: 0.0890\n",
      "E: 14/20 - loss: 0.0870\n",
      "E: 15/20 - loss: 0.0822\n",
      "E: 16/20 - loss: 0.0797\n",
      "E: 17/20 - loss: 0.0779\n",
      "E: 18/20 - loss: 0.0786\n",
      "E: 19/20 - loss: 0.0779\n",
      "E: 20/20 - loss: 0.0764\n"
     ]
    }
   ],
   "source": [
    "epochs = 20\n",
    "batch_size = 256\n",
    "train_size = mnist.train.num_examples\n",
    "\n",
    "with tf.Session() as sess:\n",
    "    init_global.run()\n",
    "    init_local.run()\n",
    "    for e in range(epochs):\n",
    "        for i in range(train_size//batch_size):\n",
    "            batch_cur = mnist.train.next_batch(batch_size)\n",
    "            feed_dict = {input_vector: batch_cur[0], input_target: batch_cur[0]}\n",
    "            cost_batch, _ = sess.run([batch_loss, training_op], feed_dict=feed_dict)\n",
    "            if i == 0:\n",
    "                print(\"E: {}/{} - loss: {:.4f}\".format(e+1, epochs, cost_batch))\n",
    "    save_path = saver.save(sess, \"./saver/cnn_autoencoder\")"
   ]
  },
  {
   "cell_type": "code",
   "execution_count": 20,
   "metadata": {},
   "outputs": [
    {
     "name": "stdout",
     "output_type": "stream",
     "text": [
      "INFO:tensorflow:Restoring parameters from ./saver/cnn_autoencoder\n"
     ]
    },
    {
     "data": {
      "image/png": "[encoded data removed]",
      "text/plain": [
       "<matplotlib.figure.Figure at 0x7fb529bd9cf8>"
      ]
     },
     "metadata": {},
     "output_type": "display_data"
    }
   ],
   "source": [
    "save_path = \"./saver/cnn_autoencoder\"\n",
    "sess = tf.Session()\n",
    "saver.restore(sess, save_path)\n",
    "\n",
    "start_index = int(np.random.randint(6000, size=1) - 10)\n",
    "in_imgs = mnist.test.images[start_index:start_index+10]\n",
    "\n",
    "# run model\n",
    "reconstructed, compressed = sess.run([decoded, encoded], feed_dict={input_vector: in_imgs})\n",
    "\n",
    "# plot\n",
    "fig, axes = plt.subplots(nrows=2, ncols=10, sharex=True, sharey=True, figsize=(20,4))\n",
    "for images, row in zip([in_imgs, reconstructed], axes):\n",
    "    for img, ax in zip(images, row):\n",
    "        ax.imshow(img.reshape((28, 28)), cmap='Greys_r')\n",
    "        ax.get_xaxis().set_visible(False)\n",
    "        ax.get_yaxis().set_visible(False)\n",
    "fig.tight_layout(pad=0.1)"
   ]
  },
  {
   "cell_type": "markdown",
   "metadata": {},
   "source": [
    "Pretty good!  Our values are now `7x7x4=196` vs `28x28=784`"
   ]
  },
  {
   "cell_type": "code",
   "execution_count": 26,
   "metadata": {},
   "outputs": [
    {
     "name": "stdout",
     "output_type": "stream",
     "text": [
      "ready\n"
     ]
    }
   ],
   "source": [
    "reset_graph()\n",
    "learning_rate = 0.001\n",
    "img_vect_size = mnist.train.images.shape[1]\n",
    "\n",
    "# input place holders\n",
    "input_vector = tf.placeholder(tf.float32, (None, img_vect_size), name=\"input_vector\")\n",
    "vect_reshape = tf.reshape(input_vector, [-1, 28, 28, 1])\n",
    "input_target = tf.placeholder(tf.float32, (None, img_vect_size), name=\"input_label\")\n",
    "target_reshape = tf.reshape(input_target, [-1, 28, 28, 1])\n",
    "\n",
    "# --- Model\n",
    "### Encoder\n",
    "conv0 = tf.layers.conv2d(inputs=vect_reshape, filters=32, \n",
    "                         kernel_size=(3,3), strides=1, \n",
    "                         kernel_initializer=tf.contrib.layers.xavier_initializer(),\n",
    "                         bias_initializer=tf.zeros_initializer(),\n",
    "                         padding='same', \n",
    "                         activation=tf.nn.elu)\n",
    "\n",
    "\n",
    "conv1 = tf.layers.conv2d(inputs=conv0, filters=16, \n",
    "                         kernel_size=(3,3), strides=2, \n",
    "                         kernel_initializer=tf.contrib.layers.xavier_initializer(),\n",
    "                         bias_initializer=tf.zeros_initializer(),\n",
    "                         padding='same', \n",
    "                         activation=tf.nn.elu)\n",
    "# Now 14x14x16\n",
    "\n",
    "conv2 = tf.layers.conv2d(inputs=conv1, filters=8, \n",
    "                         kernel_size=(3,3), strides=1, \n",
    "                         kernel_initializer=tf.contrib.layers.xavier_initializer(),\n",
    "                         bias_initializer=tf.zeros_initializer(),\n",
    "                         padding='same', \n",
    "                         activation=tf.nn.elu)\n",
    "\n",
    "conv3 = tf.layers.conv2d(inputs=conv2, filters=4, \n",
    "                         kernel_size=(3,3), strides=2, \n",
    "                         kernel_initializer=tf.contrib.layers.xavier_initializer(),\n",
    "                         bias_initializer=tf.zeros_initializer(),\n",
    "                         padding='same', \n",
    "                         activation=tf.nn.elu)\n",
    "# Now 7x7x4\n",
    "\n",
    "encoded = tf.layers.conv2d(inputs=conv3, filters=1, \n",
    "                         kernel_size=(3,3), strides=1, \n",
    "                         kernel_initializer=tf.contrib.layers.xavier_initializer(),\n",
    "                         bias_initializer=tf.zeros_initializer(),\n",
    "                         padding='same', \n",
    "                         activation=tf.nn.elu)\n",
    "# Now 7x7x1\n",
    "\n",
    "dconv1 = tf.layers.conv2d_transpose(inputs=encoded, filters=4, \n",
    "                                    kernel_size=(3,3), strides=2, \n",
    "                                    padding=\"same\", activation=tf.nn.elu)\n",
    "# Now 14x14x4\n",
    "\n",
    "dconv2 = tf.layers.conv2d_transpose(inputs=dconv1, filters=4, \n",
    "                                    kernel_size=(3,3), strides=2, \n",
    "                                    padding=\"same\", activation=tf.nn.elu)\n",
    "# Now 28x28x4\n",
    "\n",
    "logits = tf.layers.conv2d_transpose(inputs=dconv2, filters=1, \n",
    "                                    kernel_size=(3,3), strides=1, \n",
    "                                    padding=\"same\", activation=None)\n",
    "\n",
    "#Now 28x28x1\n",
    "\n",
    "decoded = tf.nn.sigmoid(logits, name='decoded')\n",
    "\n",
    "# loss\n",
    "xentropy = tf.nn.sigmoid_cross_entropy_with_logits(labels=target_reshape, logits=logits)\n",
    "batch_loss = tf.reduce_mean(xentropy)\n",
    "optimizer = tf.train.AdamOptimizer(learning_rate=learning_rate,\n",
    "                                               beta1=0.9,\n",
    "                                               beta2=0.999,\n",
    "                                               epsilon=1e-08,\n",
    "                                               use_locking=False,\n",
    "                                               name='Adam')\n",
    "training_op = optimizer.minimize(batch_loss)\n",
    "\n",
    "# initializer and saver\n",
    "with tf.name_scope(\"save_session\"):\n",
    "    init_global = tf.global_variables_initializer()\n",
    "    init_local = tf.local_variables_initializer()\n",
    "    saver = tf.train.Saver()\n",
    "    \n",
    "print(\"ready\")"
   ]
  },
  {
   "cell_type": "code",
   "execution_count": 27,
   "metadata": {},
   "outputs": [
    {
     "name": "stdout",
     "output_type": "stream",
     "text": [
      "E: 1/20 - loss: 0.6932\n",
      "E: 2/20 - loss: 0.4054\n",
      "E: 3/20 - loss: 0.3888\n",
      "E: 4/20 - loss: 0.3442\n",
      "E: 5/20 - loss: 0.1326\n",
      "E: 6/20 - loss: 0.1096\n",
      "E: 7/20 - loss: 0.1119\n",
      "E: 8/20 - loss: 0.1087\n",
      "E: 9/20 - loss: 0.0998\n",
      "E: 10/20 - loss: 0.1045\n",
      "E: 11/20 - loss: 0.1012\n",
      "E: 12/20 - loss: 0.1014\n",
      "E: 13/20 - loss: 0.1010\n",
      "E: 14/20 - loss: 0.1004\n",
      "E: 15/20 - loss: 0.1032\n",
      "E: 16/20 - loss: 0.0984\n",
      "E: 17/20 - loss: 0.0999\n",
      "E: 18/20 - loss: 0.1015\n",
      "E: 19/20 - loss: 0.0966\n",
      "E: 20/20 - loss: 0.0980\n"
     ]
    }
   ],
   "source": [
    "epochs = 20\n",
    "batch_size = 256\n",
    "train_size = mnist.train.num_examples\n",
    "\n",
    "with tf.Session() as sess:\n",
    "    init_global.run()\n",
    "    init_local.run()\n",
    "    for e in range(epochs):\n",
    "        for i in range(train_size//batch_size):\n",
    "            batch_cur = mnist.train.next_batch(batch_size)\n",
    "            feed_dict = {input_vector: batch_cur[0], input_target: batch_cur[0]}\n",
    "            cost_batch, _ = sess.run([batch_loss, training_op], feed_dict=feed_dict)\n",
    "            if i == 0:\n",
    "                print(\"E: {}/{} - loss: {:.4f}\".format(e+1, epochs, cost_batch))\n",
    "    save_path = saver.save(sess, \"./saver/cnn_autoencoder\")"
   ]
  },
  {
   "cell_type": "code",
   "execution_count": 28,
   "metadata": {},
   "outputs": [
    {
     "name": "stdout",
     "output_type": "stream",
     "text": [
      "INFO:tensorflow:Restoring parameters from ./saver/cnn_autoencoder\n"
     ]
    },
    {
     "data": {
      "image/png": "[encoded data removed]",
      "text/plain": [
       "<matplotlib.figure.Figure at 0x7fb5290a1d68>"
      ]
     },
     "metadata": {},
     "output_type": "display_data"
    }
   ],
   "source": [
    "save_path = \"./saver/cnn_autoencoder\"\n",
    "sess = tf.Session()\n",
    "saver.restore(sess, save_path)\n",
    "\n",
    "start_index = int(np.random.randint(6000, size=1) - 10)\n",
    "in_imgs = mnist.test.images[start_index:start_index+10]\n",
    "\n",
    "# run model\n",
    "reconstructed, compressed = sess.run([decoded, encoded], feed_dict={input_vector: in_imgs})\n",
    "\n",
    "# plot\n",
    "fig, axes = plt.subplots(nrows=2, ncols=10, sharex=True, sharey=True, figsize=(20,4))\n",
    "for images, row in zip([in_imgs, reconstructed], axes):\n",
    "    for img, ax in zip(images, row):\n",
    "        ax.imshow(img.reshape((28, 28)), cmap='Greys_r')\n",
    "        ax.get_xaxis().set_visible(False)\n",
    "        ax.get_yaxis().set_visible(False)\n",
    "fig.tight_layout(pad=0.1)"
   ]
  },
  {
   "cell_type": "code",
   "execution_count": 29,
   "metadata": {},
   "outputs": [
    {
     "name": "stdout",
     "output_type": "stream",
     "text": [
      "(10, 7, 7, 1)\n"
     ]
    }
   ],
   "source": [
    "print(compressed.shape)"
   ]
  },
  {
   "cell_type": "code",
   "execution_count": 5,
   "metadata": {
    "collapsed": true
   },
   "outputs": [],
   "source": [
    "sess.close()"
   ]
  }
 ],
 "metadata": {
  "kernelspec": {
   "display_name": "Python 3",
   "language": "python",
   "name": "python3"
  },
  "language_info": {
   "codemirror_mode": {
    "name": "ipython",
    "version": 3
   },
   "file_extension": ".py",
   "mimetype": "text/x-python",
   "name": "python",
   "nbconvert_exporter": "python",
   "pygments_lexer": "ipython3",
   "version": "3.6.1"
  }
 },
 "nbformat": 4,
 "nbformat_minor": 2
}
