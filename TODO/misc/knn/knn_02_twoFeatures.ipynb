{
 "cells": [
  {
   "cell_type": "markdown",
   "metadata": {},
   "source": [
    "# _K_ *N*earest *N*eighbor"
   ]
  },
  {
   "cell_type": "code",
   "execution_count": 1,
   "metadata": {},
   "outputs": [
    {
     "name": "stdout",
     "output_type": "stream",
     "text": [
      "Python: (3, 5, 4, 'final', 0)\n",
      "TensorFlow: 1.4.0\n",
      "Default GPU Device: /device:GPU:0\n"
     ]
    }
   ],
   "source": [
    "# common packages\n",
    "import tensorflow as tf\n",
    "import numpy as np\n",
    "import sys\n",
    "import os\n",
    "\n",
    "# plotting pretty figures\n",
    "%matplotlib inline\n",
    "import matplotlib\n",
    "import matplotlib.pyplot as plt\n",
    "from matplotlib import pyplot\n",
    "from matplotlib.colors import ListedColormap\n",
    "\n",
    "# download data\n",
    "from six.moves.urllib.request import urlopen\n",
    "\n",
    "\n",
    "# Helper to make the output consistent\n",
    "SEED = 42\n",
    "def reset_graph(seed=SEED):\n",
    "    tf.reset_default_graph()\n",
    "    tf.set_random_seed(seed)\n",
    "    np.random.seed(seed)\n",
    "\n",
    "reset_graph()\n",
    "\n",
    "\n",
    "# set log level to supress messages, unless an error\n",
    "os.environ['TF_CPP_MIN_LOG_LEVEL'] = '3'\n",
    "\n",
    "# Version information\n",
    "print(\"Python: {}\".format(sys.version_info[:]))\n",
    "print('TensorFlow: {}'.format(tf.__version__))\n",
    "\n",
    "# Check if using GPU\n",
    "if not tf.test.gpu_device_name():\n",
    "    print('No GPU found')\n",
    "else:\n",
    "    print('Default GPU Device: {}'.format(tf.test.gpu_device_name()))\n",
    "\n"
   ]
  },
  {
   "cell_type": "markdown",
   "metadata": {},
   "source": [
    "## Download Dataset and load into memory"
   ]
  },
  {
   "cell_type": "code",
   "execution_count": 2,
   "metadata": {},
   "outputs": [],
   "source": [
    "## Download data paths\n",
    "ROOT_DATA = \"../../ROOT_DATA/\"\n",
    "DATA_DIR = \"IRIS\"\n",
    "\n",
    "IRIS_TRAINING_PATH = os.path.join(ROOT_DATA, DATA_DIR, \"iris_training.csv\")\n",
    "IRIS_TRAINING_URL = \"http://download.tensorflow.org/data/iris_training.csv\"\n",
    "\n",
    "IRIS_TEST_PATH = os.path.join(ROOT_DATA, DATA_DIR, \"iris_test.csv\")\n",
    "IRIS_TEST_URL = \"http://download.tensorflow.org/data/iris_test.csv\""
   ]
  },
  {
   "cell_type": "code",
   "execution_count": 3,
   "metadata": {},
   "outputs": [
    {
     "name": "stdout",
     "output_type": "stream",
     "text": [
      "../../ROOT_DATA/IRIS/iris_training.csv path exists\n",
      "../../ROOT_DATA/IRIS/iris_test.csv path exists\n"
     ]
    }
   ],
   "source": [
    "# download data\n",
    "## training\n",
    "if not os.path.exists(IRIS_TRAINING_PATH):\n",
    "    raw = urlopen(IRIS_TRAINING_URL).read()\n",
    "    with open(IRIS_TRAINING_PATH, \"wb\") as f:\n",
    "        f.write(raw)\n",
    "    print(IRIS_TRAINING_PATH, \"path written\")\n",
    "else:\n",
    "    print(IRIS_TRAINING_PATH, \"path exists\")\n",
    "\n",
    "## test\n",
    "if not os.path.exists(IRIS_TEST_PATH):\n",
    "    raw = urlopen(IRIS_TEST_URL).read()\n",
    "    with open(IRIS_TEST_PATH, \"wb\") as f:\n",
    "        f.write(raw)\n",
    "    print(IRIS_TEST_PATH, \"path written\")\n",
    "else:\n",
    "    print(IRIS_TEST_PATH, \"path exists\")"
   ]
  },
  {
   "cell_type": "code",
   "execution_count": 4,
   "metadata": {},
   "outputs": [],
   "source": [
    "# Load dataset into memory\n",
    "training_set = tf.contrib.learn.datasets.base.load_csv_with_header(\n",
    "                  filename=IRIS_TRAINING_PATH,\n",
    "                  target_dtype=np.int,\n",
    "                  features_dtype=np.float32)\n",
    "test_set = tf.contrib.learn.datasets.base.load_csv_with_header(\n",
    "              filename=IRIS_TEST_PATH,\n",
    "              target_dtype=np.int,\n",
    "              features_dtype=np.float32)"
   ]
  },
  {
   "cell_type": "markdown",
   "metadata": {},
   "source": [
    "## Quickly show some dataset information"
   ]
  },
  {
   "cell_type": "code",
   "execution_count": 5,
   "metadata": {},
   "outputs": [
    {
     "name": "stdout",
     "output_type": "stream",
     "text": [
      "training shape: (120, 4)\n",
      "test shape: (30, 4)\n",
      "num features = 4\n",
      "training target information: 120 targets, 3 classes\n",
      "test target information: 30 targets, 3 classes\n"
     ]
    }
   ],
   "source": [
    "# print some dataset information\n",
    "print(\"training shape:\", training_set.data.shape)\n",
    "print(\"test shape:\", test_set.data.shape)\n",
    "\n",
    "# quick check\n",
    "assert training_set.data.shape[1] == test_set.data.shape[1], \\\n",
    "    \"Rut row raggy, features don't match ({} vs {})\".format(training_set.data.shape[1],\n",
    "                                                            test_set.data.shape[0])\n",
    "if training_set.data.shape[1] == test_set.data.shape[1]:\n",
    "    NUM_FEATURES = training_set.data.shape[1]\n",
    "    print(\"num features = {}\".format(NUM_FEATURES))\n",
    "    \n",
    "print(\"training target information: {} targets, {} classes\".format(\\\n",
    "    len(training_set.target), len(set(training_set.target))))\n",
    "print(\"test target information: {} targets, {} classes\".format(\\\n",
    "    len(test_set.target), len(set(test_set.target))))"
   ]
  },
  {
   "cell_type": "code",
   "execution_count": 6,
   "metadata": {},
   "outputs": [
    {
     "name": "stdout",
     "output_type": "stream",
     "text": [
      "(120, 2)\n",
      "(120,)\n"
     ]
    }
   ],
   "source": [
    "# get convenience handle for training and test set data+labels\n",
    "X_train, Y_train = training_set\n",
    "X_test, Y_test = test_set\n",
    "\n",
    "# reduce features to only 2 for visualization\n",
    "# > we'll plot the decision boundries in 2D\n",
    "# > in another notebook, we'll use all four features ()\n",
    "X_train = X_train[:, :2]\n",
    "X_test = X_test[:, :2]\n",
    "\n",
    "# get number of unique values in the label\n",
    "NUM_CLASSES = len(set(Y_train))\n",
    "if len(set(Y_test)) > len(set(Y_train)):\n",
    "    print(\"there is a class present in the test set that is not present in the training set\")\n",
    "\n",
    "NUM_FEATURES = X_train.shape[1]\n",
    "assert NUM_FEATURES == X_test.shape[1], \\\n",
    "    \"Rut row raggy, features don't match ({} vs {})\".format(\n",
    "    training_set.data.shape[1],test_set.data.shape[0])\n",
    "\n",
    "print(X_train.shape)\n",
    "print(Y_train.shape)"
   ]
  },
  {
   "cell_type": "markdown",
   "metadata": {},
   "source": [
    "## Build Model"
   ]
  },
  {
   "cell_type": "code",
   "execution_count": 14,
   "metadata": {},
   "outputs": [],
   "source": [
    "reset_graph()\n",
    "\n",
    "# place holders\n",
    "x_in = tf.placeholder(tf.float32, [None, NUM_FEATURES], name=\"X\")\n",
    "y_in = tf.placeholder(tf.int32, [None], name=\"y\")\n",
    "xte = tf.placeholder(tf.float32, [NUM_FEATURES], name=\"te\")\n",
    "\n",
    "# one-hot encode the labels\n",
    "y_enc = tf.one_hot(y_in, depth=NUM_CLASSES, axis=1, name=\"onehot_label\")\n",
    "\n",
    "\n",
    "\n",
    "K = 15\n",
    "nearest_neighbors = tf.Variable(tf.zeros([K]))\n",
    "\n",
    "# model\n",
    "# l1 distance\n",
    "# > tf.negative is used so that we can can use tf.nn.top_k\n",
    "# > the value reported by tf.abs is correct, but the largest value equates\n",
    "# > to the farthest distance.  we'd like the shortest distance.\n",
    "# > if we make the value negative, now the smallest value is the\n",
    "# > \"best\" = closest.\n",
    "dist = tf.negative(tf.reduce_sum(tf.abs(tf.subtract(x_in, xte)), axis=1))\n",
    "# l2 distance\n",
    "# dist = tf.reduce_sum(tf.square(tf.subtract(X, target_x)), axis=1)\n",
    "\n",
    "# return nearest value\n",
    "vals, indices = tf.nn.top_k(dist, k=K, sorted=False)\n",
    "\n",
    "nn = []\n",
    "for i in range (K):\n",
    "    nn.append(tf.argmax(y_enc[indices[i]], axis=0))\n",
    "# let's pretend the input nn value is;\n",
    "# ---> nn = [3, 3, 1, 3, 2, 2, 4]\n",
    "# > then\n",
    "# - y = []\n",
    "# - idx = []\n",
    "# - count = []\n",
    "y, idx, count = tf.unique_with_counts(nn)\n",
    "\n",
    "pred = tf.slice(y, begin=[tf.argmax(count, 0)], size=tf.constant([1], dtype=tf.int64))[0]\n",
    "\n",
    "accuracy = 0.0\n",
    "\n",
    "init = tf.global_variables_initializer()"
   ]
  },
  {
   "cell_type": "code",
   "execution_count": 8,
   "metadata": {},
   "outputs": [
    {
     "name": "stdout",
     "output_type": "stream",
     "text": [
      "Test 0 Prediction [1] True Class: 1\n",
      "Test 1 Prediction [2] True Class: 2\n",
      "Test 2 Prediction [0] True Class: 0\n",
      "Test 3 Prediction [2] True Class: 1\n",
      "Test 4 Prediction [1] True Class: 1\n",
      "Test 5 Prediction [2] True Class: 1\n",
      "Test 6 Prediction [0] True Class: 0\n",
      "Test 7 Prediction [2] True Class: 2\n",
      "Test 8 Prediction [1] True Class: 1\n",
      "Test 9 Prediction [2] True Class: 2\n",
      "Test 10 Prediction [2] True Class: 2\n",
      "Test 11 Prediction [0] True Class: 0\n",
      "Test 12 Prediction [1] True Class: 2\n",
      "Test 13 Prediction [1] True Class: 1\n",
      "Test 14 Prediction [1] True Class: 1\n",
      "Test 15 Prediction [0] True Class: 0\n",
      "Test 16 Prediction [1] True Class: 1\n",
      "Test 17 Prediction [0] True Class: 0\n",
      "Test 18 Prediction [0] True Class: 0\n",
      "Test 19 Prediction [1] True Class: 2\n",
      "Test 20 Prediction [0] True Class: 0\n",
      "Test 21 Prediction [1] True Class: 1\n",
      "Test 22 Prediction [2] True Class: 2\n",
      "Test 23 Prediction [2] True Class: 1\n",
      "Test 24 Prediction [1] True Class: 1\n",
      "Test 25 Prediction [2] True Class: 1\n",
      "Test 26 Prediction [0] True Class: 0\n",
      "Test 27 Prediction [2] True Class: 1\n",
      "Test 28 Prediction [2] True Class: 2\n",
      "Test 29 Prediction [2] True Class: 1\n",
      "15 -th neighbors' Accuracy is: 0.7333333333333333\n"
     ]
    }
   ],
   "source": [
    "with tf.Session() as sess:\n",
    "    sess.run(init)\n",
    "    for i in range(X_test.shape[0]):\n",
    "        # return predicted value\n",
    "        pred_val = sess.run([pred], feed_dict={x_in:X_train,y_in:Y_train,xte:X_test[i,:]})\n",
    "        print(\"Test\",i,\"Prediction\",pred_val,\"True Class:\",Y_test[i])\n",
    "        if pred_val == Y_test[i]:\n",
    "            accuracy += 1. / len(X_test)\n",
    "    print(K,\"-th neighbors' Accuracy is:\",accuracy)"
   ]
  },
  {
   "cell_type": "code",
   "execution_count": 9,
   "metadata": {},
   "outputs": [],
   "source": [
    "feat_0_min, feat_0_max = X_train[:, 0].min(), X_train[:, 0].max()\n",
    "feat_1_min, feat_1_max = X_train[:, 1].min(), X_train[:, 1].max()\n",
    "# feat_2_min, feat_2_max = X_train[:, 2].min(), X_train[:, 2].max()\n",
    "# feat_3_min, feat_3_max = X_train[:, 3].min(), X_train[:, 3].max()\n",
    "step = 0.04\n",
    "border_padding = 0.15"
   ]
  },
  {
   "cell_type": "code",
   "execution_count": 10,
   "metadata": {},
   "outputs": [
    {
     "name": "stdout",
     "output_type": "stream",
     "text": [
      "(6528, 2)\n"
     ]
    }
   ],
   "source": [
    "xx, yy = np.meshgrid(np.arange(feat_0_min-border_padding, feat_0_max+border_padding, step),\n",
    "                     np.arange(feat_1_min-border_padding, feat_1_max+border_padding, step))\n",
    "mesh_vals = (np.c_[xx.ravel(), yy.ravel()])\n",
    "print(mesh_vals.shape)\n",
    "predictions = []\n",
    "with tf.Session() as sess:\n",
    "    sess.run(init)\n",
    "    for i in range(mesh_vals.shape[0]):\n",
    "        # return predicted value\n",
    "        cur_pred = sess.run([pred], feed_dict={x_in:X_train,y_in:Y_train,xte:mesh_vals[i,:]})\n",
    "        predictions.append(cur_pred)\n",
    "predictions = np.asarray(predictions)"
   ]
  },
  {
   "cell_type": "code",
   "execution_count": 11,
   "metadata": {},
   "outputs": [
    {
     "name": "stdout",
     "output_type": "stream",
     "text": [
      "[[0 0 0 ..., 2 2 2]\n",
      " [0 0 0 ..., 2 2 2]\n",
      " [0 0 0 ..., 2 2 2]\n",
      " ..., \n",
      " [0 0 0 ..., 2 2 2]\n",
      " [0 0 0 ..., 2 2 2]\n",
      " [0 0 0 ..., 2 2 2]]\n"
     ]
    }
   ],
   "source": [
    "Z = predictions.reshape(xx.shape)\n",
    "print(Z)"
   ]
  },
  {
   "cell_type": "code",
   "execution_count": 12,
   "metadata": {},
   "outputs": [],
   "source": [
    "# Use three colors since we have classes (types of flowers)\n",
    "cmap_light = ListedColormap(['#FFAAAA', '#AAFFAA', '#AAAAFF'])\n",
    "cmap_bold = ListedColormap(['#FF0000', '#00FF00', '#0000FF'])"
   ]
  },
  {
   "cell_type": "code",
   "execution_count": 13,
   "metadata": {},
   "outputs": [
    {
     "data": {
      "image/png": "[encoded data removed]",
      "text/plain": [
       "<matplotlib.figure.Figure at 0x7ff1090362b0>"
      ]
     },
     "metadata": {},
     "output_type": "display_data"
    }
   ],
   "source": [
    "plt.figure()\n",
    "\n",
    "# plot prediction boundry\n",
    "plt.pcolormesh(xx, yy, Z, cmap=cmap_light)\n",
    "\n",
    "# plot training data as an 'o'\n",
    "plt.scatter(X_train[:, 0], X_train[:, 1], c=Y_train, cmap=cmap_bold,\n",
    "                edgecolor='k', s=20)\n",
    "\n",
    "# plot test data as an 'x'\n",
    "plt.scatter(X_test[:, 0], X_test[:, 1], c=Y_test, cmap=cmap_bold,\n",
    "                edgecolor='k', s=50, marker='X')\n",
    "plt.show()"
   ]
  },
  {
   "cell_type": "code",
   "execution_count": null,
   "metadata": {},
   "outputs": [],
   "source": []
  }
 ],
 "metadata": {
  "kernelspec": {
   "display_name": "Python 3",
   "language": "python",
   "name": "python3"
  },
  "language_info": {
   "codemirror_mode": {
    "name": "ipython",
    "version": 3
   },
   "file_extension": ".py",
   "mimetype": "text/x-python",
   "name": "python",
   "nbconvert_exporter": "python",
   "pygments_lexer": "ipython3",
   "version": "3.5.4"
  }
 },
 "nbformat": 4,
 "nbformat_minor": 2
}
