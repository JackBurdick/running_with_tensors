{
 "cells": [
  {
   "cell_type": "markdown",
   "metadata": {},
   "source": [
    "## Metrics"
   ]
  },
  {
   "cell_type": "code",
   "execution_count": 7,
   "metadata": {
    "collapsed": true
   },
   "outputs": [],
   "source": [
    "import tensorflow as tf\n",
    "import numpy as np\n",
    "import os\n",
    "\n",
    "# Helper to make the output consistent\n",
    "def reset_graph(seed=42):\n",
    "    tf.reset_default_graph()\n",
    "    tf.set_random_seed(seed)\n",
    "    np.random.seed(seed)\n",
    "    \n",
    "# supress most messages (display only error messages)\n",
    "os.environ['TF_CPP_MIN_LOG_LEVEL'] = '3'\n",
    "\n",
    "# reset graph\n",
    "reset_graph()"
   ]
  },
  {
   "cell_type": "markdown",
   "metadata": {},
   "source": [
    "### TODO: insert photo of a NN"
   ]
  },
  {
   "cell_type": "code",
   "execution_count": 8,
   "metadata": {
    "collapsed": true
   },
   "outputs": [],
   "source": [
    "# place holders\n",
    "# x: input data\n",
    "# y: ground truth label\n",
    "x = tf.placeholder(tf.int32, [10])\n",
    "y = tf.placeholder(tf.int32, [10])"
   ]
  },
  {
   "cell_type": "code",
   "execution_count": 9,
   "metadata": {
    "collapsed": true
   },
   "outputs": [],
   "source": [
    "# this is our pretend data returned from the model\n",
    "y_pred_cls = np.array([0, 0, 0, 0, 1, 1, 1, 1, 1, 1])\n",
    "y_true_cls = np.array([0, 0, 0, 0, 0, 1, 0, 0, 0, 0])"
   ]
  },
  {
   "cell_type": "code",
   "execution_count": 10,
   "metadata": {
    "collapsed": true
   },
   "outputs": [],
   "source": [
    "correct_prediction = tf.equal(y, x)\n",
    "batch_acc = tf.reduce_mean(tf.cast(correct_prediction, tf.float32))"
   ]
  },
  {
   "cell_type": "code",
   "execution_count": 11,
   "metadata": {
    "collapsed": true
   },
   "outputs": [],
   "source": [
    "with tf.variable_scope(\"reset_metrics_precision_scope\") as scope:\n",
    "    prec, prec_op = tf.metrics.precision(labels=y, predictions=x)\n",
    "    p_vars = tf.contrib.framework.get_variables(scope, collection=tf.GraphKeys.LOCAL_VARIABLES)\n",
    "    prec_reset_op = tf.variables_initializer(p_vars)\n",
    "\n",
    "with tf.variable_scope(\"reset_metrics_accuracy_scope\") as scope:\n",
    "    acc, acc_op = tf.metrics.accuracy(labels=y, predictions=x)\n",
    "    m_vars = tf.contrib.framework.get_variables(scope, collection=tf.GraphKeys.LOCAL_VARIABLES)\n",
    "    acc_reset_op = tf.variables_initializer(m_vars)"
   ]
  },
  {
   "cell_type": "code",
   "execution_count": 12,
   "metadata": {},
   "outputs": [
    {
     "name": "stdout",
     "output_type": "stream",
     "text": [
      "[0.5, 0.0, 0.5, 0.0, 0.16666667]\n",
      "----------------------\n",
      "[0.5, 0.5, 0.5, 0.16666667, 0.16666667]\n",
      "----------------------\n",
      "[1.0, 0.5, 0.66666669, 0.16666667, 0.16666667]\n",
      "----------------------\n",
      "[1.0, 0.66666669, 0.75, 0.16666667, 0.16666667]\n",
      "----------------------\n",
      "[1.0, 0.75, 0.80000001, 0.16666667, 0.16666667]\n",
      "----------------------\n",
      "[1.0, 0.0, 1.0, 0.16666667, 0.16666667]\n",
      "----------------------\n"
     ]
    }
   ],
   "source": [
    "init_global = tf.global_variables_initializer()\n",
    "init_local = tf.local_variables_initializer()\n",
    "\n",
    "sess = tf.Session()\n",
    "init_global.run(session=sess)\n",
    "init_local.run(session=sess)\n",
    "\n",
    "# ========================================================= 50%\n",
    "y_pred_cls = np.array([0, 0, 0, 0, 1, 1, 1, 1, 1, 1])\n",
    "y_true_cls = np.array([0, 0, 0, 0, 0, 1, 0, 0, 0, 0])\n",
    "\n",
    "v = sess.run([batch_acc, acc, acc_op, prec, prec_op], feed_dict={x: y_pred_cls,\n",
    "                                                 y: y_true_cls})\n",
    "\n",
    "print(v)\n",
    "print(\"----------------------\")\n",
    "\n",
    "v = sess.run([batch_acc, acc, acc_op, prec, prec_op], feed_dict={x: y_pred_cls,\n",
    "                                                 y: y_true_cls})\n",
    "print(v)\n",
    "print(\"----------------------\")\n",
    "\n",
    "# ========================================================= 100%\n",
    "\n",
    "y_pred_cls = np.array([0, 0, 0, 0, 0, 0, 0, 0, 0, 0])\n",
    "y_true_cls = np.array([0, 0, 0, 0, 0, 0, 0, 0, 0, 0])\n",
    "\n",
    "v = sess.run([batch_acc, acc, acc_op, prec, prec_op], feed_dict={x: y_pred_cls,\n",
    "                                                 y: y_true_cls})\n",
    "print(v)\n",
    "print(\"----------------------\")\n",
    "\n",
    "v = sess.run([batch_acc, acc, acc_op, prec, prec_op], feed_dict={x: y_pred_cls,\n",
    "                                                 y: y_true_cls})\n",
    "print(v)\n",
    "print(\"----------------------\")\n",
    "\n",
    "v = sess.run([batch_acc, acc, acc_op, prec, prec_op], feed_dict={x: y_pred_cls,\n",
    "                                                 y: y_true_cls})\n",
    "print(v)\n",
    "print(\"----------------------\")\n",
    "\n",
    "\n",
    "# =========================================================== reset, then 100\n",
    "sess.run(acc_reset_op)\n",
    "\n",
    "v = sess.run([batch_acc, acc, acc_op, prec, prec_op], feed_dict={x: y_pred_cls,\n",
    "                                                 y: y_true_cls})\n",
    "print(v)\n",
    "print(\"----------------------\")"
   ]
  },
  {
   "cell_type": "code",
   "execution_count": null,
   "metadata": {
    "collapsed": true
   },
   "outputs": [],
   "source": []
  }
 ],
 "metadata": {
  "kernelspec": {
   "display_name": "Python 3",
   "language": "python",
   "name": "python3"
  },
  "language_info": {
   "codemirror_mode": {
    "name": "ipython",
    "version": 3
   },
   "file_extension": ".py",
   "mimetype": "text/x-python",
   "name": "python",
   "nbconvert_exporter": "python",
   "pygments_lexer": "ipython3",
   "version": "3.6.1"
  }
 },
 "nbformat": 4,
 "nbformat_minor": 2
}
