{
 "cells": [
  {
   "cell_type": "markdown",
   "metadata": {},
   "source": [
    "## Metrics: Calculating_01\n",
    "\n",
    "\n",
    "<font color=red>TODO: add links and information on the series here </font>\n",
    "\n",
    "#### series information\n",
    "- next:  [video]() [notebook]()\n",
    "\n",
    "#### Related series\n",
    "- metrics [video]() [notebook]()\n",
    "\n",
    "#### Resources:\n",
    " - [official tensorflow documentation](https://www.tensorflow.org/api_docs/python/tf/metrics)"
   ]
  },
  {
   "cell_type": "code",
   "execution_count": 1,
   "metadata": {
    "collapsed": true
   },
   "outputs": [],
   "source": [
    "import tensorflow as tf\n",
    "import numpy as np"
   ]
  },
  {
   "cell_type": "markdown",
   "metadata": {},
   "source": [
    "#### Place holders for input data\n",
    "\n",
    "```\n",
    "x: input data\n",
    "y: ground truth label\n",
    "```\n",
    "_Note: in this example we won't actually use `x` as data to make predictions, but rather we will pass in the output we would expect `x` to be evaluated to after the model has run._\n",
    "\n",
    "<font color=red>TODO: add links and information on the series here </font>\n",
    "\n",
    "More information on placeholders can be found in the [official documentation]() or in my [example]()."
   ]
  },
  {
   "cell_type": "code",
   "execution_count": 2,
   "metadata": {
    "collapsed": true
   },
   "outputs": [],
   "source": [
    "x = tf.placeholder(tf.int32, [10])\n",
    "y = tf.placeholder(tf.int32, [10])"
   ]
  },
  {
   "cell_type": "markdown",
   "metadata": {},
   "source": [
    "<font color=red>TODO: add image of model here </font>"
   ]
  },
  {
   "cell_type": "markdown",
   "metadata": {},
   "source": [
    "#### Our (fake) return data from the model\n",
    "```\n",
    "y_pred_cls: predictions\n",
    "y_true_cls: ground truth label\n",
    "```\n",
    "Note: `y_pred_cls` in our non-existant model is actually the same as `x`. A model is not included for simplicity, but if it was, we'd `x` would be the input data and `y_pred_cls` would be the predicted class of that given data."
   ]
  },
  {
   "cell_type": "code",
   "execution_count": 3,
   "metadata": {
    "collapsed": true
   },
   "outputs": [],
   "source": [
    "y_pred_cls = np.array([0, 0, 0, 0, 1, 1, 1, 1, 1, 1])\n",
    "y_true_cls = np.array([0, 0, 1, 0, 0, 1, 0, 0, 0, 0])"
   ]
  },
  {
   "cell_type": "markdown",
   "metadata": {},
   "source": [
    "## Simple Accuracy calculation"
   ]
  },
  {
   "cell_type": "markdown",
   "metadata": {},
   "source": [
    "To simply calcuate accuracy, we'll use;\n",
    "```\n",
    "tf.equal()\n",
    "tf.reduce_mean()\n",
    "tf.cast()\n",
    "```\n",
    "[tf.equal()](https://www.tensorflow.org/api_docs/python/tf/equal) will create a tensor of booleans mapping to where the prediction matches the ground truth label.  [tf.cast()](https://www.tensorflow.org/api_docs/python/tf/cast) will be used to convert the boolean to a numeric value (float32 in this case) and [tf.reduce_mean()](https://www.tensorflow.org/api_docs/python/tf/reduce_mean) will calculate the ratio of correct predictions."
   ]
  },
  {
   "cell_type": "code",
   "execution_count": 4,
   "metadata": {
    "collapsed": true
   },
   "outputs": [],
   "source": [
    "# calculate ratio of correct predictions\n",
    "correct_prediction = tf.equal(x, y)\n",
    "batch_acc = tf.reduce_mean(tf.cast(correct_prediction, tf.float32))"
   ]
  },
  {
   "cell_type": "markdown",
   "metadata": {},
   "source": [
    "#### Helper function to initialize global variables and create our session"
   ]
  },
  {
   "cell_type": "code",
   "execution_count": 5,
   "metadata": {
    "collapsed": true
   },
   "outputs": [],
   "source": [
    "init_global = tf.global_variables_initializer()"
   ]
  },
  {
   "cell_type": "markdown",
   "metadata": {},
   "source": [
    "### Calculate accuracy"
   ]
  },
  {
   "cell_type": "code",
   "execution_count": 6,
   "metadata": {},
   "outputs": [
    {
     "name": "stdout",
     "output_type": "stream",
     "text": [
      "accuracy: 40.000%\n"
     ]
    }
   ],
   "source": [
    "with tf.Session() as sess:\n",
    "    \n",
    "    # initialize global variables\n",
    "    init_global.run()\n",
    "    \n",
    "    # calculate accuracy for the current data\n",
    "    acc_01 = batch_acc.eval(feed_dict={x: y_pred_cls,y: y_true_cls})\n",
    "    \n",
    "print(\"accuracy: {:.3f}%\".format(acc_01*100))"
   ]
  },
  {
   "cell_type": "markdown",
   "metadata": {},
   "source": [
    "<font color=red>TODO: Insert image of accuracy calculation here </font>"
   ]
  },
  {
   "cell_type": "markdown",
   "metadata": {},
   "source": [
    "Excellent! An accuracy of 40% is exactly what we expected"
   ]
  },
  {
   "cell_type": "code",
   "execution_count": 7,
   "metadata": {},
   "outputs": [
    {
     "name": "stdout",
     "output_type": "stream",
     "text": [
      "1.0\n"
     ]
    }
   ],
   "source": [
    "y_pred_cls = np.array([0, 0, 0, 1, 1, 1, 1, 1, 1, 1])\n",
    "y_true_cls = np.array([0, 0, 0, 1, 1, 1, 1, 1, 1, 1])\n",
    "\n",
    "with tf.Session() as sess:\n",
    "    acc_02 = batch_acc.eval(feed_dict={x: y_pred_cls,y: y_true_cls})\n",
    "\n",
    "print(acc_02)"
   ]
  },
  {
   "cell_type": "markdown",
   "metadata": {},
   "source": [
    "## Next steps\n",
    "- checkout the related [exercises]()\n",
    "- tf.metrics() [notebook]()\n",
    "\n",
    "<font color=red>TODO: Insert image of accuracy calculation here </font>\n",
    "\n",
    "Next, we'll use and discuss the tf.metrics metrics package for calcuating metrics"
   ]
  },
  {
   "cell_type": "code",
   "execution_count": null,
   "metadata": {
    "collapsed": true
   },
   "outputs": [],
   "source": []
  }
 ],
 "metadata": {
  "kernelspec": {
   "display_name": "Python 3",
   "language": "python",
   "name": "python3"
  },
  "language_info": {
   "codemirror_mode": {
    "name": "ipython",
    "version": 3
   },
   "file_extension": ".py",
   "mimetype": "text/x-python",
   "name": "python",
   "nbconvert_exporter": "python",
   "pygments_lexer": "ipython3",
   "version": "3.6.1"
  }
 },
 "nbformat": 4,
 "nbformat_minor": 2
}
