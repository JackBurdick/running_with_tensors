{
 "cells": [
  {
   "cell_type": "markdown",
   "metadata": {},
   "source": [
    "## Metrics: calculating_03: Controlling tf.metrics()\n",
    "\n",
    "<font color=red>TODO: add links and information on the series here </font>\n",
    "\n",
    "#### Series information\n",
    "- previous: tf.metrics() introduction [video]() [notebook]()\n",
    "- next: controlling the metrics [video]() [notebook]()\n",
    "\n",
    "#### Related series\n",
    "- metrics [video]() [notebook]()|\n",
    "\n",
    "#### Resources:\n",
    " - [official tensorflow documentation](https://www.tensorflow.org/api_docs/python/tf/metrics)"
   ]
  },
  {
   "cell_type": "code",
   "execution_count": 1,
   "metadata": {},
   "outputs": [
    {
     "name": "stdout",
     "output_type": "stream",
     "text": [
      "TensorFlow Version: 1.2.1\n",
      "Default GPU Device: /gpu:0\n"
     ]
    }
   ],
   "source": [
    "import tensorflow as tf\n",
    "import numpy as np\n",
    "import os\n",
    "\n",
    "# Helper to make the output consistent\n",
    "def reset_graph(seed=42):\n",
    "    tf.reset_default_graph()\n",
    "    tf.set_random_seed(seed)\n",
    "    np.random.seed(seed)\n",
    "    \n",
    "# supress most messages (display only error messages)\n",
    "os.environ['TF_CPP_MIN_LOG_LEVEL'] = '3'\n",
    "\n",
    "# Check TensorFlow version\n",
    "print('TensorFlow Version: {}'.format(tf.__version__))\n",
    "\n",
    "# Check if using GPU\n",
    "if not tf.test.gpu_device_name():\n",
    "    print('No GPU found')\n",
    "else:\n",
    "    print('Default GPU Device: {}'.format(tf.test.gpu_device_name()))\n",
    "    \n",
    "# reset and seed graph\n",
    "reset_graph()"
   ]
  },
  {
   "cell_type": "code",
   "execution_count": 2,
   "metadata": {
    "collapsed": true
   },
   "outputs": [],
   "source": [
    "x = tf.placeholder(tf.int32, [10])\n",
    "y = tf.placeholder(tf.int32, [10])\n",
    "\n",
    "# fake data\n",
    "# batch acc = 20%\n",
    "y_pred_cls = np.array([0, 0, 0, 0, 0, 0, 0, 0, 1, 1])\n",
    "y_true_cls = np.array([1, 1, 1, 1, 1, 1, 1, 1, 1, 1])"
   ]
  },
  {
   "cell_type": "markdown",
   "metadata": {},
   "source": [
    "## Metrics\n",
    "We'll again use accuracy (see [here]() for an introduction to `tf.metrics.accuracy()`)"
   ]
  },
  {
   "cell_type": "code",
   "execution_count": 3,
   "metadata": {
    "collapsed": true
   },
   "outputs": [],
   "source": [
    "with tf.variable_scope(\"accuracy_metrics\") as scope:\n",
    "    acc, acc_op = tf.metrics.accuracy(labels=y, predictions=x)\n",
    "    m_vars = tf.get_variable(collection=tf.GraphKeys.LOCAL_VARIABLES)\n",
    "    acc_reset_op = tf.variables_initializer(m_vars)"
   ]
  },
  {
   "cell_type": "code",
   "execution_count": 4,
   "metadata": {
    "collapsed": true
   },
   "outputs": [],
   "source": [
    "# initializers, global and local\n",
    "init_global = tf.global_variables_initializer()\n",
    "init_local = tf.local_variables_initializer()"
   ]
  },
  {
   "cell_type": "code",
   "execution_count": 5,
   "metadata": {},
   "outputs": [],
   "source": [
    "# initialize the session and global and local vars\n",
    "# note: we will want to close the session at the end `sess.close()`\n",
    "sess = tf.Session()\n",
    "init_global.run(session=sess)\n",
    "init_local.run(session=sess)"
   ]
  },
  {
   "cell_type": "code",
   "execution_count": 12,
   "metadata": {},
   "outputs": [
    {
     "name": "stdout",
     "output_type": "stream",
     "text": [
      "Current accuracy: 45.00%\n",
      "Current accuracy: 48.00%\n",
      "Current accuracy: 48.57%\n"
     ]
    }
   ],
   "source": [
    "v = sess.run(acc, feed_dict={x: y_pred_cls, y: y_true_cls})\n",
    "print(\"Current accuracy: {:.2f}%\".format(v*100))\n",
    "             \n",
    "v = sess.run(acc_op, feed_dict={x: y_pred_cls, y: y_true_cls})\n",
    "             \n",
    "# batch acc = 40%\n",
    "y_pred_cls = np.array([0, 0, 0, 0, 0, 0, 1, 1, 1, 1])\n",
    "y_true_cls = np.array([1, 1, 1, 1, 1, 1, 1, 1, 1, 1])\n",
    "v = sess.run(acc_op, feed_dict={x: y_pred_cls, y: y_true_cls})\n",
    "             \n",
    "# batch acc = 60%\n",
    "y_pred_cls = np.array([0, 0, 0, 0, 1, 1, 1, 1, 1, 1])\n",
    "y_true_cls = np.array([1, 1, 1, 1, 1, 1, 1, 1, 1, 1])\n",
    "v = sess.run(acc_op, feed_dict={x: y_pred_cls, y: y_true_cls})\n",
    "\n",
    "# total should be 40% ((2+4+6)/(10+10+10))\n",
    "v = sess.run(acc, feed_dict={x: y_pred_cls, y: y_true_cls})\n",
    "print(\"Current accuracy: {:.2f}%\".format(v*100))"
   ]
  },
  {
   "cell_type": "markdown",
   "metadata": {},
   "source": [
    "### What if we want to reset the metrics (say for another batch/epoch?)"
   ]
  },
  {
   "cell_type": "code",
   "execution_count": 13,
   "metadata": {},
   "outputs": [
    {
     "name": "stdout",
     "output_type": "stream",
     "text": [
      "accuracy pre reset: 48.57%\n",
      "accuracy post reset: 0.00%\n"
     ]
    }
   ],
   "source": [
    "v = sess.run(acc, feed_dict={x: y_pred_cls, y: y_true_cls})\n",
    "print(\"accuracy pre reset: {:.2f}%\".format(v*100))\n",
    "\n",
    "sess.run(acc_reset_op)\n",
    "\n",
    "v = sess.run(acc, feed_dict={x: y_pred_cls, y: y_true_cls})\n",
    "print(\"accuracy post reset: {:.2f}%\".format(v*100))"
   ]
  },
  {
   "cell_type": "markdown",
   "metadata": {},
   "source": [
    "### How does `acc_reset_op` work?\n",
    "we're using;\n",
    "```\n",
    "tf.variable_scope()\n",
    "tf.get_variable()\n",
    "collection=tf.GraphKeys.LOCAL_VARIABLES\n",
    "tf.variables_initializer()\n",
    "```\n",
    "first, we're using the functionality within the given scope.  Then we access the target variable(s) with `tf.get_variable()`, and specify that we only want the local variables with the parameter `collection=tf.GraphKeys.LOCAL_VARIABLES`, then we (re)initialize them.\n",
    "\n",
    "All together, it looks like this;\n",
    "\n",
    "```python\n",
    "m_vars = tf.get_variable(collection=tf.GraphKeys.LOCAL_VARIABLES)\n",
    "acc_reset_op = tf.variables_initializer(m_vars)\n",
    "```\n",
    "\n",
    "We can then use `sess.run(acc_reset_op)` to reset the variable."
   ]
  },
  {
   "cell_type": "code",
   "execution_count": null,
   "metadata": {
    "collapsed": true
   },
   "outputs": [],
   "source": []
  }
 ],
 "metadata": {
  "kernelspec": {
   "display_name": "Python 3",
   "language": "python",
   "name": "python3"
  },
  "language_info": {
   "codemirror_mode": {
    "name": "ipython",
    "version": 3
   },
   "file_extension": ".py",
   "mimetype": "text/x-python",
   "name": "python",
   "nbconvert_exporter": "python",
   "pygments_lexer": "ipython3",
   "version": "3.6.1"
  }
 },
 "nbformat": 4,
 "nbformat_minor": 2
}
