{
 "cells": [
  {
   "cell_type": "markdown",
   "metadata": {},
   "source": [
    "## Metrics: calculating_03: Controlling tf.metrics()\n",
    "\n",
    "<font color=red>TODO: add links and information on the series here </font>\n",
    "\n",
    "#### Series information\n",
    "- previous: tf.metrics() introduction [video]() [notebook]()\n",
    "- next: controlling the metrics [video]() [notebook]()\n",
    "\n",
    "#### Related series\n",
    "- metrics [video]() [notebook]()|\n",
    "\n",
    "#### Resources:\n",
    " - [official tensorflow documentation](https://www.tensorflow.org/api_docs/python/tf/metrics)"
   ]
  },
  {
   "cell_type": "code",
   "execution_count": 1,
   "metadata": {},
   "outputs": [
    {
     "name": "stdout",
     "output_type": "stream",
     "text": [
      "TensorFlow Version: 1.2.1\n",
      "Default GPU Device: /gpu:0\n"
     ]
    }
   ],
   "source": [
    "import tensorflow as tf\n",
    "import numpy as np\n",
    "import os\n",
    "\n",
    "# Helper to make the output consistent\n",
    "def reset_graph(seed=42):\n",
    "    tf.reset_default_graph()\n",
    "    tf.set_random_seed(seed)\n",
    "    np.random.seed(seed)\n",
    "    \n",
    "# supress most messages (display only error messages)\n",
    "os.environ['TF_CPP_MIN_LOG_LEVEL'] = '3'\n",
    "\n",
    "# Check TensorFlow version\n",
    "print('TensorFlow Version: {}'.format(tf.__version__))\n",
    "\n",
    "# Check if using GPU\n",
    "if not tf.test.gpu_device_name():\n",
    "    print('No GPU found')\n",
    "else:\n",
    "    print('Default GPU Device: {}'.format(tf.test.gpu_device_name()))\n",
    "    \n",
    "# reset and seed graph\n",
    "reset_graph()"
   ]
  },
  {
   "cell_type": "code",
   "execution_count": 2,
   "metadata": {
    "collapsed": true
   },
   "outputs": [],
   "source": [
    "x = tf.placeholder(tf.int32, [10])\n",
    "y = tf.placeholder(tf.int32, [10])\n",
    "\n",
    "# fake data\n",
    "# batch acc = 20%\n",
    "y_pred_cls = np.array([0, 0, 0, 0, 0, 0, 0, 0, 1, 1])\n",
    "y_true_cls = np.array([1, 1, 1, 1, 1, 1, 1, 1, 1, 1])"
   ]
  },
  {
   "cell_type": "markdown",
   "metadata": {},
   "source": [
    "## Metrics\n",
    "We'll again use accuracy (see [here]() for an introduction to `tf.metrics.accuracy()`)"
   ]
  },
  {
   "cell_type": "code",
   "execution_count": 5,
   "metadata": {},
   "outputs": [],
   "source": [
    "with tf.variable_scope(\"accuracy_metrics\") as scope:\n",
    "    acc, acc_op = tf.metrics.accuracy(labels=y, predictions=x)\n",
    "    m_vars = tf.contrib.framework.get_variables(scope, collection=tf.GraphKeys.LOCAL_VARIABLES)\n",
    "    acc_reset_op = tf.variables_initializer(m_vars)"
   ]
  },
  {
   "cell_type": "code",
   "execution_count": 6,
   "metadata": {
    "collapsed": true
   },
   "outputs": [],
   "source": [
    "# initializers, global and local\n",
    "init_global = tf.global_variables_initializer()\n",
    "init_local = tf.local_variables_initializer()"
   ]
  },
  {
   "cell_type": "code",
   "execution_count": 7,
   "metadata": {},
   "outputs": [],
   "source": [
    "# initialize the session and global and local vars\n",
    "# note: we will want to close the session at the end `sess.close()`\n",
    "sess = tf.Session()\n",
    "init_global.run(session=sess)\n",
    "init_local.run(session=sess)"
   ]
  },
  {
   "cell_type": "code",
   "execution_count": 8,
   "metadata": {},
   "outputs": [
    {
     "name": "stdout",
     "output_type": "stream",
     "text": [
      "Current accuracy: 0.00%\n",
      "Current accuracy: 40.00%\n"
     ]
    }
   ],
   "source": [
    "v = sess.run(acc, feed_dict={x: y_pred_cls, y: y_true_cls})\n",
    "print(\"Current accuracy: {:.2f}%\".format(v*100))\n",
    "             \n",
    "v = sess.run(acc_op, feed_dict={x: y_pred_cls, y: y_true_cls})\n",
    "             \n",
    "# batch acc = 40%\n",
    "y_pred_cls = np.array([0, 0, 0, 0, 0, 0, 1, 1, 1, 1])\n",
    "y_true_cls = np.array([1, 1, 1, 1, 1, 1, 1, 1, 1, 1])\n",
    "v = sess.run(acc_op, feed_dict={x: y_pred_cls, y: y_true_cls})\n",
    "             \n",
    "# batch acc = 60%\n",
    "y_pred_cls = np.array([0, 0, 0, 0, 1, 1, 1, 1, 1, 1])\n",
    "y_true_cls = np.array([1, 1, 1, 1, 1, 1, 1, 1, 1, 1])\n",
    "v = sess.run(acc_op, feed_dict={x: y_pred_cls, y: y_true_cls})\n",
    "\n",
    "# total should be 40% ((2+4+6)/(10+10+10))\n",
    "v = sess.run(acc, feed_dict={x: y_pred_cls, y: y_true_cls})\n",
    "print(\"Current accuracy: {:.2f}%\".format(v*100))"
   ]
  },
  {
   "cell_type": "markdown",
   "metadata": {},
   "source": [
    "### What if we want to reset the metrics (say for another batch/epoch?)"
   ]
  },
  {
   "cell_type": "code",
   "execution_count": 9,
   "metadata": {
    "scrolled": false
   },
   "outputs": [
    {
     "name": "stdout",
     "output_type": "stream",
     "text": [
      "accuracy pre reset: 40.00%\n",
      "accuracy post reset: 0.00%\n"
     ]
    }
   ],
   "source": [
    "v = sess.run(acc, feed_dict={x: y_pred_cls, y: y_true_cls})\n",
    "print(\"accuracy pre reset: {:.2f}%\".format(v*100))\n",
    "\n",
    "# reset the metrics\n",
    "sess.run(acc_reset_op)\n",
    "\n",
    "v = sess.run(acc, feed_dict={x: y_pred_cls, y: y_true_cls})\n",
    "print(\"accuracy post reset: {:.2f}%\".format(v*100))"
   ]
  },
  {
   "cell_type": "markdown",
   "metadata": {},
   "source": [
    "## Dealing with the session\n",
    "I know what you're thinking - and I agree, a nap does sound really nice, but first I want to quickly talk about the session.  What happens if I close it?"
   ]
  },
  {
   "cell_type": "code",
   "execution_count": 10,
   "metadata": {},
   "outputs": [
    {
     "name": "stdout",
     "output_type": "stream",
     "text": [
      "pre  close accuracy: 60.00%\n"
     ]
    },
    {
     "ename": "RuntimeError",
     "evalue": "Attempted to use a closed Session.",
     "output_type": "error",
     "traceback": [
      "\u001b[0;31m---------------------------------------------------------------------------\u001b[0m",
      "\u001b[0;31mRuntimeError\u001b[0m                              Traceback (most recent call last)",
      "\u001b[0;32m<ipython-input-10-c70162685595>\u001b[0m in \u001b[0;36m<module>\u001b[0;34m()\u001b[0m\n\u001b[1;32m      8\u001b[0m \u001b[0msess\u001b[0m\u001b[0;34m.\u001b[0m\u001b[0mclose\u001b[0m\u001b[0;34m(\u001b[0m\u001b[0;34m)\u001b[0m\u001b[0;34m\u001b[0m\u001b[0m\n\u001b[1;32m      9\u001b[0m \u001b[0;34m\u001b[0m\u001b[0m\n\u001b[0;32m---> 10\u001b[0;31m \u001b[0mv\u001b[0m \u001b[0;34m=\u001b[0m \u001b[0msess\u001b[0m\u001b[0;34m.\u001b[0m\u001b[0mrun\u001b[0m\u001b[0;34m(\u001b[0m\u001b[0macc\u001b[0m\u001b[0;34m,\u001b[0m \u001b[0mfeed_dict\u001b[0m\u001b[0;34m=\u001b[0m\u001b[0;34m{\u001b[0m\u001b[0mx\u001b[0m\u001b[0;34m:\u001b[0m \u001b[0my_pred_cls\u001b[0m\u001b[0;34m,\u001b[0m \u001b[0my\u001b[0m\u001b[0;34m:\u001b[0m \u001b[0my_true_cls\u001b[0m\u001b[0;34m}\u001b[0m\u001b[0;34m)\u001b[0m\u001b[0;34m\u001b[0m\u001b[0m\n\u001b[0m\u001b[1;32m     11\u001b[0m \u001b[0mprint\u001b[0m\u001b[0;34m(\u001b[0m\u001b[0;34m\"post close accuracy: {:.2f}%\"\u001b[0m\u001b[0;34m.\u001b[0m\u001b[0mformat\u001b[0m\u001b[0;34m(\u001b[0m\u001b[0mv\u001b[0m\u001b[0;34m*\u001b[0m\u001b[0;36m100\u001b[0m\u001b[0;34m)\u001b[0m\u001b[0;34m)\u001b[0m\u001b[0;34m\u001b[0m\u001b[0m\n",
      "\u001b[0;32m/home/jack/anaconda3/envs/dl_edge/lib/python3.6/site-packages/tensorflow/python/client/session.py\u001b[0m in \u001b[0;36mrun\u001b[0;34m(self, fetches, feed_dict, options, run_metadata)\u001b[0m\n\u001b[1;32m    787\u001b[0m     \u001b[0;32mtry\u001b[0m\u001b[0;34m:\u001b[0m\u001b[0;34m\u001b[0m\u001b[0m\n\u001b[1;32m    788\u001b[0m       result = self._run(None, fetches, feed_dict, options_ptr,\n\u001b[0;32m--> 789\u001b[0;31m                          run_metadata_ptr)\n\u001b[0m\u001b[1;32m    790\u001b[0m       \u001b[0;32mif\u001b[0m \u001b[0mrun_metadata\u001b[0m\u001b[0;34m:\u001b[0m\u001b[0;34m\u001b[0m\u001b[0m\n\u001b[1;32m    791\u001b[0m         \u001b[0mproto_data\u001b[0m \u001b[0;34m=\u001b[0m \u001b[0mtf_session\u001b[0m\u001b[0;34m.\u001b[0m\u001b[0mTF_GetBuffer\u001b[0m\u001b[0;34m(\u001b[0m\u001b[0mrun_metadata_ptr\u001b[0m\u001b[0;34m)\u001b[0m\u001b[0;34m\u001b[0m\u001b[0m\n",
      "\u001b[0;32m/home/jack/anaconda3/envs/dl_edge/lib/python3.6/site-packages/tensorflow/python/client/session.py\u001b[0m in \u001b[0;36m_run\u001b[0;34m(self, handle, fetches, feed_dict, options, run_metadata)\u001b[0m\n\u001b[1;32m    923\u001b[0m     \u001b[0;31m# Check session.\u001b[0m\u001b[0;34m\u001b[0m\u001b[0;34m\u001b[0m\u001b[0m\n\u001b[1;32m    924\u001b[0m     \u001b[0;32mif\u001b[0m \u001b[0mself\u001b[0m\u001b[0;34m.\u001b[0m\u001b[0m_closed\u001b[0m\u001b[0;34m:\u001b[0m\u001b[0;34m\u001b[0m\u001b[0m\n\u001b[0;32m--> 925\u001b[0;31m       \u001b[0;32mraise\u001b[0m \u001b[0mRuntimeError\u001b[0m\u001b[0;34m(\u001b[0m\u001b[0;34m'Attempted to use a closed Session.'\u001b[0m\u001b[0;34m)\u001b[0m\u001b[0;34m\u001b[0m\u001b[0m\n\u001b[0m\u001b[1;32m    926\u001b[0m     \u001b[0;32mif\u001b[0m \u001b[0mself\u001b[0m\u001b[0;34m.\u001b[0m\u001b[0mgraph\u001b[0m\u001b[0;34m.\u001b[0m\u001b[0mversion\u001b[0m \u001b[0;34m==\u001b[0m \u001b[0;36m0\u001b[0m\u001b[0;34m:\u001b[0m\u001b[0;34m\u001b[0m\u001b[0m\n\u001b[1;32m    927\u001b[0m       raise RuntimeError('The Session graph is empty.  Add operations to the '\n",
      "\u001b[0;31mRuntimeError\u001b[0m: Attempted to use a closed Session."
     ]
    }
   ],
   "source": [
    "# update twice\n",
    "v = sess.run(acc_op, feed_dict={x: y_pred_cls, y: y_true_cls})\n",
    "v = sess.run(acc_op, feed_dict={x: y_pred_cls, y: y_true_cls})\n",
    "v = sess.run(acc, feed_dict={x: y_pred_cls, y: y_true_cls})\n",
    "print(\"pre  close accuracy: {:.2f}%\".format(v*100))\n",
    "\n",
    "# close the session\n",
    "sess.close()\n",
    "\n",
    "v = sess.run(acc, feed_dict={x: y_pred_cls, y: y_true_cls})\n",
    "print(\"post close accuracy: {:.2f}%\".format(v*100))"
   ]
  },
  {
   "cell_type": "markdown",
   "metadata": {},
   "source": [
    "Maybe this is a silly question, but also many you thought you were done and then closed a session before trying to reaccess some variables? Stuff happens.\n",
    "\n",
    "So what does this mean?\n",
    "we'll let's try to restart;"
   ]
  },
  {
   "cell_type": "code",
   "execution_count": 12,
   "metadata": {},
   "outputs": [],
   "source": [
    "sess = tf.Session()\n",
    "v = sess.run(acc, feed_dict={x: y_pred_cls, y: y_true_cls}) # won't run\n",
    "print(\"post close accuracy: {:.2f}%\".format(v*100))"
   ]
  },
  {
   "cell_type": "markdown",
   "metadata": {},
   "source": [
    "Right, we would need to initialize the variables.  And when we initalize them, we reset them.\n",
    "\n",
    "So, moral of the story, it's best to save your work before closing the session"
   ]
  },
  {
   "cell_type": "markdown",
   "metadata": {},
   "source": [
    "### How does `acc_reset_op` work?\n",
    "we're using;\n",
    "```\n",
    "tf.variable_scope()\n",
    "tf.contrib.framework.get_variables()\n",
    "collection=tf.GraphKeys.LOCAL_VARIABLES\n",
    "tf.variables_initializer()\n",
    "```\n",
    "first, we're using the functionality within the given scope.  Then we access the target variable(s) with `tf.get_variable()`, and specify that we only want the local variables with the parameter `collection=tf.GraphKeys.LOCAL_VARIABLES`, then we (re)initialize them.\n",
    "\n",
    "All together, it looks like this;\n",
    "\n",
    "```python\n",
    "m_vars = tf.contrib.framework.get_variables(scope, collection=tf.GraphKeys.LOCAL_VARIABLES)\n",
    "acc_reset_op = tf.variables_initializer(m_vars)\n",
    "```\n",
    "\n",
    "We can then use `sess.run(acc_reset_op)` to reset the variable."
   ]
  },
  {
   "cell_type": "markdown",
   "metadata": {},
   "source": [
    "## Take Home\n",
    "\n",
    "- the defined reset op resets the local variables associated with the metric\n",
    "\n",
    "As hinted, this functionality will be useful for calculating metrics for seperate batches or epochs.  We'll look at an example of that in the next section.  But first, let's talk about managing multiple metrics.  Will reseting one reset the other?"
   ]
  },
  {
   "cell_type": "markdown",
   "metadata": {},
   "source": [
    "### Next steps\n",
    "- How do I manage multiple metrics?\n",
    "- Can they be grouped in some way?\n",
    "- How do I save my model/parameters?\n",
    "\n",
    "#### Other\n",
    "What's a session?\n",
    "I'm a bit lost, where should I start? I'd reccomend starting at the [begining of this series]() on metrics."
   ]
  },
  {
   "cell_type": "code",
   "execution_count": null,
   "metadata": {
    "collapsed": true
   },
   "outputs": [],
   "source": []
  }
 ],
 "metadata": {
  "kernelspec": {
   "display_name": "Python 3",
   "language": "python",
   "name": "python3"
  },
  "language_info": {
   "codemirror_mode": {
    "name": "ipython",
    "version": 3
   },
   "file_extension": ".py",
   "mimetype": "text/x-python",
   "name": "python",
   "nbconvert_exporter": "python",
   "pygments_lexer": "ipython3",
   "version": "3.6.1"
  }
 },
 "nbformat": 4,
 "nbformat_minor": 2
}
